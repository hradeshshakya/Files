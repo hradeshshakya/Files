{
  "nbformat": 4,
  "nbformat_minor": 0,
  "metadata": {
    "colab": {
      "provenance": []
    },
    "kernelspec": {
      "name": "python3",
      "display_name": "Python 3"
    },
    "language_info": {
      "name": "python"
    }
  },
  "cells": [
    {
      "cell_type": "code",
      "source": [
        "import numpy as np\n",
        "import pandas as pd\n",
        "import matplotlib.pyplot as plt\n",
        "import seaborn as sns\n"
      ],
      "metadata": {
        "id": "lb0St5x_ipWR"
      },
      "execution_count": 1,
      "outputs": []
    },
    {
      "cell_type": "markdown",
      "source": [
        "**1. Generate a list of 100 integers containing values between 90 to 130 and store it in the variable `int_list`.\n",
        "After generating the list, find the following:**"
      ],
      "metadata": {
        "id": "NSQmA5tXiVe4"
      }
    },
    {
      "cell_type": "code",
      "execution_count": null,
      "metadata": {
        "colab": {
          "base_uri": "https://localhost:8080/"
        },
        "id": "xbjIha-8iTB6",
        "outputId": "efc0946e-011c-4dce-812d-a2815dab3bd2"
      },
      "outputs": [
        {
          "output_type": "execute_result",
          "data": {
            "text/plain": [
              "array([107, 116,  90, 104, 118, 129, 128, 109,  97, 120, 105, 114, 116,\n",
              "        99, 128, 103,  97, 106,  95,  96, 104, 119, 119, 103, 103,  99,\n",
              "       129, 123,  99,  96, 106, 119, 116, 112,  95, 102, 124,  95, 115,\n",
              "       128, 105, 114, 128, 103, 119,  98, 128,  91, 103, 110,  90, 121,\n",
              "       117, 111,  91, 116, 107,  90, 128, 129, 114,  96, 108, 108,  98,\n",
              "        93, 128,  99, 105, 117,  98, 120,  92, 126, 125, 105,  99,  92,\n",
              "       108, 109,  90, 119, 116, 109, 126, 110, 103, 113, 128, 108, 107,\n",
              "       101,  96, 119, 118, 101, 121, 118, 102, 102])"
            ]
          },
          "metadata": {},
          "execution_count": 4
        }
      ],
      "source": [
        "int_list = np.random.randint(90, 130, 100)\n",
        "int_list"
      ]
    },
    {
      "cell_type": "code",
      "source": [
        "# (i) Write a Python function to calculate the mean of a given list of numbers.\n",
        "\n",
        "# Create a function to find the median of a list of numbers.\n",
        "\n",
        "def mean(int_list):\n",
        "  return np.mean(int_list)\n",
        "\n",
        "mean(int_list)"
      ],
      "metadata": {
        "colab": {
          "base_uri": "https://localhost:8080/"
        },
        "id": "rBpxYOxrixOs",
        "outputId": "bf4ea8a2-4395-4bbd-81d3-1e83252d332e"
      },
      "execution_count": null,
      "outputs": [
        {
          "output_type": "execute_result",
          "data": {
            "text/plain": [
              "109.29"
            ]
          },
          "metadata": {},
          "execution_count": 5
        }
      ]
    },
    {
      "cell_type": "code",
      "source": [
        "# (ii) Develop a program to compute the mode of a list of integers\n",
        "\n",
        "# Create a function to find the mode of a list of numbers.\n",
        "\n",
        "def mode(int_list):\n",
        "  return np.bincount(int_list).argmax()\n",
        "\n",
        "mode(int_list)"
      ],
      "metadata": {
        "colab": {
          "base_uri": "https://localhost:8080/"
        },
        "id": "sGGi6g4_jFyu",
        "outputId": "b04b5abb-1dbf-4ddf-c6c9-7e67b10792fe"
      },
      "execution_count": null,
      "outputs": [
        {
          "output_type": "execute_result",
          "data": {
            "text/plain": [
              "128"
            ]
          },
          "metadata": {},
          "execution_count": 6
        }
      ]
    },
    {
      "cell_type": "code",
      "source": [
        "# (iii) Implement a function to calculate the weighted mean of a list of values and their corresponding weights.\n",
        "\n",
        "# Create a function to find the weighted mean of a list of numbers.\n",
        "\n",
        "def weighted_mean(int_list, weights):\n",
        "  return np.average(int_list, weights=weights)\n",
        "\n",
        "weights = np.random.randint(1, 10, 100)\n",
        "weighted_mean(int_list, weights)"
      ],
      "metadata": {
        "colab": {
          "base_uri": "https://localhost:8080/"
        },
        "id": "xhXTwYmPjSlh",
        "outputId": "1d947d64-4a9c-4434-d01d-cb149fc04dee"
      },
      "execution_count": null,
      "outputs": [
        {
          "output_type": "execute_result",
          "data": {
            "text/plain": [
              "109.40763052208835"
            ]
          },
          "metadata": {},
          "execution_count": 7
        }
      ]
    },
    {
      "cell_type": "code",
      "source": [
        "# (iv) Write a Python function to find the geometric mean of a list of positive numbers.\n",
        "\n",
        "# Create a function to find the geometric mean of a list of numbers.\n",
        "import statistics\n",
        "def geometric_mean(int_list):\n",
        "  return statistics.geometric_mean(int_list)\n",
        "\n",
        "geometric_mean(int_list)"
      ],
      "metadata": {
        "colab": {
          "base_uri": "https://localhost:8080/"
        },
        "id": "FeMUV-p5jeV4",
        "outputId": "15355a17-ddbb-4352-96da-2813041a84a1"
      },
      "execution_count": null,
      "outputs": [
        {
          "output_type": "execute_result",
          "data": {
            "text/plain": [
              "108.68649811255608"
            ]
          },
          "metadata": {},
          "execution_count": 8
        }
      ]
    },
    {
      "cell_type": "code",
      "source": [
        "# (v) Create a program to calculate the harmonic mean of a list of values.\n",
        "\n",
        "\n",
        "\n",
        "def harmonic_mean(int_list):\n",
        "  return statistics.harmonic_mean(int_list)\n",
        "\n",
        "harmonic_mean(int_list)"
      ],
      "metadata": {
        "colab": {
          "base_uri": "https://localhost:8080/"
        },
        "id": "G8Xgn8JNjzaM",
        "outputId": "b84bfbb2-1868-40ed-ea7e-64b988466e5a"
      },
      "execution_count": null,
      "outputs": [
        {
          "output_type": "execute_result",
          "data": {
            "text/plain": [
              "108.08544046597211"
            ]
          },
          "metadata": {},
          "execution_count": 9
        }
      ]
    },
    {
      "cell_type": "code",
      "source": [
        "# (vi) Build a function to determine the midrange of a list of numbers (average of the minimum and maximum).\n",
        "\n",
        "def midrange(int_list):\n",
        "  return (np.min(int_list) + np.max(int_list)) / 2\n",
        "\n",
        "midrange(int_list)"
      ],
      "metadata": {
        "colab": {
          "base_uri": "https://localhost:8080/"
        },
        "id": "GlFSw88OljGU",
        "outputId": "5ebf90a9-6e25-45c9-ad22-e94eba44b62f"
      },
      "execution_count": null,
      "outputs": [
        {
          "output_type": "execute_result",
          "data": {
            "text/plain": [
              "109.5"
            ]
          },
          "metadata": {},
          "execution_count": 10
        }
      ]
    },
    {
      "cell_type": "code",
      "source": [
        "# (vii) Implement a Python program to find the trimmed mean of a list, excluding a certain percentage of outliers.\n",
        "from scipy import stats\n",
        "def trimmed_mean(int_list, trim):\n",
        "  return stats.trim_mean(int_list,trim)\n",
        "\n",
        "trimmed_mean(int_list, 0.1)"
      ],
      "metadata": {
        "colab": {
          "base_uri": "https://localhost:8080/"
        },
        "id": "6phikY2ylwDr",
        "outputId": "bfdf43a1-d59d-41b9-b526-6f8b7e7fdff7"
      },
      "execution_count": null,
      "outputs": [
        {
          "output_type": "execute_result",
          "data": {
            "text/plain": [
              "109.15"
            ]
          },
          "metadata": {},
          "execution_count": 11
        }
      ]
    },
    {
      "cell_type": "markdown",
      "source": [
        " **2. Generate a list of 500 integers containing values between 200 to 300 and store it in the variable `int_list2`.\n",
        "After generating the list, find the following:**"
      ],
      "metadata": {
        "id": "GvIL3SvOmu46"
      }
    },
    {
      "cell_type": "code",
      "source": [
        "int_list2 = np.random.randint(200, 300, 500)\n",
        "int_list2"
      ],
      "metadata": {
        "colab": {
          "base_uri": "https://localhost:8080/"
        },
        "id": "2dGDIs35l4MX",
        "outputId": "0b9e038d-fd26-4fb6-9c25-74ed6117eaae"
      },
      "execution_count": null,
      "outputs": [
        {
          "output_type": "execute_result",
          "data": {
            "text/plain": [
              "array([283, 244, 243, 265, 245, 248, 228, 200, 273, 277, 258, 271, 243,\n",
              "       236, 239, 286, 285, 256, 225, 206, 258, 277, 254, 295, 243, 265,\n",
              "       209, 234, 227, 279, 267, 248, 297, 234, 208, 259, 254, 245, 201,\n",
              "       283, 287, 203, 228, 214, 225, 274, 298, 292, 299, 298, 299, 290,\n",
              "       261, 220, 294, 247, 293, 248, 244, 291, 292, 226, 260, 215, 248,\n",
              "       291, 205, 203, 211, 242, 289, 269, 248, 260, 275, 204, 286, 237,\n",
              "       282, 273, 260, 205, 214, 212, 279, 273, 262, 223, 259, 286, 252,\n",
              "       267, 222, 297, 287, 248, 246, 225, 210, 289, 273, 253, 248, 240,\n",
              "       202, 225, 225, 287, 285, 263, 248, 222, 217, 202, 213, 253, 281,\n",
              "       276, 207, 249, 236, 228, 220, 214, 262, 210, 201, 263, 225, 222,\n",
              "       253, 254, 215, 251, 278, 261, 279, 284, 263, 284, 274, 239, 274,\n",
              "       229, 235, 231, 276, 232, 248, 269, 260, 214, 265, 229, 218, 260,\n",
              "       234, 224, 236, 216, 230, 243, 256, 277, 272, 202, 290, 262, 233,\n",
              "       240, 297, 293, 202, 277, 242, 269, 290, 277, 216, 208, 229, 206,\n",
              "       292, 210, 234, 232, 266, 202, 265, 220, 257, 200, 233, 231, 221,\n",
              "       259, 237, 200, 276, 252, 243, 238, 212, 269, 284, 285, 285, 254,\n",
              "       276, 234, 266, 273, 200, 215, 266, 239, 212, 267, 266, 285, 251,\n",
              "       211, 246, 214, 281, 260, 225, 212, 201, 257, 278, 275, 202, 205,\n",
              "       202, 270, 200, 287, 205, 217, 226, 238, 267, 231, 285, 207, 249,\n",
              "       262, 274, 252, 252, 284, 285, 259, 223, 234, 231, 238, 228, 291,\n",
              "       251, 203, 231, 297, 269, 203, 237, 202, 201, 281, 265, 275, 203,\n",
              "       286, 242, 288, 277, 214, 256, 276, 281, 290, 222, 243, 256, 264,\n",
              "       252, 287, 265, 273, 291, 210, 262, 222, 254, 298, 292, 294, 206,\n",
              "       280, 232, 238, 252, 230, 241, 268, 246, 295, 283, 255, 282, 286,\n",
              "       210, 283, 262, 223, 239, 260, 270, 256, 246, 275, 246, 298, 207,\n",
              "       254, 279, 237, 224, 270, 266, 217, 277, 206, 296, 203, 294, 289,\n",
              "       203, 207, 202, 207, 239, 285, 238, 220, 299, 213, 224, 239, 200,\n",
              "       258, 204, 252, 275, 208, 224, 286, 259, 288, 274, 227, 259, 211,\n",
              "       247, 244, 271, 242, 201, 212, 235, 259, 205, 207, 292, 208, 235,\n",
              "       245, 258, 289, 255, 209, 221, 275, 281, 299, 205, 248, 287, 238,\n",
              "       266, 294, 246, 245, 247, 256, 208, 233, 276, 276, 279, 244, 230,\n",
              "       245, 294, 228, 219, 234, 203, 252, 231, 279, 298, 246, 243, 255,\n",
              "       214, 251, 270, 272, 265, 218, 234, 252, 284, 292, 263, 274, 208,\n",
              "       227, 288, 283, 200, 279, 246, 211, 217, 254, 208, 242, 262, 250,\n",
              "       244, 265, 298, 244, 240, 212, 288, 285, 274, 252, 211, 213, 244,\n",
              "       254, 262, 249, 258, 240, 215, 277, 271, 244, 297, 277, 214, 254,\n",
              "       268, 257, 259, 286, 260, 274, 232, 242, 227, 255, 206, 237, 207,\n",
              "       209, 279, 295, 215, 224, 281, 253, 220, 220, 208, 244, 208, 256,\n",
              "       285, 214, 201, 281, 225, 285])"
            ]
          },
          "metadata": {},
          "execution_count": 12
        }
      ]
    },
    {
      "cell_type": "code",
      "source": [
        "# (i) Compare the given list of visualization for the given data\n",
        "#  1. Frequency & Gaussian distribution\n",
        "\n",
        "\n",
        "\n",
        "\n",
        "# Generate sample data\n",
        "\n",
        "data = int_list2\n",
        "\n",
        "# Plot histogram\n",
        "plt.figure(figsize=(12, 6))\n",
        "plt.hist(data, bins=30, density=True, alpha=0.6, color='g', edgecolor='black', label='Frequency Distribution')\n",
        "\n",
        "# Calculate mean and standard deviation\n",
        "mean, std_dev = np.mean(data), np.std(data)\n",
        "\n",
        "# Create a range of values for the Gaussian curve\n",
        "xmin, xmax = plt.xlim()\n",
        "x = np.linspace(xmin, xmax, 100)\n",
        "p = stats.norm.pdf(x, mean, std_dev)\n",
        "\n",
        "# Plot Gaussian distribution curve\n",
        "plt.plot(x, p, 'k', linewidth=2, label='Gaussian Distribution')\n",
        "\n",
        "# Customize plot\n",
        "plt.xlabel('Value')\n",
        "plt.ylabel('Density')\n",
        "plt.title('Frequency Distribution vs. Gaussian Distribution')\n",
        "plt.legend()\n",
        "plt.grid(True)\n",
        "\n",
        "# Show plot\n",
        "plt.show()"
      ],
      "metadata": {
        "colab": {
          "base_uri": "https://localhost:8080/",
          "height": 564
        },
        "id": "znlZEt4Dm4DX",
        "outputId": "27fae4ea-8d69-43b1-ff46-3b5fb6589dc2"
      },
      "execution_count": null,
      "outputs": [
        {
          "output_type": "display_data",
          "data": {
            "text/plain": [
              "<Figure size 1200x600 with 1 Axes>"
            ],
            "image/png": "[encoded data removed]"
          },
          "metadata": {}
        }
      ]
    },
    {
      "cell_type": "code",
      "source": [
        "# (i)>>2. Frequency smoothened KDE plot\n",
        "\n",
        "data = int_list2\n",
        "# Plot KDE\n",
        "plt.figure(figsize=(12, 6))\n",
        "sns.kdeplot(data, fill=True, color='g', alpha=0.6, linewidth=2)\n",
        "\n",
        "# Customize plot\n",
        "plt.xlabel('Value')\n",
        "plt.ylabel('Density')\n",
        "plt.title('KDE Plot of Frequency Distribution')\n",
        "plt.grid(True)\n",
        "\n",
        "# Show plot\n",
        "plt.show()"
      ],
      "metadata": {
        "colab": {
          "base_uri": "https://localhost:8080/",
          "height": 564
        },
        "id": "xoygSm9MqLVH",
        "outputId": "0b7e26ef-1e83-4552-a9ad-bf04fadc3018"
      },
      "execution_count": null,
      "outputs": [
        {
          "output_type": "display_data",
          "data": {
            "text/plain": [
              "<Figure size 1200x600 with 1 Axes>"
            ],
            "image/png": "[encoded data removed]"
          },
          "metadata": {}
        }
      ]
    },
    {
      "cell_type": "code",
      "source": [
        "  # (i)>>3. Gaussian distribution & smoothened KDE plot\n",
        "\n",
        "from scipy.stats import norm\n",
        "\n",
        "data = int_list2\n",
        "\n",
        "plt.figure(figsize=(12, 6))\n",
        "sns.kdeplot(data, fill=True, color='blue', alpha=0.6, linewidth=2, label='KDE Plot')\n",
        "\n",
        "# Calculate mean and standard deviation\n",
        "mean, std_dev = np.mean(data), np.std(data)\n",
        "\n",
        "# Create a range of values for the Gaussian curve\n",
        "x = np.linspace(min(data) - 1, max(data) + 1, 1000)\n",
        "gaussian_curve = norm.pdf(x, mean, std_dev)\n",
        "\n",
        "# Plot Gaussian distribution curve\n",
        "plt.plot(x, gaussian_curve, 'k', linewidth=2, label='Gaussian Distribution')\n",
        "\n",
        "# Customize plot\n",
        "plt.xlabel('Value')\n",
        "plt.ylabel('Density')\n",
        "plt.title('Comparison of KDE and Gaussian Distribution')\n",
        "plt.legend()\n",
        "plt.grid(True)\n",
        "\n",
        "# Show plot\n",
        "plt.show()"
      ],
      "metadata": {
        "colab": {
          "base_uri": "https://localhost:8080/",
          "height": 564
        },
        "id": "0TmaIjYYv1i4",
        "outputId": "cfdd5d6a-0dda-46d9-a2d6-0a31217cffb2"
      },
      "execution_count": null,
      "outputs": [
        {
          "output_type": "display_data",
          "data": {
            "text/plain": [
              "<Figure size 1200x600 with 1 Axes>"
            ],
            "image/png": "[encoded data removed]"
          },
          "metadata": {}
        }
      ]
    },
    {
      "cell_type": "code",
      "source": [
        "#  (ii) Write a Python function to calculate the range of a given list of number.\n",
        "\n",
        "def range(int_list):\n",
        "  return np.max(int_list) - np.min(int_list)\n",
        "\n",
        "range(int_list2)"
      ],
      "metadata": {
        "colab": {
          "base_uri": "https://localhost:8080/"
        },
        "id": "os4Hc4rcyXaD",
        "outputId": "80fe8172-74d9-4eed-8aa7-f9b2a26e3cc7"
      },
      "execution_count": null,
      "outputs": [
        {
          "output_type": "execute_result",
          "data": {
            "text/plain": [
              "99"
            ]
          },
          "metadata": {},
          "execution_count": 16
        }
      ]
    },
    {
      "cell_type": "code",
      "source": [
        "# (iii) Create a program to find the variance and standard deviation of a list of numbers\n",
        "\n",
        "# Variance\n",
        "def variance(int_list):\n",
        "  return np.var(int_list)\n",
        "\n",
        "print(f\"Variance of given list: {variance(int_list2)}\")\n",
        "\n",
        "# Standard deviation\n",
        "def standard_deviation(int_list):\n",
        "  return np.std(int_list)\n",
        "\n",
        "print(f\"Standard deviation of given list: {standard_deviation(int_list2)}\")"
      ],
      "metadata": {
        "colab": {
          "base_uri": "https://localhost:8080/"
        },
        "id": "dCRSSCN6y6ou",
        "outputId": "3d8b0cdc-cc75-44de-a279-7ba156937930"
      },
      "execution_count": null,
      "outputs": [
        {
          "output_type": "stream",
          "name": "stdout",
          "text": [
            "Variance of given list: 834.3443960000001\n",
            "Standard deviation of given list: 28.88502027002924\n"
          ]
        }
      ]
    },
    {
      "cell_type": "code",
      "source": [
        "#  (iv) Implement a function to compute the interquartile range (IQR) of a list of values.\n",
        "# IQR\n",
        "\n",
        "def interquartile_range(int_list):\n",
        "  return np.percentile(int_list, 75) - np.percentile(int_list, 25)\n",
        "\n",
        "interquartile_range(int_list2)\n"
      ],
      "metadata": {
        "colab": {
          "base_uri": "https://localhost:8080/"
        },
        "id": "3A6tDNNp2ZIZ",
        "outputId": "b484589b-f45b-46d2-dda9-2d986730b29d"
      },
      "execution_count": null,
      "outputs": [
        {
          "output_type": "execute_result",
          "data": {
            "text/plain": [
              "49.25"
            ]
          },
          "metadata": {},
          "execution_count": 18
        }
      ]
    },
    {
      "cell_type": "code",
      "source": [
        "# (v) Build a program to calculate the coefficient of variation for a dataset.\n",
        "\n",
        "def coefficient_of_variation(int_list):\n",
        "  return np.std(int_list) / np.mean(int_list)\n",
        "\n",
        "coefficient_of_variation(int_list2)"
      ],
      "metadata": {
        "colab": {
          "base_uri": "https://localhost:8080/"
        },
        "id": "StSKUcY52bju",
        "outputId": "8c52a19c-8628-45bd-ff56-f8527b1a1f16"
      },
      "execution_count": null,
      "outputs": [
        {
          "output_type": "execute_result",
          "data": {
            "text/plain": [
              "0.11604977167732378"
            ]
          },
          "metadata": {},
          "execution_count": 19
        }
      ]
    },
    {
      "cell_type": "code",
      "source": [
        "# (vi) Write a Python function to find the mean absolute deviation (MAD) of a list of numbers.\n",
        "\n",
        "def mean_absolute_deviation(int_list):\n",
        "  return np.mean(np.abs(int_list - np.mean(int_list)))\n",
        "\n",
        "mean_absolute_deviation(int_list2)"
      ],
      "metadata": {
        "colab": {
          "base_uri": "https://localhost:8080/"
        },
        "id": "VWrbGc4Y2rqW",
        "outputId": "a357f01f-45cd-4ac1-b494-7e4f104f78a6"
      },
      "execution_count": null,
      "outputs": [
        {
          "output_type": "execute_result",
          "data": {
            "text/plain": [
              "24.783176"
            ]
          },
          "metadata": {},
          "execution_count": 20
        }
      ]
    },
    {
      "cell_type": "code",
      "source": [
        "# (vii) Create a program to calculate the quartile deviation of a list of values\n",
        "\n",
        "def quartile_deviation(int_list):\n",
        "  return np.percentile(int_list, 75) - np.percentile(int_list, 25)\n",
        "\n",
        "quartile_deviation(int_list2)"
      ],
      "metadata": {
        "colab": {
          "base_uri": "https://localhost:8080/"
        },
        "id": "Qq3VY0_f3IjJ",
        "outputId": "2f639938-634a-4f81-a9d9-da42c70c4c58"
      },
      "execution_count": null,
      "outputs": [
        {
          "output_type": "execute_result",
          "data": {
            "text/plain": [
              "49.25"
            ]
          },
          "metadata": {},
          "execution_count": 21
        }
      ]
    },
    {
      "cell_type": "code",
      "source": [
        "#  (viii) Implement a function to find the range-based coefficient of dispersion for a dataset.\n",
        "\n",
        "def range_based_coefficient_of_dispersion(int_list):\n",
        "  return np.ptp(int_list) / np.mean(int_list)\n",
        "\n",
        "range_based_coefficient_of_dispersion(int_list2)"
      ],
      "metadata": {
        "colab": {
          "base_uri": "https://localhost:8080/"
        },
        "id": "ZJ31wXER3PN_",
        "outputId": "cc1983f6-024c-436e-e1be-fb164b534663"
      },
      "execution_count": null,
      "outputs": [
        {
          "output_type": "execute_result",
          "data": {
            "text/plain": [
              "0.397746904404143"
            ]
          },
          "metadata": {},
          "execution_count": 22
        }
      ]
    },
    {
      "cell_type": "markdown",
      "source": [
        "**3. Write a Python class representing a discrete random variable with methods to calculate its expected\n",
        "value and variance.**"
      ],
      "metadata": {
        "id": "oHCpU_oH3l5x"
      }
    },
    {
      "cell_type": "code",
      "source": [
        "# create class\n",
        "class Discrete_random_variable:\n",
        "  def __init__(self, pmf):\n",
        "    self.pmf = pmf\n",
        "\n",
        "  def expected_value(self):\n",
        "    return sum(x * p for x, p in self.pmf.items())\n",
        "\n",
        "  def variance(self):\n",
        "    expected_value = self.expected_value()\n",
        "    return sum((x - expected_value) ** 2 * p for x, p in self.pmf.items())\n",
        "\n",
        "discrete = Discrete_random_variable({1: 0.2, 2: 0.3, 3: 0.1, 4: 0.4})\n",
        "print(f\"Expected value: {discrete.expected_value()}\")\n",
        "print(f\"Variance: {discrete.variance()}\")\n"
      ],
      "metadata": {
        "colab": {
          "base_uri": "https://localhost:8080/"
        },
        "id": "Hzn8YExm3jB-",
        "outputId": "13bb5a10-7cfa-4317-ad59-eb24688140ae"
      },
      "execution_count": null,
      "outputs": [
        {
          "output_type": "stream",
          "name": "stdout",
          "text": [
            "Expected value: 2.7\n",
            "Variance: 1.4100000000000001\n"
          ]
        }
      ]
    },
    {
      "cell_type": "markdown",
      "source": [
        "**4. Implement a program to simulate the rolling of a fair six-sided die and calculate the expected value and\n",
        "variance of the outcomes.**"
      ],
      "metadata": {
        "id": "KSlOqQtX4Pj4"
      }
    },
    {
      "cell_type": "code",
      "source": [
        "# Number of simulations\n",
        "num_rolls = 100000\n",
        "\n",
        "# Simulate rolling a six-sided die\n",
        "rolls = np.random.randint(1, 7, size=num_rolls)\n",
        "\n",
        "# Calculate the expected value\n",
        "expected_value = np.mean(rolls)\n",
        "\n",
        "# Calculate the variance\n",
        "variance = np.var(rolls)\n",
        "\n",
        "# Output the results\n",
        "print(f\"Expected Value: {expected_value:.2f}\")\n",
        "print(f\"Variance: {variance:.2f}\")"
      ],
      "metadata": {
        "colab": {
          "base_uri": "https://localhost:8080/"
        },
        "id": "TPnBvdjI4KCe",
        "outputId": "0a1987c0-7ea4-4d68-d85c-1aea9632c731"
      },
      "execution_count": null,
      "outputs": [
        {
          "output_type": "stream",
          "name": "stdout",
          "text": [
            "Expected Value: 3.50\n",
            "Variance: 2.90\n"
          ]
        }
      ]
    },
    {
      "cell_type": "markdown",
      "source": [
        "**5. Create a Python function to generate random samples from a given probability distribution (e.g.,\n",
        "binomial, Poisson) and calculate their mean and variances.**"
      ],
      "metadata": {
        "id": "riOJiYxy4zLf"
      }
    },
    {
      "cell_type": "code",
      "source": [
        "def generate_random_samples(distribution, size):\n",
        "    return distribution.rvs(size=size)\n",
        "\n",
        "random_sample = generate_random_samples(stats.binom(n=10, p=0.5), 100)\n",
        "print(f'Random Sample: {random_sample}')\n",
        "print(f'Mean of random sample: {np.mean(random_sample)}')\n",
        "print(f'Variance of random sample: {np.var(random_sample)}')"
      ],
      "metadata": {
        "colab": {
          "base_uri": "https://localhost:8080/"
        },
        "id": "I6i93vfK4iuO",
        "outputId": "8c28ca64-71e6-4757-a7fa-ad04cd935cd1"
      },
      "execution_count": null,
      "outputs": [
        {
          "output_type": "stream",
          "name": "stdout",
          "text": [
            "Random Sample: [8 7 8 6 4 4 7 3 7 5 4 8 8 2 7 5 4 5 6 3 4 3 7 6 8 6 6 3 3 4 3 8 3 7 5 5 6\n",
            " 7 6 3 7 6 6 3 4 3 3 6 7 7 4 7 6 6 6 1 4 5 4 4 6 6 4 5 8 6 4 6 5 5 5 4 6 5\n",
            " 6 7 5 6 3 6 6 7 5 7 3 2 5 4 6 5 5 5 3 7 6 5 2 3 6 5]\n",
            "Mean of random sample: 5.18\n",
            "Variance of random sample: 2.6275999999999997\n"
          ]
        }
      ]
    },
    {
      "cell_type": "markdown",
      "source": [
        "**6. Write a Python script to generate random numbers from a Gaussian (normal) distribution and compute\n",
        "the mean, variance, and standard deviation of the samples.**"
      ],
      "metadata": {
        "id": "rdlT2vMD6VLE"
      }
    },
    {
      "cell_type": "code",
      "source": [
        "def generate_random_samples(distribution, size):\n",
        "    return distribution.rvs(size=size)\n",
        "\n",
        "ran_sam = generate_random_samples(stats.norm(loc=0, scale=1), 100)\n",
        "print(f'Random Sample: {ran_sam}')\n",
        "print(f'Mean of random sample: {np.mean(ran_sam)}')\n",
        "print(f'Variance of random sample: {np.var(ran_sam)}')\n",
        "print(f'Standard deviation of random sample: {np.std(ran_sam)}')"
      ],
      "metadata": {
        "colab": {
          "base_uri": "https://localhost:8080/"
        },
        "id": "MECanPxu5n6s",
        "outputId": "f4ee8e9d-6f3e-452f-f0be-5038b5f2d306"
      },
      "execution_count": null,
      "outputs": [
        {
          "output_type": "stream",
          "name": "stdout",
          "text": [
            "Random Sample: [ 1.60701936 -0.26415644  1.30883193 -1.47217079 -1.35976924 -0.07024606\n",
            "  1.88801379 -0.4162292  -0.92183324 -0.68246066  0.93136095  0.58277328\n",
            "  0.30630564  0.04289299  0.46149735 -0.10179051 -0.43921215 -0.56468304\n",
            " -1.60905861  0.44081828 -0.02045199  0.74785845  0.52010078  1.00853508\n",
            "  0.55336928  1.27844133 -1.26769232 -0.89660894  0.50566655 -1.26264059\n",
            "  0.57556756 -0.46320393 -1.18468788  0.28312226 -0.53431797 -1.03441542\n",
            " -0.62461654 -2.18479787  0.66541058 -0.20611523  2.31885189 -2.06021\n",
            "  0.65906735  0.79643894 -0.61798909 -0.98156997 -0.32805162  0.26075778\n",
            "  2.69047906 -0.55801292  0.0993906   0.00763104 -0.53675664 -0.64574464\n",
            " -2.08121166  0.98665562  0.82289451 -0.06275474  0.79597463 -0.40240694\n",
            "  0.27419769  1.19811979 -1.78347009 -0.51545017  0.39049643  0.15335981\n",
            " -2.14783946 -0.86786537  0.09958759  0.72372397 -1.76664222  0.37516474\n",
            "  0.71159928 -1.0972606   0.34078245  2.69418973  0.08379609  1.54722742\n",
            " -0.27021487 -0.66470068  1.3180161  -1.71922513  1.92476574 -1.08120062\n",
            " -0.34049916 -0.08229878  0.79004677  0.81859904 -0.23736173  0.2974774\n",
            "  0.20461439  0.15620162 -1.48539681 -0.40527395 -0.58693068 -2.43873969\n",
            " -1.73696922 -1.552958    0.00701615 -1.08908226]\n",
            "Mean of random sample: -0.10470537237528228\n",
            "Variance of random sample: 1.1427339967765457\n",
            "Standard deviation of random sample: 1.068987369792808\n"
          ]
        }
      ]
    },
    {
      "cell_type": "markdown",
      "source": [
        "**7. Use seaborn library to load `tips` dataset. Find the following from the dataset for the columns `total_bill`\n",
        "and `tip`.**"
      ],
      "metadata": {
        "id": "UrRrDUNs66cM"
      }
    },
    {
      "cell_type": "code",
      "source": [
        "df = sns.load_dataset('tips')\n",
        "df.head()"
      ],
      "metadata": {
        "colab": {
          "base_uri": "https://localhost:8080/",
          "height": 206
        },
        "id": "eaqwA3oK6o56",
        "outputId": "8f57e27a-5cf2-405c-80d9-651fbc6c9d89"
      },
      "execution_count": null,
      "outputs": [
        {
          "output_type": "execute_result",
          "data": {
            "text/plain": [
              "   total_bill   tip     sex smoker  day    time  size\n",
              "0       16.99  1.01  Female     No  Sun  Dinner     2\n",
              "1       10.34  1.66    Male     No  Sun  Dinner     3\n",
              "2       21.01  3.50    Male     No  Sun  Dinner     3\n",
              "3       23.68  3.31    Male     No  Sun  Dinner     2\n",
              "4       24.59  3.61  Female     No  Sun  Dinner     4"
            ],
            "text/html": [
              "\n",
              "  <div id=\"df-0c2c803f-7b90-4a3b-839e-e04c7cb547a2\" class=\"colab-df-container\">\n",
              "    <div>\n",
              "<style scoped>\n",
              "    .dataframe tbody tr th:only-of-type {\n",
              "        vertical-align: middle;\n",
              "    }\n",
              "\n",
              "    .dataframe tbody tr th {\n",
              "        vertical-align: top;\n",
              "    }\n",
              "\n",
              "    .dataframe thead th {\n",
              "        text-align: right;\n",
              "    }\n",
              "</style>\n",
              "<table border=\"1\" class=\"dataframe\">\n",
              "  <thead>\n",
              "    <tr style=\"text-align: right;\">\n",
              "      <th></th>\n",
              "      <th>total_bill</th>\n",
              "      <th>tip</th>\n",
              "      <th>sex</th>\n",
              "      <th>smoker</th>\n",
              "      <th>day</th>\n",
              "      <th>time</th>\n",
              "      <th>size</th>\n",
              "    </tr>\n",
              "  </thead>\n",
              "  <tbody>\n",
              "    <tr>\n",
              "      <th>0</th>\n",
              "      <td>16.99</td>\n",
              "      <td>1.01</td>\n",
              "      <td>Female</td>\n",
              "      <td>No</td>\n",
              "      <td>Sun</td>\n",
              "      <td>Dinner</td>\n",
              "      <td>2</td>\n",
              "    </tr>\n",
              "    <tr>\n",
              "      <th>1</th>\n",
              "      <td>10.34</td>\n",
              "      <td>1.66</td>\n",
              "      <td>Male</td>\n",
              "      <td>No</td>\n",
              "      <td>Sun</td>\n",
              "      <td>Dinner</td>\n",
              "      <td>3</td>\n",
              "    </tr>\n",
              "    <tr>\n",
              "      <th>2</th>\n",
              "      <td>21.01</td>\n",
              "      <td>3.50</td>\n",
              "      <td>Male</td>\n",
              "      <td>No</td>\n",
              "      <td>Sun</td>\n",
              "      <td>Dinner</td>\n",
              "      <td>3</td>\n",
              "    </tr>\n",
              "    <tr>\n",
              "      <th>3</th>\n",
              "      <td>23.68</td>\n",
              "      <td>3.31</td>\n",
              "      <td>Male</td>\n",
              "      <td>No</td>\n",
              "      <td>Sun</td>\n",
              "      <td>Dinner</td>\n",
              "      <td>2</td>\n",
              "    </tr>\n",
              "    <tr>\n",
              "      <th>4</th>\n",
              "      <td>24.59</td>\n",
              "      <td>3.61</td>\n",
              "      <td>Female</td>\n",
              "      <td>No</td>\n",
              "      <td>Sun</td>\n",
              "      <td>Dinner</td>\n",
              "      <td>4</td>\n",
              "    </tr>\n",
              "  </tbody>\n",
              "</table>\n",
              "</div>\n",
              "    <div class=\"colab-df-buttons\">\n",
              "\n",
              "  <div class=\"colab-df-container\">\n",
              "    <button class=\"colab-df-convert\" onclick=\"convertToInteractive('df-0c2c803f-7b90-4a3b-839e-e04c7cb547a2')\"\n",
              "            title=\"Convert this dataframe to an interactive table.\"\n",
              "            style=\"display:none;\">\n",
              "\n",
              "  <svg xmlns=\"http://www.w3.org/2000/svg\" height=\"24px\" viewBox=\"0 -960 960 960\">\n",
              "    <path d=\"M120-120v-720h720v720H120Zm60-500h600v-160H180v160Zm220 220h160v-160H400v160Zm0 220h160v-160H400v160ZM180-400h160v-160H180v160Zm440 0h160v-160H620v160ZM180-180h160v-160H180v160Zm440 0h160v-160H620v160Z\"/>\n",
              "  </svg>\n",
              "    </button>\n",
              "\n",
              "  <style>\n",
              "    .colab-df-container {\n",
              "      display:flex;\n",
              "      gap: 12px;\n",
              "    }\n",
              "\n",
              "    .colab-df-convert {\n",
              "      background-color: #E8F0FE;\n",
              "      border: none;\n",
              "      border-radius: 50%;\n",
              "      cursor: pointer;\n",
              "      display: none;\n",
              "      fill: #1967D2;\n",
              "      height: 32px;\n",
              "      padding: 0 0 0 0;\n",
              "      width: 32px;\n",
              "    }\n",
              "\n",
              "    .colab-df-convert:hover {\n",
              "      background-color: #E2EBFA;\n",
              "      box-shadow: 0px 1px 2px rgba(60, 64, 67, 0.3), 0px 1px 3px 1px rgba(60, 64, 67, 0.15);\n",
              "      fill: #174EA6;\n",
              "    }\n",
              "\n",
              "    .colab-df-buttons div {\n",
              "      margin-bottom: 4px;\n",
              "    }\n",
              "\n",
              "    [theme=dark] .colab-df-convert {\n",
              "      background-color: #3B4455;\n",
              "      fill: #D2E3FC;\n",
              "    }\n",
              "\n",
              "    [theme=dark] .colab-df-convert:hover {\n",
              "      background-color: #434B5C;\n",
              "      box-shadow: 0px 1px 3px 1px rgba(0, 0, 0, 0.15);\n",
              "      filter: drop-shadow(0px 1px 2px rgba(0, 0, 0, 0.3));\n",
              "      fill: #FFFFFF;\n",
              "    }\n",
              "  </style>\n",
              "\n",
              "    <script>\n",
              "      const buttonEl =\n",
              "        document.querySelector('#df-0c2c803f-7b90-4a3b-839e-e04c7cb547a2 button.colab-df-convert');\n",
              "      buttonEl.style.display =\n",
              "        google.colab.kernel.accessAllowed ? 'block' : 'none';\n",
              "\n",
              "      async function convertToInteractive(key) {\n",
              "        const element = document.querySelector('#df-0c2c803f-7b90-4a3b-839e-e04c7cb547a2');\n",
              "        const dataTable =\n",
              "          await google.colab.kernel.invokeFunction('convertToInteractive',\n",
              "                                                    [key], {});\n",
              "        if (!dataTable) return;\n",
              "\n",
              "        const docLinkHtml = 'Like what you see? Visit the ' +\n",
              "          '<a target=\"_blank\" href=https://colab.research.google.com/notebooks/data_table.ipynb>data table notebook</a>'\n",
              "          + ' to learn more about interactive tables.';\n",
              "        element.innerHTML = '';\n",
              "        dataTable['output_type'] = 'display_data';\n",
              "        await google.colab.output.renderOutput(dataTable, element);\n",
              "        const docLink = document.createElement('div');\n",
              "        docLink.innerHTML = docLinkHtml;\n",
              "        element.appendChild(docLink);\n",
              "      }\n",
              "    </script>\n",
              "  </div>\n",
              "\n",
              "\n",
              "<div id=\"df-7d43d72e-a1ec-4263-b30e-d791b0195fe6\">\n",
              "  <button class=\"colab-df-quickchart\" onclick=\"quickchart('df-7d43d72e-a1ec-4263-b30e-d791b0195fe6')\"\n",
              "            title=\"Suggest charts\"\n",
              "            style=\"display:none;\">\n",
              "\n",
              "<svg xmlns=\"http://www.w3.org/2000/svg\" height=\"24px\"viewBox=\"0 0 24 24\"\n",
              "     width=\"24px\">\n",
              "    <g>\n",
              "        <path d=\"M19 3H5c-1.1 0-2 .9-2 2v14c0 1.1.9 2 2 2h14c1.1 0 2-.9 2-2V5c0-1.1-.9-2-2-2zM9 17H7v-7h2v7zm4 0h-2V7h2v10zm4 0h-2v-4h2v4z\"/>\n",
              "    </g>\n",
              "</svg>\n",
              "  </button>\n",
              "\n",
              "<style>\n",
              "  .colab-df-quickchart {\n",
              "      --bg-color: #E8F0FE;\n",
              "      --fill-color: #1967D2;\n",
              "      --hover-bg-color: #E2EBFA;\n",
              "      --hover-fill-color: #174EA6;\n",
              "      --disabled-fill-color: #AAA;\n",
              "      --disabled-bg-color: #DDD;\n",
              "  }\n",
              "\n",
              "  [theme=dark] .colab-df-quickchart {\n",
              "      --bg-color: #3B4455;\n",
              "      --fill-color: #D2E3FC;\n",
              "      --hover-bg-color: #434B5C;\n",
              "      --hover-fill-color: #FFFFFF;\n",
              "      --disabled-bg-color: #3B4455;\n",
              "      --disabled-fill-color: #666;\n",
              "  }\n",
              "\n",
              "  .colab-df-quickchart {\n",
              "    background-color: var(--bg-color);\n",
              "    border: none;\n",
              "    border-radius: 50%;\n",
              "    cursor: pointer;\n",
              "    display: none;\n",
              "    fill: var(--fill-color);\n",
              "    height: 32px;\n",
              "    padding: 0;\n",
              "    width: 32px;\n",
              "  }\n",
              "\n",
              "  .colab-df-quickchart:hover {\n",
              "    background-color: var(--hover-bg-color);\n",
              "    box-shadow: 0 1px 2px rgba(60, 64, 67, 0.3), 0 1px 3px 1px rgba(60, 64, 67, 0.15);\n",
              "    fill: var(--button-hover-fill-color);\n",
              "  }\n",
              "\n",
              "  .colab-df-quickchart-complete:disabled,\n",
              "  .colab-df-quickchart-complete:disabled:hover {\n",
              "    background-color: var(--disabled-bg-color);\n",
              "    fill: var(--disabled-fill-color);\n",
              "    box-shadow: none;\n",
              "  }\n",
              "\n",
              "  .colab-df-spinner {\n",
              "    border: 2px solid var(--fill-color);\n",
              "    border-color: transparent;\n",
              "    border-bottom-color: var(--fill-color);\n",
              "    animation:\n",
              "      spin 1s steps(1) infinite;\n",
              "  }\n",
              "\n",
              "  @keyframes spin {\n",
              "    0% {\n",
              "      border-color: transparent;\n",
              "      border-bottom-color: var(--fill-color);\n",
              "      border-left-color: var(--fill-color);\n",
              "    }\n",
              "    20% {\n",
              "      border-color: transparent;\n",
              "      border-left-color: var(--fill-color);\n",
              "      border-top-color: var(--fill-color);\n",
              "    }\n",
              "    30% {\n",
              "      border-color: transparent;\n",
              "      border-left-color: var(--fill-color);\n",
              "      border-top-color: var(--fill-color);\n",
              "      border-right-color: var(--fill-color);\n",
              "    }\n",
              "    40% {\n",
              "      border-color: transparent;\n",
              "      border-right-color: var(--fill-color);\n",
              "      border-top-color: var(--fill-color);\n",
              "    }\n",
              "    60% {\n",
              "      border-color: transparent;\n",
              "      border-right-color: var(--fill-color);\n",
              "    }\n",
              "    80% {\n",
              "      border-color: transparent;\n",
              "      border-right-color: var(--fill-color);\n",
              "      border-bottom-color: var(--fill-color);\n",
              "    }\n",
              "    90% {\n",
              "      border-color: transparent;\n",
              "      border-bottom-color: var(--fill-color);\n",
              "    }\n",
              "  }\n",
              "</style>\n",
              "\n",
              "  <script>\n",
              "    async function quickchart(key) {\n",
              "      const quickchartButtonEl =\n",
              "        document.querySelector('#' + key + ' button');\n",
              "      quickchartButtonEl.disabled = true;  // To prevent multiple clicks.\n",
              "      quickchartButtonEl.classList.add('colab-df-spinner');\n",
              "      try {\n",
              "        const charts = await google.colab.kernel.invokeFunction(\n",
              "            'suggestCharts', [key], {});\n",
              "      } catch (error) {\n",
              "        console.error('Error during call to suggestCharts:', error);\n",
              "      }\n",
              "      quickchartButtonEl.classList.remove('colab-df-spinner');\n",
              "      quickchartButtonEl.classList.add('colab-df-quickchart-complete');\n",
              "    }\n",
              "    (() => {\n",
              "      let quickchartButtonEl =\n",
              "        document.querySelector('#df-7d43d72e-a1ec-4263-b30e-d791b0195fe6 button');\n",
              "      quickchartButtonEl.style.display =\n",
              "        google.colab.kernel.accessAllowed ? 'block' : 'none';\n",
              "    })();\n",
              "  </script>\n",
              "</div>\n",
              "\n",
              "    </div>\n",
              "  </div>\n"
            ],
            "application/vnd.google.colaboratory.intrinsic+json": {
              "type": "dataframe",
              "variable_name": "df",
              "summary": "{\n  \"name\": \"df\",\n  \"rows\": 244,\n  \"fields\": [\n    {\n      \"column\": \"total_bill\",\n      \"properties\": {\n        \"dtype\": \"number\",\n        \"std\": 8.902411954856856,\n        \"min\": 3.07,\n        \"max\": 50.81,\n        \"num_unique_values\": 229,\n        \"samples\": [\n          22.12,\n          20.23,\n          14.78\n        ],\n        \"semantic_type\": \"\",\n        \"description\": \"\"\n      }\n    },\n    {\n      \"column\": \"tip\",\n      \"properties\": {\n        \"dtype\": \"number\",\n        \"std\": 1.3836381890011822,\n        \"min\": 1.0,\n        \"max\": 10.0,\n        \"num_unique_values\": 123,\n        \"samples\": [\n          3.35,\n          1.5,\n          6.73\n        ],\n        \"semantic_type\": \"\",\n        \"description\": \"\"\n      }\n    },\n    {\n      \"column\": \"sex\",\n      \"properties\": {\n        \"dtype\": \"category\",\n        \"num_unique_values\": 2,\n        \"samples\": [\n          \"Male\",\n          \"Female\"\n        ],\n        \"semantic_type\": \"\",\n        \"description\": \"\"\n      }\n    },\n    {\n      \"column\": \"smoker\",\n      \"properties\": {\n        \"dtype\": \"category\",\n        \"num_unique_values\": 2,\n        \"samples\": [\n          \"Yes\",\n          \"No\"\n        ],\n        \"semantic_type\": \"\",\n        \"description\": \"\"\n      }\n    },\n    {\n      \"column\": \"day\",\n      \"properties\": {\n        \"dtype\": \"category\",\n        \"num_unique_values\": 4,\n        \"samples\": [\n          \"Sat\",\n          \"Fri\"\n        ],\n        \"semantic_type\": \"\",\n        \"description\": \"\"\n      }\n    },\n    {\n      \"column\": \"time\",\n      \"properties\": {\n        \"dtype\": \"category\",\n        \"num_unique_values\": 2,\n        \"samples\": [\n          \"Lunch\",\n          \"Dinner\"\n        ],\n        \"semantic_type\": \"\",\n        \"description\": \"\"\n      }\n    },\n    {\n      \"column\": \"size\",\n      \"properties\": {\n        \"dtype\": \"number\",\n        \"std\": 0,\n        \"min\": 1,\n        \"max\": 6,\n        \"num_unique_values\": 6,\n        \"samples\": [\n          2,\n          3\n        ],\n        \"semantic_type\": \"\",\n        \"description\": \"\"\n      }\n    }\n  ]\n}"
            }
          },
          "metadata": {},
          "execution_count": 27
        }
      ]
    },
    {
      "cell_type": "code",
      "source": [
        "#  (i) Write a Python function that calculates their skewness.\n",
        "\n",
        "def skewness(df):\n",
        "  return df.skew()\n",
        "\n",
        "skewness(df['total_bill'])"
      ],
      "metadata": {
        "colab": {
          "base_uri": "https://localhost:8080/"
        },
        "id": "r4oEjT9m9XGO",
        "outputId": "4e681a16-615e-4fc1-9afc-c317d91f45b5"
      },
      "execution_count": null,
      "outputs": [
        {
          "output_type": "execute_result",
          "data": {
            "text/plain": [
              "1.1332130376158205"
            ]
          },
          "metadata": {},
          "execution_count": 28
        }
      ]
    },
    {
      "cell_type": "code",
      "source": [
        "# (ii) Create a program that determines whether the columns exhibit positive skewness, negative skewness, or is\n",
        "# approximately symmetric.\n",
        "\n",
        "def skewness(df):\n",
        "  if df.skew() > 0:\n",
        "    return 'Positive skewness'\n",
        "  elif df.skew() < 0:\n",
        "    return 'Negative skewness'\n",
        "  else:\n",
        "    return 'Symmetric'\n",
        "\n",
        "skewness(df['total_bill'])"
      ],
      "metadata": {
        "colab": {
          "base_uri": "https://localhost:8080/",
          "height": 36
        },
        "id": "C17Y-VmZ9lra",
        "outputId": "628c69f4-5fe5-4d96-c13f-3fd38b352677"
      },
      "execution_count": null,
      "outputs": [
        {
          "output_type": "execute_result",
          "data": {
            "text/plain": [
              "'Positive skewness'"
            ],
            "application/vnd.google.colaboratory.intrinsic+json": {
              "type": "string"
            }
          },
          "metadata": {},
          "execution_count": 29
        }
      ]
    },
    {
      "cell_type": "code",
      "source": [
        "# (iii) Write a function that calculates the covariance between two columns.\n",
        "\n",
        "def covariance(df):\n",
        "  return np.cov(df['total_bill'],df['tip'])\n",
        "\n",
        "covariance(df)"
      ],
      "metadata": {
        "colab": {
          "base_uri": "https://localhost:8080/"
        },
        "id": "12GmUbw193Kd",
        "outputId": "a6a2ab09-702e-4f70-d4a8-1d8af5342c1f"
      },
      "execution_count": null,
      "outputs": [
        {
          "output_type": "execute_result",
          "data": {
            "text/plain": [
              "array([[79.25293861,  8.32350163],\n",
              "       [ 8.32350163,  1.91445464]])"
            ]
          },
          "metadata": {},
          "execution_count": 30
        }
      ]
    },
    {
      "cell_type": "code",
      "source": [
        "# (iv) Implement a Python program that calculates the Pearson correlation coefficient between two columns.\n",
        "\n",
        "def pearson_correlation(df):\n",
        "  return np.corrcoef(df['total_bill'],df['tip'])\n",
        "\n",
        "pearson_correlation(df)"
      ],
      "metadata": {
        "colab": {
          "base_uri": "https://localhost:8080/"
        },
        "id": "7SRFLwjI-Nah",
        "outputId": "3ec21d53-3a3e-498d-a83c-af96f9231c04"
      },
      "execution_count": null,
      "outputs": [
        {
          "output_type": "execute_result",
          "data": {
            "text/plain": [
              "array([[1.        , 0.67573411],\n",
              "       [0.67573411, 1.        ]])"
            ]
          },
          "metadata": {},
          "execution_count": 31
        }
      ]
    },
    {
      "cell_type": "code",
      "source": [
        "# (v) Write a script to visualize the correlation between two specific columns in a Pandas DataFrame using\n",
        "# scatter plots\n",
        "\n",
        "sns.scatterplot(data=df, x='total_bill', y='tip')\n"
      ],
      "metadata": {
        "colab": {
          "base_uri": "https://localhost:8080/",
          "height": 468
        },
        "id": "WeWaH6ju-XPD",
        "outputId": "16b9bb59-aa48-4973-bc05-07b958fbfcb1"
      },
      "execution_count": null,
      "outputs": [
        {
          "output_type": "execute_result",
          "data": {
            "text/plain": [
              "<Axes: xlabel='total_bill', ylabel='tip'>"
            ]
          },
          "metadata": {},
          "execution_count": 32
        },
        {
          "output_type": "display_data",
          "data": {
            "text/plain": [
              "<Figure size 640x480 with 1 Axes>"
            ],
            "image/png": "[encoded data removed]"
          },
          "metadata": {}
        }
      ]
    },
    {
      "cell_type": "markdown",
      "source": [
        "**8. Write a Python function to calculate the probability density function (PDF) of a continuous random\n",
        "variable for a given normal distribution.**"
      ],
      "metadata": {
        "id": "RoJoXP4c-qt6"
      }
    },
    {
      "cell_type": "code",
      "source": [
        "def pdf(x, mean, std):\n",
        "    return (1 / (std * np.sqrt(2 * np.pi))) * np.exp(-0.5 * ((x - mean) / std) ** 2)\n",
        "\n",
        "x = np.linspace(-5, 5, 100)\n",
        "mean = 0\n",
        "std = 1\n",
        "y = pdf(x, mean, std)\n",
        "print(f'PDF values : {y}')"
      ],
      "metadata": {
        "colab": {
          "base_uri": "https://localhost:8080/"
        },
        "id": "Em3-AT0H-kW4",
        "outputId": "bfffb342-70da-41b2-9d1f-5d0e51e6c448"
      },
      "execution_count": null,
      "outputs": [
        {
          "output_type": "stream",
          "name": "stdout",
          "text": [
            "PDF values : [1.48671951e-06 2.45106104e-06 3.99989037e-06 6.46116639e-06\n",
            " 1.03310066e-05 1.63509589e-05 2.56160812e-05 3.97238224e-05\n",
            " 6.09759040e-05 9.26476353e-05 1.39341123e-04 2.07440309e-04\n",
            " 3.05686225e-04 4.45889725e-04 6.43795498e-04 9.20104770e-04\n",
            " 1.30165384e-03 1.82273110e-03 2.52649578e-03 3.46643792e-03\n",
            " 4.70779076e-03 6.32877643e-03 8.42153448e-03 1.10925548e-02\n",
            " 1.44624148e-02 1.86646099e-02 2.38432745e-02 3.01496139e-02\n",
            " 3.77369231e-02 4.67541424e-02 5.73380051e-02 6.96039584e-02\n",
            " 8.36361772e-02 9.94771388e-02 1.17117360e-01 1.36486009e-01\n",
            " 1.57443188e-01 1.79774665e-01 2.03189836e-01 2.27323506e-01\n",
            " 2.51741947e-01 2.75953371e-01 2.99422683e-01 3.21590023e-01\n",
            " 3.41892294e-01 3.59786558e-01 3.74773979e-01 3.86422853e-01\n",
            " 3.94389234e-01 3.98433802e-01 3.98433802e-01 3.94389234e-01\n",
            " 3.86422853e-01 3.74773979e-01 3.59786558e-01 3.41892294e-01\n",
            " 3.21590023e-01 2.99422683e-01 2.75953371e-01 2.51741947e-01\n",
            " 2.27323506e-01 2.03189836e-01 1.79774665e-01 1.57443188e-01\n",
            " 1.36486009e-01 1.17117360e-01 9.94771388e-02 8.36361772e-02\n",
            " 6.96039584e-02 5.73380051e-02 4.67541424e-02 3.77369231e-02\n",
            " 3.01496139e-02 2.38432745e-02 1.86646099e-02 1.44624148e-02\n",
            " 1.10925548e-02 8.42153448e-03 6.32877643e-03 4.70779076e-03\n",
            " 3.46643792e-03 2.52649578e-03 1.82273110e-03 1.30165384e-03\n",
            " 9.20104770e-04 6.43795498e-04 4.45889725e-04 3.05686225e-04\n",
            " 2.07440309e-04 1.39341123e-04 9.26476353e-05 6.09759040e-05\n",
            " 3.97238224e-05 2.56160812e-05 1.63509589e-05 1.03310066e-05\n",
            " 6.46116639e-06 3.99989037e-06 2.45106104e-06 1.48671951e-06]\n"
          ]
        }
      ]
    },
    {
      "cell_type": "markdown",
      "source": [
        "**9. Create a program to calculate the cumulative distribution function (CDF) of exponential distribution.**"
      ],
      "metadata": {
        "id": "jX8741mABCQ1"
      }
    },
    {
      "cell_type": "code",
      "source": [
        "def cdf(x, lambd):\n",
        "    return 1 - np.exp(-lambd * x)\n",
        "\n",
        "x = np.linspace(0, 5, 100)\n",
        "lambd = 1\n",
        "y = cdf(x, lambd)\n",
        "print(f'CDF values : {y}')\n",
        "\n"
      ],
      "metadata": {
        "colab": {
          "base_uri": "https://localhost:8080/"
        },
        "id": "XGq9z5V5Atnb",
        "outputId": "302c255a-9cf2-46f6-9f14-874fcf178128"
      },
      "execution_count": null,
      "outputs": [
        {
          "output_type": "stream",
          "name": "stdout",
          "text": [
            "CDF values : [0.         0.04925087 0.0960761  0.14059514 0.18292158 0.2231634\n",
            " 0.26142329 0.29779883 0.33238285 0.36526358 0.3965249  0.42624658\n",
            " 0.45450444 0.48137057 0.50691352 0.53119846 0.55428735 0.57623908\n",
            " 0.59710968 0.61695238 0.63581781 0.6537541  0.67080701 0.68702005\n",
            " 0.70243459 0.71708995 0.73102351 0.74427084 0.75686572 0.7688403\n",
            " 0.78022512 0.79104922 0.80134023 0.8111244  0.82042669 0.82927083\n",
            " 0.83767939 0.84567382 0.85327452 0.86050088 0.86737133 0.87390341\n",
            " 0.88011378 0.88601828 0.89163198 0.8969692  0.90204355 0.90686799\n",
            " 0.91145483 0.91581575 0.9199619  0.92390385 0.92765165 0.93121487\n",
            " 0.9346026  0.93782348 0.94088572 0.94379715 0.94656519 0.9491969\n",
            " 0.951699   0.95407787 0.95633957 0.95848989 0.9605343  0.96247802\n",
            " 0.96432601 0.96608298 0.96775342 0.9693416  0.97085155 0.97228714\n",
            " 0.97365202 0.97494968 0.97618343 0.97735642 0.97847163 0.97953192\n",
            " 0.98053999 0.98149842 0.98240964 0.98327598 0.98409965 0.98488276\n",
            " 0.98562729 0.98633516 0.98700817 0.98764803 0.98825637 0.98883476\n",
            " 0.98938465 0.98990747 0.99040453 0.99087712 0.99132643 0.99175361\n",
            " 0.99215975 0.99254589 0.99291301 0.99326205]\n"
          ]
        }
      ]
    },
    {
      "cell_type": "markdown",
      "source": [
        "**10. Write a Python function to calculate the probability mass function (PMF) of Poisson distribution.**"
      ],
      "metadata": {
        "id": "z6vkREWTBQYY"
      }
    },
    {
      "cell_type": "code",
      "source": [
        "def pmf(k, lambd):\n",
        "    return (np.exp(-lambd) * lambd ** k) / np.math.factorial(k)\n",
        "\n",
        "k = 3\n",
        "lambd = 2\n",
        "y = pmf(k, lambd)\n",
        "print(f'PMF values : {y}')"
      ],
      "metadata": {
        "colab": {
          "base_uri": "https://localhost:8080/"
        },
        "id": "ZvF--9urBMTj",
        "outputId": "f14dfb93-933f-4e29-981b-32ca2b1ed7c2"
      },
      "execution_count": null,
      "outputs": [
        {
          "output_type": "stream",
          "name": "stdout",
          "text": [
            "PMF values : 0.1804470443154836\n"
          ]
        },
        {
          "output_type": "stream",
          "name": "stderr",
          "text": [
            "<ipython-input-35-4dd4b7675c2b>:2: DeprecationWarning: `np.math` is a deprecated alias for the standard library `math` module (Deprecated Numpy 1.25). Replace usages of `np.math` with `math`\n",
            "  return (np.exp(-lambd) * lambd ** k) / np.math.factorial(k)\n"
          ]
        }
      ]
    },
    {
      "cell_type": "markdown",
      "source": [
        "**11. A company wants to test if a new website layout leads to a higher conversion rate (percentage of visitors\n",
        "who make a purchase). They collect data from the old and new layouts to compare.**"
      ],
      "metadata": {
        "id": "r6-eChlRKNpG"
      }
    },
    {
      "cell_type": "code",
      "source": [
        "\n",
        "# 50 purchases out of 1000 visitors\n",
        "\n",
        "old_layout = np.array([1] * 50 + [0] * 950)\n",
        "\n",
        "# 70 purchases out of 1000 visitors\n",
        "\n",
        "new_layout = np.array([1] * 70 + [0] * 930)\n",
        "\n",
        "\n",
        "\n",
        "# Apply z-test to find which layout is successful.\n",
        "\n",
        "from statsmodels.stats.proportion import proportions_ztest\n",
        "\n",
        "count = np.array([50, 70])\n",
        "nobs = np.array([1000, 1000])\n",
        "\n",
        "z_stat, p_value = proportions_ztest(count, nobs)\n",
        "\n",
        "print(\"Z-statistic:\", z_stat)\n",
        "print(\"P-value:\", p_value)\n",
        "\n",
        "\n",
        "\n",
        "if p_value < 0.05:\n",
        "    print(\"Reject the null hypothesis. The new layout leads to a higher conversion rate.\")\n",
        "else:\n",
        "    print(\"Fail to reject the null hypothesis. There is no significant difference in conversion rates.\")\n",
        "\n"
      ],
      "metadata": {
        "colab": {
          "base_uri": "https://localhost:8080/"
        },
        "id": "qG_pnVFkBdoW",
        "outputId": "926e1b6d-de60-426c-d47d-4435e0613fdf"
      },
      "execution_count": null,
      "outputs": [
        {
          "output_type": "stream",
          "name": "stdout",
          "text": [
            "Z-statistic: -1.883108942886774\n",
            "P-value: 0.059685605532426224\n",
            "Fail to reject the null hypothesis. There is no significant difference in conversion rates.\n"
          ]
        }
      ]
    },
    {
      "cell_type": "markdown",
      "source": [
        "**12. A tutoring service claims that its program improves students' exam scores. A sample of students who\n",
        "participated in the program was taken, and their scores before and after the program were recorded.**"
      ],
      "metadata": {
        "id": "GH8Qmgkd9vJH"
      }
    },
    {
      "cell_type": "code",
      "source": [
        "'''python\n",
        "\n",
        "before_program = np.array([75, 80, 85, 70, 90, 78, 92, 88, 82, 87])\n",
        "\n",
        "after_program = np.array([80, 85, 90, 80, 92, 80, 95, 90, 85, 88])\n",
        "\n",
        "'''\n",
        "\n",
        "# Use z-test to find if the claims made by tutor are true or false.\n",
        "\n",
        "before_program = np.array([75, 80, 85, 70, 90, 78, 92, 88, 82, 87])\n",
        "\n",
        "after_program = np.array([80, 85, 90, 80, 92, 80, 95, 90, 85, 88])\n",
        "\n",
        "z_stat, p_value = stats.ttest_rel(before_program, after_program)\n",
        "\n",
        "print(\"Z-statistic:\", z_stat)\n",
        "print(\"P-value:\", p_value)\n",
        "\n",
        "\n",
        "\n",
        "if p_value < 0.05:\n",
        "    print(\"Reject the null hypothesis. The tutoring program improves students' exam scores.\")\n",
        "else:\n",
        "    print(\"Fail to reject the null hypothesis. There is no significant difference in exam scores.\")\n",
        "\n",
        "\n",
        "\n",
        "\n",
        "\n",
        "\n",
        "\n",
        "\n"
      ],
      "metadata": {
        "id": "DiGRQ1BIK91q",
        "colab": {
          "base_uri": "https://localhost:8080/"
        },
        "outputId": "6fb05f87-f9de-461e-f6d0-df0ed6c96fa6"
      },
      "execution_count": null,
      "outputs": [
        {
          "output_type": "stream",
          "name": "stdout",
          "text": [
            "Z-statistic: -4.593190894944668\n",
            "P-value: 0.0013030932910086035\n",
            "Reject the null hypothesis. The tutoring program improves students' exam scores.\n"
          ]
        }
      ]
    },
    {
      "cell_type": "markdown",
      "source": [
        "**13. A pharmaceutical company wants to determine if a new drug is effective in reducing blood pressure. They\n",
        "conduct a study and record blood pressure measurements before and after administering the drug.**"
      ],
      "metadata": {
        "id": "r9qHCiUv-082"
      }
    },
    {
      "cell_type": "code",
      "source": [
        "'''python\n",
        "\n",
        "before_drug = np.array([145, 150, 140, 135, 155, 160, 152, 148, 130, 138])\n",
        "\n",
        "after_drug = np.array([130, 140, 132, 128, 145, 148, 138, 136, 125, 130])\n",
        "\n",
        "'''\n",
        "\n",
        "\n",
        "# Implement z-test to find if the drug really works or not\n",
        "\n",
        "before_drug = np.array([145, 150, 140, 135, 155, 160, 152, 148, 130, 138])\n",
        "\n",
        "after_drug = np.array([130, 140, 132, 128, 145, 148, 138, 136, 125, 130])\n",
        "\n",
        "z_stat, p_value = stats.ttest_rel(before_drug, after_drug)\n",
        "\n",
        "print(\"Z-statistic:\", z_stat)\n",
        "print(\"P-value:\", p_value)\n",
        "\n",
        "\n",
        "\n",
        "if p_value < 0.05:\n",
        "    print(\"Reject the null hypothesis. The new drug is effective in reducing blood pressure.\")\n",
        "else:\n",
        "    print(\"Fail to reject the null hypothesis. There is no significant difference in blood pressure.\")\n",
        "\n",
        "\n",
        "\n"
      ],
      "metadata": {
        "colab": {
          "base_uri": "https://localhost:8080/"
        },
        "id": "l8B3TZFS-VWX",
        "outputId": "4f1175ab-bf1e-4e99-9f22-2b7a90b19057"
      },
      "execution_count": null,
      "outputs": [
        {
          "output_type": "stream",
          "name": "stdout",
          "text": [
            "Z-statistic: 10.04987562112089\n",
            "P-value: 3.433031432681152e-06\n",
            "Reject the null hypothesis. The new drug is effective in reducing blood pressure.\n"
          ]
        }
      ]
    },
    {
      "cell_type": "markdown",
      "source": [
        "**14. A customer service department claims that their average response time is less than 5 minutes. A sample\n",
        "of recent customer interactions was taken, and the response times were recorded.**"
      ],
      "metadata": {
        "id": "SFpUp4bO_dl5"
      }
    },
    {
      "cell_type": "code",
      "source": [
        "# implement the below code to generate the array of response time:\n",
        "\n",
        "'''python\n",
        "\n",
        "response_times = np.array([4.3, 3.8, 5.1, 4.9, 4.7, 4.2, 5.2, 4.5, 4.6, 4.4])\n",
        "\n",
        "'''\n",
        "\n",
        "# Implement z-test to find the claims made by customer service department are true or false\n",
        "\n",
        "response_times = np.array([4.3, 3.8, 5.1, 4.9, 4.7, 4.2, 5.2, 4.5, 4.6, 4.4])\n",
        "\n",
        "z_stat, p_value = stats.ttest_1samp(response_times, 5)\n",
        "\n",
        "print(\"Z-statistic:\", z_stat)\n",
        "print(\"P-value:\", p_value)\n",
        "\n",
        "\n",
        "\n",
        "if p_value < 0.05:\n",
        "    print(\"Reject the null hypothesis. The average response time is less than 5 minutes.\")\n",
        "else:\n",
        "    print(\"Fail to reject the null hypothesis. There is no significant evidence that the average response time is less than 5 minutes\")\n"
      ],
      "metadata": {
        "colab": {
          "base_uri": "https://localhost:8080/"
        },
        "id": "18ZtZbQ__ZVS",
        "outputId": "dc8314aa-ca22-445a-ca6a-5fbb0fe5fd43"
      },
      "execution_count": null,
      "outputs": [
        {
          "output_type": "stream",
          "name": "stdout",
          "text": [
            "Z-statistic: -3.1844572260429627\n",
            "P-value: 0.011104982316785018\n",
            "Reject the null hypothesis. The average response time is less than 5 minutes.\n"
          ]
        }
      ]
    },
    {
      "cell_type": "markdown",
      "source": [
        "**15. A company is testing two different website layouts to see which one leads to higher click-through rates.\n",
        "Write a Python function to perform an A/B test analysis, including calculating the t-statistic, degrees of\n",
        "freedom, and p-value.**"
      ],
      "metadata": {
        "id": "q3_V1o8VAkx1"
      }
    },
    {
      "cell_type": "code",
      "source": [
        "# Use the following data:\n",
        "\n",
        "\n",
        "\n",
        "layout_a_clicks = [28, 32, 33, 29, 31, 34, 30, 35, 36, 37]\n",
        "\n",
        "layout_b_clicks = [40, 41, 38, 42, 39, 44, 43, 41, 45, 47]\n",
        "\n",
        "\n",
        "t_stat, p_value = stats.ttest_ind(layout_a_clicks, layout_b_clicks)\n",
        "\n",
        "print(\"T-statistic:\", t_stat)\n",
        "print(\"P-value:\", p_value)\n",
        "\n",
        "\n",
        "\n",
        "if p_value < 0.05:\n",
        "    print(\"Reject the null hypothesis. Layout B leads to higher click-through rates.\")\n",
        "else:\n",
        "    print(\"Fail to reject the null hypothesis. There is no significant difference in click-through rates between the layouts.\")\n",
        "\n"
      ],
      "metadata": {
        "colab": {
          "base_uri": "https://localhost:8080/"
        },
        "id": "m-fDyjOUARwC",
        "outputId": "277554da-8da8-4e52-a602-5ab34f2ceb9c"
      },
      "execution_count": null,
      "outputs": [
        {
          "output_type": "stream",
          "name": "stdout",
          "text": [
            "T-statistic: -7.298102156175071\n",
            "P-value: 8.833437608301987e-07\n",
            "Reject the null hypothesis. Layout B leads to higher click-through rates.\n"
          ]
        }
      ]
    },
    {
      "cell_type": "markdown",
      "source": [
        "**16. A pharmaceutical company wants to determine if a new drug is more effective than an existing drug in\n",
        "reducing cholesterol levels. Create a program to analyze the clinical trial data and calculate the t-statistic and p-value for the treatment effect.**\n"
      ],
      "metadata": {
        "id": "TGM8VFQLBfpA"
      }
    },
    {
      "cell_type": "code",
      "source": [
        "# Use the followig data of cholestrol level:\n",
        "\n",
        "\n",
        "existing_drug_levels = [180, 182, 175, 185, 178, 176, 172, 184, 179, 183]\n",
        "\n",
        "new_drug_levels = [170, 172, 165, 168, 175, 173, 170, 178, 172, 176]\n",
        "\n",
        "t_stat, p_value = stats.ttest_rel(existing_drug_levels, new_drug_levels)\n",
        "\n",
        "print(f\"T-Statistics Value: {t_stat}\")\n",
        "print(f\"P-Value: {p_value}\")\n",
        "\n",
        "if p_value < 0.05:\n",
        "  print(\"Reject the null hypothesis. The new drug is more effective than the existing drug in reducing cholestrol levels.\")\n",
        "else:\n",
        "  print(\"Fail to reject the null hypothesis. This is no significant differrence in cholestrol levels between the two drugs.\")\n"
      ],
      "metadata": {
        "colab": {
          "base_uri": "https://localhost:8080/"
        },
        "id": "ReheEi_uBJP_",
        "outputId": "7b0679a4-87d0-4720-a97f-2093685c9655"
      },
      "execution_count": null,
      "outputs": [
        {
          "output_type": "stream",
          "name": "stdout",
          "text": [
            "T-Statistics Value: 5.266851623825876\n",
            "P-Value: 0.0005160202180080982\n",
            "Reject the null hypothesis. The new drug is more effective than the existing drug in reducing cholestrol levels.\n"
          ]
        }
      ]
    },
    {
      "cell_type": "markdown",
      "source": [
        "**17. A school district introduces an educational intervention program to improve math scores. Write a Python\n",
        "function to analyze pre- and post-intervention test scores, calculating the t-statistic and p-value to\n",
        "determine if the intervention had a significant impact.**"
      ],
      "metadata": {
        "id": "3_xxntszC-Ud"
      }
    },
    {
      "cell_type": "code",
      "source": [
        "# Use the following data of test score:\n",
        "\n",
        "\n",
        "pre_intervention_scores = [80, 85, 90, 75, 88, 82, 92, 78, 85, 87]\n",
        "\n",
        "post_intervention_scores = [90, 92, 88, 92, 95, 91, 96, 93, 89, 93]\n",
        "\n",
        "t_stat,p_value = stats.ttest_rel(pre_intervention_scores, post_intervention_scores)\n",
        "\n",
        "print(f\"T-Statistics Value: {t_stat}\")\n",
        "print(f\"P-Value: {p_value}\")\n",
        "\n",
        "if p_value < 0.05:\n",
        "  print(\"Reject the null hypothesis.The education intervention program had a significant impact.\")\n",
        "\n",
        "else:\n",
        "  print(\"Fail to reject the null hypothesis. There is no significant difference in math scores between the two groups.\")\n"
      ],
      "metadata": {
        "colab": {
          "base_uri": "https://localhost:8080/"
        },
        "id": "-ckQkMGmC9jP",
        "outputId": "6b94e686-0ead-4e54-b036-4d8de2dc9288"
      },
      "execution_count": null,
      "outputs": [
        {
          "output_type": "stream",
          "name": "stdout",
          "text": [
            "T-Statistics Value: -4.42840883965761\n",
            "P-Value: 0.0016509548165795493\n",
            "Reject the null hypothesis.The education intervention program had a significant impact.\n"
          ]
        }
      ]
    },
    {
      "cell_type": "markdown",
      "source": [
        "**18. An HR department wants to investigate if there's a gender-based salary gap within the company. Develop\n",
        "a program to analyze salary data, calculate the t-statistic, and determine if there's a statistically\n",
        "significant difference between the average salaries of male and female employees.**"
      ],
      "metadata": {
        "id": "hH1ax30bF3TO"
      }
    },
    {
      "cell_type": "code",
      "source": [
        "# Generate synthetic salary data for male and female employees\n",
        "\n",
        "np.random.seed(0)  # For reproducibility\n",
        "\n",
        "male_salaries = np.random.normal(loc=50000, scale=10000, size=20)\n",
        "\n",
        "female_salaries = np.random.normal(loc=55000, scale=9000, size=20)\n",
        "\n",
        "print(f\"Male Salaries: {male_salaries}\")\n",
        "print(f\"Female Salaries: {female_salaries}\")\n",
        "\n",
        "t_stat,p_value = stats.ttest_rel(male_salaries,female_salaries)\n",
        "\n",
        "print(f'T-statistics : {t_stat}')\n",
        "print(f'P-value: {p_value}')\n",
        "\n",
        "\n",
        "print(\"Conclusion:\")\n",
        "if p_value < 0.05:\n",
        "    print(\"Reject the null hypothesis. There is a statistically significant gender-based salary gap.\")\n",
        "else:\n",
        "    print(\"Fail to reject the null hypothesis. There is no statistically significant gender-based salary gap\")"
      ],
      "metadata": {
        "colab": {
          "base_uri": "https://localhost:8080/"
        },
        "id": "mX8ExwOXFDEV",
        "outputId": "768a317f-6554-44d8-9b72-6cbb209150b1"
      },
      "execution_count": null,
      "outputs": [
        {
          "output_type": "stream",
          "name": "stdout",
          "text": [
            "Male Salaries: [67640.52345968 54001.57208367 59787.37984106 72408.93199201\n",
            " 68675.5799015  40227.22120124 59500.88417526 48486.42791702\n",
            " 48967.81148206 54105.98501938 51440.43571161 64542.73506963\n",
            " 57610.37725147 51216.75016493 54438.63232745 53336.74327374\n",
            " 64940.79073158 47948.41736234 53130.67701651 41459.04260698]\n",
            "Female Salaries: [32023.09165749 60882.56735896 62779.92578974 48320.51481634\n",
            " 75427.79161589 41910.70892861 55411.82665571 53315.34534977\n",
            " 68795.01292923 68224.2289291  56394.52683127 58403.46267642\n",
            " 47009.92827133 37172.83178598 51868.79065606 56407.14072194\n",
            " 66072.61612655 65821.41863906 51514.05864333 52279.27524482]\n",
            "T-statistics : 0.06392396780224036\n",
            "P-value: 0.949698517843135\n",
            "Conclusion:\n",
            "Fail to reject the null hypothesis. There is no statistically significant gender-based salary gap\n"
          ]
        }
      ]
    },
    {
      "cell_type": "markdown",
      "source": [
        "**19. A manufacturer produces two different versions of a product and wants to compare their quality scores.\n",
        "Create a Python function to analyze quality assessment data, calculate the t-statistic, and decide\n",
        "whether there's a significant difference in quality between the two versions.**"
      ],
      "metadata": {
        "id": "LMdlhDtaHPcY"
      }
    },
    {
      "cell_type": "code",
      "source": [
        "version1_scores = [85, 88, 82, 89, 87, 84, 90, 88, 85, 86, 91, 83, 87, 84, 89, 86, 84, 88, 85, 86, 89, 90, 87, 88, 85]\n",
        "\n",
        "version2_scores = [80, 78, 83, 81, 79, 82, 76, 80, 78, 81, 77, 82, 80, 79, 82, 79, 80, 81, 79, 82, 79, 78, 80, 81, 82]\n",
        "\n",
        "print(f\"Version 1 Scores: {version1_scores}\")\n",
        "print(f\"Version 2 Scores: {version2_scores}\")\n",
        "\n",
        "t_stat,p_value = stats.ttest_rel(version1_scores, version2_scores)\n",
        "\n",
        "print(f'T-statistics : {t_stat}')\n",
        "print(f'P-value: {p_value}')\n",
        "\n",
        "if p_value < 0.05:\n",
        "  print(\"Reject the null hypothesis.There's a significant difference in quality between the two versions.\")\n",
        "else:\n",
        "  print(\"Fail to reject the null hypothesis.There is no significant differrence in quality between the two versions.\")\n"
      ],
      "metadata": {
        "colab": {
          "base_uri": "https://localhost:8080/"
        },
        "id": "B7RddYmkHBDO",
        "outputId": "30ba3f67-544d-4ab2-8511-440c47f76fbd"
      },
      "execution_count": null,
      "outputs": [
        {
          "output_type": "stream",
          "name": "stdout",
          "text": [
            "Version 1 Scores: [85, 88, 82, 89, 87, 84, 90, 88, 85, 86, 91, 83, 87, 84, 89, 86, 84, 88, 85, 86, 89, 90, 87, 88, 85]\n",
            "Version 2 Scores: [80, 78, 83, 81, 79, 82, 76, 80, 78, 81, 77, 82, 80, 79, 82, 79, 80, 81, 79, 82, 79, 78, 80, 81, 82]\n",
            "T-statistics : 9.242189699638507\n",
            "P-value: 2.2385432731055813e-09\n",
            "Reject the null hypothesis.There's a significant difference in quality between the two versions.\n"
          ]
        }
      ]
    },
    {
      "cell_type": "markdown",
      "source": [
        " **20. A restaurant chain collects customer satisfaction scores for two different branches. Write a program to\n",
        "analyze the scores, calculate the t-statistic, and determine if there's a statistically significant difference in\n",
        "customer satisfaction between the branches.**"
      ],
      "metadata": {
        "id": "xsNSVbtYJHcZ"
      }
    },
    {
      "cell_type": "code",
      "source": [
        "branch_a_scores = [4, 5, 3, 4, 5, 4, 5, 3, 4, 4, 5, 4, 4, 3, 4, 5, 5, 4, 3, 4, 5, 4, 3, 5, 4, 4, 5, 3, 4, 5, 4]\n",
        "\n",
        "branch_b_scores = [3, 4, 2, 3, 4, 3, 4, 2, 3, 3, 4, 3, 3, 2, 3, 4, 4, 3, 2, 3, 4, 3, 2, 4, 3, 3, 4, 2, 3, 4, 3]\n",
        "\n",
        "print(f'Branch A Scores: {branch_a_scores}')\n",
        "print(f'Branch B Scores: {branch_b_scores}')\n",
        "\n",
        "t_stats, p_value = stats.ttest_rel(branch_a_scores, branch_b_scores)\n",
        "\n",
        "print(f'T-statistics :  {t_stats}')\n",
        "print(f'P-value: {p_value}')\n",
        "\n",
        "if p_value < 0.05:\n",
        "  print(\"Reject the null hypothesis.There's a statistically significant difference in customer satisfaction between the branches.\")\n",
        "else:\n",
        "  print(\"Fail to reject the null hypothesis. There is no statistically significant difference in customer satisfaction between the branches.\")"
      ],
      "metadata": {
        "colab": {
          "base_uri": "https://localhost:8080/"
        },
        "id": "iQgiPnsoIAsp",
        "outputId": "19c67ac5-12c0-4ea7-950f-f0e76788b515"
      },
      "execution_count": null,
      "outputs": [
        {
          "output_type": "stream",
          "name": "stdout",
          "text": [
            "Branch A Scores: [4, 5, 3, 4, 5, 4, 5, 3, 4, 4, 5, 4, 4, 3, 4, 5, 5, 4, 3, 4, 5, 4, 3, 5, 4, 4, 5, 3, 4, 5, 4]\n",
            "Branch B Scores: [3, 4, 2, 3, 4, 3, 4, 2, 3, 3, 4, 3, 3, 2, 3, 4, 4, 3, 2, 3, 4, 3, 2, 4, 3, 3, 4, 2, 3, 4, 3]\n",
            "T-statistics :  inf\n",
            "P-value: 0.0\n",
            "Reject the null hypothesis.There's a statistically significant difference in customer satisfaction between the branches.\n"
          ]
        },
        {
          "output_type": "stream",
          "name": "stderr",
          "text": [
            "/usr/local/lib/python3.10/dist-packages/scipy/stats/_axis_nan_policy.py:531: RuntimeWarning: Precision loss occurred in moment calculation due to catastrophic cancellation. This occurs when the data are nearly identical. Results may be unreliable.\n",
            "  res = hypotest_fun_out(*samples, **kwds)\n"
          ]
        }
      ]
    },
    {
      "cell_type": "markdown",
      "source": [
        "**21. A political analyst wants to determine if there is a significant association between age groups and voter\n",
        "preferences (Candidate A or Candidate B). They collect data from a sample of 500 voters and classify\n",
        "them into different age groups and candidate preferences. Perform a Chi-Square test to determine if\n",
        "there is a significant association between age groups and voter preferences.**"
      ],
      "metadata": {
        "id": "aQ7UdJ3PUoB3"
      }
    },
    {
      "cell_type": "code",
      "source": [
        "np.random.seed(0)\n",
        "\n",
        "age_groups = np.random.choice([ '18-30' , '31-50' , '51+', '51+'], size=30)\n",
        "\n",
        "voter_preferences = np.random.choice(['Candidate A', 'Candidate B'], size=30)\n",
        "\n",
        "print(f'Age Groups: {age_groups}')\n",
        "print(f'Voter Preferences: {voter_preferences}')\n",
        "\n",
        "# Chi-Square test\n",
        "from scipy.stats import chi2_contingency\n",
        "\n",
        "contingency_table = pd.crosstab(age_groups, voter_preferences)\n",
        "\n",
        "chi2, p, dof, expected = chi2_contingency(contingency_table)\n",
        "\n",
        "print(f'Chi-Square Value: {chi2}')\n",
        "print(f'P-value: {p}')\n",
        "print(f'Degrees of Freedom: {dof}')\n",
        "print(f'Expected Frequencies: {expected}')\n",
        "\n",
        "if p < 0.05:\n",
        "  print(\"Reject the null hypothesis. There is a significant association between age groups and voter preferences.\")\n",
        "else:\n",
        "  print(\"Fail to reject the null hypothesis. There is no significant association between age groups and voter preferences.\")\n"
      ],
      "metadata": {
        "id": "dBf16w7YKJEx",
        "colab": {
          "base_uri": "https://localhost:8080/"
        },
        "outputId": "15bb9175-f6a2-4915-8aa6-43635001aa3f"
      },
      "execution_count": 4,
      "outputs": [
        {
          "output_type": "stream",
          "name": "stdout",
          "text": [
            "Age Groups: ['18-30' '51+' '31-50' '18-30' '51+' '51+' '51+' '51+' '31-50' '51+'\n",
            " '31-50' '51+' '18-30' '51+' '51+' '18-30' '18-30' '18-30' '51+' '31-50'\n",
            " '51+' '51+' '51+' '51+' '18-30' '31-50' '31-50' '31-50' '31-50' '18-30']\n",
            "Voter Preferences: ['Candidate B' 'Candidate A' 'Candidate B' 'Candidate A' 'Candidate B'\n",
            " 'Candidate B' 'Candidate A' 'Candidate B' 'Candidate B' 'Candidate A'\n",
            " 'Candidate A' 'Candidate B' 'Candidate A' 'Candidate B' 'Candidate B'\n",
            " 'Candidate B' 'Candidate B' 'Candidate B' 'Candidate A' 'Candidate B'\n",
            " 'Candidate A' 'Candidate B' 'Candidate B' 'Candidate B' 'Candidate B'\n",
            " 'Candidate A' 'Candidate B' 'Candidate A' 'Candidate A' 'Candidate B']\n",
            "Chi-Square Value: 1.086807928913192\n",
            "P-value: 0.5807679703526951\n",
            "Degrees of Freedom: 2\n",
            "Expected Frequencies: [[2.93333333 5.06666667]\n",
            " [2.93333333 5.06666667]\n",
            " [5.13333333 8.86666667]]\n",
            "Fail to reject the null hypothesis. There is no significant association between age groups and voter preferences.\n"
          ]
        }
      ]
    },
    {
      "cell_type": "markdown",
      "source": [
        " **22. A company conducted a customer satisfaction survey to determine if there is a significant relationship\n",
        "between product satisfaction levels (Satisfied, Neutral, Dissatisfied) and the region where customers are\n",
        "located (East, West, North, South). The survey data is summarized in a contingency table. Conduct a Chi-Square test to determine if there is a significant relationship between product satisfaction levels and\n",
        "customer regions.**"
      ],
      "metadata": {
        "id": "Ip6wcMM9W7eD"
      }
    },
    {
      "cell_type": "code",
      "source": [
        "#Sample data: Product satisfaction levels (rows) vs. Customer regions (columns)\n",
        "data = np.array([[50, 30, 40, 20], [30, 40, 30, 50], [20, 30, 40, 30]])\n",
        "\n",
        "print(f'Data: {data}')\n",
        "\n",
        "\n",
        "# Perform Chi-Square test\n",
        "chi2, p, dof, expected = chi2_contingency(data)\n",
        "\n",
        "print(f'Chi-Square Value: {chi2}')\n",
        "print(f'P-value: {p}')\n",
        "print(f'Degrees of Freedom: {dof}')\n",
        "print(f'Expected Frequencies: {expected}')\n",
        "\n",
        "if p < 0.05:\n",
        "  print(\"Reject the null hypothesis. There is a significant relationship between product satisfaction levels and customer regions.\")\n",
        "else:\n",
        "  print(\"Fail to reject the null hypothesis. There is no significant relationship between product satisfaction levels and customer regions.\")\n",
        "\n",
        "\n"
      ],
      "metadata": {
        "colab": {
          "base_uri": "https://localhost:8080/"
        },
        "id": "zQ6vXZzmWRNV",
        "outputId": "504de957-ad68-4a19-a80f-5594d76a4efc"
      },
      "execution_count": 6,
      "outputs": [
        {
          "output_type": "stream",
          "name": "stdout",
          "text": [
            "Data: [[50 30 40 20]\n",
            " [30 40 30 50]\n",
            " [20 30 40 30]]\n",
            "Chi-Square Value: 27.777056277056275\n",
            "P-value: 0.00010349448486004387\n",
            "Degrees of Freedom: 6\n",
            "Expected Frequencies: [[34.14634146 34.14634146 37.56097561 34.14634146]\n",
            " [36.58536585 36.58536585 40.24390244 36.58536585]\n",
            " [29.26829268 29.26829268 32.19512195 29.26829268]]\n",
            "Reject the null hypothesis. There is a significant relationship between product satisfaction levels and customer regions.\n"
          ]
        }
      ]
    },
    {
      "cell_type": "markdown",
      "source": [
        " **23. A company implemented an employee training program to improve job performance (Effective, Neutral,\n",
        "Ineffective). After the training, they collected data from a sample of employees and classified them based\n",
        "on their job performance before and after the training. Perform a Chi-Square test to determine if there is a\n",
        "significant difference between job performance levels before and after the training.**"
      ],
      "metadata": {
        "id": "S0FRmY6SXxRd"
      }
    },
    {
      "cell_type": "code",
      "source": [
        "# Sample data: Job performance levels before (rows) and after (columns) training\n",
        "data = np.array([[50, 30, 20], [30, 40, 30], [20, 30, 40]])\n",
        "\n",
        "\n",
        "# Perform Chi-Square test\n",
        "chi2, p, dof, expected = chi2_contingency(data)\n",
        "\n",
        "print(f'Chi-Square Value: {chi2}')\n",
        "print(f'P-value: {p}')\n",
        "print(f'Degrees of Freedom: {dof}')\n",
        "print(f'Expected Frequencies: {expected}')\n",
        "\n",
        "if p < 0.05:\n",
        "  print(\"Reject the null hypothesis. There is a significant difference between job performance levels before and after the training.\")\n",
        "else:\n",
        "  print(\"Fail to reject the null hypothesis. There is no significant difference between job performance levels before and after the training\")\n",
        ""
      ],
      "metadata": {
        "colab": {
          "base_uri": "https://localhost:8080/"
        },
        "id": "KaS6Q6HRXhso",
        "outputId": "bb7319ee-f458-4f6b-d076-36e0e4e8922c"
      },
      "execution_count": 7,
      "outputs": [
        {
          "output_type": "stream",
          "name": "stdout",
          "text": [
            "Chi-Square Value: 22.161728395061726\n",
            "P-value: 0.00018609719479882557\n",
            "Degrees of Freedom: 4\n",
            "Expected Frequencies: [[34.48275862 34.48275862 31.03448276]\n",
            " [34.48275862 34.48275862 31.03448276]\n",
            " [31.03448276 31.03448276 27.93103448]]\n",
            "Reject the null hypothesis. There is a significant difference between job performance levels before and after the training.\n"
          ]
        }
      ]
    },
    {
      "cell_type": "markdown",
      "source": [
        "**24. A company produces three different versions of a product: Standard, Premium, and Deluxe. The\n",
        "company wants to determine if there is a significant difference in customer satisfaction scores among the\n",
        "three product versions. They conducted a survey and collected customer satisfaction scores for each\n",
        "version from a random sample of customers. Perform an ANOVA test to determine if there is a significant\n",
        "difference in customer satisfaction scores.**"
      ],
      "metadata": {
        "id": "HEZ5bCuFYbd0"
      }
    },
    {
      "cell_type": "code",
      "source": [
        "from scipy.stats import f_oneway"
      ],
      "metadata": {
        "id": "be92nEpYZFZ8"
      },
      "execution_count": 13,
      "outputs": []
    },
    {
      "cell_type": "code",
      "source": [
        " # Sample data: Customer satisfaction scores for each product version\n",
        "standard_scores = [80, 85, 90, 78, 88, 82, 92, 78, 85, 87]\n",
        "\n",
        "premium_scores = [90, 92, 88, 92, 95, 91, 96, 93, 89, 93]\n",
        "\n",
        "deluxe_scores = [95, 98, 92, 97, 96, 94, 98, 97, 92, 99]\n",
        "\n",
        "print(f'Standard Scores: {standard_scores}')\n",
        "print(f'Premium Scores: {premium_scores}')\n",
        "print(f'Deluxe Scores: {deluxe_scores}')\n",
        "\n",
        "# Perform ANOVA test\n",
        "\n",
        "f_statistic, p_value = f_oneway(standard_scores, premium_scores, deluxe_scores)\n",
        "\n",
        "print(f'F-statistic: {f_statistic}')\n",
        "print(f'P-value: {p_value}')\n",
        "\n",
        "if p_value < 0.05:\n",
        "  print(\"Reject the null hypothesis. There is a significant difference in customer satisfaction scores among the product versions.\")\n",
        "else:\n",
        "  print(\"Fail to reject the null hypothesis. There is no significant difference in customer satisfaction scores among the product versions.\")\n",
        "\n"
      ],
      "metadata": {
        "colab": {
          "base_uri": "https://localhost:8080/"
        },
        "id": "03OLvMPfYXJJ",
        "outputId": "f9a71110-1d24-49b4-93c0-2c3c9956c56d"
      },
      "execution_count": 15,
      "outputs": [
        {
          "output_type": "stream",
          "name": "stdout",
          "text": [
            "Standard Scores: [80, 85, 90, 78, 88, 82, 92, 78, 85, 87]\n",
            "Premium Scores: [90, 92, 88, 92, 95, 91, 96, 93, 89, 93]\n",
            "Deluxe Scores: [95, 98, 92, 97, 96, 94, 98, 97, 92, 99]\n",
            "F-statistic: 27.03556231003039\n",
            "P-value: 3.5786328857349003e-07\n",
            "Reject the null hypothesis. There is a significant difference in customer satisfaction scores among the product versions.\n"
          ]
        }
      ]
    },
    {
      "cell_type": "code",
      "source": [],
      "metadata": {
        "id": "t5uJwDG5YytU"
      },
      "execution_count": null,
      "outputs": []
    }
  ]
}