{
  "nbformat": 4,
  "nbformat_minor": 0,
  "metadata": {
    "colab": {
      "provenance": []
    },
    "kernelspec": {
      "name": "python3",
      "display_name": "Python 3"
    },
    "language_info": {
      "name": "python"
    }
  },
  "cells": [
    {
      "cell_type": "markdown",
      "source": [
        "**1. Write a code to read the contents of a file in Python.**"
      ],
      "metadata": {
        "id": "F_c7b-ZDOQ0Q"
      }
    },
    {
      "cell_type": "code",
      "execution_count": null,
      "metadata": {
        "id": "h2A7qssMOBC0"
      },
      "outputs": [],
      "source": [
        "File_object = open(\"sample.txt\", \"w\")\n",
        "File_object.write(\"Hello World\")\n",
        "File_object.close()\n",
        "\n",
        "\n",
        "File_object = open(\"sample.txt\", \"r\")\n",
        "print(File_object.read())\n",
        "File_object.close()"
      ]
    },
    {
      "cell_type": "markdown",
      "source": [
        "**2. Write a code to write to a file in Python.**"
      ],
      "metadata": {
        "id": "TSCpJ9b0PN59"
      }
    },
    {
      "cell_type": "code",
      "source": [
        "File_object = open(\"sample.txt\", \"w\")   #open a file in write mode\n",
        "File_object.write(\"Hello World\")\n",
        "File_object.close()\n",
        "\n"
      ],
      "metadata": {
        "id": "guzRWlY5OyJr"
      },
      "execution_count": null,
      "outputs": []
    },
    {
      "cell_type": "markdown",
      "source": [
        "**3. Write a code to append to a file in Python.**"
      ],
      "metadata": {
        "id": "goWYRFXOPYlo"
      }
    },
    {
      "cell_type": "code",
      "source": [
        "File_object = open(\"sample.txt\", \"a\")  #open a file in append mode\n",
        "File_object.write(\"This is Pwskills Python Assignment.\")\n",
        "File_object.close()"
      ],
      "metadata": {
        "id": "FyF46TPyPXsw"
      },
      "execution_count": null,
      "outputs": []
    },
    {
      "cell_type": "markdown",
      "source": [
        "**4. Write a code to read a binary file in Python.**"
      ],
      "metadata": {
        "id": "A5dxaS2aQHlQ"
      }
    },
    {
      "cell_type": "code",
      "source": [
        "File_object = open(\"sample.txt\", \"rb\")  #open a file in append mode\n",
        "print(File_object.read())\n",
        "File_object.close()"
      ],
      "metadata": {
        "colab": {
          "base_uri": "https://localhost:8080/"
        },
        "id": "tOwq8v4RPpE3",
        "outputId": "17a2b499-5520-43ea-8a4b-f0f03144f87d"
      },
      "execution_count": null,
      "outputs": [
        {
          "output_type": "stream",
          "name": "stdout",
          "text": [
            "b'Hello WorldThis is Pwskills Python Assignment.This is Pwskills Python Assignment.'\n"
          ]
        }
      ]
    },
    {
      "cell_type": "markdown",
      "source": [
        "**5. What happens if we don't use `with` keyword with `open` in python ?**"
      ],
      "metadata": {
        "id": "rvopXzU9Q7Qt"
      }
    },
    {
      "cell_type": "code",
      "source": [
        "# If we don't use \"with\" keyword with \"open\" in Python,  the \"with\" statement closes the file for you and you get to write less code."
      ],
      "metadata": {
        "id": "_majb0lJQ5fm"
      },
      "execution_count": null,
      "outputs": []
    },
    {
      "cell_type": "markdown",
      "source": [
        " **6. Explain the concept of buffering in file handling and how it helps in improving read and write operations?**\n",
        "\n",
        "\n",
        "Ans.\n",
        "*   Enabling buffering means that you're not directly interfacing with the OS's representation of a file, or its file system API.\n",
        "*   Positive integer value used to set buffer size from file.\n",
        "*   In text mode, buffer size should be 1 or more than 1.\n",
        "*   In binary mode, buffer size can be 0.\n",
        "*   Default size = 4096-8192 bytes.\n",
        "\n",
        "\n",
        "When you open a file without the buffering parameter, and write some stuff to it, you will see the data is written only after the with open(...) as foo: block is exited (or when the file's close() method is called), or when some system-determined default buffer size is reached. But if you set the buffering parameter, it will write the data as soon as that size of the buffer is reached.\n",
        "\n",
        "Thus using i.e. open('file.txt', 'w', buffering=1) is a useful thing to do when you have a long-running application, and you are sending some data to a file, and you want it to save after each line, and not only after the application quits. Otherwise a crash, or a power outage, etc. could cause the data to be lost.\n",
        "\\  \n",
        "\n",
        "\n",
        "\n",
        "\n",
        "\n",
        "improving read and write operations.**"
      ],
      "metadata": {
        "id": "qAhTZM2DSzvK"
      }
    },
    {
      "cell_type": "markdown",
      "source": [
        " **7. Describe the steps involved in implementing buffered file handling in a programming language of your\n",
        "choice.**"
      ],
      "metadata": {
        "id": "-XsjoB34Z_Y4"
      }
    },
    {
      "cell_type": "code",
      "source": [
        "# define a function\n",
        "def write_large_data_to_file(file_path, buffer_size, data):\n",
        "   with open(file_path, 'w', buffering=buffer_size) as file:\n",
        "      file.write(data)\n",
        "\n",
        "# Example usage\n",
        "file_path = 'large_output_file.txt'\n",
        "buffer_size = 8192\n",
        "data_to_write = \"This is a large amount of data that needs to be written to the file.\"\n",
        "write_large_data_to_file(file_path, buffer_size, data_to_write)"
      ],
      "metadata": {
        "id": "hebic_CBSyfY"
      },
      "execution_count": null,
      "outputs": []
    },
    {
      "cell_type": "markdown",
      "source": [
        "**8. Write a Python function to read a text file using buffered reading and return its contents.**"
      ],
      "metadata": {
        "id": "4Rob8F52bhAY"
      }
    },
    {
      "cell_type": "code",
      "source": [
        "def write_large_data_to_file(file_path, buffer_size, data):\n",
        "   with open(file_path, 'w', buffering=buffer_size) as file:\n",
        "      file.write(data)\n",
        "\n",
        "# Example usage\n",
        "file_path = 'large_output_file_1.txt'\n",
        "buffer_size = 8192\n",
        "data_to_write = \"This is a large amount of data that needs to be written to the file.\"\n",
        "write_large_data_to_file(file_path, buffer_size, data_to_write)"
      ],
      "metadata": {
        "id": "az3pi90Jba76"
      },
      "execution_count": null,
      "outputs": []
    },
    {
      "cell_type": "markdown",
      "source": [
        "**9. What are the advantages of using buffered reading over direct file reading in Python?**\n",
        "\n",
        "Ans.  \n",
        "Python allows developers to fine-tune file I/O operations to meet their unique needs by allowing them to define the buffer size when opening a file. We can optimize memory utilization, boost speed, and handle massive datasets more effectively by managing the buffer size. The buffering parameter and the open() method in Python provide you the freedom to customize the buffering behavior for both read and write operations."
      ],
      "metadata": {
        "id": "2aplpe7Oc0sW"
      }
    },
    {
      "cell_type": "markdown",
      "source": [
        "**10. Write a Python code snippet to append content to a file using buffered writing.**"
      ],
      "metadata": {
        "id": "yTeTT1VNexyq"
      }
    },
    {
      "cell_type": "code",
      "source": [
        "file_path = 'large_output_file_2.txt'\n",
        "buffer_size = 8192\n",
        "data_to_write = \"With append method , This is a large amount of data that needs to be written to the file.\"\n",
        "\n",
        "with open(file_path, 'a', buffering=buffer_size) as file:\n",
        "    file.write(data_to_write)\n",
        "\n"
      ],
      "metadata": {
        "id": "9ViF79TXb2mJ"
      },
      "execution_count": null,
      "outputs": []
    },
    {
      "cell_type": "markdown",
      "source": [
        "**11. Write a Python function that demonstrates the use of close() method on a file.**"
      ],
      "metadata": {
        "id": "NpJ0JPCCgEyz"
      }
    },
    {
      "cell_type": "code",
      "source": [
        "def new_file(file_path, buffer_size, data):\n",
        "   with open(file_path, 'w', buffering=buffer_size) as file:\n",
        "      file.write(data)\n",
        "      file.close()\n",
        "\n",
        "file_path = 'large_output_file_3.txt'\n",
        "buffer_size = 8192\n",
        "data_to_write = \"This is a large amount of data that needs to be written to the file. It demonstrates the use of close() method on a file.\"\n",
        "new_file(file_path, buffer_size, data_to_write)\n",
        "\n",
        "\n"
      ],
      "metadata": {
        "id": "xmpBRdQ-ftdP"
      },
      "execution_count": null,
      "outputs": []
    },
    {
      "cell_type": "markdown",
      "source": [
        "**12. Create a Python function to showcase the detach() method on a file object.**"
      ],
      "metadata": {
        "id": "2qnzMbcvhaBO"
      }
    },
    {
      "cell_type": "code",
      "source": [
        "# detach()\n",
        "\n",
        "# The detach() function in Python is a method used to disconnect a file from its associated file descriptor.\n",
        "# This method is commonly used to disassociate a file from a stream object, which can be useful when working with files in Python.\n",
        "\n",
        "\n",
        "f = open('large_output_file_3.txt', 'r')\n",
        "raw_stream = f.detach()\n",
        "print(raw_stream.read(5))\n",
        "\n"
      ],
      "metadata": {
        "colab": {
          "base_uri": "https://localhost:8080/"
        },
        "id": "RmmpGdzYhHcf",
        "outputId": "648cb57e-6772-48cc-9e6a-ff23b22e0e11"
      },
      "execution_count": null,
      "outputs": [
        {
          "output_type": "stream",
          "name": "stdout",
          "text": [
            "b'This '\n"
          ]
        }
      ]
    },
    {
      "cell_type": "markdown",
      "source": [
        "**13. Write a Python function to demonstrate the use of the seek() method to change the file position.**"
      ],
      "metadata": {
        "id": "09xzskALigQ1"
      }
    },
    {
      "cell_type": "code",
      "source": [
        "\n",
        "# Opening \"large_output_file_3.txt\" text file\n",
        "f = open(\"large_output_file_3.txt\", \"r\")\n",
        "\n",
        "# Second parameter is by default 0\n",
        "# sets Reference point to twentieth\n",
        "# index position from the beginning\n",
        "f.seek(20)\n",
        "\n",
        "# prints current position\n",
        "print(f.tell())\n",
        "\n",
        "print(f.readline())\n",
        "f.close()"
      ],
      "metadata": {
        "colab": {
          "base_uri": "https://localhost:8080/"
        },
        "id": "dKnS5FeNiUB4",
        "outputId": "c9bdf9f6-027a-43a3-98cc-30fc5be5ca58"
      },
      "execution_count": null,
      "outputs": [
        {
          "output_type": "stream",
          "name": "stdout",
          "text": [
            "20\n",
            "nt of data that needs to be written to the file. It demonstrates the use of close() method on a file.\n"
          ]
        }
      ]
    },
    {
      "cell_type": "code",
      "source": [],
      "metadata": {
        "id": "3LM2DE12j8mv"
      },
      "execution_count": null,
      "outputs": []
    },
    {
      "cell_type": "markdown",
      "source": [
        " **14. Create a Python function to return the file descriptor (integer number) of a file using the fileno() method.**"
      ],
      "metadata": {
        "id": "vkFefAy9jHFr"
      }
    },
    {
      "cell_type": "code",
      "source": [
        "# The fileno() method returns the file descriptor of the stream, as a number.\n",
        "\n",
        "# An error will occur if the operator system does not use a file descriptor.\n",
        "\n",
        "\n",
        "f = open(\"large_output_file_3.txt\", \"r\")\n",
        "print(f.fileno())"
      ],
      "metadata": {
        "colab": {
          "base_uri": "https://localhost:8080/"
        },
        "id": "0lYIgyuvjEMA",
        "outputId": "875b93c4-2020-4bf2-819b-5414d51b3ba6"
      },
      "execution_count": null,
      "outputs": [
        {
          "output_type": "stream",
          "name": "stdout",
          "text": [
            "43\n"
          ]
        }
      ]
    },
    {
      "cell_type": "markdown",
      "source": [
        "**15. Write a Python function to return the current position of the file's object using the tell() method.**"
      ],
      "metadata": {
        "id": "CDkQKnIkjr0x"
      }
    },
    {
      "cell_type": "code",
      "source": [
        "\n",
        "# Opening \"large_output_file_3.txt\" text file\n",
        "f = open(\"large_output_file_3.txt\", \"r\")\n",
        "\n",
        "# prints current position\n",
        "print(f.tell())\n",
        "\n",
        "\n",
        "f.close()"
      ],
      "metadata": {
        "colab": {
          "base_uri": "https://localhost:8080/"
        },
        "id": "xgOfDhchjpyI",
        "outputId": "a52a5aab-179d-4be2-b8e7-a0024aa4d499"
      },
      "execution_count": null,
      "outputs": [
        {
          "output_type": "stream",
          "name": "stdout",
          "text": [
            "0\n"
          ]
        }
      ]
    },
    {
      "cell_type": "markdown",
      "source": [
        "**16. Create a Python program that logs a message to a file using the logging module.**"
      ],
      "metadata": {
        "id": "0_dUn1ljkKrC"
      }
    },
    {
      "cell_type": "code",
      "source": [
        "\n",
        "# importing module\n",
        "import logging\n",
        "\n",
        "# Create and configure logger\n",
        "logging.basicConfig(filename=\"newfile.log\",\n",
        "                    format='%(asctime)s %(message)s',\n",
        "                    filemode='w')\n",
        "\n",
        "# Creating an object\n",
        "logger = logging.getLogger()\n",
        "\n",
        "# Setting the threshold of logger to DEBUG\n",
        "logger.setLevel(logging.DEBUG)\n",
        "\n",
        "# Test messages\n",
        "logger.debug(\"Harmless debug Message\")\n",
        "logger.info(\"Just an information\")\n",
        "logger.warning(\"Its a Warning\")\n",
        "logger.error(\"Did you try to divide by zero\")\n",
        "logger.critical(\"Internet is down\")\n"
      ],
      "metadata": {
        "colab": {
          "base_uri": "https://localhost:8080/"
        },
        "id": "kICDchABkEle",
        "outputId": "898eb813-fddc-41f0-8f7a-8d897b8e5710"
      },
      "execution_count": null,
      "outputs": [
        {
          "output_type": "stream",
          "name": "stderr",
          "text": [
            "DEBUG:root:Harmless debug Message\n",
            "INFO:root:Just an information\n",
            "WARNING:root:Its a Warning\n",
            "ERROR:root:Did you try to divide by zero\n",
            "CRITICAL:root:Internet is down\n"
          ]
        }
      ]
    },
    {
      "cell_type": "markdown",
      "source": [
        "**17. Explain the importance of logging levels in Python's logging module.**\n",
        "\n",
        "Ans.  Logging is a means of tracking events that happen when some software runs. Logging is important for software developing, debugging, and running. If you don’t have any logging record and your program crashes, there are very few chances that you detect the cause of the problem. And if you detect the cause, it will consume a lot of time. With logging, you can leave a trail of breadcrumbs so that if something goes wrong, we can determine the cause of the problem."
      ],
      "metadata": {
        "id": "oCGxUYPzk0pg"
      }
    },
    {
      "cell_type": "markdown",
      "source": [
        " **18. Create a Python program that uses the debugger to find the value of a variable inside a loop.**\n"
      ],
      "metadata": {
        "id": "LCEDtveplEPQ"
      }
    },
    {
      "cell_type": "code",
      "source": [
        "import pdb\n",
        "\n",
        "# Define a function to calculate the sum of a list of numbers\n",
        "def main():\n",
        "    # Define a list of numbers\n",
        "    numbers = [1, 2, 3, 4, 5]\n",
        "\n",
        "    # Initialize a variable to store the sum\n",
        "    total = 0\n",
        "\n",
        "    # Iterate over the numbers list and compute the sum\n",
        "    for num in numbers:\n",
        "        pdb.set_trace()  # Set a breakpoint here to enter debugger\n",
        "        total += num\n",
        "\n",
        "    # Print the final total\n",
        "    print(\"The sum is:\", total)\n",
        "\n",
        "if __name__ == \"__main__\":\n",
        "    main()\n",
        "\n"
      ],
      "metadata": {
        "id": "dBB04joXy4mX",
        "colab": {
          "base_uri": "https://localhost:8080/"
        },
        "outputId": "a5874e24-b89c-4f1f-9212-9371df50549b"
      },
      "execution_count": null,
      "outputs": [
        {
          "output_type": "stream",
          "name": "stderr",
          "text": [
            "\n",
            "PYDEV DEBUGGER WARNING:\n",
            "sys.settrace() should not be used when the debugger is being used.\n",
            "This may cause the debugger to stop working correctly.\n",
            "If this is needed, please check: \n",
            "http://pydev.blogspot.com/2007/06/why-cant-pydev-debugger-work-with.html\n",
            "to see how to restore the debug tracing back correctly.\n",
            "Call Location:\n",
            "  File \"/usr/lib/python3.10/bdb.py\", line 336, in set_trace\n",
            "    sys.settrace(self.trace_dispatch)\n",
            "\n"
          ]
        },
        {
          "name": "stdout",
          "output_type": "stream",
          "text": [
            "> \u001b[0;32m<ipython-input-1-1a09d8b61ec1>\u001b[0m(14)\u001b[0;36mmain\u001b[0;34m()\u001b[0m\n",
            "\u001b[0;32m     12 \u001b[0;31m    \u001b[0;32mfor\u001b[0m \u001b[0mnum\u001b[0m \u001b[0;32min\u001b[0m \u001b[0mnumbers\u001b[0m\u001b[0;34m:\u001b[0m\u001b[0;34m\u001b[0m\u001b[0;34m\u001b[0m\u001b[0m\n",
            "\u001b[0m\u001b[0;32m     13 \u001b[0;31m        \u001b[0mpdb\u001b[0m\u001b[0;34m.\u001b[0m\u001b[0mset_trace\u001b[0m\u001b[0;34m(\u001b[0m\u001b[0;34m)\u001b[0m  \u001b[0;31m# Set a breakpoint here to enter debugger\u001b[0m\u001b[0;34m\u001b[0m\u001b[0;34m\u001b[0m\u001b[0m\n",
            "\u001b[0m\u001b[0;32m---> 14 \u001b[0;31m        \u001b[0mtotal\u001b[0m \u001b[0;34m+=\u001b[0m \u001b[0mnum\u001b[0m\u001b[0;34m\u001b[0m\u001b[0;34m\u001b[0m\u001b[0m\n",
            "\u001b[0m\u001b[0;32m     15 \u001b[0;31m\u001b[0;34m\u001b[0m\u001b[0m\n",
            "\u001b[0m\u001b[0;32m     16 \u001b[0;31m    \u001b[0;31m# Print the final total\u001b[0m\u001b[0;34m\u001b[0m\u001b[0;34m\u001b[0m\u001b[0m\n",
            "\u001b[0m\n",
            "ipdb> n\n",
            "> \u001b[0;32m<ipython-input-1-1a09d8b61ec1>\u001b[0m(12)\u001b[0;36mmain\u001b[0;34m()\u001b[0m\n",
            "\u001b[0;32m     10 \u001b[0;31m\u001b[0;34m\u001b[0m\u001b[0m\n",
            "\u001b[0m\u001b[0;32m     11 \u001b[0;31m    \u001b[0;31m# Iterate over the numbers list and compute the sum\u001b[0m\u001b[0;34m\u001b[0m\u001b[0;34m\u001b[0m\u001b[0m\n",
            "\u001b[0m\u001b[0;32m---> 12 \u001b[0;31m    \u001b[0;32mfor\u001b[0m \u001b[0mnum\u001b[0m \u001b[0;32min\u001b[0m \u001b[0mnumbers\u001b[0m\u001b[0;34m:\u001b[0m\u001b[0;34m\u001b[0m\u001b[0;34m\u001b[0m\u001b[0m\n",
            "\u001b[0m\u001b[0;32m     13 \u001b[0;31m        \u001b[0mpdb\u001b[0m\u001b[0;34m.\u001b[0m\u001b[0mset_trace\u001b[0m\u001b[0;34m(\u001b[0m\u001b[0;34m)\u001b[0m  \u001b[0;31m# Set a breakpoint here to enter debugger\u001b[0m\u001b[0;34m\u001b[0m\u001b[0;34m\u001b[0m\u001b[0m\n",
            "\u001b[0m\u001b[0;32m     14 \u001b[0;31m        \u001b[0mtotal\u001b[0m \u001b[0;34m+=\u001b[0m \u001b[0mnum\u001b[0m\u001b[0;34m\u001b[0m\u001b[0;34m\u001b[0m\u001b[0m\n",
            "\u001b[0m\n",
            "ipdb> p num\n",
            "1\n",
            "ipdb> c\n"
          ]
        },
        {
          "output_type": "stream",
          "name": "stderr",
          "text": [
            "\n",
            "PYDEV DEBUGGER WARNING:\n",
            "sys.settrace() should not be used when the debugger is being used.\n",
            "This may cause the debugger to stop working correctly.\n",
            "If this is needed, please check: \n",
            "http://pydev.blogspot.com/2007/06/why-cant-pydev-debugger-work-with.html\n",
            "to see how to restore the debug tracing back correctly.\n",
            "Call Location:\n",
            "  File \"/usr/lib/python3.10/bdb.py\", line 347, in set_continue\n",
            "    sys.settrace(None)\n",
            "\n"
          ]
        },
        {
          "output_type": "stream",
          "name": "stdout",
          "text": [
            "> \u001b[0;32m<ipython-input-1-1a09d8b61ec1>\u001b[0m(14)\u001b[0;36mmain\u001b[0;34m()\u001b[0m\n",
            "\u001b[0;32m     12 \u001b[0;31m    \u001b[0;32mfor\u001b[0m \u001b[0mnum\u001b[0m \u001b[0;32min\u001b[0m \u001b[0mnumbers\u001b[0m\u001b[0;34m:\u001b[0m\u001b[0;34m\u001b[0m\u001b[0;34m\u001b[0m\u001b[0m\n",
            "\u001b[0m\u001b[0;32m     13 \u001b[0;31m        \u001b[0mpdb\u001b[0m\u001b[0;34m.\u001b[0m\u001b[0mset_trace\u001b[0m\u001b[0;34m(\u001b[0m\u001b[0;34m)\u001b[0m  \u001b[0;31m# Set a breakpoint here to enter debugger\u001b[0m\u001b[0;34m\u001b[0m\u001b[0;34m\u001b[0m\u001b[0m\n",
            "\u001b[0m\u001b[0;32m---> 14 \u001b[0;31m        \u001b[0mtotal\u001b[0m \u001b[0;34m+=\u001b[0m \u001b[0mnum\u001b[0m\u001b[0;34m\u001b[0m\u001b[0;34m\u001b[0m\u001b[0m\n",
            "\u001b[0m\u001b[0;32m     15 \u001b[0;31m\u001b[0;34m\u001b[0m\u001b[0m\n",
            "\u001b[0m\u001b[0;32m     16 \u001b[0;31m    \u001b[0;31m# Print the final total\u001b[0m\u001b[0;34m\u001b[0m\u001b[0;34m\u001b[0m\u001b[0m\n",
            "\u001b[0m\n",
            "ipdb> c\n",
            "> \u001b[0;32m<ipython-input-1-1a09d8b61ec1>\u001b[0m(14)\u001b[0;36mmain\u001b[0;34m()\u001b[0m\n",
            "\u001b[0;32m     12 \u001b[0;31m    \u001b[0;32mfor\u001b[0m \u001b[0mnum\u001b[0m \u001b[0;32min\u001b[0m \u001b[0mnumbers\u001b[0m\u001b[0;34m:\u001b[0m\u001b[0;34m\u001b[0m\u001b[0;34m\u001b[0m\u001b[0m\n",
            "\u001b[0m\u001b[0;32m     13 \u001b[0;31m        \u001b[0mpdb\u001b[0m\u001b[0;34m.\u001b[0m\u001b[0mset_trace\u001b[0m\u001b[0;34m(\u001b[0m\u001b[0;34m)\u001b[0m  \u001b[0;31m# Set a breakpoint here to enter debugger\u001b[0m\u001b[0;34m\u001b[0m\u001b[0;34m\u001b[0m\u001b[0m\n",
            "\u001b[0m\u001b[0;32m---> 14 \u001b[0;31m        \u001b[0mtotal\u001b[0m \u001b[0;34m+=\u001b[0m \u001b[0mnum\u001b[0m\u001b[0;34m\u001b[0m\u001b[0;34m\u001b[0m\u001b[0m\n",
            "\u001b[0m\u001b[0;32m     15 \u001b[0;31m\u001b[0;34m\u001b[0m\u001b[0m\n",
            "\u001b[0m\u001b[0;32m     16 \u001b[0;31m    \u001b[0;31m# Print the final total\u001b[0m\u001b[0;34m\u001b[0m\u001b[0;34m\u001b[0m\u001b[0m\n",
            "\u001b[0m\n",
            "ipdb> c\n",
            "> \u001b[0;32m<ipython-input-1-1a09d8b61ec1>\u001b[0m(14)\u001b[0;36mmain\u001b[0;34m()\u001b[0m\n",
            "\u001b[0;32m     12 \u001b[0;31m    \u001b[0;32mfor\u001b[0m \u001b[0mnum\u001b[0m \u001b[0;32min\u001b[0m \u001b[0mnumbers\u001b[0m\u001b[0;34m:\u001b[0m\u001b[0;34m\u001b[0m\u001b[0;34m\u001b[0m\u001b[0m\n",
            "\u001b[0m\u001b[0;32m     13 \u001b[0;31m        \u001b[0mpdb\u001b[0m\u001b[0;34m.\u001b[0m\u001b[0mset_trace\u001b[0m\u001b[0;34m(\u001b[0m\u001b[0;34m)\u001b[0m  \u001b[0;31m# Set a breakpoint here to enter debugger\u001b[0m\u001b[0;34m\u001b[0m\u001b[0;34m\u001b[0m\u001b[0m\n",
            "\u001b[0m\u001b[0;32m---> 14 \u001b[0;31m        \u001b[0mtotal\u001b[0m \u001b[0;34m+=\u001b[0m \u001b[0mnum\u001b[0m\u001b[0;34m\u001b[0m\u001b[0;34m\u001b[0m\u001b[0m\n",
            "\u001b[0m\u001b[0;32m     15 \u001b[0;31m\u001b[0;34m\u001b[0m\u001b[0m\n",
            "\u001b[0m\u001b[0;32m     16 \u001b[0;31m    \u001b[0;31m# Print the final total\u001b[0m\u001b[0;34m\u001b[0m\u001b[0;34m\u001b[0m\u001b[0m\n",
            "\u001b[0m\n",
            "ipdb> c\n",
            "> \u001b[0;32m<ipython-input-1-1a09d8b61ec1>\u001b[0m(14)\u001b[0;36mmain\u001b[0;34m()\u001b[0m\n",
            "\u001b[0;32m     12 \u001b[0;31m    \u001b[0;32mfor\u001b[0m \u001b[0mnum\u001b[0m \u001b[0;32min\u001b[0m \u001b[0mnumbers\u001b[0m\u001b[0;34m:\u001b[0m\u001b[0;34m\u001b[0m\u001b[0;34m\u001b[0m\u001b[0m\n",
            "\u001b[0m\u001b[0;32m     13 \u001b[0;31m        \u001b[0mpdb\u001b[0m\u001b[0;34m.\u001b[0m\u001b[0mset_trace\u001b[0m\u001b[0;34m(\u001b[0m\u001b[0;34m)\u001b[0m  \u001b[0;31m# Set a breakpoint here to enter debugger\u001b[0m\u001b[0;34m\u001b[0m\u001b[0;34m\u001b[0m\u001b[0m\n",
            "\u001b[0m\u001b[0;32m---> 14 \u001b[0;31m        \u001b[0mtotal\u001b[0m \u001b[0;34m+=\u001b[0m \u001b[0mnum\u001b[0m\u001b[0;34m\u001b[0m\u001b[0;34m\u001b[0m\u001b[0m\n",
            "\u001b[0m\u001b[0;32m     15 \u001b[0;31m\u001b[0;34m\u001b[0m\u001b[0m\n",
            "\u001b[0m\u001b[0;32m     16 \u001b[0;31m    \u001b[0;31m# Print the final total\u001b[0m\u001b[0;34m\u001b[0m\u001b[0;34m\u001b[0m\u001b[0m\n",
            "\u001b[0m\n",
            "ipdb> c\n",
            "The sum is: 15\n"
          ]
        }
      ]
    },
    {
      "cell_type": "markdown",
      "source": [
        "**19. Create a Python program that demonstrates setting breakpoints and inspecting variables using the debugger.**"
      ],
      "metadata": {
        "id": "P6bHLhPBOhYY"
      }
    },
    {
      "cell_type": "code",
      "source": [
        "def factorial(n):\n",
        "    pdb.set_trace()  # Set a breakpoint here to enter debugger\n",
        "    if n == 0:\n",
        "        return 1\n",
        "    else:\n",
        "        return n * factorial(n - 1)\n",
        "\n",
        "def main():\n",
        "    number = 5\n",
        "    print(f\"Calculating factorial of {number}\")\n",
        "    result = factorial(number)\n",
        "    print(f\"The factorial of {number} is {result}\")\n",
        "\n",
        "if __name__ == \"__main__\":\n",
        "    main()"
      ],
      "metadata": {
        "colab": {
          "base_uri": "https://localhost:8080/"
        },
        "id": "mhHz6U4AEWqE",
        "outputId": "3c51deb6-8314-4767-84e5-5fa30c65fe59"
      },
      "execution_count": null,
      "outputs": [
        {
          "output_type": "stream",
          "name": "stdout",
          "text": [
            "Calculating factorial of 5\n",
            "> \u001b[0;32m<ipython-input-2-2b2b9f979dc1>\u001b[0m(3)\u001b[0;36mfactorial\u001b[0;34m()\u001b[0m\n",
            "\u001b[0;32m      1 \u001b[0;31m\u001b[0;32mdef\u001b[0m \u001b[0mfactorial\u001b[0m\u001b[0;34m(\u001b[0m\u001b[0mn\u001b[0m\u001b[0;34m)\u001b[0m\u001b[0;34m:\u001b[0m\u001b[0;34m\u001b[0m\u001b[0;34m\u001b[0m\u001b[0m\n",
            "\u001b[0m\u001b[0;32m      2 \u001b[0;31m    \u001b[0mpdb\u001b[0m\u001b[0;34m.\u001b[0m\u001b[0mset_trace\u001b[0m\u001b[0;34m(\u001b[0m\u001b[0;34m)\u001b[0m  \u001b[0;31m# Set a breakpoint here to enter debugger\u001b[0m\u001b[0;34m\u001b[0m\u001b[0;34m\u001b[0m\u001b[0m\n",
            "\u001b[0m\u001b[0;32m----> 3 \u001b[0;31m    \u001b[0;32mif\u001b[0m \u001b[0mn\u001b[0m \u001b[0;34m==\u001b[0m \u001b[0;36m0\u001b[0m\u001b[0;34m:\u001b[0m\u001b[0;34m\u001b[0m\u001b[0;34m\u001b[0m\u001b[0m\n",
            "\u001b[0m\u001b[0;32m      4 \u001b[0;31m        \u001b[0;32mreturn\u001b[0m \u001b[0;36m1\u001b[0m\u001b[0;34m\u001b[0m\u001b[0;34m\u001b[0m\u001b[0m\n",
            "\u001b[0m\u001b[0;32m      5 \u001b[0;31m    \u001b[0;32melse\u001b[0m\u001b[0;34m:\u001b[0m\u001b[0;34m\u001b[0m\u001b[0;34m\u001b[0m\u001b[0m\n",
            "\u001b[0m\n",
            "ipdb> n\n",
            "> \u001b[0;32m<ipython-input-2-2b2b9f979dc1>\u001b[0m(6)\u001b[0;36mfactorial\u001b[0;34m()\u001b[0m\n",
            "\u001b[0;32m      4 \u001b[0;31m        \u001b[0;32mreturn\u001b[0m \u001b[0;36m1\u001b[0m\u001b[0;34m\u001b[0m\u001b[0;34m\u001b[0m\u001b[0m\n",
            "\u001b[0m\u001b[0;32m      5 \u001b[0;31m    \u001b[0;32melse\u001b[0m\u001b[0;34m:\u001b[0m\u001b[0;34m\u001b[0m\u001b[0;34m\u001b[0m\u001b[0m\n",
            "\u001b[0m\u001b[0;32m----> 6 \u001b[0;31m        \u001b[0;32mreturn\u001b[0m \u001b[0mn\u001b[0m \u001b[0;34m*\u001b[0m \u001b[0mfactorial\u001b[0m\u001b[0;34m(\u001b[0m\u001b[0mn\u001b[0m \u001b[0;34m-\u001b[0m \u001b[0;36m1\u001b[0m\u001b[0;34m)\u001b[0m\u001b[0;34m\u001b[0m\u001b[0;34m\u001b[0m\u001b[0m\n",
            "\u001b[0m\u001b[0;32m      7 \u001b[0;31m\u001b[0;34m\u001b[0m\u001b[0m\n",
            "\u001b[0m\u001b[0;32m      8 \u001b[0;31m\u001b[0;32mdef\u001b[0m \u001b[0mmain\u001b[0m\u001b[0;34m(\u001b[0m\u001b[0;34m)\u001b[0m\u001b[0;34m:\u001b[0m\u001b[0;34m\u001b[0m\u001b[0;34m\u001b[0m\u001b[0m\n",
            "\u001b[0m\n",
            "ipdb> p n\n",
            "5\n",
            "ipdb> n\n",
            "> \u001b[0;32m<ipython-input-2-2b2b9f979dc1>\u001b[0m(3)\u001b[0;36mfactorial\u001b[0;34m()\u001b[0m\n",
            "\u001b[0;32m      1 \u001b[0;31m\u001b[0;32mdef\u001b[0m \u001b[0mfactorial\u001b[0m\u001b[0;34m(\u001b[0m\u001b[0mn\u001b[0m\u001b[0;34m)\u001b[0m\u001b[0;34m:\u001b[0m\u001b[0;34m\u001b[0m\u001b[0;34m\u001b[0m\u001b[0m\n",
            "\u001b[0m\u001b[0;32m      2 \u001b[0;31m    \u001b[0mpdb\u001b[0m\u001b[0;34m.\u001b[0m\u001b[0mset_trace\u001b[0m\u001b[0;34m(\u001b[0m\u001b[0;34m)\u001b[0m  \u001b[0;31m# Set a breakpoint here to enter debugger\u001b[0m\u001b[0;34m\u001b[0m\u001b[0;34m\u001b[0m\u001b[0m\n",
            "\u001b[0m\u001b[0;32m----> 3 \u001b[0;31m    \u001b[0;32mif\u001b[0m \u001b[0mn\u001b[0m \u001b[0;34m==\u001b[0m \u001b[0;36m0\u001b[0m\u001b[0;34m:\u001b[0m\u001b[0;34m\u001b[0m\u001b[0;34m\u001b[0m\u001b[0m\n",
            "\u001b[0m\u001b[0;32m      4 \u001b[0;31m        \u001b[0;32mreturn\u001b[0m \u001b[0;36m1\u001b[0m\u001b[0;34m\u001b[0m\u001b[0;34m\u001b[0m\u001b[0m\n",
            "\u001b[0m\u001b[0;32m      5 \u001b[0;31m    \u001b[0;32melse\u001b[0m\u001b[0;34m:\u001b[0m\u001b[0;34m\u001b[0m\u001b[0;34m\u001b[0m\u001b[0m\n",
            "\u001b[0m\n",
            "ipdb> p n\n",
            "4\n",
            "ipdb> c\n",
            "> \u001b[0;32m<ipython-input-2-2b2b9f979dc1>\u001b[0m(3)\u001b[0;36mfactorial\u001b[0;34m()\u001b[0m\n",
            "\u001b[0;32m      1 \u001b[0;31m\u001b[0;32mdef\u001b[0m \u001b[0mfactorial\u001b[0m\u001b[0;34m(\u001b[0m\u001b[0mn\u001b[0m\u001b[0;34m)\u001b[0m\u001b[0;34m:\u001b[0m\u001b[0;34m\u001b[0m\u001b[0;34m\u001b[0m\u001b[0m\n",
            "\u001b[0m\u001b[0;32m      2 \u001b[0;31m    \u001b[0mpdb\u001b[0m\u001b[0;34m.\u001b[0m\u001b[0mset_trace\u001b[0m\u001b[0;34m(\u001b[0m\u001b[0;34m)\u001b[0m  \u001b[0;31m# Set a breakpoint here to enter debugger\u001b[0m\u001b[0;34m\u001b[0m\u001b[0;34m\u001b[0m\u001b[0m\n",
            "\u001b[0m\u001b[0;32m----> 3 \u001b[0;31m    \u001b[0;32mif\u001b[0m \u001b[0mn\u001b[0m \u001b[0;34m==\u001b[0m \u001b[0;36m0\u001b[0m\u001b[0;34m:\u001b[0m\u001b[0;34m\u001b[0m\u001b[0;34m\u001b[0m\u001b[0m\n",
            "\u001b[0m\u001b[0;32m      4 \u001b[0;31m        \u001b[0;32mreturn\u001b[0m \u001b[0;36m1\u001b[0m\u001b[0;34m\u001b[0m\u001b[0;34m\u001b[0m\u001b[0m\n",
            "\u001b[0m\u001b[0;32m      5 \u001b[0;31m    \u001b[0;32melse\u001b[0m\u001b[0;34m:\u001b[0m\u001b[0;34m\u001b[0m\u001b[0;34m\u001b[0m\u001b[0m\n",
            "\u001b[0m\n",
            "ipdb> c\n",
            "> \u001b[0;32m<ipython-input-2-2b2b9f979dc1>\u001b[0m(3)\u001b[0;36mfactorial\u001b[0;34m()\u001b[0m\n",
            "\u001b[0;32m      1 \u001b[0;31m\u001b[0;32mdef\u001b[0m \u001b[0mfactorial\u001b[0m\u001b[0;34m(\u001b[0m\u001b[0mn\u001b[0m\u001b[0;34m)\u001b[0m\u001b[0;34m:\u001b[0m\u001b[0;34m\u001b[0m\u001b[0;34m\u001b[0m\u001b[0m\n",
            "\u001b[0m\u001b[0;32m      2 \u001b[0;31m    \u001b[0mpdb\u001b[0m\u001b[0;34m.\u001b[0m\u001b[0mset_trace\u001b[0m\u001b[0;34m(\u001b[0m\u001b[0;34m)\u001b[0m  \u001b[0;31m# Set a breakpoint here to enter debugger\u001b[0m\u001b[0;34m\u001b[0m\u001b[0;34m\u001b[0m\u001b[0m\n",
            "\u001b[0m\u001b[0;32m----> 3 \u001b[0;31m    \u001b[0;32mif\u001b[0m \u001b[0mn\u001b[0m \u001b[0;34m==\u001b[0m \u001b[0;36m0\u001b[0m\u001b[0;34m:\u001b[0m\u001b[0;34m\u001b[0m\u001b[0;34m\u001b[0m\u001b[0m\n",
            "\u001b[0m\u001b[0;32m      4 \u001b[0;31m        \u001b[0;32mreturn\u001b[0m \u001b[0;36m1\u001b[0m\u001b[0;34m\u001b[0m\u001b[0;34m\u001b[0m\u001b[0m\n",
            "\u001b[0m\u001b[0;32m      5 \u001b[0;31m    \u001b[0;32melse\u001b[0m\u001b[0;34m:\u001b[0m\u001b[0;34m\u001b[0m\u001b[0;34m\u001b[0m\u001b[0m\n",
            "\u001b[0m\n",
            "ipdb> c\n",
            "> \u001b[0;32m<ipython-input-2-2b2b9f979dc1>\u001b[0m(3)\u001b[0;36mfactorial\u001b[0;34m()\u001b[0m\n",
            "\u001b[0;32m      1 \u001b[0;31m\u001b[0;32mdef\u001b[0m \u001b[0mfactorial\u001b[0m\u001b[0;34m(\u001b[0m\u001b[0mn\u001b[0m\u001b[0;34m)\u001b[0m\u001b[0;34m:\u001b[0m\u001b[0;34m\u001b[0m\u001b[0;34m\u001b[0m\u001b[0m\n",
            "\u001b[0m\u001b[0;32m      2 \u001b[0;31m    \u001b[0mpdb\u001b[0m\u001b[0;34m.\u001b[0m\u001b[0mset_trace\u001b[0m\u001b[0;34m(\u001b[0m\u001b[0;34m)\u001b[0m  \u001b[0;31m# Set a breakpoint here to enter debugger\u001b[0m\u001b[0;34m\u001b[0m\u001b[0;34m\u001b[0m\u001b[0m\n",
            "\u001b[0m\u001b[0;32m----> 3 \u001b[0;31m    \u001b[0;32mif\u001b[0m \u001b[0mn\u001b[0m \u001b[0;34m==\u001b[0m \u001b[0;36m0\u001b[0m\u001b[0;34m:\u001b[0m\u001b[0;34m\u001b[0m\u001b[0;34m\u001b[0m\u001b[0m\n",
            "\u001b[0m\u001b[0;32m      4 \u001b[0;31m        \u001b[0;32mreturn\u001b[0m \u001b[0;36m1\u001b[0m\u001b[0;34m\u001b[0m\u001b[0;34m\u001b[0m\u001b[0m\n",
            "\u001b[0m\u001b[0;32m      5 \u001b[0;31m    \u001b[0;32melse\u001b[0m\u001b[0;34m:\u001b[0m\u001b[0;34m\u001b[0m\u001b[0;34m\u001b[0m\u001b[0m\n",
            "\u001b[0m\n",
            "ipdb> c\n",
            "> \u001b[0;32m<ipython-input-2-2b2b9f979dc1>\u001b[0m(3)\u001b[0;36mfactorial\u001b[0;34m()\u001b[0m\n",
            "\u001b[0;32m      1 \u001b[0;31m\u001b[0;32mdef\u001b[0m \u001b[0mfactorial\u001b[0m\u001b[0;34m(\u001b[0m\u001b[0mn\u001b[0m\u001b[0;34m)\u001b[0m\u001b[0;34m:\u001b[0m\u001b[0;34m\u001b[0m\u001b[0;34m\u001b[0m\u001b[0m\n",
            "\u001b[0m\u001b[0;32m      2 \u001b[0;31m    \u001b[0mpdb\u001b[0m\u001b[0;34m.\u001b[0m\u001b[0mset_trace\u001b[0m\u001b[0;34m(\u001b[0m\u001b[0;34m)\u001b[0m  \u001b[0;31m# Set a breakpoint here to enter debugger\u001b[0m\u001b[0;34m\u001b[0m\u001b[0;34m\u001b[0m\u001b[0m\n",
            "\u001b[0m\u001b[0;32m----> 3 \u001b[0;31m    \u001b[0;32mif\u001b[0m \u001b[0mn\u001b[0m \u001b[0;34m==\u001b[0m \u001b[0;36m0\u001b[0m\u001b[0;34m:\u001b[0m\u001b[0;34m\u001b[0m\u001b[0;34m\u001b[0m\u001b[0m\n",
            "\u001b[0m\u001b[0;32m      4 \u001b[0;31m        \u001b[0;32mreturn\u001b[0m \u001b[0;36m1\u001b[0m\u001b[0;34m\u001b[0m\u001b[0;34m\u001b[0m\u001b[0m\n",
            "\u001b[0m\u001b[0;32m      5 \u001b[0;31m    \u001b[0;32melse\u001b[0m\u001b[0;34m:\u001b[0m\u001b[0;34m\u001b[0m\u001b[0;34m\u001b[0m\u001b[0m\n",
            "\u001b[0m\n",
            "ipdb> c\n",
            "The factorial of 5 is 120\n"
          ]
        }
      ]
    },
    {
      "cell_type": "markdown",
      "source": [
        "**20. Create a Python program that uses the debugger to trace a recursive function.**"
      ],
      "metadata": {
        "id": "dUHJwzlvQmAX"
      }
    },
    {
      "cell_type": "code",
      "source": [
        "def fibonacci(n):\n",
        "    pdb.set_trace()  # Set a breakpoint here to enter debugger\n",
        "    if n <= 1:\n",
        "        return n\n",
        "    else:\n",
        "        return fibonacci(n - 1) + fibonacci(n - 2)\n",
        "\n",
        "def main():\n",
        "    number = 6\n",
        "    print(f\"Calculating Fibonacci number at index {number}\")\n",
        "    result = fibonacci(number)\n",
        "    print(f\"The Fibonacci number at index {number} is {result}\")\n",
        "\n",
        "if __name__ == \"__main__\":\n",
        "    main()"
      ],
      "metadata": {
        "id": "hqsDOGo1H1fN"
      },
      "execution_count": null,
      "outputs": []
    },
    {
      "cell_type": "markdown",
      "source": [
        "**21. Write a try-except block to handle a ZeroDivisionError.**"
      ],
      "metadata": {
        "id": "f9zjzwvBH6wi"
      }
    },
    {
      "cell_type": "code",
      "source": [
        "try:\n",
        "    numerator = 10\n",
        "    denominator = 0\n",
        "    result = numerator / denominator\n",
        "    print(f\"Result: {result}\")\n",
        "except ZeroDivisionError as e:\n",
        "    print(f\"Error: {e}. Division by zero is not allowed.\")"
      ],
      "metadata": {
        "id": "ShJCMDNYTPSr",
        "colab": {
          "base_uri": "https://localhost:8080/"
        },
        "outputId": "5735c363-2a41-4b9c-e0c9-416e0cd1ccfd"
      },
      "execution_count": null,
      "outputs": [
        {
          "output_type": "stream",
          "name": "stdout",
          "text": [
            "Error: division by zero. Division by zero is not allowed.\n"
          ]
        }
      ]
    },
    {
      "cell_type": "markdown",
      "source": [
        "**22. How does the else block work with try-except.**\n",
        "\n",
        "Ans.  Using else with try-except can make your code more readable and maintainable by clearly separating normal execution paths from exception handling paths.\n",
        "\n",
        "\n",
        "\n",
        "*   The else block in a try-except structure is optional.\n",
        "*   It executes only if no exceptions were raised in the try block.\n",
        "*   It provides a way to separate the code that should run if the operation is successful (no exceptions) from the code that handles exceptions.\n",
        "\n"
      ],
      "metadata": {
        "id": "VV43wWLzJUw1"
      }
    },
    {
      "cell_type": "markdown",
      "source": [
        "**23. Implement a try-except-else block to open and read a file.**"
      ],
      "metadata": {
        "id": "PyyRXytDKYC_"
      }
    },
    {
      "cell_type": "code",
      "source": [
        "try:\n",
        "    # Attempt to open a file\n",
        "    with open('example.txt', 'r') as f:\n",
        "        content = f.read()\n",
        "except FileNotFoundError:\n",
        "    # Handle file not found error\n",
        "    print(\"Error: File not found.\")\n",
        "except IOError as e:\n",
        "    # Handle other I/O related errors\n",
        "    print(f\"Error: {e}. Failed to read the file.\")\n",
        "else:\n",
        "    # Code to execute if file is successfully opened and read\n",
        "    print(\"File content:\")\n",
        "    print(content)"
      ],
      "metadata": {
        "id": "yvDcN0RByq1p"
      },
      "execution_count": null,
      "outputs": []
    },
    {
      "cell_type": "markdown",
      "source": [
        "**24. What is the purpose of the finally block in exception handling.**\n",
        "\n",
        "Ans. In Python exception handling, the finally block is used to define a piece of code that will be executed irrespective of whether an exception occurred or not in the preceding try block. Here are the main purposes and characteristics of the finally block:"
      ],
      "metadata": {
        "id": "vB9A9OVmKqL3"
      }
    },
    {
      "cell_type": "markdown",
      "source": [
        "**25. Write a try-except-finally block to handle a ValueError.**"
      ],
      "metadata": {
        "id": "LSPcKSRgK6et"
      }
    },
    {
      "cell_type": "code",
      "source": [
        "try:\n",
        "    # Code that may raise a ValueError\n",
        "    num = int(input(\"Enter a number: \"))\n",
        "    result = 10 / num\n",
        "    print(\"Result:\", result)\n",
        "\n",
        "except ValueError:\n",
        "    # Handle the ValueError exception\n",
        "    print(\"Invalid input. Please enter a valid number.\")\n",
        "\n",
        "finally:\n",
        "    # Code that will always execute, regardless of whether an exception was raised or not\n",
        "    print(\"Execution completed.\")"
      ],
      "metadata": {
        "id": "ZLmxPX4AKwmn"
      },
      "execution_count": null,
      "outputs": []
    },
    {
      "cell_type": "markdown",
      "source": [
        "**26. How multiple except blocks work in Python ?**"
      ],
      "metadata": {
        "id": "uxv2s1TVL5-J"
      }
    },
    {
      "cell_type": "code",
      "source": [
        "try:\n",
        "    x = int(input(\"Enter a number: \"))\n",
        "    result = 10 / x\n",
        "    print(\"Result:\", result)\n",
        "\n",
        "except ValueError:\n",
        "    print(\"Invalid input. Please enter a valid integer.\")\n",
        "\n",
        "except ZeroDivisionError:\n",
        "    print(\"Cannot divide by zero.\")\n",
        "\n",
        "except Exception as e:\n",
        "    print(\"An error occurred:\", e)\n",
        "\n",
        "finally:\n",
        "    print(\"Execution completed.\")"
      ],
      "metadata": {
        "colab": {
          "base_uri": "https://localhost:8080/"
        },
        "id": "CE7VuzwzMDEc",
        "outputId": "b856f51e-ebe7-408e-81fd-21e4cc520b54"
      },
      "execution_count": null,
      "outputs": [
        {
          "output_type": "stream",
          "name": "stdout",
          "text": [
            "Enter a number: 5\n",
            "Result: 2.0\n",
            "Execution completed.\n"
          ]
        }
      ]
    },
    {
      "cell_type": "markdown",
      "source": [
        "**27. What is a custom exception in Python ?**"
      ],
      "metadata": {
        "id": "0363uw21NU66"
      }
    },
    {
      "cell_type": "code",
      "source": [
        "# Define a custom exception by inheriting from Exception class\n",
        "class CustomError(Exception):\n",
        "    def __init__(self, message):\n",
        "        self.message = message\n",
        "        super().__init__(self.message)\n",
        "\n",
        "# Example function that raises custom exception\n",
        "def divide_numbers(a, b):\n",
        "    if b == 0:\n",
        "        raise CustomError(\"Division by zero is not allowed.\")\n",
        "    return a / b\n",
        "\n",
        "# Example usage of the function with error handling\n",
        "try:\n",
        "    result = divide_numbers(10, 0)\n",
        "    print(\"Result:\", result)\n",
        "except CustomError as e:\n",
        "    print(\"Custom Error:\", e.message)\n",
        "except Exception as e:\n",
        "    print(\"An unexpected error occurred:\", str(e))"
      ],
      "metadata": {
        "colab": {
          "base_uri": "https://localhost:8080/"
        },
        "id": "7JMWr6QsMiff",
        "outputId": "a60ee84d-4677-4760-c816-9b9db6adbaa4"
      },
      "execution_count": null,
      "outputs": [
        {
          "output_type": "stream",
          "name": "stdout",
          "text": [
            "Custom Error: Division by zero is not allowed.\n"
          ]
        }
      ]
    },
    {
      "cell_type": "markdown",
      "source": [
        "**28. Create a custom exception class with a message.**"
      ],
      "metadata": {
        "id": "qEMo3aPROERf"
      }
    },
    {
      "cell_type": "code",
      "source": [
        "# Define a custom exception by inheriting from Exception class\n",
        "class CustomError(Exception):\n",
        "    def __init__(self, message):\n",
        "        self.message = message\n",
        "        super().__init__(self.message)\n",
        "\n",
        "# Example function that raises custom exception\n",
        "def divide_numbers(a, b):\n",
        "    if b == 0:\n",
        "        raise CustomError(\"Division by zero is not allowed.\")\n",
        "    return a / b\n",
        "\n",
        "# Example usage of the function with error handling\n",
        "try:\n",
        "    result = divide_numbers(10, 0)\n",
        "    print(\"Result:\", result)\n",
        "except CustomError as e:\n",
        "    print(\"Custom Error:\", e.message)\n",
        "except Exception as e:\n",
        "    print(\"An unexpected error occurred:\", str(e))"
      ],
      "metadata": {
        "colab": {
          "base_uri": "https://localhost:8080/"
        },
        "id": "h5mZ1j24OA6n",
        "outputId": "de7b9ccb-9d55-48a3-bfae-a93dda9eefd5"
      },
      "execution_count": null,
      "outputs": [
        {
          "output_type": "stream",
          "name": "stdout",
          "text": [
            "Custom Error: Division by zero is not allowed.\n"
          ]
        }
      ]
    },
    {
      "cell_type": "markdown",
      "source": [
        "**29. Write a code to raise a custom exception in Python.**"
      ],
      "metadata": {
        "id": "qgVLNewJbyAX"
      }
    },
    {
      "cell_type": "code",
      "source": [
        "# Define the custom exception class\n",
        "class CustomError(Exception):\n",
        "    \"\"\"A custom exception for specific error conditions.\"\"\"\n",
        "    def __init__(self, message=\"Something went wrong\"):\n",
        "        self.message = message\n",
        "        super().__init__(self.message)\n",
        "\n",
        "# Function that raises the custom exception\n",
        "def some_function(value):\n",
        "    if value < 0:\n",
        "        raise CustomError(\"Negative values are not allowed\")\n",
        "    # Rest of the function logic\n",
        "    print(f\"Value is {value}\")\n",
        "\n",
        "# Example usage\n",
        "try:\n",
        "    some_function(-10)\n",
        "except CustomError as e:\n",
        "    print(f\"Caught an exception: {e}\")\n"
      ],
      "metadata": {
        "colab": {
          "base_uri": "https://localhost:8080/"
        },
        "id": "neugvJ1occwH",
        "outputId": "f49aa112-a9f1-4730-8d92-9d9d12768b03"
      },
      "execution_count": 2,
      "outputs": [
        {
          "output_type": "stream",
          "name": "stdout",
          "text": [
            "Caught an exception: Negative values are not allowed\n"
          ]
        }
      ]
    },
    {
      "cell_type": "markdown",
      "source": [
        "**30. Write a function that raises a custom exception when a value is negative.**"
      ],
      "metadata": {
        "id": "LmOyKb6NciGq"
      }
    },
    {
      "cell_type": "code",
      "source": [
        "# Define the custom exception class\n",
        "class NegativeValueError(Exception):\n",
        "    \"\"\"Exception raised for negative values.\"\"\"\n",
        "    def __init__(self, message=\"Negative value provided\"):\n",
        "        self.message = message\n",
        "        super().__init__(self.message)\n",
        "\n",
        "# Define the function that raises the custom exception\n",
        "def check_value(value):\n",
        "    \"\"\"Checks if the provided value is negative and raises a custom exception if it is.\"\"\"\n",
        "    if value < 0:\n",
        "        raise NegativeValueError(f\"Error: The value {value} is negative.\")\n",
        "    return f\"The value {value} is non-negative.\"\n",
        "\n",
        "# Example usage\n",
        "try:\n",
        "    # Test with a negative value\n",
        "    result = check_value(-5)\n",
        "except NegativeValueError as e:\n",
        "    print(f\"Caught an exception: {e}\")\n",
        "\n",
        "try:\n",
        "    # Test with a non-negative value\n",
        "    result = check_value(10)\n",
        "    print(result)\n",
        "except NegativeValueError as e:\n",
        "    print(f\"Caught an exception: {e}\")"
      ],
      "metadata": {
        "colab": {
          "base_uri": "https://localhost:8080/"
        },
        "id": "qewknO3XceEh",
        "outputId": "9492a427-4250-4490-95ee-ed95ae99dfbb"
      },
      "execution_count": 3,
      "outputs": [
        {
          "output_type": "stream",
          "name": "stdout",
          "text": [
            "Caught an exception: Error: The value -5 is negative.\n",
            "The value 10 is non-negative.\n"
          ]
        }
      ]
    },
    {
      "cell_type": "markdown",
      "source": [
        "**31. What is the role of try, except, else, and finally in handling exceptions?**\n",
        "\n",
        "**Ans.**\n",
        "\n",
        "\n",
        "*   1. try Block\n",
        "\n",
        "Role: The try block is used to enclose the code that might raise an exception. This is the code you want to monitor for errors.\n",
        "\n",
        "*   2. except Block\n",
        "\n",
        "Role: The except block is used to handle exceptions that were raised in the try block. You can catch specific exceptions or use a general catch-all.\n",
        "\n",
        "\n",
        "*   3. else Block\n",
        "\n",
        "Role: The else block executes if no exceptions are raised in the try block. It's optional and used to run code that should only execute when no exceptions occur.\n"
      ],
      "metadata": {
        "id": "BlcrE12kc4Wx"
      }
    },
    {
      "cell_type": "markdown",
      "source": [
        "**32. How can custom exceptions improve code readability and maintainability?**\n",
        "\n",
        "\n",
        "**Ans.**\n",
        "\n",
        "Custom exceptions in Python are a powerful feature that can significantly improve code readability and maintainability. By designing and implementing your own exceptions, you can make your code clearer, more descriptive, and easier to manage."
      ],
      "metadata": {
        "id": "AA3oCd5idH6T"
      }
    },
    {
      "cell_type": "markdown",
      "source": [
        "**33. What is multithreading?**\n",
        "\n",
        "**Ans**: Multithreading is defined as the ability of a processor to execute multiple threads concurrently. In a simple, single-core CPU, it is achieved using frequent switching between threads. This is termed context switching. In context switching, the state of a thread is saved and the state of another thread is loaded whenever any interrupt (due to I/O or manually set) takes place. Context switching takes place so frequently that all the threads appear to be running parallelly."
      ],
      "metadata": {
        "id": "3D0TLEUNd0o5"
      }
    },
    {
      "cell_type": "markdown",
      "source": [
        "**34. Create a thread in Python.**"
      ],
      "metadata": {
        "id": "n7Fq5rJNedXz"
      }
    },
    {
      "cell_type": "code",
      "source": [
        "\n",
        "import threading\n",
        "\n",
        "def print_square(num):\n",
        "    print(\"Square: {}\" .format(num * num))\n",
        "\n",
        "t1 = threading.Thread(target = print_square(4))\n",
        "t1.start()\n"
      ],
      "metadata": {
        "colab": {
          "base_uri": "https://localhost:8080/"
        },
        "id": "0iLTXUlAcyfV",
        "outputId": "b87e5770-7820-4b3c-9b17-88ff6fd3a5d3"
      },
      "execution_count": 7,
      "outputs": [
        {
          "output_type": "stream",
          "name": "stdout",
          "text": [
            "Square: 16\n"
          ]
        }
      ]
    },
    {
      "cell_type": "markdown",
      "source": [
        "**35. What is the Global Interpreter Lock (GIL) in Python?**\n",
        "\n",
        "**Ans**: The Global Interpreter Lock (GIL) is a mechanism used in the CPython implementation of Python to ensure thread safety. It is a key feature of CPython that has significant implications for multi-threaded programming. Here’s an in-depth look at the GIL, including its purpose, impact, and how it compares to other implementations of Python."
      ],
      "metadata": {
        "id": "dU3X65bqfv07"
      }
    },
    {
      "cell_type": "markdown",
      "source": [
        "**36. Implement a simple multithreading example in Python.**"
      ],
      "metadata": {
        "id": "f8BMXhodgAJP"
      }
    },
    {
      "cell_type": "code",
      "source": [
        "def print_square(num):\n",
        "    print(\"Square: {}\" .format(num * num))\n",
        "# define multiple threads\n",
        "t1 = threading.Thread(target = print_square(4))\n",
        "t2 = threading.Thread(target = print_square(5))\n",
        "t3 = threading.Thread(target = print_square(6))\n",
        "t4 = threading.Thread(target = print_square(7))\n",
        "\n",
        "t1.start()\n",
        "t2.start()\n",
        "t3.start()\n",
        "t4.start()\n",
        "\n",
        "t1.join()\n",
        "t2.join()\n",
        "t3.join()\n",
        "t4.join()"
      ],
      "metadata": {
        "colab": {
          "base_uri": "https://localhost:8080/"
        },
        "id": "WAm5hC4de9H-",
        "outputId": "571052d4-a4b9-4485-8924-5907668fb988"
      },
      "execution_count": 10,
      "outputs": [
        {
          "output_type": "stream",
          "name": "stdout",
          "text": [
            "Square: 16\n",
            "Square: 25\n",
            "Square: 36\n",
            "Square: 49\n"
          ]
        }
      ]
    },
    {
      "cell_type": "markdown",
      "source": [
        "**37. What is the purpose of the `join()` method in threading?**\n",
        "\n",
        "**Ans**: Once the threads start, the current program (you can think of it like a main thread) also keeps on executing. In order to stop the execution of the current program until a thread is complete, we use the join() method."
      ],
      "metadata": {
        "id": "SUiHJjCvgimf"
      }
    },
    {
      "cell_type": "markdown",
      "source": [
        "**38. Describe a scenario where multithreading would be beneficial in Python.**\n",
        "\n",
        "**Ans**\n",
        "Benefits in the Example\n",
        "\n",
        "    Concurrent Requests: Multiple threads handle different URLs at the same time, reducing overall wait time for HTTP responses.\n",
        "    Improved Throughput: The total time to scrape all URLs is reduced as threads overlap waiting periods."
      ],
      "metadata": {
        "id": "Q4eJA4wng3T-"
      }
    },
    {
      "cell_type": "code",
      "source": [
        "import threading\n",
        "import requests\n",
        "from bs4 import BeautifulSoup\n",
        "import time\n",
        "\n",
        "# Define a list of URLs to scrape\n",
        "urls = [\n",
        "    'https://example.com',\n",
        "    'https://example.org',\n",
        "    'https://example.net',\n",
        "    'https://example.edu'\n",
        "]\n",
        "\n",
        "# Function to scrape a single URL\n",
        "def scrape_url(url):\n",
        "    print(f\"Starting scrape for {url}\")\n",
        "    try:\n",
        "        response = requests.get(url)\n",
        "        response.raise_for_status()  # Check for HTTP errors\n",
        "        soup = BeautifulSoup(response.text, 'html.parser')\n",
        "        title = soup.title.string\n",
        "        print(f\"Title of {url}: {title}\")\n",
        "    except requests.RequestException as e:\n",
        "        print(f\"Error scraping {url}: {e}\")\n",
        "    print(f\"Finished scrape for {url}\")\n",
        "\n",
        "# Main function to start the threads\n",
        "def main():\n",
        "    threads = []\n",
        "    start_time = time.time()\n",
        "\n",
        "    # Create and start a thread for each URL\n",
        "    for url in urls:\n",
        "        thread = threading.Thread(target=scrape_url, args=(url,))\n",
        "        threads.append(thread)\n",
        "        thread.start()\n",
        "\n",
        "    # Wait for all threads to complete\n",
        "    for thread in threads:\n",
        "        thread.join()\n",
        "\n",
        "    print(f\"All scraping completed in {time.time() - start_time:.2f} seconds\")\n",
        "\n",
        "if __name__ == \"__main__\":\n",
        "    main()"
      ],
      "metadata": {
        "id": "m7my79FOgUZl"
      },
      "execution_count": null,
      "outputs": []
    },
    {
      "cell_type": "markdown",
      "source": [
        "**39. What is multiprocessing in Python?**\n",
        "\n",
        "**Ans**:  Multiprocessing refers to the ability of a system to support more than one processor at the same time. Applications in a multiprocessing system are broken to smaller routines that run independently. The operating system allocates these threads to the processors improving performance of the system."
      ],
      "metadata": {
        "id": "-wu2j2x8h9O7"
      }
    },
    {
      "cell_type": "markdown",
      "source": [
        "**40. How is multiprocessing different from multithreading in Python?**\n",
        "\n",
        "**Ans**:\n",
        "\n",
        "**Multithreading** is a technique where multiple threads are spawned by a process to do different tasks, at about the same time, just one after the other. This gives you the illusion that the threads are running in parallel, but they are actually run in a concurrent manner. In Python, the Global Interpreter Lock (GIL) prevents the threads from running simultaneously.\n",
        "\n",
        "**Multiprocessing** is a technique where parallelism in its truest form is achieved. Multiple processes are run across multiple CPU cores, which do not share the resources among them. Each process can have many threads running in its own memory space. In Python, each process has its own instance of Python interpreter doing the job of executing the instructions."
      ],
      "metadata": {
        "id": "EN24dQMEiOJw"
      }
    },
    {
      "cell_type": "markdown",
      "source": [
        "**41. Create a process using the multiprocessing module in Python.**"
      ],
      "metadata": {
        "id": "ri7vQzRvjH8P"
      }
    },
    {
      "cell_type": "code",
      "source": [
        "\n",
        "# importing the multiprocessing module\n",
        "import multiprocessing\n",
        "import os\n",
        "\n",
        "def worker1():\n",
        "    # printing process id\n",
        "    print(\"ID of process running worker1: {}\".format(os.getpid()))\n",
        "\n",
        "def worker2():\n",
        "    # printing process id\n",
        "    print(\"ID of process running worker2: {}\".format(os.getpid()))\n",
        "\n",
        "if __name__ == \"__main__\":\n",
        "    # printing main program process id\n",
        "    print(\"ID of main process: {}\".format(os.getpid()))\n",
        "\n",
        "    # creating processes\n",
        "    p1 = multiprocessing.Process(target=worker1)\n",
        "    p2 = multiprocessing.Process(target=worker2)\n",
        "\n",
        "    # starting processes\n",
        "    p1.start()\n",
        "    p2.start()\n",
        "\n",
        "    # process IDs\n",
        "    print(\"ID of process p1: {}\".format(p1.pid))\n",
        "    print(\"ID of process p2: {}\".format(p2.pid))\n",
        "\n",
        "    # wait until processes are finished\n",
        "    p1.join()\n",
        "    p2.join()\n",
        "\n",
        "    # both processes finished\n",
        "    print(\"Both processes finished execution!\")\n",
        "\n",
        "    # check if processes are alive\n",
        "    print(\"Process p1 is alive: {}\".format(p1.is_alive()))\n",
        "    print(\"Process p2 is alive: {}\".format(p2.is_alive()))\n"
      ],
      "metadata": {
        "colab": {
          "base_uri": "https://localhost:8080/"
        },
        "id": "ZQYbOJ1th81q",
        "outputId": "7f1268dc-4082-4451-fcb2-eb602ebaefc2"
      },
      "execution_count": 11,
      "outputs": [
        {
          "output_type": "stream",
          "name": "stdout",
          "text": [
            "ID of main process: 899\n",
            "ID of process running worker1: 8387ID of process running worker2: 8388\n",
            "\n",
            "ID of process p1: 8387\n",
            "ID of process p2: 8388\n",
            "Both processes finished execution!\n",
            "Process p1 is alive: False\n",
            "Process p2 is alive: False\n"
          ]
        }
      ]
    },
    {
      "cell_type": "markdown",
      "source": [
        "**42. Explain the concept of Pool in the multiprocessing module.**\n",
        "\n",
        "**Ans**\n",
        "\n",
        "\n",
        "\n",
        "So I have an algorithm I am writing, and the function multiprocess is supposed to call another function, CreateMatrixMp(), on as many processes as there are cpus, in parallel. I have never done multiprocessing before, and cannot be certain which one of the below methods is more efficient. The word \"efficient\" being used in the context of the function CreateMatrixMp() needing to potentially be called thousands of times.I have read all of the documentation on the python multiprocessing module,\n",
        "Using Pool class:>>"
      ],
      "metadata": {
        "id": "zNTlT01VjiqY"
      }
    },
    {
      "cell_type": "code",
      "source": [
        "def MatrixHelper(self, args):\n",
        "    return self.CreateMatrix(*args)\n",
        "\n",
        "def Multiprocess(self, sigmaI, sigmaX):\n",
        "\n",
        "    cpus = mp.cpu_count()\n",
        "    print('Number of cpu\\'s to process WM: %d' % cpus)\n",
        "    poolCount = cpus*2\n",
        "    args = [(sigmaI, sigmaX, i) for i in range(self.numPixels)]\n",
        "\n",
        "    pool = mp.Pool(processes = poolCount, maxtasksperchild= 2)\n",
        "    tempData = pool.map(self.MatrixHelper, args)\n",
        "    pool.close()\n",
        "    pool.join()"
      ],
      "metadata": {
        "id": "uuSo2vjvjgTY"
      },
      "execution_count": 12,
      "outputs": []
    },
    {
      "cell_type": "markdown",
      "source": [
        "**43. Explain inter-process communication in multiprocessing.**\n",
        "\n",
        "**Ans**:Inter-process communication (IPC) is a mechanism that allows processes to communicate with each other and synchronize their actions. The communication between these processes can be seen as a method of co-operation between them. Processes can communicate with each other through both:\n",
        "\n",
        "\n",
        "    Shared Memory\n",
        "    Message passing\n"
      ],
      "metadata": {
        "id": "21yYwX6OkhqT"
      }
    },
    {
      "cell_type": "code",
      "source": [],
      "metadata": {
        "id": "HXoIsbprkfEz"
      },
      "execution_count": null,
      "outputs": []
    }
  ]
}