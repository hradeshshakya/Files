{
  "nbformat": 4,
  "nbformat_minor": 0,
  "metadata": {
    "colab": {
      "provenance": []
    },
    "kernelspec": {
      "name": "python3",
      "display_name": "Python 3"
    },
    "language_info": {
      "name": "python"
    }
  },
  "cells": [
    {
      "cell_type": "code",
      "source": [],
      "metadata": {
        "id": "nyr-5UFXXent"
      },
      "execution_count": null,
      "outputs": []
    },
    {
      "cell_type": "markdown",
      "source": [
        "**1. Explain the importance of Functions.**"
      ],
      "metadata": {
        "id": "RH5MGBRgXfSS"
      }
    },
    {
      "cell_type": "code",
      "execution_count": null,
      "metadata": {
        "id": "ttNYBgoXWKQK"
      },
      "outputs": [],
      "source": [
        "# Ans.\n",
        "\n",
        "# A function is nothing more than a block of code. One of the best reasons to write Python\n",
        "# functions is to separate reusable code from the core app so you don’t repeat yourself.\n",
        "\n",
        "# A Python function consists of three core components:\n",
        "\n",
        "# 1>> A def statement defining a function\n",
        "\n",
        "# 2>> The code bits in the middle of the function that does something (in this case, finds the square of a number)\n",
        "\n",
        "# 3>> A return statement that ends the function"
      ]
    },
    {
      "cell_type": "markdown",
      "source": [
        "**2. Write a basic function to greet students.**"
      ],
      "metadata": {
        "id": "4djrBaCxXkMI"
      }
    },
    {
      "cell_type": "code",
      "source": [
        "def greet_students():\n",
        "    print(\"Hello Students\")\n",
        "\n",
        "greet_students()"
      ],
      "metadata": {
        "colab": {
          "base_uri": "https://localhost:8080/"
        },
        "id": "ZqK7TRVxXRkm",
        "outputId": "f94df200-7bd2-46df-be29-4815ed680c8f"
      },
      "execution_count": null,
      "outputs": [
        {
          "output_type": "stream",
          "name": "stdout",
          "text": [
            "Hello Students\n"
          ]
        }
      ]
    },
    {
      "cell_type": "markdown",
      "source": [
        "**3. What is the difference between print and return statements.**\n"
      ],
      "metadata": {
        "id": "JWCRHVnsX_B4"
      }
    },
    {
      "cell_type": "code",
      "source": [
        "# Return Statement in Python >>\n",
        "# Python return statement is used to exit the function and return a value. The return keyword is used to specify\n",
        "# a value that a function should return when a function is called. It performs some calculations or operations\n",
        "#  and then returns the value or a set of values to the calling code.\n",
        "\n",
        "\n",
        "# Print Statement in Python\n",
        "# The print statement is a built-in function in Python that is used to display output to the console or terminal."
      ],
      "metadata": {
        "id": "R53GBqSMX23H"
      },
      "execution_count": null,
      "outputs": []
    },
    {
      "cell_type": "markdown",
      "source": [
        "**4. What are `*args and **kwargs` ?**"
      ],
      "metadata": {
        "id": "G7BCKOb0Y9v2"
      }
    },
    {
      "cell_type": "code",
      "source": [
        "# *args >> Special symbols used for passing a variable number of non-keyword arguments to a function.\n",
        "# **kwargs >> Special symbols used for passing a variable number of keyword arguments to a function.\n",
        "\n",
        "# Note:>> “We use the “wildcard” or “*” notation like this – *args OR **kwargs – as our function’s argument\n",
        "#        when we have doubts about the number of  arguments we should pass in a function.”"
      ],
      "metadata": {
        "id": "PYbyxSmtY7wW"
      },
      "execution_count": null,
      "outputs": []
    },
    {
      "cell_type": "markdown",
      "source": [
        "**5. Explain the iterator function.**"
      ],
      "metadata": {
        "id": "VokbwP50aYK3"
      }
    },
    {
      "cell_type": "code",
      "source": [
        "# An iterator is an object that can be iterated upon, meaning that you can traverse through all the values."
      ],
      "metadata": {
        "id": "kY_5XvGdahrQ"
      },
      "execution_count": null,
      "outputs": []
    },
    {
      "cell_type": "markdown",
      "source": [
        "**6. Write a code that generates the squares of numbers from 1 to n using a generator.**"
      ],
      "metadata": {
        "id": "IsRMdlhDbHfb"
      }
    },
    {
      "cell_type": "code",
      "source": [
        "n = 10\n",
        "\n",
        "def generate_squares(n):\n",
        "    for i in range(1, n+1):\n",
        "        yield i**2\n",
        "\n",
        "squares = generate_squares(n)\n",
        "\n",
        "for square in squares:\n",
        "    print(square)"
      ],
      "metadata": {
        "colab": {
          "base_uri": "https://localhost:8080/"
        },
        "id": "cmhkehLKbGq1",
        "outputId": "d2f35668-075b-4b2e-f4a0-2c972bdc4cda"
      },
      "execution_count": null,
      "outputs": [
        {
          "output_type": "stream",
          "name": "stdout",
          "text": [
            "1\n",
            "4\n",
            "9\n",
            "16\n",
            "25\n",
            "36\n",
            "49\n",
            "64\n",
            "81\n",
            "100\n"
          ]
        }
      ]
    },
    {
      "cell_type": "markdown",
      "source": [
        "**7. Write a code that generates palindromic numbers up to n using a generator.**"
      ],
      "metadata": {
        "id": "JvRbB56XcJSl"
      }
    },
    {
      "cell_type": "code",
      "source": [
        "# palindrimic upto n\n",
        "\n",
        "n = 10\n",
        "def palindromic_numbers(n):\n",
        "    for i in range(1, n+1):\n",
        "        if str(i) == str(i)[::-1]:\n",
        "            yield i\n",
        "\n",
        "palindromes = palindromic_numbers(n)\n",
        "\n",
        "for palindrome in palindromes:\n",
        "    print(palindrome)\n"
      ],
      "metadata": {
        "colab": {
          "base_uri": "https://localhost:8080/"
        },
        "id": "NcbFYAIxcIeD",
        "outputId": "f1fc1fb6-efac-41bb-dd19-7c0ea6a29715"
      },
      "execution_count": null,
      "outputs": [
        {
          "output_type": "stream",
          "name": "stdout",
          "text": [
            "1\n",
            "2\n",
            "3\n",
            "4\n",
            "5\n",
            "6\n",
            "7\n",
            "8\n",
            "9\n"
          ]
        }
      ]
    },
    {
      "cell_type": "markdown",
      "source": [
        "**8. Write a code that generates even numbers from 2 to n using a generator.**"
      ],
      "metadata": {
        "id": "X6U2N7updEJH"
      }
    },
    {
      "cell_type": "code",
      "source": [
        "def even_numbers(n):\n",
        "    for i in range(2, n+1, 2):\n",
        "        yield i\n",
        "\n",
        "n = 10\n",
        "even_numbers_generator = even_numbers(n)\n",
        "\n",
        "for even_number in even_numbers_generator:\n",
        "    print(even_number)"
      ],
      "metadata": {
        "colab": {
          "base_uri": "https://localhost:8080/"
        },
        "id": "gxn4KTvIb7-k",
        "outputId": "b7101ace-2734-4103-9788-871da9cbcdf5"
      },
      "execution_count": null,
      "outputs": [
        {
          "output_type": "stream",
          "name": "stdout",
          "text": [
            "2\n",
            "4\n",
            "6\n",
            "8\n",
            "10\n"
          ]
        }
      ]
    },
    {
      "cell_type": "markdown",
      "source": [
        "**9. Write a code that generates powers of two up to n using a generator.**"
      ],
      "metadata": {
        "id": "Exwj8xy7d8Zj"
      }
    },
    {
      "cell_type": "code",
      "source": [
        "def powers_of_two(n):\n",
        "    for i in range(1, n+1):\n",
        "        yield 2**i\n",
        "\n",
        "n = 10\n",
        "powers_of_two_generator = powers_of_two(n)\n",
        "\n",
        "for power_of_two in powers_of_two_generator:\n",
        "    print(power_of_two)"
      ],
      "metadata": {
        "colab": {
          "base_uri": "https://localhost:8080/"
        },
        "id": "pCGzMKAUd3hn",
        "outputId": "acdd5b49-d26c-4e99-b58e-2a30b48de318"
      },
      "execution_count": null,
      "outputs": [
        {
          "output_type": "stream",
          "name": "stdout",
          "text": [
            "2\n",
            "4\n",
            "8\n",
            "16\n",
            "32\n",
            "64\n",
            "128\n",
            "256\n",
            "512\n",
            "1024\n"
          ]
        }
      ]
    },
    {
      "cell_type": "markdown",
      "source": [
        "**10. Write a code that generates prime numbers up to n using a generator.**\n"
      ],
      "metadata": {
        "id": "rRNsl2FpeagZ"
      }
    },
    {
      "cell_type": "code",
      "source": [
        "def prime_numbers(n):\n",
        "    for num in range(2, n+1):\n",
        "        for i in range(2, num):\n",
        "            if num % i == 0:\n",
        "                break\n",
        "        else:\n",
        "            yield num\n",
        "\n",
        "n = 10\n",
        "prime_numbers_generator = prime_numbers(n)\n",
        "\n",
        "for prime_number in prime_numbers_generator:\n",
        "    print(prime_number)"
      ],
      "metadata": {
        "colab": {
          "base_uri": "https://localhost:8080/"
        },
        "id": "PlQCUJdZeY8k",
        "outputId": "e6a99b0e-b5c9-4056-d2c2-46b10b1c0f7f"
      },
      "execution_count": null,
      "outputs": [
        {
          "output_type": "stream",
          "name": "stdout",
          "text": [
            "2\n",
            "3\n",
            "5\n",
            "7\n"
          ]
        }
      ]
    },
    {
      "cell_type": "markdown",
      "source": [
        "**11. Write a code that uses a lambda function to calculate the sum of two numbers.**"
      ],
      "metadata": {
        "id": "RW1GxWAdezjP"
      }
    },
    {
      "cell_type": "code",
      "source": [
        "# Define a lambda function to add two numbers:\n",
        "\n",
        "add_num = lambda a, b: a+bWrite a code that uses a lambda function to calculate the sum of two numbers.\n",
        "\n",
        "a = 3\n",
        "b = 4\n",
        "\n",
        "result = add_num(a, b)\n",
        "\n",
        "print(result)"
      ],
      "metadata": {
        "colab": {
          "base_uri": "https://localhost:8080/"
        },
        "id": "4BflKO8MexWE",
        "outputId": "740d32ed-f4d4-4d66-a20e-e96a7ea87377"
      },
      "execution_count": null,
      "outputs": [
        {
          "output_type": "stream",
          "name": "stdout",
          "text": [
            "7\n"
          ]
        }
      ]
    },
    {
      "cell_type": "markdown",
      "source": [
        "**12. Write a code that uses a lambda function to calculate the square of a given number.**"
      ],
      "metadata": {
        "id": "8tVow6hbgR8K"
      }
    },
    {
      "cell_type": "code",
      "source": [
        "# Define a lambda function to calculate the square of a given number\n",
        "\n",
        "square_num = lambda x: x**2\n",
        "\n",
        "num = 5\n",
        "\n",
        "result = square_num(num)\n",
        "print(result)"
      ],
      "metadata": {
        "colab": {
          "base_uri": "https://localhost:8080/"
        },
        "id": "kJzhkNfMfbNA",
        "outputId": "0f04cea4-1684-44ec-c53e-6cb60bc49c93"
      },
      "execution_count": null,
      "outputs": [
        {
          "output_type": "stream",
          "name": "stdout",
          "text": [
            "25\n"
          ]
        }
      ]
    },
    {
      "cell_type": "markdown",
      "source": [
        "**13.Write a code that uses a lambda function to  check whether a given number is even or odd.**"
      ],
      "metadata": {
        "id": "7KN06r7Fg0gQ"
      }
    },
    {
      "cell_type": "code",
      "source": [
        "even_odd = lambda x: \"Even\" if x % 2 == 0 else \"Odd\"\n",
        "\n",
        "x = 7\n",
        "\n",
        "result = even_odd(x)\n",
        "\n",
        "print(result)"
      ],
      "metadata": {
        "colab": {
          "base_uri": "https://localhost:8080/"
        },
        "id": "zpndDLo9gzJQ",
        "outputId": "729eb83b-fc1e-483a-a542-410643ce035d"
      },
      "execution_count": null,
      "outputs": [
        {
          "output_type": "stream",
          "name": "stdout",
          "text": [
            "Odd\n"
          ]
        }
      ]
    },
    {
      "cell_type": "markdown",
      "source": [
        "**15. Write a code that uses a lambda function to concatenate two strings.**"
      ],
      "metadata": {
        "id": "rKXAjb-WhxTY"
      }
    },
    {
      "cell_type": "code",
      "source": [
        "concatenate_strings = lambda a, b: a + b\n",
        "\n",
        "str1 = \"Hello\"\n",
        "str2 = \"World\"\n",
        "\n",
        "result = concatenate_strings(str1, str2)\n",
        "\n",
        "print(result)"
      ],
      "metadata": {
        "colab": {
          "base_uri": "https://localhost:8080/"
        },
        "id": "YbWqhs2Zhmep",
        "outputId": "9c5e1ec3-cc8d-4215-8544-41d6d63967ee"
      },
      "execution_count": null,
      "outputs": [
        {
          "output_type": "stream",
          "name": "stdout",
          "text": [
            "HelloWorld\n"
          ]
        }
      ]
    },
    {
      "cell_type": "markdown",
      "source": [
        "**16. Write a code that uses a lambda function to find the maximum of three given numbers.**"
      ],
      "metadata": {
        "id": "835jolWdiMgJ"
      }
    },
    {
      "cell_type": "code",
      "source": [
        "three_numbers = lambda a, b, c: max(a,b,c)\n",
        "\n",
        "x = 5\n",
        "y = 10\n",
        "z = 3\n",
        "\n",
        "result = three_numbers(x, y, z)\n",
        "print(result)"
      ],
      "metadata": {
        "colab": {
          "base_uri": "https://localhost:8080/"
        },
        "id": "XZl_8jSciK0m",
        "outputId": "1b9f64de-2932-4cef-a7e4-ec315277727c"
      },
      "execution_count": null,
      "outputs": [
        {
          "output_type": "stream",
          "name": "stdout",
          "text": [
            "10\n"
          ]
        }
      ]
    },
    {
      "cell_type": "markdown",
      "source": [
        "**17. Write a code that generates the squares of even numbers from a given list.**"
      ],
      "metadata": {
        "id": "Q3oYLbDwjM1j"
      }
    },
    {
      "cell_type": "code",
      "source": [
        "def generate_even_squares(numbers):\n",
        "    even_squares = []\n",
        "    for num in numbers:\n",
        "        if num % 2 == 0:\n",
        "            even_squares.append(num**2)\n",
        "    return even_squares\n",
        "\n",
        "generate_even_squares([1,2,3,4,5,6])"
      ],
      "metadata": {
        "colab": {
          "base_uri": "https://localhost:8080/"
        },
        "id": "iG3RxS7SjK6L",
        "outputId": "3a6a5db7-6630-45a2-c288-a0c481153c2d"
      },
      "execution_count": null,
      "outputs": [
        {
          "output_type": "execute_result",
          "data": {
            "text/plain": [
              "[4, 16, 36]"
            ]
          },
          "metadata": {},
          "execution_count": 20
        }
      ]
    },
    {
      "cell_type": "markdown",
      "source": [
        "**18. Write a code that calulates the product of positive numbers from a given list.**"
      ],
      "metadata": {
        "id": "awxt8uf-mg5M"
      }
    },
    {
      "cell_type": "code",
      "source": [
        "def calculate_product(numbers):\n",
        "    product = 1\n",
        "    for num in numbers:\n",
        "        if num > 0:\n",
        "            product *= num\n",
        "    return product\n",
        "\n",
        "calculate_product([2,3,4,5,6])"
      ],
      "metadata": {
        "colab": {
          "base_uri": "https://localhost:8080/"
        },
        "id": "ncCNuX_3mWzq",
        "outputId": "fb7e1252-6bec-47eb-a74e-e4f01e43cba0"
      },
      "execution_count": null,
      "outputs": [
        {
          "output_type": "execute_result",
          "data": {
            "text/plain": [
              "720"
            ]
          },
          "metadata": {},
          "execution_count": 21
        }
      ]
    },
    {
      "cell_type": "markdown",
      "source": [
        "**19. Write a code that doubles the values of odd numbers from a given list.**"
      ],
      "metadata": {
        "id": "LikHHZHrnKcO"
      }
    },
    {
      "cell_type": "code",
      "source": [
        "def double_odd_values(numbers):\n",
        "    doubled_values = []\n",
        "    for num in numbers:\n",
        "        if num % 2 != 0:\n",
        "            doubled_values.append(num*2)\n",
        "    return doubled_values\n",
        "\n",
        "double_odd_values([1,2,3,4,5,6])"
      ],
      "metadata": {
        "colab": {
          "base_uri": "https://localhost:8080/"
        },
        "id": "9HDWmSh-nHQo",
        "outputId": "79eb2f98-e8de-4ac3-e354-0113cf7ef5e2"
      },
      "execution_count": null,
      "outputs": [
        {
          "output_type": "execute_result",
          "data": {
            "text/plain": [
              "[2, 6, 10]"
            ]
          },
          "metadata": {},
          "execution_count": 22
        }
      ]
    },
    {
      "cell_type": "markdown",
      "source": [
        "**20. Write a code that calculates the sum of cubes of numbers from a given list.**"
      ],
      "metadata": {
        "id": "Ilb6pDNsnbQv"
      }
    },
    {
      "cell_type": "code",
      "source": [
        "def calculate_sum_of_cubes(numbers):\n",
        "    sum_of_cubes = 0\n",
        "    for num in numbers:\n",
        "        sum_of_cubes += num**3\n",
        "    return sum_of_cubes\n",
        "\n",
        "calculate_sum_of_cubes([1,2,3,4,5,6])"
      ],
      "metadata": {
        "colab": {
          "base_uri": "https://localhost:8080/"
        },
        "id": "X05gtnGynZ_S",
        "outputId": "2953140f-5393-4d6e-d40e-616af7035cb2"
      },
      "execution_count": null,
      "outputs": [
        {
          "output_type": "execute_result",
          "data": {
            "text/plain": [
              "441"
            ]
          },
          "metadata": {},
          "execution_count": 23
        }
      ]
    },
    {
      "cell_type": "markdown",
      "source": [
        "**21. Write a code that filters out prime numbers from a given list.**"
      ],
      "metadata": {
        "id": "bklEeirgnyP3"
      }
    },
    {
      "cell_type": "code",
      "source": [
        "def filter_prime_numbers(numbers):\n",
        "    prime_numbers = []\n",
        "    for num in numbers:\n",
        "        if all(num % i != 0 for i in range(2, num)):\n",
        "            prime_numbers.append(num)\n",
        "    return prime_numbers\n",
        "\n",
        "filter_prime_numbers([1,2,3,4,5,6,7,8,9,10,11,12,13])"
      ],
      "metadata": {
        "colab": {
          "base_uri": "https://localhost:8080/"
        },
        "id": "SjCfjcZnnxT8",
        "outputId": "5e7e7272-7ea0-415d-da48-c5115331eeef"
      },
      "execution_count": null,
      "outputs": [
        {
          "output_type": "execute_result",
          "data": {
            "text/plain": [
              "[1, 2, 3, 5, 7, 11, 13]"
            ]
          },
          "metadata": {},
          "execution_count": 24
        }
      ]
    },
    {
      "cell_type": "markdown",
      "source": [
        "**22. Write a code that uses a lambda function to calculate the sum of two numbers.**"
      ],
      "metadata": {
        "id": "CM7Fj8iLoa0G"
      }
    },
    {
      "cell_type": "code",
      "source": [
        "# Define a lambda function to add two numbers:\n",
        "\n",
        "add_num = lambda a, b: a+b\n",
        "a = 5\n",
        "b = 4\n",
        "\n",
        "result = add_num(a, b)\n",
        "\n",
        "print(result)"
      ],
      "metadata": {
        "colab": {
          "base_uri": "https://localhost:8080/"
        },
        "outputId": "6c2c7300-cc5f-4b8d-afda-cb6534da7478",
        "id": "QX5WJ9HXol2-"
      },
      "execution_count": null,
      "outputs": [
        {
          "output_type": "stream",
          "name": "stdout",
          "text": [
            "9\n"
          ]
        }
      ]
    },
    {
      "cell_type": "markdown",
      "source": [
        "**Question no from 22 to 26 are same as above 11 to 16**"
      ],
      "metadata": {
        "id": "XiRdyxOho89S"
      }
    },
    {
      "cell_type": "code",
      "source": [
        "# Question from 22 to 26 are same as above 11 to 16"
      ],
      "metadata": {
        "id": "Wm3_HoV_omv0"
      },
      "execution_count": null,
      "outputs": []
    },
    {
      "cell_type": "markdown",
      "source": [
        "**27. What is encapsulation in OOP?**\n",
        "\n",
        "Ans. Encapsulation is one of the fundamental concepts in object-oriented programming (OOP). It describes the idea of wrapping data and the methods that work on data within one unit. This puts restrictions on accessing variables and methods directly and can prevent the accidental modification of data. To prevent accidental change, an object’s variable can only be changed by an object’s method. Those types of variables are known as private variables."
      ],
      "metadata": {
        "id": "SwNhQOufpVOV"
      }
    },
    {
      "cell_type": "markdown",
      "source": [
        "**28. Explain the use of access modifiers in Python classes.**"
      ],
      "metadata": {
        "id": "mJIMtr3WqId9"
      }
    },
    {
      "cell_type": "code",
      "source": [
        "# Public Access Modifier:     The members of a class that are declared public are easily accessible from any part of the program.\n",
        "\n",
        "# Protected Access Modifier:  The members of a class that are declared protected are only accessible to a class derived from it.\n",
        "                             #Data members of a class are declared protected by adding a single underscore ‘_’ symbol before the data member of that class.\n",
        "\n",
        "# Private Access Modifier:   The members of a class that are declared private are accessible within the class only, private access modifier is the most secure access modifier.\n",
        "                            # Data members of a class are declared private by adding a double underscore ‘__’ symbol before the data member of that class.\n",
        "\n"
      ],
      "metadata": {
        "id": "EiC54yMYq2mb"
      },
      "execution_count": null,
      "outputs": []
    },
    {
      "cell_type": "markdown",
      "source": [
        "**29. What is inheritance in OOP ?**\n",
        "\n",
        "Ans. It is a mechanism that allows you to create a hierarchy of classes that share a set of properties and methods by deriving a class from another class."
      ],
      "metadata": {
        "id": "54q3hZhPr8zq"
      }
    },
    {
      "cell_type": "markdown",
      "source": [
        "**30. Define polymorphism in OOP ?**\n",
        "\n",
        "Ans. The word polymorphism means having many forms. In programming, polymorphism means the same function name (but different signatures) being used for different types. The key difference is the data types and number of arguments used in function."
      ],
      "metadata": {
        "id": "Unlx-UPSsTYW"
      }
    },
    {
      "cell_type": "markdown",
      "source": [
        "**31. Explain method overrinding in Python.**\n",
        "\n",
        "Ans. Method overriding is an ability of any object-oriented programming language that allows a subclass or child class to provide a specific implementation of a method that is already provided by one of its super-classes or parent classes. When a method in a subclass has the same name, same parameters or signature and same return type(or sub-type) as a method in its super-class, then the method in the subclass is said to override the method in the super-class."
      ],
      "metadata": {
        "id": "zChKkyzhsuJA"
      }
    },
    {
      "cell_type": "markdown",
      "source": [
        "**32. Define a parent class animal with a method make_sound that prints \"Generic animal sound\". Create a\n",
        "child class Dog inheriting from Animal with a method make_sound that prints \"Woof!\".**"
      ],
      "metadata": {
        "id": "VaPnGydOtMY5"
      }
    },
    {
      "cell_type": "code",
      "source": [
        "# define parent class Animal\n",
        "class Animal:\n",
        "  def make_sound(self):\n",
        "    print(\"Generic animal sound\")\n",
        "\n",
        "# define child class Dog inheriting Animal\n",
        "class Dog:\n",
        "  def make_sound(self):\n",
        "    print(\"Woof!\")\n",
        "\n",
        "dog = Dog()\n",
        "dog.make_sound()"
      ],
      "metadata": {
        "colab": {
          "base_uri": "https://localhost:8080/"
        },
        "id": "rtxoJNvEr7xJ",
        "outputId": "7496cabf-f47e-4834-8705-97d7429992be"
      },
      "execution_count": null,
      "outputs": [
        {
          "output_type": "stream",
          "name": "stdout",
          "text": [
            "Woof!\n"
          ]
        }
      ]
    },
    {
      "cell_type": "markdown",
      "source": [
        "**33. Define a method move in the Animal class that prints \"Animal moves\". Override the move method in the\n",
        "Dog class to print \"Dog runs.\"**"
      ],
      "metadata": {
        "id": "sfFrcTPAukL8"
      }
    },
    {
      "cell_type": "code",
      "source": [
        "#  define parent class Animal\n",
        "class Animal:\n",
        "  def move(self):\n",
        "    print(\"Animal Move\")\n",
        "\n",
        "\n",
        "# define child class Dog inheriting Animal\n",
        "class Dog:\n",
        "  def move(self):\n",
        "    print(\"Dog runs.\")\n",
        "\n",
        "# overriding the method \"move\"\n",
        "dog = Dog()\n",
        "dog.move()"
      ],
      "metadata": {
        "colab": {
          "base_uri": "https://localhost:8080/"
        },
        "id": "64iv7GJ_ue8k",
        "outputId": "fdb391d5-d00d-4a27-cb9a-76542de619c9"
      },
      "execution_count": null,
      "outputs": [
        {
          "output_type": "stream",
          "name": "stdout",
          "text": [
            "Dog runs.\n"
          ]
        }
      ]
    },
    {
      "cell_type": "markdown",
      "source": [
        " **34. Create a class Mammal with a method reproduce that prints \"Giving birth to live young.\" Create a class\n",
        "DogMammal inheriting from both Dog and Mammal.**"
      ],
      "metadata": {
        "id": "spsrA1jEwJ48"
      }
    },
    {
      "cell_type": "code",
      "source": [
        "# define parent class mammal:\n",
        "class Mammal:\n",
        "  def reproduce(self):\n",
        "    print(\"Giving birth to live young.\")\n",
        "\n",
        "# define child class Dog:\n",
        "class Dog:\n",
        "  def reproduce(self):\n",
        "    print(\"Giving birth to puppy\")\n",
        "\n",
        "# define a child class DogMammal inheriting from both DOg and Mammal\n",
        "class DogMammal:\n",
        "  pass\n",
        "\n"
      ],
      "metadata": {
        "id": "R7oQmC-OvonP"
      },
      "execution_count": null,
      "outputs": []
    },
    {
      "cell_type": "markdown",
      "source": [
        "**35. Create a class GermanShepherd inheriting from Dog and override the make_sound method to print\n",
        "\"Bark!\"**"
      ],
      "metadata": {
        "id": "eGIWxW3hyq-5"
      }
    },
    {
      "cell_type": "code",
      "source": [
        "# define a class GermanShepherd inheriting from class Dog\n",
        "class GermanShepherd(Dog):\n",
        "  def make_sound(self):\n",
        "    print(\"Bark!\")\n",
        "\n",
        "# overrride the make_sound method\n",
        "german_shepherd = GermanShepherd()\n",
        "german_shepherd.make_sound()"
      ],
      "metadata": {
        "colab": {
          "base_uri": "https://localhost:8080/"
        },
        "id": "b6CQldkNyYwT",
        "outputId": "fe52634c-31f1-4237-8cea-26e6d5133860"
      },
      "execution_count": null,
      "outputs": [
        {
          "output_type": "stream",
          "name": "stdout",
          "text": [
            "Bark!\n"
          ]
        }
      ]
    },
    {
      "cell_type": "markdown",
      "source": [
        "**36 Define constructors in both the Animal and Dog classes with different initialization parameters.**\n"
      ],
      "metadata": {
        "id": "UwBQHpGPzvMt"
      }
    },
    {
      "cell_type": "code",
      "source": [
        "class Animal:\n",
        "  def __init__(self, name, age):\n",
        "    self.name = name\n",
        "    self.age = age\n",
        "\n",
        "class Dog:\n",
        "  def __init__(self, name, age, breed):\n",
        "    self.name = name\n",
        "    self.age = age\n",
        "    self.breed = breed"
      ],
      "metadata": {
        "id": "p6E4LFNjzPFE"
      },
      "execution_count": null,
      "outputs": []
    },
    {
      "cell_type": "markdown",
      "source": [
        "**37. What is abstraction in Python? How is it implemented?**\n",
        "\n",
        "Ans. Data abstraction is one of the most essential concepts of Python OOPs which is used to hide irrelevant details from the user and show the details that are relevant to the users.\n",
        "\n",
        "\n",
        "A simple example of this can be a car. A car has an accelerator, clutch, and break and we all know that pressing an accelerator will increase the speed of the car and applying the brake can stop the car but we don’t the internal mechanism of the car and how these functionalities can work this detail hiding is known as data abstraction.\n"
      ],
      "metadata": {
        "id": "lUQ1-4R20jq-"
      }
    },
    {
      "cell_type": "markdown",
      "source": [
        "**38. Explain the importance of abstraction in Object-Oriented programming.**\n",
        "\n",
        "Ans. It enables programmers to hide complex implementation details while just showing users the most crucial data and functions. This abstraction makes it easier to design modular and well-organized code, makes it simpler to understand and maintain, promotes code reuse, and improves developer collaboration."
      ],
      "metadata": {
        "id": "89-HY8UJ1jTq"
      }
    },
    {
      "cell_type": "markdown",
      "source": [
        "**39. How are abstract methods different from regular methods in Python?**\n",
        "\n",
        "Ans. Regular methods has a default feature to create methods.\n",
        "While abstract methods feature is not a default feature, we have to import the “ABC” and “abstractmethod” classes from abc (Abstract Base Class) library.\n"
      ],
      "metadata": {
        "id": "IAiAjWj42Erp"
      }
    },
    {
      "cell_type": "markdown",
      "source": [
        "**40. How can you achieve abstraction using interfaces in Python?**\n",
        "\n",
        "Ans. We have to import the “ABC” and “abstractmethod” classes from abc (Abstract Base Class) library."
      ],
      "metadata": {
        "id": "BICdNLCO5PoN"
      }
    },
    {
      "cell_type": "markdown",
      "source": [
        "**41. Can you provide an example of how abstraction can be utilized to create a common interface for a group of related classes in Python?**\n"
      ],
      "metadata": {
        "id": "_TQR3IuB6iC8"
      }
    },
    {
      "cell_type": "code",
      "source": [
        "from abc import ABC, abstractmethod\n",
        "# Define an abstract base class 'Shape'\n",
        "class Shape(ABC):\n",
        "    @abstractmethod\n",
        "    def area(self):\n",
        "        pass\n",
        "\n",
        "\n",
        "# Define a class 'Circle' that inherits from 'Shape'\n",
        "class Circle(Shape):\n",
        "    def __init__(self, radius):\n",
        "        self.radius = radius\n",
        "    def area(self):\n",
        "        return 3.14159 * self.radius ** 2\n",
        "# Define a class 'Rectangle' that inherits from 'Shape'\n",
        "class Rectangle(Shape):\n",
        "    def __init__(self, width, length):\n",
        "        self.width = width\n",
        "        self.length = length\n",
        "    def area(self):\n",
        "        return self.width * self.length\n",
        "# Create instances of 'Circle' and 'Rectangle'\n",
        "circle = Circle(4)\n",
        "rectangle = Rectangle(5, 7)\n",
        "# Calculate and print the area of the shapes\n",
        "print(circle.area())  # Output: 50.26544\n",
        "print(rectangle.area())  # Output: 35"
      ],
      "metadata": {
        "colab": {
          "base_uri": "https://localhost:8080/"
        },
        "id": "5DfQWdIZ0f5J",
        "outputId": "953263b0-a9c1-4e08-cf74-fc010ce676f6"
      },
      "execution_count": null,
      "outputs": [
        {
          "output_type": "stream",
          "name": "stdout",
          "text": [
            "50.26544\n",
            "35\n"
          ]
        }
      ]
    },
    {
      "cell_type": "markdown",
      "source": [
        "**42. How does Python achieve polymorphism through method overriding?**"
      ],
      "metadata": {
        "id": "-3oNP8S19h35"
      }
    },
    {
      "cell_type": "code",
      "source": [
        "# Polymorphism achieved through inheritance and method overriding\n",
        "\n",
        "#  example:\n",
        "\n",
        "class Animal:\n",
        "  def speak(self):\n",
        "    pass\n",
        "\n",
        "class Lion(Animal):\n",
        "  def speak(self):\n",
        "    print(\"roar\")\n",
        "\n",
        "class Tiger(Animal):\n",
        "  def speak(self):\n",
        "    print(\"growl\")\n",
        "\n",
        "lion = Lion()\n",
        "tiger = Tiger()\n",
        "\n",
        "lion.speak()\n",
        "tiger.speak()"
      ],
      "metadata": {
        "id": "WIXtXcA69JnV",
        "colab": {
          "base_uri": "https://localhost:8080/"
        },
        "outputId": "784acf4a-37d0-4377-a55e-698f68d7173e"
      },
      "execution_count": null,
      "outputs": [
        {
          "output_type": "stream",
          "name": "stdout",
          "text": [
            "roar\n",
            "growl\n"
          ]
        }
      ]
    },
    {
      "cell_type": "markdown",
      "source": [
        "43. Define a base class with a method and a subclass that overrides the method."
      ],
      "metadata": {
        "id": "8xGaY3ofb1KC"
      }
    },
    {
      "cell_type": "code",
      "source": [
        "# define Base class\n",
        "class Base:\n",
        "  def method(self):\n",
        "    print(\"Base method\")\n",
        "  def over(self):\n",
        "    self.method()\n",
        "\n",
        "# define subclass\n",
        "class Subclass(Base):\n",
        "  def method(self):\n",
        "    print(\"Subclass method\")\n",
        "\n",
        "\n",
        "# oevrrides the method\n",
        "d = Subclass()\n",
        "d.over()\n",
        "\n"
      ],
      "metadata": {
        "colab": {
          "base_uri": "https://localhost:8080/"
        },
        "id": "rqD34BbebsUI",
        "outputId": "2ff5a8e8-1a1d-4f7d-b4a0-78c1237aca8a"
      },
      "execution_count": null,
      "outputs": [
        {
          "output_type": "stream",
          "name": "stdout",
          "text": [
            "Subclass method\n"
          ]
        }
      ]
    },
    {
      "cell_type": "markdown",
      "source": [
        "44. Define a base class and muliple subclasses with overridden methods."
      ],
      "metadata": {
        "id": "zjPzHcmQeSPs"
      }
    },
    {
      "cell_type": "code",
      "source": [
        "# define Base class\n",
        "class Base:\n",
        "  def method(self):\n",
        "    print(\"Base method\")\n",
        "  def over(self):\n",
        "    self.method()\n",
        "\n",
        "# define subclass\n",
        "class Subclass_1(Base):\n",
        "  def method(self):\n",
        "    print(\"First subclass method\")\n",
        "\n",
        "class Subclass_2(Base):\n",
        "  def method(self):\n",
        "    print(\"Second subclass method\")\n",
        "\n",
        "class Subclass_3(Base):\n",
        "  def method(self):\n",
        "    print(\"Third subclass method\")\n",
        "\n",
        "s1 = Subclass_1()\n",
        "s2 = Subclass_2()\n",
        "s3 = Subclass_3()\n",
        "\n",
        "s1.over()\n",
        "s2.over()\n",
        "s3.over()\n",
        "\n",
        "\n"
      ],
      "metadata": {
        "colab": {
          "base_uri": "https://localhost:8080/"
        },
        "id": "WgTSN9D2dwnN",
        "outputId": "a4876f37-4fb3-402d-c07b-4a4cc3680251"
      },
      "execution_count": null,
      "outputs": [
        {
          "output_type": "stream",
          "name": "stdout",
          "text": [
            "First subclass method\n",
            "Second subclass method\n",
            "Third subclass method\n"
          ]
        }
      ]
    },
    {
      "cell_type": "markdown",
      "source": [
        "**45. How does polymorphism improve code readability and reusability?**\n",
        "\n",
        "Ans. Polymorphism enhances code readability by promoting code reuse and eliminating redundancy.\n",
        "Polymorphism improves the readability of code by allowing for better organization and encapsulation of related behaviors.\n",
        "\n",
        " It enables code reusability and flexibility by allowing multiple classes to implement the same method in different ways."
      ],
      "metadata": {
        "id": "CNrZY3W-yHon"
      }
    },
    {
      "cell_type": "markdown",
      "source": [
        "**46. Describe how Python supports polymorphism with duck typing.**\n",
        "\n",
        "Ans.\n",
        "Duck Typing is a type system used in dynamic languages. For example, Python, Perl, Ruby, PHP, Javascript, etc. where the type or the class of an object is less important than the method it defines. Using Duck Typing, we do not check types at all. Instead, we check for the presence of a given method or attribute.\n",
        "\n",
        "The name Duck Typing comes from the phrase:\n",
        "\n",
        "“If it looks like a duck and quacks like a duck, it’s a duck”"
      ],
      "metadata": {
        "id": "_7bkmtdB2XjT"
      }
    },
    {
      "cell_type": "markdown",
      "source": [
        "**47. How do you achieve encapsulation in Python?**\n",
        "\n",
        "Ans.Encapsulation is achieved by declaring a class’s data members and methods as either private or protected. But in Python, we do not have keywords like public, private, and protected, as in the case of Java. Instead, we achieve this by using single and double underscores."
      ],
      "metadata": {
        "id": "jQiTbQ3F4FWx"
      }
    },
    {
      "cell_type": "markdown",
      "source": [
        "**48. Can encapsulation be bypassed in Python? If so, how?**"
      ],
      "metadata": {
        "id": "Fubp2nog_fnU"
      }
    },
    {
      "cell_type": "code",
      "source": [
        "# Yes by using Getter and Setter method encapsulation can be bypassed in Python."
      ],
      "metadata": {
        "id": "1Sw8L-2k5CE7"
      },
      "execution_count": null,
      "outputs": []
    },
    {
      "cell_type": "markdown",
      "source": [
        "**49. Implement a class Bankaccount with a private balance attribute. Include methods to deposit, withdraw,\n",
        "and check the balance.**"
      ],
      "metadata": {
        "id": "wrc7dHcB5K3-"
      }
    },
    {
      "cell_type": "code",
      "source": [
        "\n",
        "# implement class Bank\n",
        "class Bank:\n",
        "  def __init__(self, balance):\n",
        "    self.__balance = balance\n",
        "\n",
        "# method to deposit balance\n",
        "  def deposit(self,amount):\n",
        "    self.__balance += amount\n",
        "\n",
        "# method to withdraw balance\n",
        "  def withdraw(self,amount):\n",
        "    if self.__balance >= amount:\n",
        "      self.__balance -= amount\n",
        "    else:\n",
        "      print(\"Insufficient balance\")\n",
        "\n",
        "# method to check balance\n",
        "  def check_balance(self):\n",
        "    return self.__balance"
      ],
      "metadata": {
        "id": "1UI2jN3L7d-_"
      },
      "execution_count": null,
      "outputs": []
    },
    {
      "cell_type": "markdown",
      "source": [
        "**50. Develop a Person class with private attributes name and email, and methods to set and get the email.**"
      ],
      "metadata": {
        "id": "q1txzHSE7Xp6"
      }
    },
    {
      "cell_type": "code",
      "source": [
        "# implement class Person\n",
        "class Person:\n",
        "  def __init__(self, name, email):\n",
        "    self.__name = name\n",
        "    self.__email = email\n",
        "# setter method\n",
        "  def set_email(self, email):\n",
        "    self.__email = email\n",
        "\n",
        "# getter method\n",
        "  def get_email(self):\n",
        "    return self.__email"
      ],
      "metadata": {
        "id": "l4hKg2XT3hzt"
      },
      "execution_count": null,
      "outputs": []
    },
    {
      "cell_type": "markdown",
      "source": [
        "**51. Why is encapsulation considered a pillar of object-oriented programming (OOP)?**\n",
        "\n",
        "Ans. Encapsulation is the core pillar of object-oriented programming,as it allows you to define controlled access to data stored inside objects of your class. This allows you to write clean, readable, and efficient code and prevent accidental changes or deletion of your class data"
      ],
      "metadata": {
        "id": "zs7ydtva9u7G"
      }
    },
    {
      "cell_type": "markdown",
      "source": [
        "**52. Create a decorator in Python that adds functionality to a simple function by printing a message before and after the function execution.**"
      ],
      "metadata": {
        "id": "WJtIUJc1_SUQ"
      }
    },
    {
      "cell_type": "code",
      "source": [
        "# property decorator\n",
        "\n",
        "def hello_world(func):\n",
        "  def inner():\n",
        "    #before function execution message.\n",
        "    print(\"Hello, world!\")\n",
        "\n",
        "    #empty function\n",
        "    func()\n",
        "\n",
        "    #after function execution message.\n",
        "    print(\"Goodbye, world!\")\n",
        "  return inner\n",
        "\n",
        "@hello_world\n",
        "def greet():\n",
        "  print(\"Welcome to Python!\")\n",
        "\n"
      ],
      "metadata": {
        "id": "GSkUsz129mad"
      },
      "execution_count": null,
      "outputs": []
    },
    {
      "cell_type": "markdown",
      "source": [
        "**53. Modify the decorator to accept arguments and print the function name along with the message.**"
      ],
      "metadata": {
        "id": "eHEDpglpEZ9l"
      }
    },
    {
      "cell_type": "code",
      "source": [
        "def my_decorator_func(func):\n",
        "\n",
        "    def wrapper_func(*args, **kwargs):\n",
        "        print('This message is printed before execution.')\n",
        "\n",
        "\n",
        "        func(*args, **kwargs)\n",
        "\n",
        "\n",
        "        print('This message is printed after execution.')\n",
        "    return wrapper_func\n",
        "\n",
        "\n",
        "@my_decorator_func\n",
        "def my_func(my_arg):\n",
        "    '''Example docstring for function'''\n",
        "\n",
        "    pass\n",
        "\n",
        "my_func(\"Hello\")\n",
        "print(my_func.__name__)"
      ],
      "metadata": {
        "colab": {
          "base_uri": "https://localhost:8080/"
        },
        "id": "_Bx-YTLfEAIV",
        "outputId": "61803e1e-acad-40f8-9d85-0c4ae57066ce"
      },
      "execution_count": null,
      "outputs": [
        {
          "output_type": "stream",
          "name": "stdout",
          "text": [
            "This message is printed before execution.\n",
            "This message is printed after execution.\n",
            "wrapper_func\n"
          ]
        }
      ]
    },
    {
      "cell_type": "markdown",
      "source": [
        "**54. Create two decorators, and apply them to a single function.Ensure that they excute in the order they are applied.**\n"
      ],
      "metadata": {
        "id": "KRP2RmJHHF5Y"
      }
    },
    {
      "cell_type": "code",
      "source": [
        "\n",
        "# define first decorator\n",
        "def decor1(func):\n",
        "  def wrap():\n",
        "    print(\"This is decorator 1.\")\n",
        "\n",
        "    func()\n",
        "\n",
        "    print(\"This is decorator 1.\")\n",
        "\n",
        "  return wrap\n",
        "\n",
        "# define second decorator\n",
        "def decor2(func):\n",
        "  def wrap():\n",
        "    print(\"This is decorator 2.\")\n",
        "\n",
        "    func()\n",
        "\n",
        "    print(\"This is decorator 2.\")\n",
        "\n",
        "  return wrap\n",
        "\n",
        "\n",
        "@decor1\n",
        "@decor2\n",
        "def hello():\n",
        "  print('Hello, Welcome to Pyhton OOP. ')\n",
        "\n",
        "\n",
        "\n",
        "\n",
        "hello()\n"
      ],
      "metadata": {
        "colab": {
          "base_uri": "https://localhost:8080/"
        },
        "id": "7ev18fDtEGmQ",
        "outputId": "d857102e-3e83-4e23-8bd8-5f8a46badb3e"
      },
      "execution_count": null,
      "outputs": [
        {
          "output_type": "stream",
          "name": "stdout",
          "text": [
            "This is decorator 1.\n",
            "This is decorator 2.\n",
            "Hello, Welcome to Pyhton OOP. \n",
            "This is decorator 2.\n",
            "This is decorator 1.\n"
          ]
        }
      ]
    },
    {
      "cell_type": "markdown",
      "source": [
        "**55. Modify the decorator to accept and pass function arguments to wrapped function.**"
      ],
      "metadata": {
        "id": "XgblNEZSJpW9"
      }
    },
    {
      "cell_type": "code",
      "source": [
        "def my_decorator_func(func):\n",
        "\n",
        "    def wrapper_func(*args, **kwargs):\n",
        "        print('This message is printed before execution.')\n",
        "\n",
        "\n",
        "        func(*args, **kwargs)\n",
        "\n",
        "\n",
        "        print('This message is printed after execution.')\n",
        "    return wrapper_func\n",
        "\n",
        "\n",
        "@my_decorator_func\n",
        "def my_func(my_arg):\n",
        "    '''Example docstring for function'''\n",
        "\n",
        "    pass\n",
        "\n",
        "my_func(\"Hello\")\n",
        "print(my_func.__name__)"
      ],
      "metadata": {
        "colab": {
          "base_uri": "https://localhost:8080/"
        },
        "id": "2ffUrS4WGb_K",
        "outputId": "0eb110d1-6a0f-4d2e-8f5a-e8fdc86d2427"
      },
      "execution_count": null,
      "outputs": [
        {
          "output_type": "stream",
          "name": "stdout",
          "text": [
            "This message is printed before execution.\n",
            "This message is printed after execution.\n",
            "wrapper_func\n"
          ]
        }
      ]
    },
    {
      "cell_type": "markdown",
      "source": [
        "**56. Create a decorator that preserves the metadata of original function.**"
      ],
      "metadata": {
        "id": "aXGKMzrfKbv-"
      }
    },
    {
      "cell_type": "code",
      "source": [
        "\n",
        "\n",
        "import time\n",
        "from functools import wraps\n",
        "\n",
        "\n",
        "def timethis(func):\n",
        "    '''Decorator that reports the execution time.'''\n",
        "\n",
        "    @wraps(func)\n",
        "    def wrapper(*args, **kwargs):\n",
        "        start = time.time()\n",
        "        result = func(*args, **kwargs)\n",
        "        end = time.time()\n",
        "\n",
        "        print(func.__name__, end-start)\n",
        "        return result\n",
        "\n",
        "    return wrapper\n",
        "\n",
        "@timethis\n",
        "def countdown(n:int):\n",
        "    '''Counts down'''\n",
        "    while n > 0:\n",
        "        n -= 1\n",
        "\n",
        "countdown(100000)\n",
        "print(countdown.__name__)\n",
        "print(countdown.__doc__)\n"
      ],
      "metadata": {
        "colab": {
          "base_uri": "https://localhost:8080/"
        },
        "id": "sU51wFCVJHtD",
        "outputId": "c12a5c0d-131c-4135-f41f-526b852e3ffe"
      },
      "execution_count": null,
      "outputs": [
        {
          "output_type": "stream",
          "name": "stdout",
          "text": [
            "countdown 0.009578227996826172\n",
            "countdown\n",
            "Counts down\n"
          ]
        }
      ]
    },
    {
      "cell_type": "markdown",
      "source": [
        "**57. Create a Python class 'Calculator' with a static method 'add' that takes in two numbers and return their sum.**"
      ],
      "metadata": {
        "id": "39GS3tzbLQLA"
      }
    },
    {
      "cell_type": "code",
      "source": [
        "# implement class Calculator\n",
        "\n",
        "class Calculator:\n",
        "  @staticmethod\n",
        "  def add(num1, num2):\n",
        "    return num1 + num2\n",
        "\n",
        "\n",
        "c = Calculator()\n",
        "c.add(20,30)"
      ],
      "metadata": {
        "colab": {
          "base_uri": "https://localhost:8080/"
        },
        "id": "G5B811wQLFtP",
        "outputId": "69558cb1-385d-444e-d8f5-2475fde081eb"
      },
      "execution_count": null,
      "outputs": [
        {
          "output_type": "execute_result",
          "data": {
            "text/plain": [
              "50"
            ]
          },
          "metadata": {},
          "execution_count": 36
        }
      ]
    },
    {
      "cell_type": "markdown",
      "source": [
        "**58. Create a Python class 'Employee' with a class 'method_get_employee_count' that returns the total number of employees created.**"
      ],
      "metadata": {
        "id": "Oy2HcGK4L8dp"
      }
    },
    {
      "cell_type": "code",
      "source": [
        "# define class Employee\n",
        "\n",
        "class Employee:\n",
        "  employee_count = 0\n",
        "\n",
        "  def __init__(self, name, age):\n",
        "    self.name = name\n",
        "    self.age = age\n",
        "    Employee.employee_count += 1\n",
        "\n",
        "  @classmethod\n",
        "  def get_employee_count(cls):\n",
        "    return cls.employee_count\n",
        "\n",
        "\n",
        "\n",
        "e1 = Employee(\"Karan\", 30)\n",
        "e2 = Employee(\"Aman\", 25)\n",
        "e3 = Employee(\"Ankit\", 35)\n",
        "\n",
        "print(f\"Total number of employees : {Employee.get_employee_count()}\")\n",
        "\n"
      ],
      "metadata": {
        "colab": {
          "base_uri": "https://localhost:8080/"
        },
        "id": "pg6S4e0FLvyC",
        "outputId": "91867b8f-4b44-41cc-d175-d0ceee06e58d"
      },
      "execution_count": null,
      "outputs": [
        {
          "output_type": "stream",
          "name": "stdout",
          "text": [
            "Total number of employees : 3\n"
          ]
        }
      ]
    },
    {
      "cell_type": "markdown",
      "source": [
        "**59. Create a Python class 'Stringformatter' with a static method 'reverse_string' that takes string as input and returns its reverse.**"
      ],
      "metadata": {
        "id": "G5-QyzY_PAts"
      }
    },
    {
      "cell_type": "code",
      "source": [
        "# Ans.\n",
        "\n",
        "class StringFormatter:\n",
        "    @staticmethod\n",
        "    def reverse_string(string):\n",
        "        return string[::-1]\n",
        "\n",
        "s = StringFormatter()\n",
        "print(s.reverse_string(\"Hello, World!\"))\n"
      ],
      "metadata": {
        "colab": {
          "base_uri": "https://localhost:8080/"
        },
        "id": "8FyTkWHELyYf",
        "outputId": "70c7c895-8a49-4e84-dfb3-0033b641da30"
      },
      "execution_count": null,
      "outputs": [
        {
          "output_type": "stream",
          "name": "stdout",
          "text": [
            "!dlroW ,olleH\n"
          ]
        }
      ]
    },
    {
      "cell_type": "markdown",
      "source": [
        "**60. Create a Python class 'Circle' with a class method 'calculate_area' that calculates the area of a circle given its radius.**"
      ],
      "metadata": {
        "id": "1xLu4vtHPvqh"
      }
    },
    {
      "cell_type": "code",
      "source": [
        "class Circle:\n",
        "    def __init__(self, radius):\n",
        "        self.radius = radius\n",
        "\n",
        "    @classmethod\n",
        "    def calculate_area(cls, radius):\n",
        "        return 3.14 * radius ** 2\n",
        "\n",
        "c = Circle(5)\n",
        "c.calculate_area(5)"
      ],
      "metadata": {
        "colab": {
          "base_uri": "https://localhost:8080/"
        },
        "id": "z3B346GXL0M1",
        "outputId": "557d977d-ca70-49f2-9709-584ed2c88645"
      },
      "execution_count": null,
      "outputs": [
        {
          "output_type": "execute_result",
          "data": {
            "text/plain": [
              "78.5"
            ]
          },
          "metadata": {},
          "execution_count": 51
        }
      ]
    },
    {
      "cell_type": "markdown",
      "source": [
        "**61. Create a Python class 'TemperatureConverter' with static method 'celcius_to_farhenheit' that converts celsius to farhenheit.**"
      ],
      "metadata": {
        "id": "MaIdIYHXQe6U"
      }
    },
    {
      "cell_type": "code",
      "source": [
        "class TemperatureConverter:\n",
        "    @staticmethod\n",
        "    def celcius_to_farhenheit(celcius):\n",
        "        return (celcius * 9/5) + 32\n",
        "\n",
        "convert = TemperatureConverter()\n",
        "convert.celcius_to_farhenheit(98)"
      ],
      "metadata": {
        "colab": {
          "base_uri": "https://localhost:8080/"
        },
        "id": "l4eY8af5QMvw",
        "outputId": "c5beba18-4a66-4b1c-d18a-4afde43b8e94"
      },
      "execution_count": null,
      "outputs": [
        {
          "output_type": "execute_result",
          "data": {
            "text/plain": [
              "208.4"
            ]
          },
          "metadata": {},
          "execution_count": 54
        }
      ]
    },
    {
      "cell_type": "markdown",
      "source": [
        "**62. What is the purpose of the `__str__`() in Python classes? Provide example.**"
      ],
      "metadata": {
        "id": "JA3dIUgrRLU_"
      }
    },
    {
      "cell_type": "code",
      "source": [
        "# Ans.\n",
        "\n",
        "#  The __str__() dunder method returns a reader-friendly string representation of a class object.\n",
        "#  It can be called with the built-in str() and print() functions.\n",
        "#  Unlike __repr__(), it is not necessary that __str__() return a valid Python expression.\n",
        "\n",
        "\n",
        "class  Home:\n",
        "  def  __init__(self, rooms, stories):\n",
        "    self.rooms = rooms\n",
        "    self.stories = stories\n",
        "\n",
        "  def  __str__(self):\n",
        "    return  \"The house has {} rooms and {} stories\".format(self.rooms, self.stories)\n",
        "\n",
        "home = Home(4, 2)\n",
        "\n",
        "print(home.__str__())"
      ],
      "metadata": {
        "colab": {
          "base_uri": "https://localhost:8080/"
        },
        "id": "8dUJ7GrCQ-Sd",
        "outputId": "1a2d12e9-f2c7-48cb-969b-1ddbd8682e92"
      },
      "execution_count": null,
      "outputs": [
        {
          "output_type": "stream",
          "name": "stdout",
          "text": [
            "The house has 4 rooms and 2 stories\n"
          ]
        }
      ]
    },
    {
      "cell_type": "markdown",
      "source": [
        "**63. How does the `__len__`() method work in Python ? Provide example.**"
      ],
      "metadata": {
        "id": "DMZNiy9VTG8h"
      }
    },
    {
      "cell_type": "code",
      "source": [
        "# Ans.\n",
        "\n",
        "# it is basically used to implement the len() function in Python\n",
        "# because whenever we call the len() function then internally __len__ magic method is called.\n",
        "# It finally returns an integer value that is greater than or equal to zero\n",
        "#  as it represents the length of the object for which it is called.\n",
        "\n",
        "\n",
        "#Example:\n",
        "\n",
        "class Length_object:\n",
        "    def __init__(self, a):\n",
        "        self.a = a\n",
        "    def __len__(self):\n",
        "        return len(self.a)\n",
        "\n",
        "obj = Length_object(\"This is lenght class\")\n",
        "print(len(obj))\n",
        "\n"
      ],
      "metadata": {
        "colab": {
          "base_uri": "https://localhost:8080/"
        },
        "id": "eTXQ4JoOSv-t",
        "outputId": "3b5ab659-f897-4556-a358-1841c0a9a375"
      },
      "execution_count": null,
      "outputs": [
        {
          "output_type": "stream",
          "name": "stdout",
          "text": [
            "20\n"
          ]
        }
      ]
    },
    {
      "cell_type": "markdown",
      "source": [
        "**64. Explain the usage of the `__add__`() method in Python classes. Provide example.**"
      ],
      "metadata": {
        "id": "Xk-H4CfdXcDF"
      }
    },
    {
      "cell_type": "code",
      "source": [
        "# Ans.\n",
        "\n",
        "# Python __add__() method adds two objects and\n",
        "# returns a new object as a resultant object in Python.\n",
        "\n",
        "\n",
        "\n",
        "class Pwskills:\n",
        "\n",
        "    def __init__(self, val):\n",
        "        self.val = val\n",
        "\n",
        "    def __add__(self, val2):\n",
        "        return Pwskills(self.val + val2.val)\n",
        "\n",
        "obj1 = Pwskills(\"Data Science\")\n",
        "obj2 = Pwskills(\" with Generative AI\")\n",
        "obj3 = obj1 + obj2\n",
        "print(obj3.val)"
      ],
      "metadata": {
        "colab": {
          "base_uri": "https://localhost:8080/"
        },
        "id": "PyhIxdo1W_8j",
        "outputId": "aeb3ff71-bb5f-46d6-e9da-0aba1e41453e"
      },
      "execution_count": null,
      "outputs": [
        {
          "output_type": "stream",
          "name": "stdout",
          "text": [
            "Data Science with Generative AI\n"
          ]
        }
      ]
    },
    {
      "cell_type": "markdown",
      "source": [
        "**65. What is the purpose of the `__getitem__`() method in Python? Provide example.**"
      ],
      "metadata": {
        "id": "EKKncKAkYsH_"
      }
    },
    {
      "cell_type": "code",
      "source": [
        "# The method __getitem__(self, key) defines behavior for when an item is accessed,\n",
        "# using the notation self[key]. This is also part of both the mutable and immutable container protocols.\n",
        "\n",
        "\n",
        "\n",
        "class Bank_record:\n",
        "\n",
        "    def __init__(self, name):\n",
        "\n",
        "        self.record = {\n",
        "                        \"name\": name,\n",
        "                        \"balance\": 100,\n",
        "                        \"transaction\":[100]\n",
        "                        }\n",
        "\n",
        "    def __getitem__(self, key):\n",
        "        return self.record[key]\n",
        "\n",
        "    def getBalance(self):\n",
        "        return self.__getitem__(\"balance\")\n",
        "\n",
        "Aman = Bank_record(\"Aman\")\n",
        "print(Aman.getBalance())\n"
      ],
      "metadata": {
        "colab": {
          "base_uri": "https://localhost:8080/"
        },
        "id": "XWF7yopaYgfn",
        "outputId": "709ed29d-831d-4915-9b44-f47cc14865e1"
      },
      "execution_count": null,
      "outputs": [
        {
          "output_type": "stream",
          "name": "stdout",
          "text": [
            "100\n"
          ]
        }
      ]
    },
    {
      "cell_type": "markdown",
      "source": [
        "**66. Explain the usage of the `__iter__`() and `__next__`() methods in Python.\n",
        "Provide an example using iterators.**"
      ],
      "metadata": {
        "id": "LJvXPZZWaV7j"
      }
    },
    {
      "cell_type": "code",
      "source": [
        "# Ans.\n",
        "\n",
        "# The __iter__() in Python returns an iterator object that goes through each element of the given object.\n",
        "# The next element can be accessed through __next__() in Python. In the case of the callable object and sentinel value,\n",
        "#  the iteration is done until the value is found or the end of elements is reached. In any case, the original object is not modified.\n",
        "\n",
        "\n",
        "# Example:\n",
        "\n",
        "listB = ['Cat', 'Bat', 'Sat', 'Mat']\n",
        "\n",
        "\n",
        "iter_listB = listB.__iter__()\n",
        "\n",
        "try:\n",
        "    print(iter_listB.__next__())\n",
        "    print(iter_listB.__next__())\n",
        "    print(iter_listB.__next__())\n",
        "    print(iter_listB.__next__())\n",
        "    print(iter_listB.__next__())\n",
        "except:\n",
        "    print(\" \\nThrowing 'StopIterationError'\",\n",
        "                     \"I cannot count more.\")"
      ],
      "metadata": {
        "colab": {
          "base_uri": "https://localhost:8080/"
        },
        "id": "VKA_jmFXaLnh",
        "outputId": "1910d581-7f7d-4261-e4e5-2f7bd32cabd1"
      },
      "execution_count": null,
      "outputs": [
        {
          "output_type": "stream",
          "name": "stdout",
          "text": [
            "Cat\n",
            "Bat\n",
            "Sat\n",
            "Mat\n",
            " \n",
            "Throwing 'StopIterationError' I cannot count more.\n"
          ]
        }
      ]
    },
    {
      "cell_type": "markdown",
      "source": [
        "**67. What is the purpose of a getter method in Python? Provide\n",
        "an example demonstrating the use of a getter method using property decorators.**"
      ],
      "metadata": {
        "id": "FGyqxtDvdX0O"
      }
    },
    {
      "cell_type": "code",
      "source": [
        "# Ans.\n",
        "\n",
        "# Getter method used in Object-Oriented Programming (OOPS) which helps to access the private attributes from a class.\n",
        "\n",
        "class SampleClass:\n",
        "\n",
        "    def __init__(self, a):\n",
        "        ## private varibale or property in Python\n",
        "        self.__a = a\n",
        "\n",
        "    ## getter method to get the properties using an object\n",
        "    def get_a(self):\n",
        "        return self.__a\n",
        "\n",
        "s = SampleClass(10)\n",
        "print(s.get_a())\n"
      ],
      "metadata": {
        "colab": {
          "base_uri": "https://localhost:8080/"
        },
        "id": "0Zpab7K5dHLB",
        "outputId": "8815e780-b35d-4e81-8f79-516692103a88"
      },
      "execution_count": null,
      "outputs": [
        {
          "output_type": "stream",
          "name": "stdout",
          "text": [
            "10\n"
          ]
        }
      ]
    },
    {
      "cell_type": "markdown",
      "source": [
        "**68. Explain the role of setter methods in Python. Demonstrate how to use a setter method to modify a class attributes using property decorators.**"
      ],
      "metadata": {
        "id": "gDH2efbFf7We"
      }
    },
    {
      "cell_type": "code",
      "source": [
        "# Ans.\n",
        "\n",
        "# These are the methods used in OOPS feature which helps to set the value to private attributes in a class.\n",
        "\n",
        "# Example:\n",
        "\n",
        "class SampleClass:\n",
        "\n",
        "    def __init__(self, a):\n",
        "        ## private varibale or property in Python\n",
        "        self.__a = a\n",
        "\n",
        "    ## getter method to get the properties using an object\n",
        "    def get_a(self):\n",
        "        return self.__a\n",
        "\n",
        "    ## setter method to change the value 'a' using an object\n",
        "    def set_a(self, a):\n",
        "        self.__a = a\n",
        "\n",
        "s = SampleClass(10)\n",
        "s.set_a(20)\n",
        "print(s.get_a())\n"
      ],
      "metadata": {
        "colab": {
          "base_uri": "https://localhost:8080/"
        },
        "id": "xXsgmhYOexki",
        "outputId": "46e36b54-f6fd-4412-91c4-e6673d7f2caf"
      },
      "execution_count": null,
      "outputs": [
        {
          "output_type": "stream",
          "name": "stdout",
          "text": [
            "20\n"
          ]
        }
      ]
    },
    {
      "cell_type": "markdown",
      "source": [
        "**69. What is the purpose of the @property decorator in Python ? Provide an example illustrating its usage.**"
      ],
      "metadata": {
        "id": "w7ETpiBzhWAQ"
      }
    },
    {
      "cell_type": "code",
      "source": [
        "# Ans.\n",
        "# Property decorator is a built-in decorator in Python which is helpful in defining the properties effortlessly\n",
        "#  without manually calling the inbuilt function property().\n",
        "#  Which is used to return the property attributes of a class from the stated getter, setter and deleter as parameters.\n",
        "\n",
        "class Human:\n",
        "    def __init__(self, age):\n",
        "        self.age = age\n",
        "\n",
        "    @property\n",
        "    def age(self):\n",
        "        return self._age\n",
        "\n",
        "    @property\n",
        "    def months(self):\n",
        "        return self._age * 12\n",
        "\n",
        "    @age.setter\n",
        "    def age(self, new_age):\n",
        "        self._age = new_age\n",
        "\n",
        "\n",
        "Aman = Human(26)\n",
        "\n",
        "print(f\"I am {Aman.age} years old.\")\n",
        "\n"
      ],
      "metadata": {
        "colab": {
          "base_uri": "https://localhost:8080/"
        },
        "id": "aA7H7Ci0g5S6",
        "outputId": "b5870701-fca1-4f61-b5da-debb77c71a54"
      },
      "execution_count": null,
      "outputs": [
        {
          "output_type": "stream",
          "name": "stdout",
          "text": [
            "I am 26 years old.\n"
          ]
        }
      ]
    },
    {
      "cell_type": "markdown",
      "source": [
        "**70. Explain the use of the @deleter decorator in Python property decorators. Provide a code example demonstrating its application.**"
      ],
      "metadata": {
        "id": "VEAtxEitjk8_"
      }
    },
    {
      "cell_type": "code",
      "source": [
        "# Ans.\n",
        "\n",
        "# Python’s deleter function is used to remove an object’s property\n",
        "\n",
        "\n",
        "# Example:\n",
        "class Person:\n",
        "\n",
        "    def __init__(self, name):\n",
        "        self._name = name\n",
        "\n",
        "    # using decorator for property\n",
        "    @property\n",
        "    def name(self):\n",
        "        return self._name\n",
        "\n",
        "    # using decorators for setter\n",
        "    @name.setter\n",
        "    def name(self, value):\n",
        "        self._name = value\n",
        "\n",
        "    #using decorator for python deleter\n",
        "    @name.deleter\n",
        "    def name(self):\n",
        "        del self._name\n",
        "\n",
        "\n",
        "# creating new object\n",
        "person = Person('Hradesh')\n",
        "\n",
        "# printing the name\n",
        "print(person.name)"
      ],
      "metadata": {
        "colab": {
          "base_uri": "https://localhost:8080/"
        },
        "id": "HMt2Pxm0iiDV",
        "outputId": "9774e5c7-2e2d-413d-c908-2ea3ba360306"
      },
      "execution_count": null,
      "outputs": [
        {
          "output_type": "stream",
          "name": "stdout",
          "text": [
            "Hradesh\n"
          ]
        }
      ]
    },
    {
      "cell_type": "code",
      "source": [
        "# deleting the name\n",
        "del person.name\n",
        "\n",
        "# calling name\n",
        "# print(person.name)"
      ],
      "metadata": {
        "id": "Bs0byk-KlAsX"
      },
      "execution_count": null,
      "outputs": []
    },
    {
      "cell_type": "markdown",
      "source": [
        "**71. How does encapsulation relate to property decorator in Python ? Provide an example showcasing encapsulation using property decorators.**  "
      ],
      "metadata": {
        "id": "pQ_QIrLKlkhk"
      }
    },
    {
      "cell_type": "code",
      "source": [
        "# Ans.\n",
        "# a decorator provides a way of adding some extra functionality to a function, class or class method.\n",
        "#  It’s possible to write your own decorators\n",
        "# there are several built-in decorators that you can use directly. One of these is the property decorator,\n",
        "# which facilitates encapsulation within a class.\n",
        "\n",
        "# Example:\n",
        "\n",
        "class Person:\n",
        "  def __init__(self, name):\n",
        "    self._name = name\n",
        "\n",
        "  @property\n",
        "  def name(self):\n",
        "    return self._name\n",
        "\n",
        "  @name.setter\n",
        "  def name(self,value):\n",
        "    self._name = value\n",
        "\n",
        "  @name.deleter\n",
        "  def name(self):\n",
        "    del self._name\n",
        "\n",
        "P = Person(\"Hradesh\")\n",
        "print(P.name)\n",
        "P.name = \"Aman\"\n",
        "print(P.name)\n",
        "# del P.name\n",
        "# print(P.name)"
      ],
      "metadata": {
        "id": "ohmBHxlulQjU",
        "colab": {
          "base_uri": "https://localhost:8080/"
        },
        "outputId": "ddc0b173-a047-4d35-fea3-e3b88f24d63f"
      },
      "execution_count": null,
      "outputs": [
        {
          "output_type": "stream",
          "name": "stdout",
          "text": [
            "Hradesh\n",
            "Aman\n"
          ]
        }
      ]
    },
    {
      "cell_type": "code",
      "source": [],
      "metadata": {
        "id": "Q1uLZypB9xX9"
      },
      "execution_count": null,
      "outputs": []
    }
  ]
}