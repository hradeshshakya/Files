{
  "nbformat": 4,
  "nbformat_minor": 0,
  "metadata": {
    "colab": {
      "provenance": []
    },
    "kernelspec": {
      "name": "python3",
      "display_name": "Python 3"
    },
    "language_info": {
      "name": "python"
    }
  },
  "cells": [
    {
      "cell_type": "markdown",
      "source": [
        "###**Question 1.1:**\n",
        "\n",
        "\n",
        "**1.1(a)** Ans.\n",
        "\n",
        " Static variables provide a way to retain information between function calls, offer global accessibility within their scope, and enable data sharing. On the other hand, dynamic variables allow for runtime memory allocation, can have broader scope, and maintain data isolation among instances or objects.\n",
        "\n",
        "\n"
      ],
      "metadata": {
        "id": "RnA7QSUdWjGG"
      }
    },
    {
      "cell_type": "markdown",
      "source": [
        "**1.1(b)** Ans."
      ],
      "metadata": {
        "id": "NAo5n9tPZRE8"
      }
    },
    {
      "cell_type": "code",
      "execution_count": null,
      "metadata": {
        "colab": {
          "base_uri": "https://localhost:8080/"
        },
        "id": "bHjS5JolWiOX",
        "outputId": "1c9045ca-024d-45dd-bc74-a5989ff9055b"
      },
      "outputs": [
        {
          "output_type": "stream",
          "name": "stdout",
          "text": [
            "{'brand': 'Ford', 'year': 1964}\n",
            "{'brand': 'Ford', 'model': 'Mustang'}\n",
            "{}\n"
          ]
        }
      ],
      "source": [
        "# pop() can remove any item from a dictionary as long as you specify the key.\n",
        "car = {\n",
        "  \"brand\": \"Ford\",\n",
        "  \"model\": \"Mustang\",\n",
        "  \"year\": 1964\n",
        "}\n",
        "\n",
        "car.pop(\"model\")\n",
        "\n",
        "print(car)\n",
        "\n",
        "#  popitem() can only remove and return the value of the last element in the dictionary.\n",
        "car = {\n",
        "  \"brand\": \"Ford\",\n",
        "  \"model\": \"Mustang\",\n",
        "  \"year\": 1964\n",
        "}\n",
        "\n",
        "car.popitem()\n",
        "\n",
        "print(car)\n",
        "\n",
        "# clear() method remove all the items from  a dictionary\n",
        "\n",
        "car = {\n",
        "  \"brand\": \"Ford\",\n",
        "  \"model\": \"Mustang\",\n",
        "  \"year\": 1964\n",
        "}\n",
        "\n",
        "car.clear()\n",
        "\n",
        "print(car)"
      ]
    },
    {
      "cell_type": "markdown",
      "source": [
        "**1.1(c)** Ans."
      ],
      "metadata": {
        "id": "eJ6ePNXhZ0TX"
      }
    },
    {
      "cell_type": "code",
      "source": [
        "# The frozenset() function returns an unchangeable frozenset object (which is like a set object, only unchangeable).\n",
        "\n",
        "fruits = (\"apple\", \"banana\", \"cherry\")\n",
        "\n",
        "x = frozenset(fruits)\n",
        "\n",
        "print(x)"
      ],
      "metadata": {
        "colab": {
          "base_uri": "https://localhost:8080/"
        },
        "id": "76d9oFQ6YmAz",
        "outputId": "500b5ede-23ee-45a9-c462-d42abe52b722"
      },
      "execution_count": null,
      "outputs": [
        {
          "output_type": "stream",
          "name": "stdout",
          "text": [
            "frozenset({'cherry', 'banana', 'apple'})\n"
          ]
        }
      ]
    },
    {
      "cell_type": "markdown",
      "source": [
        "**1.1(d)** Ans.\n",
        "\n",
        "`Immutable `Objects are of in-built datatypes like int, float, bool, string, Unicode, and tuple. In simple words, an immutable object can’t be changed after it is created.\n",
        "\n",
        "`Mutable`\n",
        "Lists are mutable in Python. We can add or remove elements from the list. In Python, mutability refers to the capability of an object to be changed or modified after its creation."
      ],
      "metadata": {
        "id": "wDdxGRb3aRMX"
      }
    },
    {
      "cell_type": "code",
      "source": [
        "# Immutable Example\n",
        "# Python code to test that\n",
        "# tuples are immutable\n",
        "\n",
        "tuple1 = (0, 1, 2, 3)\n",
        "tuple1[0] = 4\n",
        "print(tuple1)\n",
        "\n",
        "\n",
        "# Mutable Example\n",
        "# Python code to test that\n",
        "# lists are mutable\n",
        "list1 = [1, 2, 4, 4, 5]\n",
        "list1[0] = 2\n",
        "print(list1)"
      ],
      "metadata": {
        "colab": {
          "base_uri": "https://localhost:8080/",
          "height": 219
        },
        "id": "8OJMZ6uOaLsG",
        "outputId": "c3e0982c-e4f9-49da-be4a-163494d52bd8"
      },
      "execution_count": null,
      "outputs": [
        {
          "output_type": "error",
          "ename": "TypeError",
          "evalue": "'tuple' object does not support item assignment",
          "traceback": [
            "\u001b[0;31m---------------------------------------------------------------------------\u001b[0m",
            "\u001b[0;31mTypeError\u001b[0m                                 Traceback (most recent call last)",
            "\u001b[0;32m<ipython-input-7-bfc08321bb7b>\u001b[0m in \u001b[0;36m<cell line: 6>\u001b[0;34m()\u001b[0m\n\u001b[1;32m      4\u001b[0m \u001b[0;34m\u001b[0m\u001b[0m\n\u001b[1;32m      5\u001b[0m \u001b[0mtuple1\u001b[0m \u001b[0;34m=\u001b[0m \u001b[0;34m(\u001b[0m\u001b[0;36m0\u001b[0m\u001b[0;34m,\u001b[0m \u001b[0;36m1\u001b[0m\u001b[0;34m,\u001b[0m \u001b[0;36m2\u001b[0m\u001b[0;34m,\u001b[0m \u001b[0;36m3\u001b[0m\u001b[0;34m)\u001b[0m\u001b[0;34m\u001b[0m\u001b[0;34m\u001b[0m\u001b[0m\n\u001b[0;32m----> 6\u001b[0;31m \u001b[0mtuple1\u001b[0m\u001b[0;34m[\u001b[0m\u001b[0;36m0\u001b[0m\u001b[0;34m]\u001b[0m \u001b[0;34m=\u001b[0m \u001b[0;36m4\u001b[0m\u001b[0;34m\u001b[0m\u001b[0;34m\u001b[0m\u001b[0m\n\u001b[0m\u001b[1;32m      7\u001b[0m \u001b[0mprint\u001b[0m\u001b[0;34m(\u001b[0m\u001b[0mtuple1\u001b[0m\u001b[0;34m)\u001b[0m\u001b[0;34m\u001b[0m\u001b[0;34m\u001b[0m\u001b[0m\n\u001b[1;32m      8\u001b[0m \u001b[0;34m\u001b[0m\u001b[0m\n",
            "\u001b[0;31mTypeError\u001b[0m: 'tuple' object does not support item assignment"
          ]
        }
      ]
    },
    {
      "cell_type": "markdown",
      "source": [
        "**1.1(e)** Ans.\n",
        "\n",
        "The __init__ method is crucial in object-oriented programming in Python. It is a special method automatically called when an object is created from a class. This method allows us to initialize an object's attributes and perform any necessary setup or initialization tasks."
      ],
      "metadata": {
        "id": "ABN_bBQkboWE"
      }
    },
    {
      "cell_type": "code",
      "source": [
        "# example __init__() method\n",
        "\n",
        "class Person:\n",
        "  def __init__(self, name, age):\n",
        "    self.name = name\n",
        "    self.age = age\n",
        "\n",
        "p1 = Person(\"John\", 36)\n",
        "\n",
        "print(p1.name)\n",
        "print(p1.age)"
      ],
      "metadata": {
        "colab": {
          "base_uri": "https://localhost:8080/"
        },
        "id": "GrqJ1wCQbfKJ",
        "outputId": "1fc0b346-7f18-4279-b8e2-8c507615d8d7"
      },
      "execution_count": null,
      "outputs": [
        {
          "output_type": "stream",
          "name": "stdout",
          "text": [
            "John\n",
            "36\n"
          ]
        }
      ]
    },
    {
      "cell_type": "markdown",
      "source": [
        "**1.1(f)** Ans.\n",
        "\n",
        "`Docstring` : When it comes to writing clean, well-documented code, Python developers have a secret weapon at their disposal – docstrings. Docstrings, short for documentation strings, are vital in conveying the purpose and functionality of Python functions, modules, and classes."
      ],
      "metadata": {
        "id": "9v8lHdMWcAXd"
      }
    },
    {
      "cell_type": "code",
      "source": [
        "def my_function():\n",
        "    '''Demonstrates triple double quotes\n",
        "    docstrings and does nothing really.'''\n",
        "\n",
        "    return None\n",
        "\n",
        "print(\"Using __doc__:\")\n",
        "print(my_function.__doc__)\n",
        "\n",
        "print(\"Using help:\")\n",
        "help(my_function)"
      ],
      "metadata": {
        "colab": {
          "base_uri": "https://localhost:8080/"
        },
        "id": "2hKeaKchb9KS",
        "outputId": "26924e56-bbec-4c09-c83c-5ecb5ac32cbf"
      },
      "execution_count": null,
      "outputs": [
        {
          "output_type": "stream",
          "name": "stdout",
          "text": [
            "Using __doc__:\n",
            "Demonstrates triple double quotes\n",
            "    docstrings and does nothing really.\n",
            "Using help:\n",
            "Help on function my_function in module __main__:\n",
            "\n",
            "my_function()\n",
            "    Demonstrates triple double quotes\n",
            "    docstrings and does nothing really.\n",
            "\n"
          ]
        }
      ]
    },
    {
      "cell_type": "markdown",
      "source": [
        "**1.1(g)** Ans.\n",
        "\n",
        "Unit testing is a crucial aspect of software development that involves testing individual units or components of code to ensure their proper functioning. It aims to validate that each unit, such as a function or method, works as intended and produces the expected output."
      ],
      "metadata": {
        "id": "m6xPXk1KcozT"
      }
    },
    {
      "cell_type": "code",
      "source": [
        "import unittest\n",
        "\n",
        "\n",
        "def add(a, b):\n",
        "    return a + b\n",
        "\n",
        "class TestAddFunction(unittest.TestCase):\n",
        "    def test_add_positive_numbers(self):\n",
        "        self.assertEqual(add(1, 2), 3)\n",
        "\n",
        "    def test_add_negative_numbers(self):\n",
        "        self.assertEqual(add(-1, -2), -3)\n",
        "\n",
        "    def test_add_mixed_numbers(self):\n",
        "        self.assertEqual(add(1, -2), -1)\n",
        "        self.assertEqual(add(-1, 2), 1)\n",
        "\n",
        "if __name__ == '__main__':\n",
        "    unittest.main()\n"
      ],
      "metadata": {
        "colab": {
          "base_uri": "https://localhost:8080/",
          "height": 309
        },
        "id": "tPtw5XFUcjip",
        "outputId": "0544ab0a-f5b2-4429-cc89-d0cc077f9608"
      },
      "execution_count": null,
      "outputs": [
        {
          "output_type": "stream",
          "name": "stderr",
          "text": [
            "E\n",
            "======================================================================\n",
            "ERROR: /root/ (unittest.loader._FailedTest)\n",
            "----------------------------------------------------------------------\n",
            "AttributeError: module '__main__' has no attribute '/root/'\n",
            "\n",
            "----------------------------------------------------------------------\n",
            "Ran 1 test in 0.003s\n",
            "\n",
            "FAILED (errors=1)\n"
          ]
        },
        {
          "output_type": "error",
          "ename": "SystemExit",
          "evalue": "True",
          "traceback": [
            "An exception has occurred, use %tb to see the full traceback.\n",
            "\u001b[0;31mSystemExit\u001b[0m\u001b[0;31m:\u001b[0m True\n"
          ]
        },
        {
          "output_type": "stream",
          "name": "stderr",
          "text": [
            "/usr/local/lib/python3.10/dist-packages/IPython/core/interactiveshell.py:3561: UserWarning: To exit: use 'exit', 'quit', or Ctrl-D.\n",
            "  warn(\"To exit: use 'exit', 'quit', or Ctrl-D.\", stacklevel=1)\n"
          ]
        }
      ]
    },
    {
      "cell_type": "markdown",
      "source": [
        "**1.1(h)** Ans.\n"
      ],
      "metadata": {
        "id": "102deD3ndgnz"
      }
    },
    {
      "cell_type": "code",
      "source": [
        "# The break statement in Python is used to terminate the loop or statement in which it is present.\n",
        "# After that, the control will pass to the statements that are present after the break statement,\n",
        "# if available. If the break statement is present in the nested loop,\n",
        "# then it terminates only those loops which contain the break statement.\n",
        "\n",
        "for val in \"string\":\n",
        "    if val == \"i\":\n",
        "        break\n",
        "    print(val)\n",
        "\n",
        "print(\"The end\")\n",
        "\n",
        "\n",
        "#  Continue statement is opposite to that of the break statement,\n",
        "#  instead of terminating the loop, it forces to execute the next iteration of the loop.\n",
        "\n",
        "for val in \"string\":\n",
        "    if val == \"i\":\n",
        "        continue\n",
        "    print(val)\n",
        "\n",
        "print(\"The end\")\n",
        "\n",
        "\n",
        "# As the name suggests pass statement simply does nothing.\n",
        "# The pass statement in Python is used when a statement is required syntactically but you do not want any command or code to execute.\n",
        "\n",
        "for val in \"string\":\n",
        "    if val == \"i\":\n",
        "        pass\n",
        "    print(val)\n",
        "\n",
        "print(\"The end\")"
      ],
      "metadata": {
        "colab": {
          "base_uri": "https://localhost:8080/"
        },
        "id": "P5uK2i4UdFcJ",
        "outputId": "3bf25e3e-c524-4c8d-a8a4-0cade9e918d1"
      },
      "execution_count": null,
      "outputs": [
        {
          "output_type": "stream",
          "name": "stdout",
          "text": [
            "s\n",
            "t\n",
            "r\n",
            "The end\n",
            "s\n",
            "t\n",
            "r\n",
            "n\n",
            "g\n",
            "The end\n",
            "s\n",
            "t\n",
            "r\n",
            "i\n",
            "n\n",
            "g\n",
            "The end\n"
          ]
        }
      ]
    },
    {
      "cell_type": "markdown",
      "source": [
        "**1.1(i)** Ans.\n",
        "When working with classes in Python, the term “self” refers to the instance of the class that is currently being used."
      ],
      "metadata": {
        "id": "yQhA0AXZedvu"
      }
    },
    {
      "cell_type": "code",
      "source": [
        "class Mynumber:\n",
        "    def __init__(self, value):\n",
        "        self.value = value\n",
        "\n",
        "    def print_value(self):\n",
        "        print(self.value)\n",
        "\n",
        "obj1 = Mynumber(17)\n",
        "obj1.print_value()"
      ],
      "metadata": {
        "colab": {
          "base_uri": "https://localhost:8080/"
        },
        "id": "ThGLE1c3d_5r",
        "outputId": "6ecc3e11-00d0-4d83-ea1e-7e50bab998aa"
      },
      "execution_count": null,
      "outputs": [
        {
          "output_type": "stream",
          "name": "stdout",
          "text": [
            "17\n"
          ]
        }
      ]
    },
    {
      "cell_type": "markdown",
      "source": [
        "**1.1(j)** Ans.\n",
        "\n",
        "**Global Attributes:**\n",
        "- Global attributes are variables that are accessible throughout the entire program, regardless of the scope.\n",
        "- They are typically defined outside of any function or class, at the module level.\n",
        "- Global attributes can be accessed and modified from anywhere in the program.\n",
        "- It is generally recommended to use global attributes sparingly, as they can make the code harder to maintain and understand.\n",
        "\n",
        "**Protected Attributes:**\n",
        "- Protected attributes are attributes that are intended to be accessed only by the class itself and its subclasses.\n",
        "- They are denoted by a single leading underscore (_) before the attribute name (e.g., _protected_attr).\n",
        "- Protected attributes are not truly private, as they can still be accessed from outside the class, but the single underscore convention suggests that they should be treated as internal implementation details.\n",
        "- Using protected attributes allows for a level of encapsulation and information hiding, while still providing access to subclasses.\n",
        "\n",
        "**Private Attributes:**\n",
        "- Private attributes are attributes that are intended to be accessed only within the class in which they are defined.\n",
        "- They are denoted by a double leading underscore (__) before the attribute name (e.g., __private_attr).\n",
        "- The double underscore prefix triggers name mangling, which means the attribute name is automatically renamed to _ClassName__private_attr to ensure uniqueness and prevent name clashes in subclasses.\n",
        "- Private attributes provide a stronger level of encapsulation and prevent accidental access or modification from outside the class."
      ],
      "metadata": {
        "id": "QKfhs40teuC8"
      }
    },
    {
      "cell_type": "code",
      "source": [
        "# Global attributes example:\n",
        "\n",
        "x = 23\n",
        "\n",
        "def f():\n",
        "    print(x)\n",
        "\n",
        "def g():\n",
        "    # Need to declare globals if you want to assign to them,\n",
        "    # otherwise you're just creating a local variable.\n",
        "    global x\n",
        "    x = 42\n",
        "\n",
        "if __name__ == '__main__':\n",
        "    # Will print 23, the value of the global x\n",
        "    f()\n",
        "    # Will reassign the global to 42 instead of 23\n",
        "    g()\n",
        "    # Will print 42\n",
        "    f()\n",
        "\n",
        "# Protected attribute example\n",
        "\n",
        "class Mynumber:\n",
        "    def __init__(self, value):\n",
        "        self._value = value\n",
        "\n",
        "    def print_value(self):\n",
        "        print(self._value)\n",
        "\n",
        "obj1 = Mynumber(17)\n",
        "obj1.print_value()\n",
        "\n",
        "# Private attribute example\n",
        "\n",
        "class Mynumber:\n",
        "    def __init__(self, value):\n",
        "        self.__value = value\n",
        "\n",
        "    def print_value(self):\n",
        "        print(self.__value)\n",
        "\n",
        "obj1 = Mynumber(17)\n",
        "obj1.print_value()\n"
      ],
      "metadata": {
        "colab": {
          "base_uri": "https://localhost:8080/"
        },
        "id": "MUHgcNbTetGv",
        "outputId": "9634bd57-cb60-4723-a95f-81d2807fc75a"
      },
      "execution_count": null,
      "outputs": [
        {
          "output_type": "stream",
          "name": "stdout",
          "text": [
            "23\n",
            "42\n",
            "17\n",
            "17\n"
          ]
        }
      ]
    },
    {
      "cell_type": "markdown",
      "source": [
        "*1.1(k)** Ans.\n",
        "\n",
        "**Module**:  In Python, a module is a single file containing Python definitions and statements. These definitions and statements can include variables, functions, and classes and can be used to organize related functionality into a single, reusable package. Module organizes and reuses code in Python by grouping related code into a single file."
      ],
      "metadata": {
        "id": "weiEMj6YgKcy"
      }
    },
    {
      "cell_type": "code",
      "source": [
        "# Module example:\n",
        "#math.py module\n",
        "def square(i):\n",
        "\treturn x**2\n",
        "\n",
        "#main.py file\n",
        "import math\n",
        "print(math.sqrt(16))"
      ],
      "metadata": {
        "colab": {
          "base_uri": "https://localhost:8080/"
        },
        "id": "39Xp5CMngB2v",
        "outputId": "de86acbb-69bf-49aa-9524-21d37515e644"
      },
      "execution_count": null,
      "outputs": [
        {
          "output_type": "stream",
          "name": "stdout",
          "text": [
            "4.0\n"
          ]
        }
      ]
    },
    {
      "cell_type": "markdown",
      "source": [
        "**Packages**:\n",
        "Python Packages are collections of modules that provide a set of related functionalities, and these modules are organized in a directory hierarchy. In simple terms, packages in Python are a way of organizing related modules in a single namespace.\n",
        "\n",
        "\n",
        ">>Some popular Python packages are: NumPy, Pandas, and Matplotlib."
      ],
      "metadata": {
        "id": "UEaPxMaCh-Xo"
      }
    },
    {
      "cell_type": "markdown",
      "source": [
        "**1.1(l)** Ans.\n",
        "\n",
        "`Lists` and `Tuples` in Python are two classes of Python Data Structures. The list structure is dynamic, and readily changed whereas the tuple structure is static and cannot be changed. This means that the tuple is generally faster than the list. Lists are denoted by square brackets and tuples are denoted with parenthesis.\n",
        "\n",
        "\n",
        "`Key Difference -`\n",
        "Lists are mutable while Tuples are immutable."
      ],
      "metadata": {
        "id": "SRYQ7KLOi4oD"
      }
    },
    {
      "cell_type": "markdown",
      "source": [
        "**1.1(m)** Ans.\n",
        "\n",
        "**Dynamically Typed**\n",
        "\n",
        "Definition: In a dynamically typed language, the type of a variable is determined at runtime, not in advance. This means you don’t need to declare the type of a variable when you create it; the type is inferred from the value assigned to it."
      ],
      "metadata": {
        "id": "hZmFU0y1mWft"
      }
    },
    {
      "cell_type": "code",
      "source": [
        "x = 10       # x is an integer\n",
        "x = \"Hello\"  # now x is a string\n",
        "\n",
        "# Here, x starts as an integer and then changes to a string without any explicit type declaration. The type checking happens as the program runs.\n"
      ],
      "metadata": {
        "id": "l7tyKziPiNtG"
      },
      "execution_count": null,
      "outputs": []
    },
    {
      "cell_type": "markdown",
      "source": [
        "**Interpreted**\n",
        "\n",
        "Definition: An interpreted language is one where most of the code execution happens directly from the source code, typically line-by-line, rather than being compiled into machine code beforehand. The interpreter reads and executes the code in real-time.\n",
        "\n",
        "Example: When you run a Python script, the Python interpreter processes the script directly. It converts Python code into bytecode and then executes it. This is different from a compiled language where the code is transformed into machine code before execution."
      ],
      "metadata": {
        "id": "qCXeXyRvnFnX"
      }
    },
    {
      "cell_type": "markdown",
      "source": [
        "1. Concept and Definition\n",
        "Dynamically Typed: In Python, dynamically typed means that you do not need to declare the type of a variable when you create it. The type is inferred at runtime based on the value assigned to the variable.\n",
        "\n",
        "Example:\n",
        "python\n",
        "Copy code\n",
        "x = 10       # x is an integer\n",
        "x = \"Hello\"  # now x is a string\n",
        "Interpreted: Python is interpreted, meaning that the Python code is executed directly by the Python interpreter, which translates the code into machine code or bytecode line-by-line or in chunks during runtime.\n",
        "\n",
        "2. Type Handling vs. Execution Method\n",
        "Dynamically Typed: Refers to the type management in Python. Type checking occurs at runtime, and variables can change types as the program executes.\n",
        "Example:\n",
        "python\n",
        "Copy code\n",
        "y = 5.5\n",
        "y = \"World\"\n",
        "Interpreted: Refers to the execution process. Python code is executed by an interpreter (such as CPython), which processes the code directly rather than compiling it into a standalone executable.\n",
        "3. Error Detection\n",
        "Dynamically Typed: Type-related errors are detected during execution rather than compile time. This means you might encounter type errors only when the code runs.\n",
        "\n",
        "Example:\n",
        "python\n",
        "Copy code\n",
        "z = \"string\"\n",
        "print(z + 10)  # RuntimeError: TypeError: can only concatenate str (not \"int\") to str\n",
        "Interpreted: Errors related to code execution are detected during runtime as the interpreter processes the code, which can also include runtime type errors.\n",
        "\n",
        "4. Flexibility and Development Speed\n",
        "Dynamically Typed: Provides more flexibility, allowing developers to write code more quickly without worrying about type declarations. This can speed up development and make code easier to change.\n",
        "\n",
        "Example:\n",
        "python\n",
        "Copy code\n",
        "def add(a, b):\n",
        "    return a + b\n",
        "print(add(5, 10))      # Works fine with integers\n",
        "print(add(\"Hello\", \"World\"))  # Also works fine with strings\n",
        "Interpreted: Allows for immediate feedback and testing since the code is executed line-by-line or in chunks. This facilitates quick development and debugging but can result in slower execution compared to compiled languages.\n",
        "\n",
        "5. Performance Considerations\n",
        "Dynamically Typed: Can introduce some runtime overhead due to the need to check and handle types dynamically. This can affect performance but offers greater flexibility.\n",
        "\n",
        "Example:\n",
        "python\n",
        "Copy code\n",
        "def process_data(data):\n",
        "    if isinstance(data, str):\n",
        "        return data.upper()\n",
        "    elif isinstance(data, list):\n",
        "        return [str(item) for item in data]\n",
        "    return data"
      ],
      "metadata": {
        "id": "fU3zC6FDn7zb"
      }
    },
    {
      "cell_type": "markdown",
      "source": [
        "**1.1(n)** Ans.\n",
        "\n",
        "\n",
        "Using dict() method we can convert list comprehension to the dictionary. Here we will pass the list_comprehension like a list of tuple values such that the first value act as a key in the dictionary and the second value act as the value in the dictionary."
      ],
      "metadata": {
        "id": "oXj1rEwuoIsw"
      }
    },
    {
      "cell_type": "code",
      "source": [
        "# create a list comprehension with student age\n",
        "data = [('sravan', 23), ('ojaswi', 15),\n",
        "\t\t('rohith', 8), ('gnanesh', 4), ('bobby', 20)]\n",
        "\n",
        "# using dict method\n",
        "dict(data)\n"
      ],
      "metadata": {
        "colab": {
          "base_uri": "https://localhost:8080/"
        },
        "id": "aue45REln-_I",
        "outputId": "3f2ef033-5ea9-4e2f-b063-0ac5194e41e3"
      },
      "execution_count": null,
      "outputs": [
        {
          "output_type": "execute_result",
          "data": {
            "text/plain": [
              "{'sravan': 23, 'ojaswi': 15, 'rohith': 8, 'gnanesh': 4, 'bobby': 20}"
            ]
          },
          "metadata": {},
          "execution_count": 26
        }
      ]
    },
    {
      "cell_type": "markdown",
      "source": [
        "**1.1(o)** Ans.\n",
        "\n",
        "A decorator is a design pattern in Python that allows a user to add new functionality to an existing object without modifying its structure. Decorators are typically applied to functions, and they play a crucial role in enhancing or modifying the behavior of functions."
      ],
      "metadata": {
        "id": "xzLeJgG5omEb"
      }
    },
    {
      "cell_type": "code",
      "source": [
        "def add_one_decorator(func):\n",
        "  def add_one():\n",
        "    value = func()\n",
        "    return value + 1\n",
        "\n",
        "  return add_one\n",
        "\n",
        "@add_one_decorator\n",
        "def add_one():\n",
        "\treturn 1\n",
        "\n",
        "add_one()"
      ],
      "metadata": {
        "colab": {
          "base_uri": "https://localhost:8080/"
        },
        "id": "kuHKyBnEogOs",
        "outputId": "81c075cd-2b4f-4bb0-8f3c-bd8b541c062b"
      },
      "execution_count": null,
      "outputs": [
        {
          "output_type": "execute_result",
          "data": {
            "text/plain": [
              "2"
            ]
          },
          "metadata": {},
          "execution_count": 28
        }
      ]
    },
    {
      "cell_type": "markdown",
      "source": [
        "**1.1(p)** Ans.\n",
        "\n",
        "Understanding Memory allocation is important to any software developer as writing efficient code means writing a memory-efficient code. Memory allocation can be defined as allocating a block of space in the computer memory to a program. In Python memory allocation and deallocation method is automatic as the Python developers created a garbage collector for Python so that the user does not have to do manual garbage collection."
      ],
      "metadata": {
        "id": "slvVrG8Xpwxl"
      }
    },
    {
      "cell_type": "code",
      "source": [
        "def func():\n",
        "\n",
        "\t# All these variables get memory\n",
        "\t# allocated on stack\n",
        "\ta = 20\n",
        "\tb = []\n",
        "\tc = \"\"\n",
        "\n",
        "\n",
        "# This memory for 10 integers\n",
        "# is allocated on heap.\n",
        "a = [0]*10\n"
      ],
      "metadata": {
        "id": "IBRS1KUdpbhX"
      },
      "execution_count": null,
      "outputs": []
    },
    {
      "cell_type": "markdown",
      "source": [
        "**1.1(q)** Ans.\n",
        "\n",
        "Python Lambda Functions are anonymous functions means that the function is without a name. As we already know the def keyword is used to define a normal function in Python. Similarly, the lambda keyword is used to define an anonymous function in Python.\n"
      ],
      "metadata": {
        "id": "UjGvtuJNqM4u"
      }
    },
    {
      "cell_type": "code",
      "source": [
        "def cube(y):\n",
        "    return y*y*y\n",
        "\n",
        "lambda_cube = lambda y: y*y*y\n",
        "print(\"Using function defined with `def` keyword, cube:\", cube(5))\n",
        "print(\"Using lambda function, cube:\", lambda_cube(5))\n"
      ],
      "metadata": {
        "colab": {
          "base_uri": "https://localhost:8080/"
        },
        "id": "8YJjcSo7qDEQ",
        "outputId": "c8cd6237-c52f-4335-dd8f-b2679885362e"
      },
      "execution_count": null,
      "outputs": [
        {
          "output_type": "stream",
          "name": "stdout",
          "text": [
            "Using function defined with `def` keyword, cube: 125\n",
            "Using lambda function, cube: 125\n"
          ]
        }
      ]
    },
    {
      "cell_type": "markdown",
      "source": [
        "**1.1(r)** Ans.\n",
        "\n",
        "Python program to Split a string based on a delimiter and join the string using another delimiter. Splitting a string can be quite useful sometimes, especially when you need only certain parts of strings."
      ],
      "metadata": {
        "id": "e9vWMFo1qdQV"
      }
    },
    {
      "cell_type": "code",
      "source": [
        "# Python program to split a string and\n",
        "# join it using different delimiter\n",
        "\n",
        "def split_string(string):\n",
        "\n",
        "\t# Split the string based on space delimiter\n",
        "\tlist_string = string.split(' ')\n",
        "\n",
        "\treturn list_string\n",
        "\n",
        "def join_string(list_string):\n",
        "\n",
        "\t# Join the string based on '-' delimiter\n",
        "\tstring = '-'.join(list_string)\n",
        "\n",
        "\treturn string\n",
        "\n",
        "# Driver Function\n",
        "if __name__ == '__main__':\n",
        "\tstring = 'Hradesh is my name'\n",
        "\n",
        "\t# Splitting a string\n",
        "\tlist_string = split_string(string)\n",
        "\tprint(list_string)\n",
        "\n",
        "\t# Join list of strings into one\n",
        "\tnew_string = join_string(list_string)\n",
        "\tprint(new_string)\n"
      ],
      "metadata": {
        "colab": {
          "base_uri": "https://localhost:8080/"
        },
        "id": "gep2CA3BqZrM",
        "outputId": "9933a61a-fbda-40ac-ddbf-270c4f2beeab"
      },
      "execution_count": null,
      "outputs": [
        {
          "output_type": "stream",
          "name": "stdout",
          "text": [
            "['Hradesh', 'is', 'my', 'name']\n",
            "Hradesh-is-my-name\n"
          ]
        }
      ]
    },
    {
      "cell_type": "markdown",
      "source": [
        "**1.1(s)** Ans.\n",
        "\n",
        "**Iterator:**  An iterator is an object that can be iterated upon. Thus, iterators contain a countable number of values.\n",
        "\n",
        "**Iterable:** A Python object which can be looped over or iterated over in a loop. Examples of iterables include lists, sets, tuples, dictionaries, strings, etc.\n",
        "\n",
        "**Generator:** A special type of function which does not return a single value: it returns an iterator object with a sequence of values.\n"
      ],
      "metadata": {
        "id": "z2e0U2km84mM"
      }
    },
    {
      "cell_type": "code",
      "source": [
        "# instantiate iterable\n",
        "list_instance = [1, 2, 3, 4]\n",
        "\n",
        "# produce an iterator from an iterable\n",
        "iterator = iter(list_instance)\n",
        "print(list(iterator))\n",
        "\n",
        "\n",
        "def factors(n):\n",
        "  factor_list = []\n",
        "  for val in range(1, n+1):\n",
        "      if n % val == 0:\n",
        "          factor_list.append(val)\n",
        "  return factor_list\n",
        "\n",
        "print(factors(20))\n"
      ],
      "metadata": {
        "colab": {
          "base_uri": "https://localhost:8080/"
        },
        "id": "arHFg2GhtwCG",
        "outputId": "c081d0d1-6c37-42e7-bfbb-03d3e8c86de6"
      },
      "execution_count": null,
      "outputs": [
        {
          "output_type": "stream",
          "name": "stdout",
          "text": [
            "[1, 2, 3, 4]\n",
            "[1, 2, 4, 5, 10, 20]\n"
          ]
        }
      ]
    },
    {
      "cell_type": "markdown",
      "source": [
        "**1.1(t)** Ans.\n",
        "\n",
        "**Difference between range() and xrange() in Python**\n",
        "\n",
        "Because of the fact that xrange() evaluates only the generator object containing only the values that are required by lazy evaluation, therefore is faster in implementation than range().\n",
        "\n",
        "**Important Points:**\n",
        "\n",
        "If you want to write code that will run on both Python 2 and Python 3, use range\n",
        "\n",
        "*   If you want to write code that will run on both Python 2 and Python 3, use range() as the xrange function is deprecated in Python 3.\n",
        "*   range() is faster if iterating over the same sequence multiple times.\n",
        "*   xrange() has to reconstruct the integer object every time, but range() will have real integer objects. (It will always perform worse in terms of memory, however)\n",
        "\n",
        "\n",
        "\n",
        "\n"
      ],
      "metadata": {
        "id": "wogQn1VD-cgq"
      }
    },
    {
      "cell_type": "markdown",
      "source": [
        "**1.1(u)** Ans.\n",
        "\n",
        "Python are based on 4 major pillars that are inheritance, polymorphism, abstraction, and encapsulation. Without these, programmers cannot work on Python."
      ],
      "metadata": {
        "id": "PJGAZ1rA_QR7"
      }
    },
    {
      "cell_type": "markdown",
      "source": [
        "**1.1(v)** Ans.\n",
        "\n",
        "The issubclass() function returns True if the specified object is a subclass of the specified object, otherwise False ."
      ],
      "metadata": {
        "id": "9a56-zIECE9J"
      }
    },
    {
      "cell_type": "code",
      "source": [
        "class myAge:\n",
        "  age = 36\n",
        "\n",
        "class myObj(myAge):\n",
        "  name = \"John\"\n",
        "  age = myAge\n",
        "\n",
        "x = issubclass(myObj, myAge)\n",
        "print(x)"
      ],
      "metadata": {
        "colab": {
          "base_uri": "https://localhost:8080/"
        },
        "id": "QYar3LHy96oO",
        "outputId": "a4b9892f-af4f-4b6e-9ac2-e0c7974cf7ec"
      },
      "execution_count": null,
      "outputs": [
        {
          "output_type": "stream",
          "name": "stdout",
          "text": [
            "True\n"
          ]
        }
      ]
    },
    {
      "cell_type": "markdown",
      "source": [
        "**1.1(w)** Ans.\n",
        "\n",
        "`Python Inheritance`\n",
        "Inheritance allows us to define a class that inherits all the methods and properties from another class.\n",
        "\n",
        "Parent class is the class being inherited from, also called base class.\n",
        "\n",
        "Child class is the class that inherits from another class, also called derived class."
      ],
      "metadata": {
        "id": "wbsjcUkGCgVc"
      }
    },
    {
      "cell_type": "code",
      "source": [
        "class Person:\n",
        "  def __init__(self, fname, lname):\n",
        "    self.firstname = fname\n",
        "    self.lastname = lname\n",
        "\n",
        "  def printname(self):\n",
        "    print(self.firstname, self.lastname)\n",
        "\n",
        "#Use the Person class to create an object, and then execute the printname method:\n",
        "\n",
        "x = Person(\"John\", \"Doe\")\n",
        "x.printname()\n",
        "\n",
        "\n",
        "class Student(Person):\n",
        "  pass\n",
        "\n",
        "x = Student(\"Mike\", \"Olsen\")\n",
        "x.printname\n",
        "\n",
        "\n"
      ],
      "metadata": {
        "colab": {
          "base_uri": "https://localhost:8080/",
          "height": 122
        },
        "id": "57AomoMkCLJb",
        "outputId": "5098ec17-458d-4ebf-b862-f1aa995f931b"
      },
      "execution_count": null,
      "outputs": [
        {
          "output_type": "stream",
          "name": "stdout",
          "text": [
            "John Doe\n"
          ]
        },
        {
          "output_type": "execute_result",
          "data": {
            "text/plain": [
              "<bound method Person.printname of <__main__.Student object at 0x7877f5504b20>>"
            ],
            "text/html": [
              "<div style=\"max-width:800px; border: 1px solid var(--colab-border-color);\"><style>\n",
              "      pre.function-repr-contents {\n",
              "        overflow-x: auto;\n",
              "        padding: 8px 12px;\n",
              "        max-height: 500px;\n",
              "      }\n",
              "\n",
              "      pre.function-repr-contents.function-repr-contents-collapsed {\n",
              "        cursor: pointer;\n",
              "        max-height: 100px;\n",
              "      }\n",
              "    </style>\n",
              "    <pre style=\"white-space: initial; background:\n",
              "         var(--colab-secondary-surface-color); padding: 8px 12px;\n",
              "         border-bottom: 1px solid var(--colab-border-color);\"><b>Person.printname</b><br/>def printname()</pre><pre class=\"function-repr-contents function-repr-contents-collapsed\" style=\"\"><a class=\"filepath\" style=\"display:none\" href=\"#\">/content/&lt;ipython-input-38-143e32e1e844&gt;</a>&lt;no docstring&gt;</pre></div>"
            ]
          },
          "metadata": {},
          "execution_count": 38
        }
      ]
    },
    {
      "cell_type": "markdown",
      "source": [
        "**1.1(x)** Ans.\n",
        "\n",
        "**Encapsulation** is one of the fundamental concepts in object-oriented programming (OOP). It describes the idea of wrapping data and the methods that work on data within one unit. This puts restrictions on accessing variables and methods directly and can prevent the accidental modification of data. To prevent accidental change, an object’s variable can only be changed by an object’s method."
      ],
      "metadata": {
        "id": "lZMpd2ieDbMQ"
      }
    },
    {
      "cell_type": "code",
      "source": [
        "# Python program to\n",
        "# demonstrate protected members\n",
        "\n",
        "# Creating a base class\n",
        "class Base:\n",
        "    def __init__(self):\n",
        "\n",
        "        # Protected member\n",
        "        self._a = 2\n",
        "\n",
        "# Creating a derived class\n",
        "class Derived(Base):\n",
        "    def __init__(self):\n",
        "\n",
        "        # Calling constructor of\n",
        "        # Base class\n",
        "        Base.__init__(self)\n",
        "        print(\"Calling protected member of base class: \",\n",
        "              self._a)\n",
        "\n",
        "        # Modify the protected variable:\n",
        "        self._a = 3\n",
        "        print(\"Calling modified protected member outside class: \",\n",
        "              self._a)\n",
        "\n",
        "\n",
        "obj1 = Derived()\n",
        "\n",
        "obj2 = Base()\n",
        "\n",
        "# Calling protected member\n",
        "# Can be accessed but should not be done due to convention\n",
        "print(\"Accessing protected member of obj1: \", obj1._a)\n",
        "\n",
        "# Accessing the protected variable outside\n",
        "print(\"Accessing protected member of obj2: \", obj2._a)\n"
      ],
      "metadata": {
        "id": "YkXKGOHWDT9k",
        "colab": {
          "base_uri": "https://localhost:8080/"
        },
        "outputId": "85b32758-6b0a-4daf-bb31-96bc49b6dfe5"
      },
      "execution_count": null,
      "outputs": [
        {
          "output_type": "stream",
          "name": "stdout",
          "text": [
            "Calling protected member of base class:  2\n",
            "Calling modified protected member outside class:  3\n",
            "Accessing protected member of obj1:  3\n",
            "Accessing protected member of obj2:  2\n"
          ]
        }
      ]
    },
    {
      "cell_type": "markdown",
      "source": [
        "**1.1(y)** Ans.\n",
        "\n",
        "The word \"polymorphism\" means \"many forms\", and in programming it refers to methods/functions/operators with the same name that can be executed on many objects or classes."
      ],
      "metadata": {
        "id": "7Nr-EZmNp4A-"
      }
    },
    {
      "cell_type": "code",
      "source": [
        "class Car:\n",
        "  def __init__(self, brand, model):\n",
        "    self.brand = brand\n",
        "    self.model = model\n",
        "\n",
        "  def move(self):\n",
        "    print(\"Drive!\")\n",
        "\n",
        "class Boat:\n",
        "  def __init__(self, brand, model):\n",
        "    self.brand = brand\n",
        "    self.model = model\n",
        "\n",
        "  def move(self):\n",
        "    print(\"Sail!\")\n",
        "\n",
        "class Plane:\n",
        "  def __init__(self, brand, model):\n",
        "    self.brand = brand\n",
        "    self.model = model\n",
        "\n",
        "  def move(self):\n",
        "    print(\"Fly!\")\n",
        "\n",
        "car1 = Car(\"Ford\", \"Mustang\")       #Create a Car class\n",
        "boat1 = Boat(\"Ibiza\", \"Touring 20\") #Create a Boat class\n",
        "plane1 = Plane(\"Boeing\", \"747\")     #Create a Plane class\n",
        "\n",
        "for x in (car1, boat1, plane1):\n",
        "  x.move()"
      ],
      "metadata": {
        "colab": {
          "base_uri": "https://localhost:8080/"
        },
        "id": "ugBky067pqVq",
        "outputId": "3703502f-ec69-4564-c721-4760cd38ffc0"
      },
      "execution_count": null,
      "outputs": [
        {
          "output_type": "stream",
          "name": "stdout",
          "text": [
            "Drive!\n",
            "Sail!\n",
            "Fly!\n"
          ]
        }
      ]
    },
    {
      "cell_type": "markdown",
      "source": [
        "###**Question 1.2**\n",
        "\n",
        "**Rules for Naming Python Identifiers**\n",
        "\n",
        "It cannot be a reserved python keyword.\n",
        "\n",
        "It should not contain white space.\n",
        "\n",
        "It can be a combination of A-Z, a-z, 0-9, or underscore.\n",
        "\n",
        "It should start with an alphabet character or an underscore ( _ ).\n",
        "\n",
        "It should not contain any special character other than an underscore ( _ ).\n",
        "\n",
        "\n",
        "  a)Serial_no.  >> Invalid('.' is present in name identifier which is out of rules. )\n",
        "\n",
        "  b)1st_room  >> Invalid(1 cannot assign before)\n",
        "\n",
        "  c)Hundred$  >> Invalid('$' is present in name identifier which is out of rules)\n",
        "\n",
        "  e)total-Marks  >> Invalid('-' is present in name identifier which is out of rules)\n",
        "\n",
        "  f)Total Marks  >> Invalid(white space is not allowed)\n",
        "\n",
        "  g)True  >> Invalid (It is a keyword cannot assign it as name identifier)\n",
        "  "
      ],
      "metadata": {
        "id": "cocw2x-g8GfX"
      }
    },
    {
      "cell_type": "markdown",
      "source": [
        "###**Question 1.3**\n",
        "\n"
      ],
      "metadata": {
        "id": "27k8T-Vz--zJ"
      }
    },
    {
      "cell_type": "code",
      "source": [
        "name = [\"Mohan\",\"das\",\"karam\",\"chandra\",\"gandhi\",\"Bapu\"]\n",
        "\n",
        "\n",
        "# a) add an element \"freedom_fighter\" in this list at the 0th index.\n",
        "\n",
        "name.insert(0,\"freedom_fighter\")\n",
        "print(name)\n",
        "\n",
        "# b)find the output of the following, and explain how?\n",
        "name = [\"freedomfighter\",\"Bapuji\",\"das\",\"karam\",\"chandra\",\"gandhi\"]\n",
        "\n",
        "\n",
        "# counting the lenght of specific string with index slicing in length1 and length2\n",
        "length1 = len((name[-len(name)+1:-1:2]))\n",
        "length2 = len((name[-len(name)+1:-1]))\n",
        "\n",
        "# sum of both the lengths\n",
        "print(length1+length2)\n",
        "# Output 6\n",
        "\n",
        "\n",
        "# c) add two more elements in the name [\"Netaji\",\"Bose\"] at the end of the list>>\n",
        "\n",
        "name.append(\"Netaji\")\n",
        "name.append(\"Bose\")\n",
        "print(name)\n",
        "\n",
        "# d)what will be the value of temp:\n",
        "name = [\"Bapuji\", \"dash\", \"karam\", \"chandra\", \"gandhi\", \"Mohan\"]\n",
        "temp = name[-1]\n",
        "name[-1] = name[0]\n",
        "name[0] = temp\n",
        "print(name)\n",
        "print(f\"value of temp : {temp}\")\n",
        "\n"
      ],
      "metadata": {
        "colab": {
          "base_uri": "https://localhost:8080/"
        },
        "id": "Dq1twCxD8w0I",
        "outputId": "4a03dbe9-b9d2-45ad-ad71-1375bb14ab48"
      },
      "execution_count": null,
      "outputs": [
        {
          "output_type": "stream",
          "name": "stdout",
          "text": [
            "['freedom_fighter', 'Mohan', 'das', 'karam', 'chandra', 'gandhi', 'Bapu']\n",
            "6\n",
            "['freedomfighter', 'Bapuji', 'das', 'karam', 'chandra', 'gandhi', 'Netaji', 'Bose']\n",
            "['Mohan', 'dash', 'karam', 'chandra', 'gandhi', 'Bapuji']\n",
            "value of temp : Mohan\n"
          ]
        }
      ]
    },
    {
      "cell_type": "markdown",
      "source": [
        "###**Question 1.4**"
      ],
      "metadata": {
        "id": "C0F3x-xSEIvV"
      }
    },
    {
      "cell_type": "code",
      "source": [
        "animal = ['Human','cat','mat','cat','rat','Human','Lion']\n",
        "\n",
        "print('Output')\n",
        "print(animal.count('Human'))\n",
        "print(animal.index('rat'))\n",
        "print(len(animal))"
      ],
      "metadata": {
        "colab": {
          "base_uri": "https://localhost:8080/"
        },
        "id": "-9_60aVwD_Xz",
        "outputId": "bfc5ec5a-213b-4913-8ddc-4e5b0522b5a1"
      },
      "execution_count": null,
      "outputs": [
        {
          "output_type": "stream",
          "name": "stdout",
          "text": [
            "Output\n",
            "2\n",
            "4\n",
            "7\n"
          ]
        }
      ]
    },
    {
      "cell_type": "markdown",
      "source": [
        "###**Question 1.5**\n"
      ],
      "metadata": {
        "id": "eeBMyZaLE7mh"
      }
    },
    {
      "cell_type": "code",
      "source": [
        "tuple1 = (10,20,\"Apple\",3.4,'a',[\"master\",\"ji\"],(\"sita\",\"geeta\",22),[{\"roll_no\":1},{\"name\":\"Navneet\"}])\n",
        "\n",
        "# a)\n",
        "print(len(tuple1))\n",
        "\n",
        "# b)\n",
        "print(tuple1[-1][-1][\"name\"])\n",
        "\n",
        "# c) fetch the value of roll_no from this tuple\n",
        "print(tuple1[-1][-2][\"roll_no\"])\n",
        "\n",
        "# d)\n",
        "print(tuple1[-3][1])\n",
        "\n",
        "# e) fetch the element \"22\" from this tuple.\n",
        "print(tuple1[-2][2])\n"
      ],
      "metadata": {
        "colab": {
          "base_uri": "https://localhost:8080/"
        },
        "id": "TAhGD1sTE4iS",
        "outputId": "c9e03531-f589-47a9-81e0-baba56b8a9bc"
      },
      "execution_count": null,
      "outputs": [
        {
          "output_type": "stream",
          "name": "stdout",
          "text": [
            "8\n",
            "Navneet\n",
            "1\n",
            "ji\n",
            "22\n"
          ]
        }
      ]
    },
    {
      "cell_type": "markdown",
      "source": [
        "###**Question 1.6**\n"
      ],
      "metadata": {
        "id": "8fGDKPExGzfq"
      }
    },
    {
      "cell_type": "code",
      "source": [
        "#Function to simulate a traffic light\n",
        "#It is required to make 2 user defined functions trafficLight() and light().\n",
        "def trafficLight():\n",
        " signal = input(\"Enter the colour of the traffic light: \")\n",
        " if (signal not in (\"RED\",\"YELLOW\",\"GREEN\")):\n",
        "  print(\"Please enter a valid Traffic Light colour in CAPITALS\")\n",
        " else:\n",
        "  value = light(signal) #function call to light()\n",
        " if (value == 0):\n",
        "  print(\"STOP, Your Life is Precious.\")\n",
        " elif (value == 1):\n",
        "  print (\"PLEASE GO SLOW.\")\n",
        " else:\n",
        "  print(\"GO!,Thank you for being patient.\")\n",
        "#function ends here\n",
        "\n",
        "def light(colour):\n",
        " if (colour == \"RED\"):\n",
        "  return(0);\n",
        " elif (colour == \"YELLOW\"):\n",
        "  return (1)\n",
        " else:\n",
        "  return(2)\n",
        "#function ends here\n",
        "\n",
        "trafficLight()\n",
        "print(\"SPEED THRILLS BUT KILLS\")"
      ],
      "metadata": {
        "colab": {
          "base_uri": "https://localhost:8080/"
        },
        "id": "Tl5JYY2rGxi4",
        "outputId": "1b0d4a8b-a3b9-4439-e2a9-109a474f48a3"
      },
      "execution_count": null,
      "outputs": [
        {
          "output_type": "stream",
          "name": "stdout",
          "text": [
            "Enter the colour of the traffic light: RED\n",
            "STOP, Your Life is Precious.\n",
            "SPEED THRILLS BUT KILLS\n"
          ]
        }
      ]
    },
    {
      "cell_type": "markdown",
      "source": [
        "###**Question 1.7**\n"
      ],
      "metadata": {
        "id": "A_ILntxwHr_8"
      }
    },
    {
      "cell_type": "code",
      "source": [
        "# This function adds two numbers\n",
        "def add(x, y):\n",
        "    return x + y\n",
        "\n",
        "# This function subtracts two numbers\n",
        "def subtract(x, y):\n",
        "    return x - y\n",
        "\n",
        "# This function multiplies two numbers\n",
        "def multiply(x, y):\n",
        "    return x * y\n",
        "\n",
        "# This function divides two numbers\n",
        "def divide(x, y):\n",
        "    return x / y\n",
        "\n",
        "\n",
        "print(\"Select operation.\")\n",
        "print(\"1.Add\")\n",
        "print(\"2.Subtract\")\n",
        "print(\"3.Multiply\")\n",
        "print(\"4.Divide\")\n",
        "\n",
        "while True:\n",
        "    # take input from the user\n",
        "    choice = input(\"Enter choice(1/2/3/4): \")\n",
        "\n",
        "    # check if choice is one of the four options\n",
        "    if choice in ('1', '2', '3', '4'):\n",
        "        try:\n",
        "            num1 = float(input(\"Enter first number: \"))\n",
        "            num2 = float(input(\"Enter second number: \"))\n",
        "        except ValueError:\n",
        "            print(\"Invalid input. Please enter a number.\")\n",
        "            continue\n",
        "\n",
        "        if choice == '1':\n",
        "            print(num1, \"+\", num2, \"=\", add(num1, num2))\n",
        "\n",
        "        elif choice == '2':\n",
        "            print(num1, \"-\", num2, \"=\", subtract(num1, num2))\n",
        "\n",
        "        elif choice == '3':\n",
        "            print(num1, \"*\", num2, \"=\", multiply(num1, num2))\n",
        "\n",
        "        elif choice == '4':\n",
        "            print(num1, \"/\", num2, \"=\", divide(num1, num2))\n",
        "\n",
        "        # check if user wants another calculation\n",
        "        # break the while loop if answer is no\n",
        "        next_calculation = input(\"Let's do next calculation? (yes/no): \")\n",
        "        if next_calculation == \"no\":\n",
        "          break\n",
        "    else:\n",
        "        print(\"Invalid Input\")"
      ],
      "metadata": {
        "colab": {
          "base_uri": "https://localhost:8080/"
        },
        "id": "NcHhWtR4HlWa",
        "outputId": "35bf37c4-cb3f-4add-c56c-76677b7bc8ee"
      },
      "execution_count": null,
      "outputs": [
        {
          "name": "stdout",
          "output_type": "stream",
          "text": [
            "Select operation.\n",
            "1.Add\n",
            "2.Subtract\n",
            "3.Multiply\n",
            "4.Divide\n",
            "Enter choice(1/2/3/4): 4\n",
            "Enter first number: 24\n",
            "Enter second number: 2\n",
            "24.0 / 2.0 = 12.0\n",
            "Let's do next calculation? (yes/no): no\n"
          ]
        }
      ]
    },
    {
      "cell_type": "markdown",
      "source": [
        "###**Question 1.8**\n"
      ],
      "metadata": {
        "id": "srTtFvwiIxMb"
      }
    },
    {
      "cell_type": "code",
      "source": [
        "# ternary operation larger in three pre-specified no\n",
        "\n",
        "a = 12\n",
        "b = 9\n",
        "c = 11\n",
        "\n",
        "# ternary operation to find the larger one\n",
        "larger = a if a > b and a > c else b if b > c else c\n",
        "print(larger)"
      ],
      "metadata": {
        "colab": {
          "base_uri": "https://localhost:8080/"
        },
        "id": "LX80CjfHITd5",
        "outputId": "1fd70cb0-16f5-4525-be4e-570679762173"
      },
      "execution_count": null,
      "outputs": [
        {
          "output_type": "stream",
          "name": "stdout",
          "text": [
            "12\n"
          ]
        }
      ]
    },
    {
      "cell_type": "markdown",
      "source": [
        "###**Question 1.9**"
      ],
      "metadata": {
        "id": "UGyNEQhKJ3Ms"
      }
    },
    {
      "cell_type": "code",
      "source": [
        "#Find the factors of a number using while loop\n",
        "num = int(input(\"Enter a number to find its factor: \"))\n",
        "print (1, end=' ') #1 is a factor of every number\n",
        "factor = 2\n",
        "while factor <= num/2 :\n",
        " if num % factor == 0:\n",
        "#the optional parameter end of print function specifies the delimeter\n",
        "#blank space(' ') to print next value on same line\n",
        "  print(factor, end=' ')\n",
        " factor += 1\n",
        "print (num, end=' ') #every number is a factor of itself"
      ],
      "metadata": {
        "colab": {
          "base_uri": "https://localhost:8080/"
        },
        "id": "0LSwwMwjJswS",
        "outputId": "8981ba1d-d859-4955-e88e-5f21ce371455"
      },
      "execution_count": null,
      "outputs": [
        {
          "output_type": "stream",
          "name": "stdout",
          "text": [
            "Enter a number to find its factor: 99\n",
            "1 3 9 11 33 99 "
          ]
        }
      ]
    },
    {
      "cell_type": "markdown",
      "source": [
        "###**Question 1.10**"
      ],
      "metadata": {
        "id": "uMCl3lMIKSiP"
      }
    },
    {
      "cell_type": "code",
      "source": [
        "# find the sum of all the positive numbers entered by the user\n",
        "# till the user entered negative number.\n",
        "\n",
        "entry = 0\n",
        "sum1 = 0\n",
        "\n",
        "print(\"Enter numbers to find their sum, negative number end the loop.\")\n",
        "while True:\n",
        "  entry = int(input())\n",
        "  if entry < 0:\n",
        "    break\n",
        "  sum1 += entry\n",
        "print(\"Sum = \", sum1)\n",
        "\n"
      ],
      "metadata": {
        "colab": {
          "base_uri": "https://localhost:8080/"
        },
        "id": "CPzYZ9moLDbg",
        "outputId": "997d6297-9774-4a95-effc-fac1245ef5aa"
      },
      "execution_count": null,
      "outputs": [
        {
          "output_type": "stream",
          "name": "stdout",
          "text": [
            "Enter numbers to find their sum, negative number end the loop.\n",
            "3\n",
            "5\n",
            "78\n",
            "9\n",
            "10001\n",
            "-1\n",
            "Sum =  10096\n"
          ]
        }
      ]
    },
    {
      "cell_type": "markdown",
      "source": [
        "###**Question 1.11**"
      ],
      "metadata": {
        "id": "P0wQH-gcL_wz"
      }
    },
    {
      "cell_type": "code",
      "source": [
        "#Use of nested loops to find the prime numbers between 2 to 100\n",
        "num = 2\n",
        "for i in range(2, 100):\n",
        " j= 2\n",
        " while ( j <= (i/2)):\n",
        "  if (i % j == 0): #factor found\n",
        "   break #break out of while loop\n",
        "  j += 1\n",
        " if ( j > i/j) : #no factor found\n",
        "  print ( i, \"is a prime number\")\n",
        "print (\"Bye Bye!!\")"
      ],
      "metadata": {
        "colab": {
          "base_uri": "https://localhost:8080/"
        },
        "id": "kWFUqfSNMvuU",
        "outputId": "d6200dd9-a7cd-4e87-97d2-ead9e975867d"
      },
      "execution_count": null,
      "outputs": [
        {
          "output_type": "stream",
          "name": "stdout",
          "text": [
            "2 is a prime number\n",
            "3 is a prime number\n",
            "5 is a prime number\n",
            "7 is a prime number\n",
            "11 is a prime number\n",
            "13 is a prime number\n",
            "17 is a prime number\n",
            "19 is a prime number\n",
            "23 is a prime number\n",
            "29 is a prime number\n",
            "31 is a prime number\n",
            "37 is a prime number\n",
            "41 is a prime number\n",
            "43 is a prime number\n",
            "47 is a prime number\n",
            "53 is a prime number\n",
            "59 is a prime number\n",
            "61 is a prime number\n",
            "67 is a prime number\n",
            "71 is a prime number\n",
            "73 is a prime number\n",
            "79 is a prime number\n",
            "83 is a prime number\n",
            "89 is a prime number\n",
            "97 is a prime number\n",
            "Bye Bye!!\n"
          ]
        }
      ]
    },
    {
      "cell_type": "markdown",
      "source": [
        "###**Question 1.12**"
      ],
      "metadata": {
        "id": "yZYbsSwtNkbP"
      }
    },
    {
      "cell_type": "code",
      "source": [
        "# accept the marks of the student in five major subjects\n",
        "\n",
        "print('Marks obtained in all five subjects: ')\n",
        "m1 = int(input(\"Marks in Hindi: \"))\n",
        "m2 = int(input(\"Marks in English: \"))\n",
        "m3 = int(input(\"Marks in Mathematics:  \"))\n",
        "m4 = int(input(\"Marks in SST:  \"))\n",
        "m5 = int(input(\"Marks in Arts:  \"))\n",
        "\n",
        "# calculating the sum of the marks of all subject\n",
        "sum_all_subjects = m1+m2+m3+m4+m5\n",
        "print(f\"Total marks obtained: {sum_all_subjects}\")\n",
        "\n",
        "# calculate the percentage\n",
        "percentage = (sum_all_subjects/500)*100\n",
        "print(f\"Percentage obtained: {percentage} %\")\n",
        "\n",
        "\n",
        "# Grade of the student\n",
        "if percentage > 85:\n",
        "  print(\"Grade of the student: A\")\n",
        "elif 85>percentage >= 75:\n",
        "  print(\"Grade of the student: B\")\n",
        "elif 75>percentage >= 50:\n",
        "  print(\"Grade of the  student: C\")\n",
        "elif 50>percentage >= 30:\n",
        "  print(\"Grade of the student: D\")\n",
        "else:\n",
        "  print(\"Reappear\")\n",
        "\n",
        "\n"
      ],
      "metadata": {
        "colab": {
          "base_uri": "https://localhost:8080/"
        },
        "id": "FLgr5nypMwav",
        "outputId": "63e376dc-fe92-40ad-f20b-676faf7fdbe3"
      },
      "execution_count": null,
      "outputs": [
        {
          "output_type": "stream",
          "name": "stdout",
          "text": [
            "Marks obtained in all five subjects: \n",
            "Marks in Hindi: 89\n",
            "Marks in English: 88\n",
            "Marks in Mathematics:  87\n",
            "Marks in SST:  89\n",
            "Marks in Arts:  96\n",
            "Total marks obtained: 449\n",
            "Percentage obtained: 89.8 %\n",
            "Grade of the student: A\n"
          ]
        }
      ]
    },
    {
      "cell_type": "markdown",
      "source": [
        "###**Question 1.13**"
      ],
      "metadata": {
        "id": "j6e7WmpoSPKx"
      }
    },
    {
      "cell_type": "code",
      "source": [
        "# write a program for VIBGYOR Spectrum based on their Wavelength:\n",
        "\n",
        "def VIBGYOR(wavelength):\n",
        "  if (wavelength >= 400 and wavelength < 440):\n",
        "    print(\"Violet\")\n",
        "  elif (wavelength >= 440 and wavelength < 460):\n",
        "    print(\"Indigo\")\n",
        "  elif (wavelength >= 460 and wavelength < 500):\n",
        "    print(\"Blue\")\n",
        "  elif (wavelength >= 500 and wavelength < 570):\n",
        "    print(\"Green\")\n",
        "  elif (wavelength >= 570 and wavelength < 590):\n",
        "    print(\"Yellow\")\n",
        "  elif (wavelength >= 590 and wavelength < 620):\n",
        "    print(\"Orange\")\n",
        "  elif (wavelength >= 620 and wavelength < 720):\n",
        "    print(\"Red\")\n",
        "  else:\n",
        "    print(\"Invalid Wavelength\")\n",
        "\n",
        "VIBGYOR(700)"
      ],
      "metadata": {
        "colab": {
          "base_uri": "https://localhost:8080/"
        },
        "id": "M4D2HrIxRf-a",
        "outputId": "990c7119-3c93-4d60-ffed-ac65638c9208"
      },
      "execution_count": null,
      "outputs": [
        {
          "output_type": "stream",
          "name": "stdout",
          "text": [
            "Red\n"
          ]
        }
      ]
    },
    {
      "cell_type": "markdown",
      "source": [
        "###**Question 1.14**"
      ],
      "metadata": {
        "id": "A1r5bsqBVDtR"
      }
    },
    {
      "cell_type": "code",
      "source": [
        "# the gravitational interactions between the Earth, Moon and Sun in our solar system.\n",
        "\n",
        "mass_earth = 5.972e24 # kg\n",
        "mass_moon = 7.34767309e22 # kg\n",
        "mass_sun = 1.989e30 # kg\n",
        "G = 6.67\n",
        "\n",
        "distance_earth_sun = 1.496e11 # average distance between Earth and Sun in meters\n",
        "distance_moon_earth = 3.844e8 # average distance between Moon and Earth in meters\n",
        "\n",
        "\n",
        "# Gravitational force between the Earth and the Sun\n",
        "force_earth_sun = G * mass_earth * mass_sun / distance_earth_sun**2\n",
        "print(f\"Gravitational force between the Earth and the Sun : {force_earth_sun}\")\n",
        "\n",
        "# Gravitational force between the Moon and the Earth\n",
        "force_moon_earth = G * mass_moon * mass_earth / distance_moon_earth**2\n",
        "print(f\"Gravitational force between the Moon and the Earth : {force_moon_earth}\")\n",
        "\n",
        "# Compare the calculated forces to determine which gravitational force is stronger.\n",
        "def compare_forces(force1, force2):\n",
        "  if force1 > force2:\n",
        "    print(\"The gravitational force between the Earth and the Sun is stronger.\")\n",
        "  elif force2 > force1:\n",
        "    print(\"The gravitational force between the Moon and the Earth is stronger.\")\n",
        "  else:\n",
        "    print(\"The gravitational forces between the Earth and the Sun and between the Moon and the Earth are equal.\")\n",
        "\n",
        "compare_forces(force_earth_sun, force_moon_earth)\n",
        "\n",
        "# which celestial body (Earth or Moon) is more attracted to the other based on the comparison\n",
        "# The earth and the moon attract each other by equal forces of attraction but these forces are opposite in direction.\n",
        "\n"
      ],
      "metadata": {
        "colab": {
          "base_uri": "https://localhost:8080/"
        },
        "id": "BwGjXtt4UvWO",
        "outputId": "e16c09f8-c3c4-4ba0-be7f-471173795654"
      },
      "execution_count": null,
      "outputs": [
        {
          "output_type": "stream",
          "name": "stdout",
          "text": [
            "Gravitational force between the Earth and the Sun : 3.540113849052018e+33\n",
            "Gravitational force between the Moon and the Earth : 1.9807456032098326e+31\n",
            "The gravitational force between the Earth and the Sun is stronger.\n"
          ]
        }
      ]
    },
    {
      "cell_type": "markdown",
      "source": [
        "###**Question 2**"
      ],
      "metadata": {
        "id": "rk5Kc01itdCr"
      }
    },
    {
      "cell_type": "code",
      "source": [
        "class Student:\n",
        "    # Constructor\n",
        "    def __init__(self, name,  age, rollno):\n",
        "        self._name = name\n",
        "        self._rollno = rollno\n",
        "        self._age = age\n",
        "\n",
        "        # getter method\n",
        "    def get_age(self):\n",
        "        return self._age\n",
        "\n",
        "    # setter method\n",
        "    def set_age(self, x):\n",
        "        self._age = x\n",
        "\n",
        "\n",
        "class Derived(Student):\n",
        "    def __init__(self, name, age, rollno):\n",
        "        Student.__init__(self, name, age, rollno)\n",
        "\n",
        "    # function to display student details\n",
        "    def display(self):\n",
        "        print(\"Name   : \" ,self._name)\n",
        "        print(\"RollNo : \", self._rollno)\n",
        "        print(\"Age : \", self._age)\n",
        "        print(\"\\n\")\n",
        "\n",
        "    # function to update age and roll no\n",
        "    def update(self, x, y):\n",
        "        self._age = x\n",
        "        self._rollno = y\n",
        "        print(\"Age : \", self._age)\n",
        "        print(\"RollNo : \", self._rollno)\n",
        "        print(\"\\n\")\n",
        "\n",
        "\n",
        "# creating an object\n",
        "obj1 = Derived(\"Navneet\", 20, 1)\n",
        "obj1.display()\n",
        "\n"
      ],
      "metadata": {
        "colab": {
          "base_uri": "https://localhost:8080/"
        },
        "id": "VJRENeaYwjTm",
        "outputId": "ae1eda6c-65bb-4961-b71d-c4888831ddf0"
      },
      "execution_count": null,
      "outputs": [
        {
          "output_type": "stream",
          "name": "stdout",
          "text": [
            "Name   :  Navneet\n",
            "RollNo :  1\n",
            "Age :  20\n",
            "\n",
            "\n"
          ]
        }
      ]
    },
    {
      "cell_type": "code",
      "source": [
        "\n",
        "obj1.update(29,2)"
      ],
      "metadata": {
        "colab": {
          "base_uri": "https://localhost:8080/"
        },
        "id": "PuzVyPL23C4Y",
        "outputId": "4e82536b-0c5d-448d-81ae-0007f354cff7"
      },
      "execution_count": null,
      "outputs": [
        {
          "output_type": "stream",
          "name": "stdout",
          "text": [
            "Age :  29\n",
            "RollNo :  2\n",
            "\n",
            "\n"
          ]
        }
      ]
    },
    {
      "cell_type": "markdown",
      "source": [
        "###**Question 3**"
      ],
      "metadata": {
        "id": "t9-i4OHe9eqH"
      }
    },
    {
      "cell_type": "code",
      "source": [
        "# Management for library resources efficiently\n",
        "\n",
        "class LibraryBook():\n",
        "  # encapsulated attributes\n",
        "  def __init__(self, name, author, available):\n",
        "    self.__name = name\n",
        "    self.__author = author\n",
        "    self.__available = available\n",
        "\n",
        "class Library:\n",
        "    def __init__(self, listofBooks):\n",
        "        self.books = listofBooks\n",
        "\n",
        "    def displayAvailableBooks(self):\n",
        "        print(f\"\\n{len(self.books)} AVAILABLE BOOKS ARE: \")\n",
        "        for book in self.books:\n",
        "            print(\" ♦-- \" + book)\n",
        "        print(\"\\n\")\n",
        "\n",
        "    def borrowBook(self, name, bookname):\n",
        "        if bookname not in self.books:\n",
        "            print(\n",
        "                f\"{bookname} BOOK IS NOT AVAILABLE EITHER TAKEN BY SOMEONE ELSE, WAIT UNTIL HE RETURNED.\\n\")\n",
        "        else:\n",
        "          print(\"BOOK ISSUED : THANK YOU KEEP IT WITH CARE AND RETURN ON TIME.\\n\")\n",
        "          self.books.remove(bookname)\n",
        "\n",
        "    def returnBook(self, bookname):\n",
        "        print(\"BOOK RETURNED : THANK YOU! \\n\")\n",
        "        self.books.append(bookname)"
      ],
      "metadata": {
        "id": "Y_ayaRtM5kAa"
      },
      "execution_count": null,
      "outputs": []
    },
    {
      "cell_type": "code",
      "source": [
        "obj = Library(['Karan','Ajay','Mathur','Navneet'])\n",
        "obj.displayAvailableBooks()\n"
      ],
      "metadata": {
        "colab": {
          "base_uri": "https://localhost:8080/"
        },
        "id": "5RGITBzs_q96",
        "outputId": "bbfa98c5-bbda-4eb0-e5ac-a58929303793"
      },
      "execution_count": null,
      "outputs": [
        {
          "output_type": "stream",
          "name": "stdout",
          "text": [
            "\n",
            "4 AVAILABLE BOOKS ARE: \n",
            " ♦-- Karan\n",
            " ♦-- Ajay\n",
            " ♦-- Mathur\n",
            " ♦-- Navneet\n",
            "\n",
            "\n"
          ]
        }
      ]
    },
    {
      "cell_type": "code",
      "source": [
        "obj.borrowBook('Hradesh','Mathur')"
      ],
      "metadata": {
        "colab": {
          "base_uri": "https://localhost:8080/"
        },
        "id": "wNmuRtu2_xgs",
        "outputId": "4ff77f44-6ca7-4d9e-9c0d-b2a192325a9c"
      },
      "execution_count": null,
      "outputs": [
        {
          "output_type": "stream",
          "name": "stdout",
          "text": [
            "BOOK ISSUED : THANK YOU KEEP IT WITH CARE AND RETURN ON TIME.\n",
            "\n"
          ]
        }
      ]
    },
    {
      "cell_type": "code",
      "source": [
        "obj.displayAvailableBooks()"
      ],
      "metadata": {
        "colab": {
          "base_uri": "https://localhost:8080/"
        },
        "id": "xUQhKs8xAhR6",
        "outputId": "1815bf6e-dd63-4131-ca83-edb620b74454"
      },
      "execution_count": null,
      "outputs": [
        {
          "output_type": "stream",
          "name": "stdout",
          "text": [
            "\n",
            "3 AVAILABLE BOOKS ARE: \n",
            " ♦-- Karan\n",
            " ♦-- Ajay\n",
            " ♦-- Navneet\n",
            "\n",
            "\n"
          ]
        }
      ]
    },
    {
      "cell_type": "code",
      "source": [
        "obj.returnBook('Mathur')"
      ],
      "metadata": {
        "colab": {
          "base_uri": "https://localhost:8080/"
        },
        "id": "YjzQsi_TB71h",
        "outputId": "e6ee30af-2568-46e7-8621-1aea8d622775"
      },
      "execution_count": null,
      "outputs": [
        {
          "output_type": "stream",
          "name": "stdout",
          "text": [
            "BOOK RETURNED : THANK YOU! \n",
            "\n"
          ]
        }
      ]
    },
    {
      "cell_type": "code",
      "source": [
        "obj.displayAvailableBooks()"
      ],
      "metadata": {
        "colab": {
          "base_uri": "https://localhost:8080/"
        },
        "id": "xgEFkS3PCCPJ",
        "outputId": "584d4411-9e44-44b2-e9d0-d257ed7a87f1"
      },
      "execution_count": null,
      "outputs": [
        {
          "output_type": "stream",
          "name": "stdout",
          "text": [
            "\n",
            "4 AVAILABLE BOOKS ARE: \n",
            " ♦-- Karan\n",
            " ♦-- Ajay\n",
            " ♦-- Navneet\n",
            " ♦-- Mathur\n",
            "\n",
            "\n"
          ]
        }
      ]
    },
    {
      "cell_type": "markdown",
      "source": [
        "###**Question 4**"
      ],
      "metadata": {
        "id": "RzpFS2KDCTAb"
      }
    },
    {
      "cell_type": "code",
      "source": [
        "# Simple Bank management system\n",
        "\n",
        "class Bank:\n",
        "    def __init__(self, name, account_no, balance):\n",
        "        self.name = name\n",
        "        self.account_no = account_no\n",
        "        self.balance = balance\n",
        "\n",
        "class SavingsAccount(Bank):\n",
        "    def __init__(self, name, account_no, balance):\n",
        "        super().__init__(name, account_no, balance)\n",
        "\n",
        "    def deposit(self, amount):\n",
        "        self.balance += amount\n",
        "\n",
        "    def withdraw(self, amount):\n",
        "        if self.balance >= amount:\n",
        "            self.balance -= amount\n",
        "        else:\n",
        "            print(\"Insufficient balance\")\n",
        "\n",
        "    def balance_inquiry(self):\n",
        "        print(f\"Account balance for {self.name}: {self.balance}\")\n",
        "\n",
        "class CurrentAccount(Bank):\n",
        "    def __init__(self, name, account_no, balance):\n",
        "        super().__init__(name, account_no, balance)\n",
        "\n",
        "    def deposit(self, amount):\n",
        "        self.balance += amount\n",
        "\n",
        "    def withdraw(self, amount):\n",
        "        if self.balance >= amount:\n",
        "            self.balance -= amount\n",
        "        else:\n",
        "            print(\"Insufficient balance\")\n",
        "\n",
        "    def balance_inquiry(self):\n",
        "        print(f\"Account balance for {self.name}: {self.balance}\")\n",
        "\n"
      ],
      "metadata": {
        "id": "gTZ-0tibCEzq"
      },
      "execution_count": null,
      "outputs": []
    },
    {
      "cell_type": "code",
      "source": [
        "Karan = SavingsAccount(\"Karan\", 123456789, 10000)\n",
        "Karan.deposit(5000)\n",
        "Karan.withdraw(2000)\n",
        "Karan.balance_inquiry()\n"
      ],
      "metadata": {
        "colab": {
          "base_uri": "https://localhost:8080/"
        },
        "id": "VT4kJIqxu9Zv",
        "outputId": "acb7c82e-bc67-4424-f6da-9b8bd1c81745"
      },
      "execution_count": null,
      "outputs": [
        {
          "output_type": "stream",
          "name": "stdout",
          "text": [
            "Account balance for Karan: 13000\n"
          ]
        }
      ]
    },
    {
      "cell_type": "code",
      "source": [
        "Mayank = CurrentAccount(\"Mayank\", 987654321, 5000)\n",
        "Mayank.deposit(3000)\n",
        "Mayank.withdraw(1000)\n",
        "Mayank.balance_inquiry()"
      ],
      "metadata": {
        "colab": {
          "base_uri": "https://localhost:8080/"
        },
        "id": "QD8j31mAvHdw",
        "outputId": "97beb17f-c302-40b4-af76-a5a4345b3937"
      },
      "execution_count": null,
      "outputs": [
        {
          "output_type": "stream",
          "name": "stdout",
          "text": [
            "Account balance for Mayank: 7000\n"
          ]
        }
      ]
    },
    {
      "cell_type": "markdown",
      "source": [
        "###**Question 5**"
      ],
      "metadata": {
        "id": "7iFopVm_vUCN"
      }
    },
    {
      "cell_type": "code",
      "source": [
        "# Base class Animal\n",
        "\n",
        "class Animal:\n",
        "    def __init__(self, name, species):\n",
        "        self.name = name\n",
        "        self.species = species\n",
        "\n",
        "    def make_sound(self):\n",
        "        pass\n",
        "\n",
        "# Subclasses :\n",
        "\n",
        "class Dog(Animal):\n",
        "    def __init__(self, name, breed):\n",
        "        super().__init__(name, \"Dog\")\n",
        "        self.breed = breed\n",
        "\n",
        "    def make_sound(self):\n",
        "        return \"Woof!\"\n",
        "\n",
        "class Cat(Animal):\n",
        "    def __init__(self, name, breed):\n",
        "        super().__init__(name, \"Cat\")\n",
        "        self.breed = breed\n",
        "\n",
        "    def make_sound(self):\n",
        "        return \"Meow!\"\n"
      ],
      "metadata": {
        "id": "SVi39MYDvP5-"
      },
      "execution_count": null,
      "outputs": []
    },
    {
      "cell_type": "code",
      "source": [
        "dog = Dog(\"Buddy\", \"Labrador\")\n",
        "cat = Cat(\"Whiskers\", \"Siamese\")\n",
        "\n",
        "print(f\"{dog.name} ({dog.species}) says: {dog.make_sound()}\")\n",
        "print(f\"{cat.name} ({cat.species}) says: {cat.make_sound()}\")"
      ],
      "metadata": {
        "colab": {
          "base_uri": "https://localhost:8080/"
        },
        "id": "lhdhAa1qwE5x",
        "outputId": "d591ddb6-3843-43ee-b90e-deccd52a8a6e"
      },
      "execution_count": null,
      "outputs": [
        {
          "output_type": "stream",
          "name": "stdout",
          "text": [
            "Buddy (Dog) says: Woof!\n",
            "Whiskers (Cat) says: Meow!\n"
          ]
        }
      ]
    },
    {
      "cell_type": "markdown",
      "source": [
        "###**Question 6** `Restaurant Management System`"
      ],
      "metadata": {
        "id": "GAcBzoPxwe7b"
      }
    },
    {
      "cell_type": "code",
      "source": [
        "# Code for restaurant Management System\n",
        "\n",
        "\n",
        "class MenuItem:\n",
        "    def __init__(self, name, description, price, category):\n",
        "        self.name = name\n",
        "        self.description = description\n",
        "        self.price = price\n",
        "        self.category = category\n",
        "        self.is_available = True\n",
        "\n",
        "    def price_check(self):\n",
        "        return f\"{self.name} - ${self.price:.2f}\"\n",
        "\n",
        "    def add_to_menu(self, Unique_ID, menu):\n",
        "        self.Unique_ID = Unique_ID\n",
        "        menu.append(self)\n",
        "        print(f\"{self.name} has been added to the menu.\")\n",
        "\n",
        "    def update_menu_item(self, name=None, description=None, price=None, category=None):\n",
        "        if name:\n",
        "            self.name = name\n",
        "        if description:\n",
        "            self.description = description\n",
        "        if price:\n",
        "            self.price = price\n",
        "        if category:\n",
        "            self.category = category\n",
        "            print(f\"{self.name} has been updated in the menu.\")\n",
        "\n",
        "    def remove_from_menu(self):\n",
        "        self.is_available = False\n",
        "        print(f\"{self.name} has been removed from the menu.\")\n",
        "\n",
        "class FoodItem(MenuItem):\n",
        "  def __init__(self, name, description, price, category):\n",
        "    super().__init__(name, description, price, category)\n",
        "\n",
        "  def price_check(self):\n",
        "    return f\"{self.name} - Rs.{self.price:.2f}\"\n",
        "\n",
        "  def add_to_menu(self, Unique_ID, menu):\n",
        "    self.Unique_ID = Unique_ID\n",
        "    menu.append(self)\n",
        "    print(f\"{self.name} has been added to the menu.\")\n",
        "\n",
        "  def update_menu_item(self, name=None, description=None, price=None, category=None):\n",
        "    if name:\n",
        "      self.name = name\n",
        "    if description:\n",
        "      self.description = description\n",
        "    if price:\n",
        "      self.price = price\n",
        "    if category:\n",
        "      self.category = category\n",
        "      print(f\"{self.name} has been updated in the menu.\")\n",
        "\n",
        "  def remove_from_menu(self):\n",
        "    self.is_available = False\n",
        "    print(f\"{self.name} has been removed from the menu.\")\n",
        "\n",
        "\n",
        "class BeverageItem(MenuItem):\n",
        "  def __init__(self, name, description, price, category):\n",
        "    super().__init__(name, description, price, category)\n",
        "\n",
        "  def price_check(self):\n",
        "    return f\"{self.name} - Rs.{self.price:.2f}\"\n",
        "\n",
        "  def add_to_menu(self, Unique_ID, menu):\n",
        "    self.Unique_ID = Unique_ID\n",
        "    menu.append(self)\n",
        "    print(f\"{self.name} has been added to the menu.\")\n",
        "\n",
        "\n",
        "\n",
        "\n"
      ],
      "metadata": {
        "id": "CTipkXyQwKCH"
      },
      "execution_count": null,
      "outputs": []
    },
    {
      "cell_type": "code",
      "source": [
        "burger = FoodItem(\"Burger\", \"Delicious burger with cheese and vegetables\", 255, \"Fast Food\")"
      ],
      "metadata": {
        "id": "AhLqCFTnzEs6"
      },
      "execution_count": null,
      "outputs": []
    },
    {
      "cell_type": "code",
      "source": [
        "burger.description"
      ],
      "metadata": {
        "colab": {
          "base_uri": "https://localhost:8080/",
          "height": 36
        },
        "id": "h7NZ1FiizPPF",
        "outputId": "6a5dd560-db93-45c4-bb6d-e0f9950084ce"
      },
      "execution_count": null,
      "outputs": [
        {
          "output_type": "execute_result",
          "data": {
            "text/plain": [
              "'Delicious burger with cheese and vegetables'"
            ],
            "application/vnd.google.colaboratory.intrinsic+json": {
              "type": "string"
            }
          },
          "metadata": {},
          "execution_count": 29
        }
      ]
    },
    {
      "cell_type": "code",
      "source": [
        "burger.price"
      ],
      "metadata": {
        "colab": {
          "base_uri": "https://localhost:8080/"
        },
        "id": "DSEEp_pAzUlD",
        "outputId": "015414f4-62a1-402b-c706-618890347c54"
      },
      "execution_count": null,
      "outputs": [
        {
          "output_type": "execute_result",
          "data": {
            "text/plain": [
              "255"
            ]
          },
          "metadata": {},
          "execution_count": 30
        }
      ]
    },
    {
      "cell_type": "code",
      "source": [
        "burger.price_check()"
      ],
      "metadata": {
        "colab": {
          "base_uri": "https://localhost:8080/",
          "height": 36
        },
        "id": "0cJ5oMDrzWo9",
        "outputId": "7f1d71eb-3ab2-4e32-9641-6700720a7fe1"
      },
      "execution_count": null,
      "outputs": [
        {
          "output_type": "execute_result",
          "data": {
            "text/plain": [
              "'Burger - Rs.255.00'"
            ],
            "application/vnd.google.colaboratory.intrinsic+json": {
              "type": "string"
            }
          },
          "metadata": {},
          "execution_count": 31
        }
      ]
    },
    {
      "cell_type": "code",
      "source": [
        "thumpsup = BeverageItem(\"Thumpsup\", \"Refreshing drink\", 30, \"Soft Drinks\")"
      ],
      "metadata": {
        "id": "FJxuNigFzd0H"
      },
      "execution_count": null,
      "outputs": []
    },
    {
      "cell_type": "code",
      "source": [
        "thumpsup.price_check()"
      ],
      "metadata": {
        "colab": {
          "base_uri": "https://localhost:8080/",
          "height": 36
        },
        "id": "k9Onb9bZz1ni",
        "outputId": "d1f2e418-2192-447b-e78a-fc9b5b581702"
      },
      "execution_count": null,
      "outputs": [
        {
          "output_type": "execute_result",
          "data": {
            "text/plain": [
              "'Thumpsup - Rs.30.00'"
            ],
            "application/vnd.google.colaboratory.intrinsic+json": {
              "type": "string"
            }
          },
          "metadata": {},
          "execution_count": 33
        }
      ]
    },
    {
      "cell_type": "code",
      "source": [
        "thumpsup.add_to_menu(['burger','thumpsup'],[1,2])"
      ],
      "metadata": {
        "colab": {
          "base_uri": "https://localhost:8080/"
        },
        "id": "G4G4BrNwz4hM",
        "outputId": "081be593-c594-43d7-8ca9-5a7772d86835"
      },
      "execution_count": null,
      "outputs": [
        {
          "output_type": "stream",
          "name": "stdout",
          "text": [
            "Thumpsup has been added to the menu.\n"
          ]
        }
      ]
    },
    {
      "cell_type": "markdown",
      "source": [
        "###**Question 7** `Hotel Management System`"
      ],
      "metadata": {
        "id": "vNNDsdi60f0b"
      }
    },
    {
      "cell_type": "code",
      "source": [
        "# Implementation for Hotel Management System\n",
        "\n",
        "class Room:\n",
        "  def __init__(self, room_number, room_type, price, availability):\n",
        "    # Private Member\n",
        "    self.__room_number = room_number\n",
        "    self.__room_type = room_type\n",
        "    self.__price = price\n",
        "    self.__availability = availability\n",
        "\n",
        "\n",
        "  def book_room(self, Unique_ID):\n",
        "    self._Unique_ID = Unique_ID\n",
        "    if self.__availability:\n",
        "      self.__availability = False\n",
        "      return f\"Room {self.__room_number} has been booked.\"\n",
        "    else:\n",
        "      return f\"Room {self.__room_number} is already booked.\"\n",
        "\n",
        "  def check_in(self):\n",
        "      if not self.__availability:\n",
        "        self.__availability = True\n",
        "        return f\"Room {self.__room_number} has been checked in.\"\n",
        "      else:\n",
        "        return f\"Room {self.__room_number} is already available.\"\n",
        "\n",
        "  def check_out(self):\n",
        "    if not self.__availability:\n",
        "      self.__availability = True\n",
        "      return f\"Room {self.__room_number} has been checked out.\"\n",
        "    else:\n",
        "      return f\"Room {self.__room_number} is already available.\"\n",
        "\n",
        "\n",
        "\n",
        "\n",
        "\n",
        "class SuiteRoom(Room):\n",
        "  def __init__(self, room_number, room_type, price, availability, view):\n",
        "    super().__init__(room_number, room_type, price, availability)\n",
        "    self.view = view\n",
        "\n",
        "  def book_room(self, Unique_ID):\n",
        "    self._Unique_ID = Unique_ID\n",
        "    if self.__availability:\n",
        "      self.__availability = False\n",
        "      return f\"Room {self.__room_number} has been booked.\"\n",
        "    else:\n",
        "      return f\"Room {self.__room_number} is already booked.\"\n",
        "\n",
        "  def check_out(self):\n",
        "    if not self.__availability:\n",
        "      self.__availability = True\n",
        "      return f\"Room {self.__room_number} has been checked out.\"\n",
        "    else:\n",
        "      return f\"Room {self.__room_number} is already available.\"\n",
        "\n",
        "  def check_in(self):\n",
        "    if not self.__availability:\n",
        "      self.__availability = True\n",
        "      return f\"Room {self.__room_number} has been checked in.\"\n",
        "    else:\n",
        "      return f\"Room {self.__room_number} is already available.\"\n",
        "\n",
        "\n",
        "class StandardRoom(Room):\n",
        "  def __init__(self, room_number, room_type, price, availability, amenities):\n",
        "    super().__init__(room_number, room_type, price, availability)\n",
        "    self.amenities = amenities\n",
        "\n",
        "  def book_room(self, Unique_ID):\n",
        "    self._Unique_ID = Unique_ID\n",
        "    if self.__availability:\n",
        "      self.__availability = False\n",
        "      return f\"Room {self.__room_number} has been booked.\"\n",
        "    else:\n",
        "      return f\"Room {self.__room_number} is already booked.\"\n",
        "\n",
        "  def check_out(self):\n",
        "    if not self.__availability:\n",
        "      self.__availability = True\n",
        "      return f\"Room {self.__room_number} has been checked out.\"\n",
        "    else:\n",
        "      return f\"Room {self.__room_number} is already available.\"\n",
        "\n",
        "  def check_in(self):\n",
        "    if not self.__availability:\n",
        "      self.__availability = True\n",
        "      return f\"Room {self.__room_number} has been checked in.\"\n",
        "    else:\n",
        "      return f\"Room {self.__room_number} is already available.\"\n",
        "\n",
        "\n",
        "\n",
        "\n"
      ],
      "metadata": {
        "id": "8AyG8jG50OAu"
      },
      "execution_count": null,
      "outputs": []
    },
    {
      "cell_type": "code",
      "source": [
        "hotel = Room(101, \"Deluxe\", 2500, True)"
      ],
      "metadata": {
        "id": "UTrF2Jz12eWz"
      },
      "execution_count": null,
      "outputs": []
    },
    {
      "cell_type": "code",
      "source": [
        "hotel.check_out()"
      ],
      "metadata": {
        "colab": {
          "base_uri": "https://localhost:8080/",
          "height": 36
        },
        "id": "aUB6YeCO2ip4",
        "outputId": "33308d33-269f-4dea-d520-528d193960ac"
      },
      "execution_count": null,
      "outputs": [
        {
          "output_type": "execute_result",
          "data": {
            "text/plain": [
              "'Room 101 is already available.'"
            ],
            "application/vnd.google.colaboratory.intrinsic+json": {
              "type": "string"
            }
          },
          "metadata": {},
          "execution_count": 69
        }
      ]
    },
    {
      "cell_type": "code",
      "source": [
        "hotel.book_room(11)"
      ],
      "metadata": {
        "colab": {
          "base_uri": "https://localhost:8080/",
          "height": 36
        },
        "id": "z3WambIP2yfi",
        "outputId": "a2ef3b26-bf35-42b2-d4b3-115082698d69"
      },
      "execution_count": null,
      "outputs": [
        {
          "output_type": "execute_result",
          "data": {
            "text/plain": [
              "'Room 101 has been booked.'"
            ],
            "application/vnd.google.colaboratory.intrinsic+json": {
              "type": "string"
            }
          },
          "metadata": {},
          "execution_count": 70
        }
      ]
    },
    {
      "cell_type": "markdown",
      "source": [
        "###**Question 8**  `Fitness Club Management System`"
      ],
      "metadata": {
        "id": "GW3Kjkgt52Ya"
      }
    },
    {
      "cell_type": "code",
      "source": [
        "# Fitness club management system:\n",
        "\n",
        "class Member:\n",
        "  def __init__(self, name, age, membership_type, membership_status):\n",
        "    self.__name = name\n",
        "    self.__age = age\n",
        "    self.__membership_type = membership_type\n",
        "    self.__membership_status = membership_status\n",
        "\n",
        "  def register_new_member(self, name, age, membership_type, membership_status,Unique_ID):\n",
        "    self._Unique_ID = Unique_ID\n",
        "    self.__name = name\n",
        "    self.__age = age\n",
        "    self.__membership_type = membership_type\n",
        "    self.__membership_status = membership_status\n",
        "    return  f\"{self.__name} has been registered successfully.\"\n",
        "\n",
        "  def renew_membership(self):\n",
        "    return f\"{self.__name}'s membership has been renewed successfully.\"\n",
        "\n",
        "  def cancel_membership(self):\n",
        "    return f\"{self.__name}'s membership has been cancelled successfully.\"\n",
        "\n",
        "  def check_membership_status(self):\n",
        "    return f\"{self.__name}'s membership status is {self.__membership_status}.\"\n",
        "\n",
        "# Family Member class:\n",
        "\n",
        "class FamilyMember(Member):\n",
        "  def __init__(self, name, age, membership_type, membership_status):\n",
        "    super().__init__(name, age, membership_type, membership_status)\n",
        "\n",
        "  def register_new_member(self, name, age, membership_type, membership_status,Unique_ID):\n",
        "    self._Unique_ID = Unique_ID\n",
        "    self.__name = name\n",
        "    self.__age = age\n",
        "    self.__membership_type = membership_type\n",
        "    self.__membership_status = membership_status\n",
        "    return  f\"{self.__name} has been registered successfully.\"\n",
        "\n",
        "  def renew_membership(self):\n",
        "    return f\"{self.__name}'s membership has been renewed successfully.\"\n",
        "\n",
        "  def cancel_membership(self):\n",
        "    return f\"{self.__name}'s membership has been cancelled successfully.\"\n",
        "\n",
        "# Individual Membership class:\n",
        "\n",
        "class IndividualMembership(Member):\n",
        "  def __init__(self, name, age, membership_type, membership_status):\n",
        "    super().__init__(name, age, membership_type, membership_status)\n",
        "\n",
        "  def register_new_member(self, name, age, membership_type, membership_status,Unique_ID):\n",
        "    self._Unique_ID =  Unique_ID\n",
        "    self.__name = name\n",
        "    self.__age = age\n",
        "    self.__membership_type = membership_type\n",
        "    self.__membership_status = membership_status\n",
        "    return  f\"{self.__name} has been registered successfully.\"\n",
        "\n",
        "  def renew_membership(self):\n",
        "    return f\"{self.__name}'s membership has been renewed successfully.\"\n",
        "\n",
        "  def cancel_membership(self):\n",
        "    return f\"{self.__name}'s membership has been cancelled successfully.\"\n",
        "\n"
      ],
      "metadata": {
        "id": "WP5e6Kll5h3K"
      },
      "execution_count": null,
      "outputs": []
    },
    {
      "cell_type": "code",
      "source": [
        "a = Member(\"Karan\", 20, \"Premium\", \"Active\")"
      ],
      "metadata": {
        "id": "iPraP1GU7DiR"
      },
      "execution_count": null,
      "outputs": []
    },
    {
      "cell_type": "code",
      "source": [
        "a.register_new_member(\"Karan\", 20, \"Premium\", \"Active\", 102)"
      ],
      "metadata": {
        "colab": {
          "base_uri": "https://localhost:8080/",
          "height": 36
        },
        "id": "a70-jzoh7GaM",
        "outputId": "07c9a6cc-ef1c-4d48-efbb-99c265bd3c87"
      },
      "execution_count": null,
      "outputs": [
        {
          "output_type": "execute_result",
          "data": {
            "text/plain": [
              "'Karan has been registered successfully.'"
            ],
            "application/vnd.google.colaboratory.intrinsic+json": {
              "type": "string"
            }
          },
          "metadata": {},
          "execution_count": 88
        }
      ]
    },
    {
      "cell_type": "code",
      "source": [
        "a._Unique_ID"
      ],
      "metadata": {
        "colab": {
          "base_uri": "https://localhost:8080/"
        },
        "id": "0FlrsQNO7IM4",
        "outputId": "887dba4e-ba59-4c3c-80d3-226de3408308"
      },
      "execution_count": null,
      "outputs": [
        {
          "output_type": "execute_result",
          "data": {
            "text/plain": [
              "102"
            ]
          },
          "metadata": {},
          "execution_count": 89
        }
      ]
    },
    {
      "cell_type": "code",
      "source": [
        "f = FamilyMember(\"Karan\", 20, \"Premium\", \"Active\")"
      ],
      "metadata": {
        "id": "kpr5q4-y7KHe"
      },
      "execution_count": null,
      "outputs": []
    },
    {
      "cell_type": "code",
      "source": [
        "f.register_new_member(\"Karan\", 20, \"Premium\", \"Active\", 102)"
      ],
      "metadata": {
        "colab": {
          "base_uri": "https://localhost:8080/",
          "height": 36
        },
        "id": "q84gpNSE-qd_",
        "outputId": "51e58ae3-2c92-46ec-e274-e7169bd44048"
      },
      "execution_count": null,
      "outputs": [
        {
          "output_type": "execute_result",
          "data": {
            "text/plain": [
              "'Karan has been registered successfully.'"
            ],
            "application/vnd.google.colaboratory.intrinsic+json": {
              "type": "string"
            }
          },
          "metadata": {},
          "execution_count": 91
        }
      ]
    },
    {
      "cell_type": "code",
      "source": [
        "f.cancel_membership()"
      ],
      "metadata": {
        "colab": {
          "base_uri": "https://localhost:8080/",
          "height": 36
        },
        "id": "PdS2q7Rk-r75",
        "outputId": "f609d735-0de5-47b9-bd74-4f322732d090"
      },
      "execution_count": null,
      "outputs": [
        {
          "output_type": "execute_result",
          "data": {
            "text/plain": [
              "\"Karan's membership has been cancelled successfully.\""
            ],
            "application/vnd.google.colaboratory.intrinsic+json": {
              "type": "string"
            }
          },
          "metadata": {},
          "execution_count": 92
        }
      ]
    },
    {
      "cell_type": "markdown",
      "source": [
        "###**Question 9**   `Event Management System`"
      ],
      "metadata": {
        "id": "B8OsiE_u-yJY"
      }
    },
    {
      "cell_type": "code",
      "source": [
        "class Event:\n",
        "    def __init__(self, name, date, location, list_of_attendees = []):\n",
        "        self._name = name\n",
        "        self._date = date\n",
        "        self._location = location\n",
        "        self.__list_of_attendees = list_of_attendees # Initialize __list_of_attendees here\n",
        "\n",
        "    def get_name(self):\n",
        "        return self._name\n",
        "\n",
        "    def get_date(self):\n",
        "        return self._date\n",
        "\n",
        "    def get_location(self):\n",
        "        return self._location\n",
        "\n",
        "    def get_attendees(self):\n",
        "        return self.__list_of_attendees\n",
        "\n",
        "class New_event(Event):\n",
        "    def __init__(self, name, date, location, list_of_attendees):\n",
        "        super().__init__(name, date, location, list_of_attendees)\n",
        "        self.__list_of_attendees = list_of_attendees\n",
        "        self._unique_id = None\n",
        "\n",
        "    def add_attendee(self, attendee, unique_id):\n",
        "        self._unique_id = unique_id\n",
        "        self.__list_of_attendees.append(attendee) # Use the correct attribute name\n",
        "        return f\"{attendee} has been added to the attendee list.\"\n",
        "\n",
        "    def remove_attendee(self, attendee):\n",
        "        if attendee in self.__list_of_attendees:\n",
        "            self.__list_of_attendees.remove(attendee)\n",
        "            return f\"{attendee} has been removed from the attendee list.\"\n",
        "        else:\n",
        "            return f\"{attendee} is not in the attendee list.\"\n",
        "\n",
        "    def get_attendees(self):\n",
        "        return self.__list_of_attendees\n",
        "\n",
        "    def get_unique_id(self):\n",
        "        return self._unique_id"
      ],
      "metadata": {
        "id": "-1tF7QMCduKA"
      },
      "execution_count": null,
      "outputs": []
    },
    {
      "cell_type": "code",
      "source": [
        "a = New_event('Jackson', '10-11-2024', 'Mumbai', ['Aman','James','Kailash','Lala'])"
      ],
      "metadata": {
        "id": "KiU3v5dZd_7Z"
      },
      "execution_count": null,
      "outputs": []
    },
    {
      "cell_type": "code",
      "source": [
        "a.add_attendee('Mayur', 110)"
      ],
      "metadata": {
        "colab": {
          "base_uri": "https://localhost:8080/",
          "height": 35
        },
        "id": "6-jZPD7cfk9N",
        "outputId": "eb57c36b-318b-45c0-a6a1-651466dc0daa"
      },
      "execution_count": null,
      "outputs": [
        {
          "output_type": "execute_result",
          "data": {
            "text/plain": [
              "'Mayur has been added to the attendee list.'"
            ],
            "application/vnd.google.colaboratory.intrinsic+json": {
              "type": "string"
            }
          },
          "metadata": {},
          "execution_count": 100
        }
      ]
    },
    {
      "cell_type": "code",
      "source": [
        "a.get_attendees()"
      ],
      "metadata": {
        "colab": {
          "base_uri": "https://localhost:8080/"
        },
        "id": "pJd382-4fmDX",
        "outputId": "7cc6d9c9-7f7d-41d8-a2a1-2bdb71e961b1"
      },
      "execution_count": null,
      "outputs": [
        {
          "output_type": "execute_result",
          "data": {
            "text/plain": [
              "['Aman', 'James', 'Kailash', 'Lala', 'Mayur']"
            ]
          },
          "metadata": {},
          "execution_count": 101
        }
      ]
    },
    {
      "cell_type": "code",
      "source": [
        "a.remove_attendee('Lala')"
      ],
      "metadata": {
        "colab": {
          "base_uri": "https://localhost:8080/",
          "height": 35
        },
        "id": "RoFnoIHhhqH-",
        "outputId": "e4ff7055-2e94-486b-f1ee-6abde269958d"
      },
      "execution_count": null,
      "outputs": [
        {
          "output_type": "execute_result",
          "data": {
            "text/plain": [
              "'Lala has been removed from the attendee list.'"
            ],
            "application/vnd.google.colaboratory.intrinsic+json": {
              "type": "string"
            }
          },
          "metadata": {},
          "execution_count": 102
        }
      ]
    },
    {
      "cell_type": "markdown",
      "source": [
        "###**Question 10** `Airline Reservation System`"
      ],
      "metadata": {
        "id": "C8JHYwR3hxj9"
      }
    },
    {
      "cell_type": "code",
      "source": [
        "class Flight:\n",
        "    #Constructor function\n",
        "    def __init__(self, flight_number, departure_airport, arrival_airport, departure_time, arrival_time, availability):\n",
        "      self._flight_number = flight_number\n",
        "      self._departure_airport = departure_airport\n",
        "      self._arrival_airport = arrival_airport\n",
        "      self._departure_time = departure_time\n",
        "      self._arrival_time = arrival_time\n",
        "      self.__availability = availability\n",
        "\n",
        "    def book_flight(self, Unique_ID):\n",
        "      self._Unique_ID = Unique_ID\n",
        "      if self.__availability:\n",
        "        self.__availability = False\n",
        "        return f\"Flight {self._flight_number} has been booked.\"\n",
        "\n",
        "    def cancel_flight(self):\n",
        "      if not self.__availability:\n",
        "        self.__availability = True\n",
        "        return f\"Flight {self._flight_number} has been cancelled.\"\n",
        "\n",
        "    def check_availability(self):\n",
        "      if self.__availability:\n",
        "        return f\"Flight {self._flight_number} is available.\"\n",
        "      else:\n",
        "        return f\"Flight {self._flight_number} is not available.\"\n",
        "\n",
        "\n",
        "class DomesticFlight(Flight):\n",
        "  def __init__(self, flight_number, departure_airport, arrival_airport, departure_time, arrival_time, availability):\n",
        "    super().__init__(flight_number, departure_airport, arrival_airport, departure_time, arrival_time, availability)\n",
        "\n",
        "  def book_flight(self, Unique_ID):\n",
        "    self._Unique_ID = Unique_ID\n",
        "    # Access the private attribute using the correct mangled name\n",
        "    if self._Flight__availability:  # Change from self.__availability\n",
        "      self._Flight__availability = False  # Change from self.__availability\n",
        "      return f\"Flight {self._flight_number} has been booked.\"\n",
        "\n",
        "  def cancel_flight(self):\n",
        "      # Access the private attribute using the correct mangled name\n",
        "      if not self._Flight__availability:  # Change from self.__availability\n",
        "        self._Flight__availability = True  # Change from self.__availability\n",
        "        return f\"Flight {self._flight_number} has been cancelled.\"\n",
        "\n",
        "  def check_availability(self):\n",
        "    # Access the private attribute using the correct mangled name\n",
        "    if self._Flight__availability:  # Change from self.__availability\n",
        "      return f\"Flight {self._flight_number} is available.\"\n",
        "    else:\n",
        "      return f\"Flight {self._flight_number} is not available.\"\n",
        "\n",
        "\n",
        "class InternationalFlight(Flight):\n",
        "  def __init__(self, flight_number, departure_airport, arrival_airport, departure_time, arrival_time, availability):\n",
        "    super().__init__(flight_number, departure_airport, arrival_airport, departure_time, arrival_time, availability)\n",
        "\n",
        "  def book_flight(self, Unique_ID):\n",
        "    self._Unique_ID = Unique_ID\n",
        "    # Access the private attribute using the correct mangled name\n",
        "    if self._Flight__availability:  # Change from self.__availability\n",
        "      self._Flight__availability = False  # Change from self.__availability\n",
        "      return f\"Flight {self._flight_number} has been booked.\"\n",
        "\n",
        "  def cancel_flight(self):\n",
        "      # Access the private attribute using the correct mangled name\n",
        "      if not self._Flight__availability:  # Change from self.__availability\n",
        "        self._Flight__availability = True  # Change from self.__availability\n",
        "        return f\"Flight {self._flight_number} has been cancelled.\"\n",
        "\n",
        "  def check_availability(self):\n",
        "    # Access the private attribute using the correct mangled name\n",
        "    if self._Flight__availability:  # Change from self.__availability\n",
        "      return f\"Flight {self._flight_number} is available.\"\n",
        "    else:\n",
        "      return f\"Flight {self._flight_number} is not available.\"\n"
      ],
      "metadata": {
        "id": "eLG5HrtijqKj"
      },
      "execution_count": null,
      "outputs": []
    },
    {
      "cell_type": "code",
      "source": [
        "d = DomesticFlight(101, 'Mumbai', 'Delhi', '10:00', '12:00', True)"
      ],
      "metadata": {
        "id": "QQckusf_jsNq"
      },
      "execution_count": null,
      "outputs": []
    },
    {
      "cell_type": "code",
      "source": [
        "d.book_flight(101)"
      ],
      "metadata": {
        "colab": {
          "base_uri": "https://localhost:8080/",
          "height": 35
        },
        "id": "-5bX5hhekKOv",
        "outputId": "3cede965-052e-4d11-f3a2-9c7ffeda3069"
      },
      "execution_count": null,
      "outputs": [
        {
          "output_type": "execute_result",
          "data": {
            "text/plain": [
              "'Flight 101 has been booked.'"
            ],
            "application/vnd.google.colaboratory.intrinsic+json": {
              "type": "string"
            }
          },
          "metadata": {},
          "execution_count": 128
        }
      ]
    },
    {
      "cell_type": "code",
      "source": [
        "inter = InternationalFlight(101, 'Mumbai', 'Delhi', '10:00', '12:00', True)"
      ],
      "metadata": {
        "id": "u55yuYFTkLj4"
      },
      "execution_count": null,
      "outputs": []
    },
    {
      "cell_type": "code",
      "source": [
        "inter.book_flight(101)"
      ],
      "metadata": {
        "colab": {
          "base_uri": "https://localhost:8080/",
          "height": 35
        },
        "id": "VMkmMLjPkQf4",
        "outputId": "e217dd9c-cf43-4e42-d2d2-03944577379e"
      },
      "execution_count": null,
      "outputs": [
        {
          "output_type": "execute_result",
          "data": {
            "text/plain": [
              "'Flight 101 has been booked.'"
            ],
            "application/vnd.google.colaboratory.intrinsic+json": {
              "type": "string"
            }
          },
          "metadata": {},
          "execution_count": 130
        }
      ]
    },
    {
      "cell_type": "code",
      "source": [
        "inter.cancel_flight()"
      ],
      "metadata": {
        "colab": {
          "base_uri": "https://localhost:8080/",
          "height": 35
        },
        "id": "LBRuSLjQk7zO",
        "outputId": "d3ac24d9-1a04-44c7-c438-d9dadc29073c"
      },
      "execution_count": null,
      "outputs": [
        {
          "output_type": "execute_result",
          "data": {
            "text/plain": [
              "'Flight 101 has been cancelled.'"
            ],
            "application/vnd.google.colaboratory.intrinsic+json": {
              "type": "string"
            }
          },
          "metadata": {},
          "execution_count": 132
        }
      ]
    },
    {
      "cell_type": "markdown",
      "source": [
        "###**Question 11**"
      ],
      "metadata": {
        "id": "argUonTqmcD0"
      }
    },
    {
      "cell_type": "code",
      "source": [
        "'''circle.py'''\n",
        "\n",
        "PI = 3.14\n",
        "\n",
        "class Circle:\n",
        "    def __init__(self, radius):\n",
        "        self.radius = radius\n",
        "\n",
        "    def area(self):\n",
        "        return PI * self.radius**2\n",
        "\n",
        "    def perimeter(self):\n",
        "        return 2 * PI * self.radius\n",
        "\n",
        "    def projected_volume(self):\n",
        "        return 4/3 * PI * self.radius**3\n",
        "\n",
        "    def __repr__(self):\n",
        "        return f\"{self.__class__.__name__}(radius={self.radius})\""
      ],
      "metadata": {
        "id": "9U-kq_mUlBk1"
      },
      "execution_count": null,
      "outputs": []
    },
    {
      "cell_type": "code",
      "source": [
        "c = Circle(5)"
      ],
      "metadata": {
        "id": "KtQ6iUmKmkS-"
      },
      "execution_count": null,
      "outputs": []
    },
    {
      "cell_type": "code",
      "source": [
        "c.area()"
      ],
      "metadata": {
        "id": "WNgFJYm8mmgy",
        "outputId": "ee4b117f-4ed3-4dd6-ea35-feb1f856728f",
        "colab": {
          "base_uri": "https://localhost:8080/"
        }
      },
      "execution_count": null,
      "outputs": [
        {
          "output_type": "execute_result",
          "data": {
            "text/plain": [
              "78.5"
            ]
          },
          "metadata": {},
          "execution_count": 135
        }
      ]
    },
    {
      "cell_type": "markdown",
      "source": [
        "###**Question 16**"
      ],
      "metadata": {
        "id": "zkS57ezu5njr"
      }
    },
    {
      "cell_type": "code",
      "source": [
        "# create a text file named \"employees.txt\"\n",
        "\n",
        "f = open(\"employees.txt\", \"w\")\n",
        "\n",
        "# details of employees : Name, Age and Salary\n",
        "\n",
        "f.write(\"John Doe, 25, 50000\\n\")\n",
        "f.write(\"Jane Smith, 30, 60000\\n\")\n",
        "f.write(\"Bob Johnson, 22, 45000\\n\")\n",
        "\n",
        "f.close()"
      ],
      "metadata": {
        "id": "A8AXGXJfmpqA"
      },
      "execution_count": null,
      "outputs": []
    },
    {
      "cell_type": "markdown",
      "source": [
        "###**Question 17**"
      ],
      "metadata": {
        "id": "F9YTouoj6v3l"
      }
    },
    {
      "cell_type": "code",
      "source": [
        "# define a file\n",
        "f = open(\"inventory.txt\", \"w\")\n",
        "\n",
        "f.write(\"Product A, 10, 20.00\\n\")\n",
        "f.write(\"Product B, 5, 15.00\\n\")\n",
        "f.write(\"Product C, 20, 10.00\\n\")\n",
        "\n",
        "f.close()\n",
        "\n",
        "f = open(\"inventory.txt\", \"r\")\n",
        "contents = f.read()\n",
        "print(contents)\n",
        "f.close()"
      ],
      "metadata": {
        "colab": {
          "base_uri": "https://localhost:8080/"
        },
        "id": "0nerrsFx6Zz7",
        "outputId": "fc07b4d4-6b56-433f-a74c-d6ec9dcbb987"
      },
      "execution_count": null,
      "outputs": [
        {
          "output_type": "stream",
          "name": "stdout",
          "text": [
            "Product A, 10, 20.00\n",
            "Product B, 5, 15.00\n",
            "Product C, 20, 10.00\n",
            "\n"
          ]
        }
      ]
    },
    {
      "cell_type": "markdown",
      "source": [
        "###**Question 18**"
      ],
      "metadata": {
        "id": "tWdp6s9Z75w-"
      }
    },
    {
      "cell_type": "code",
      "source": [
        "# define a file\n",
        "f = open(\"expenses.txt\", \"w\")\n",
        "\n",
        "f.write(\"Groceries, 15.00\\n\")\n",
        "f.write(\"Rent, 500.00\\n\")\n",
        "f.write(\"Utilities, 100.00\\n\")\n",
        "\n",
        "f.close()\n",
        "\n",
        "# calculate the total amount spent\n",
        "total_expenses = 0\n",
        "with open(\"expenses.txt\", \"r\") as f:\n",
        "    for line in f:\n",
        "        # Split the line by comma and get the expense value (second item)\n",
        "        expense = float(line.strip().split(\",\")[1])\n",
        "        total_expenses += expense\n",
        "\n",
        "print(\"Total expenses:\", total_expenses)"
      ],
      "metadata": {
        "colab": {
          "base_uri": "https://localhost:8080/"
        },
        "id": "4QG8-2DM7ss2",
        "outputId": "6e770ae3-0663-49ff-c239-266ceb1fd8ed"
      },
      "execution_count": null,
      "outputs": [
        {
          "output_type": "stream",
          "name": "stdout",
          "text": [
            "Total expenses: 615.0\n"
          ]
        }
      ]
    },
    {
      "cell_type": "markdown",
      "source": [
        "###**Question 19**"
      ],
      "metadata": {
        "id": "b8b9FMmZ8HGP"
      }
    },
    {
      "cell_type": "code",
      "source": [
        "# define a file\n",
        "f = open(\"paragraph.txt\", \"w\")\n",
        "\n",
        "f.write(\"PW Skills is your one-stop-shop for upscaling. Get maximum value for time and resources you invest, with job-ready courses & high-technology, available at the lowest cost.\")\n",
        "f.close()\n",
        "\n",
        "# count the occurrences of each word in alphabetical order\n",
        "\n",
        "\n",
        "\n",
        "i = 0\n",
        "with open(\"paragraph.txt\", \"r\") as f:\n",
        "    for line in f:\n",
        "        words = line.split()\n",
        "        for word in words:\n",
        "            i += 1\n",
        "            print(i, word)"
      ],
      "metadata": {
        "colab": {
          "base_uri": "https://localhost:8080/"
        },
        "id": "y_DyThe574Z4",
        "outputId": "0b251fd3-9986-4cc2-9b76-97ededef5147"
      },
      "execution_count": null,
      "outputs": [
        {
          "output_type": "stream",
          "name": "stdout",
          "text": [
            "1 PW\n",
            "2 Skills\n",
            "3 is\n",
            "4 your\n",
            "5 one-stop-shop\n",
            "6 for\n",
            "7 upscaling.\n",
            "8 Get\n",
            "9 maximum\n",
            "10 value\n",
            "11 for\n",
            "12 time\n",
            "13 and\n",
            "14 resources\n",
            "15 you\n",
            "16 invest,\n",
            "17 with\n",
            "18 job-ready\n",
            "19 courses\n",
            "20 &\n",
            "21 high-technology,\n",
            "22 available\n",
            "23 at\n",
            "24 the\n",
            "25 lowest\n",
            "26 cost.\n"
          ]
        }
      ]
    },
    {
      "cell_type": "markdown",
      "source": [
        "###**Question 20**\n",
        "\n",
        "**Measures of Central Tendency**\n",
        "\n",
        "Statistics are employed in mathematics to explain the central patterns of both grouped and ungrouped data. The three central tendency measurements are:\n",
        "\n",
        "*   Mean  (mean (x̅)  = Sum of Values / Number of Values)\n",
        "*   Median  (Median = [(n + 1)/2]th term)\n",
        "*   Mode  (Mode = Highest Frequency Term)\n",
        "\n",
        "\n",
        "The central value of the data set is determined using each of the three measures of central tendency\n",
        "\n",
        "**Measures of Dispersion**\n",
        "\n",
        "In statistics, the dispersion measures help in understanding how homogeneous or heterogeneous the data is. In simpler words, it shows how constrained or dispersed the variable is. Absolute and relative dispersion metrics are the two different categories that exist. They are as follows:\n",
        "\n",
        "\n",
        "\n",
        "*   Range   R = L – S\n",
        "\n",
        "where,\n",
        "\n",
        "L is the largest value in the Distribution\n",
        "\n",
        "S is the smallest value in the Distribution\n",
        "*   Variance  [  σ2 = Σ(xi-μ)2 /n  ]\n",
        "*   Standard Deviation  [S.D. = √(σ2)   ]\n",
        "*   Quartiles and Quartile Deviation  (Q3 – Q1)/2\n",
        "\n",
        "where,Q3 = Third Quartile and Q1 = First Quartile\n",
        "*   Mean Deviation    (MD = frac{|(x_1 - \\mu)| + |(x_2 - \\mu)| + ....|(x_n - \\mu)|}{n} )         \n",
        "\n",
        "\n",
        "\n",
        "\n",
        "\n",
        "\n",
        "\n",
        "\n",
        "\n"
      ],
      "metadata": {
        "id": "Ijavifsl-Ag1"
      }
    },
    {
      "cell_type": "markdown",
      "source": [
        "###**Question 21**\n",
        "\n",
        "Skewness can be defined as a statistical measure that describes the lack of symmetry or asymmetry in the probability distribution of a dataset. It quantifies the degree to which the data deviates from a perfectly symmetrical distribution, such as a normal (bell-shaped) distribution. Skewness is a valuable statistical term because it provides insight into the shape and nature of a dataset’s distribution.\n",
        "\n",
        "\n",
        "\n",
        "\n",
        "1. Positive Skewness (Right Skew)\n",
        "\n",
        "In a positively skewed distribution, the tail on the right side (the larger values) is longer than the tail on the left side (the smaller values). This means that the majority of data points are concentrated on the left side of the distribution, and there are some extreme values on the right side. In the case of a positively skewed dataset,\n",
        "\n",
        "Mean > Median > Mode\n",
        "\n",
        "\n",
        "2. Negative Skewness (Left Skew)\n",
        "\n",
        "In a negatively skewed distribution, the tail on the left side (the smaller values) is longer than the tail on the right side (the larger values). This implies that most of the data points are concentrated on the right side of the distribution, with a few extreme values on the left side. In the case of a negatively skewed dataset,\n",
        "\n",
        "Mean < Median < Mode"
      ],
      "metadata": {
        "id": "jvz3T5AKN8aU"
      }
    },
    {
      "cell_type": "markdown",
      "source": [
        "###**Question 22**\n",
        "\n",
        "Probability mass function (PMF)\n",
        "\n",
        "Used for discrete random variables, the PMF describes the probability that the variable can take on an exact value. The PMF is often used to define a discrete probability distribution, and its values must be non-negative and sum to 1. The PMF is used in computer programming and statistical modeling, and can be used to model events like accidents, illness, and traffic volume.\n",
        "\n",
        "Probability density function (PDF)\n",
        "\n",
        "Used for continuous random variables, the PDF describes the probability that the variable will fall within a specific range of values. The PDF is also known as a probability distribution function or cumulative distribution function. T"
      ],
      "metadata": {
        "id": "8V3fyp_DO1K7"
      }
    },
    {
      "cell_type": "markdown",
      "source": [
        "###**Question 23**\n",
        "\n",
        "A correlation coefficient (typically denoted r) is a single number that describes the extent of the linear relationship between two variables. A value of +1 indicates perfect linearity (the two variables move together, like “height in inches” and “height in centimeters”)."
      ],
      "metadata": {
        "id": "MTmMPlNIQSgM"
      }
    },
    {
      "cell_type": "markdown",
      "source": [
        "###**Question 24**"
      ],
      "metadata": {
        "id": "prm_1NvKQk6a"
      }
    },
    {
      "cell_type": "code",
      "source": [
        "# Import those libraries\n",
        "import pandas as pd\n",
        "from scipy.stats import pearsonr\n",
        "\n",
        "\n",
        "Accountancy = 45,70,65,30,90,40,50,75,85,60\n",
        "Statistics = 35,90,70,40,95,40,60,80,80,50\n",
        "\n",
        "# Create a dictionary with the data\n",
        "data = {'Accountancy': Accountancy, 'Statistics': Statistics}\n",
        "\n",
        "# Create a DataFrame from the dictionary\n",
        "df = pd.DataFrame(data)\n",
        "\n",
        "\n",
        "# Convert dataframe into series\n",
        "list1 = df['Accountancy']\n",
        "list2 = df['Statistics']\n",
        "\n",
        "# Apply the pearsonr()\n",
        "corr, _ = pearsonr(list1, list2)\n",
        "print('Pearsons correlation: %.3f' % corr)\n",
        "\n"
      ],
      "metadata": {
        "colab": {
          "base_uri": "https://localhost:8080/"
        },
        "id": "MDsl6cRjOQ8G",
        "outputId": "203aa6ea-212c-4596-bad2-ff44ae1b8a55"
      },
      "execution_count": 11,
      "outputs": [
        {
          "output_type": "stream",
          "name": "stdout",
          "text": [
            "Pearsons correlation: 0.903\n"
          ]
        }
      ]
    },
    {
      "cell_type": "markdown",
      "source": [
        "###**Question 25**\n",
        "\n",
        "Four diffrence between Correlation and Regression\n",
        "\n",
        "**Purpose:**\n",
        "\n",
        "Correlation analysis shows the relationship between variables, while regression analysis shows how one variable affects another. Correlation analysis measures the degree of association between variables, regardless of their roles in the relationship. Regression analysis uses independent variables to predict the values of dependent variables.\n",
        "\n",
        "**Variables:**\n",
        "\n",
        "In correlation analysis, both variables are random and interchangeable. In regression analysis, one variable is random and the other is fixed.\n",
        "\n",
        "**Causality:**\n",
        "\n",
        "Correlation analysis doesn't capture causality, but regression analysis is based on it.\n",
        "\n",
        "**Graphical representation:**\n",
        "\n",
        "Correlation analysis is represented by a single point, while regression analysis is represented by a line.\n",
        "\n"
      ],
      "metadata": {
        "id": "DUHsd7c0R9sm"
      }
    },
    {
      "cell_type": "markdown",
      "source": [
        "###**Question 26**"
      ],
      "metadata": {
        "id": "soDEQx6eUXTo"
      }
    },
    {
      "cell_type": "code",
      "source": [
        "\n",
        "coefficient = 0.8\n",
        "\n",
        "# at Agra\n",
        "agra_price = 70\n",
        "delhi_price = coefficient * agra_price\n",
        "\n",
        "print(f\"The price at Delhi is {delhi_price:.2f} Rupees\")"
      ],
      "metadata": {
        "colab": {
          "base_uri": "https://localhost:8080/"
        },
        "id": "Dy0JTB-TRkF5",
        "outputId": "6a356258-9572-4a2e-d4cd-13cf8ecf93e0"
      },
      "execution_count": 15,
      "outputs": [
        {
          "output_type": "stream",
          "name": "stdout",
          "text": [
            "The price at Delhi is 56.00 Rupees\n"
          ]
        }
      ]
    },
    {
      "cell_type": "code",
      "source": [
        "s"
      ],
      "metadata": {
        "id": "TJjhEQfBa3ig"
      },
      "execution_count": null,
      "outputs": []
    }
  ]
}