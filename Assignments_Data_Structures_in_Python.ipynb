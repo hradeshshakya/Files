{
  "cells": [
    {
      "cell_type": "code",
      "execution_count": null,
      "metadata": {
        "colab": {
          "base_uri": "https://localhost:8080/"
        },
        "id": "LqW8Lmvb629v",
        "outputId": "c12be3c1-fd2c-42ec-cd6c-d7131deaabbc"
      },
      "outputs": [
        {
          "name": "stdout",
          "output_type": "stream",
          "text": [
            "hsedarH si siht ,dlrow olleH\n"
          ]
        }
      ],
      "source": [
        "# 1. Write a code to reverse a string.\n",
        "\n",
        "a = \"Hello world, this is Hradesh\"\n",
        "print(a[::-1])\n"
      ]
    },
    {
      "cell_type": "code",
      "execution_count": null,
      "metadata": {
        "colab": {
          "base_uri": "https://localhost:8080/"
        },
        "id": "JlwNo6cN6u_7",
        "outputId": "f10e4176-69c5-4c9b-cccb-867ea3b44603"
      },
      "outputs": [
        {
          "name": "stdout",
          "output_type": "stream",
          "text": [
            "12\n"
          ]
        }
      ],
      "source": [
        "# 2. Write a code to count the number of vowels in a string.\n",
        "str = \"we will be eliminated in next round.\"\n",
        "vowels = \"aeiou\"\n",
        "count = sum(str.count(vowel) for vowel in vowels)\n",
        "print(count)\n"
      ]
    },
    {
      "cell_type": "code",
      "execution_count": null,
      "metadata": {
        "colab": {
          "base_uri": "https://localhost:8080/"
        },
        "id": "srE6ZLgvDrtm",
        "outputId": "b4d198b4-cfcf-4cf0-db90-b2b4dee01833"
      },
      "outputs": [
        {
          "name": "stdout",
          "output_type": "stream",
          "text": [
            "Given string is palindrome\n"
          ]
        }
      ],
      "source": [
        "# 3. Write a code to check if a given string is a palindrome or not.\n",
        "str = \"level\"\n",
        "if(str == str[::-1]):\n",
        "  print(\"Given string is palindrome\")\n",
        "else:\n",
        "  print(\"It is not palindrome.\")"
      ]
    },
    {
      "cell_type": "code",
      "execution_count": null,
      "metadata": {
        "colab": {
          "background_save": true,
          "base_uri": "https://localhost:8080/"
        },
        "id": "IKAnly6Q64Dc",
        "outputId": "82fd8d56-8c24-44ad-ac48-8935a7ec49da"
      },
      "outputs": [
        {
          "name": "stdout",
          "output_type": "stream",
          "text": [
            "anagram\n"
          ]
        }
      ],
      "source": [
        "# 4. Write a code to check if two given strings are anagrams of each other.\n",
        "\n",
        "str1 = \"silent\"\n",
        "str2 = \"listen\"\n",
        "\n",
        "if sorted(str1) == sorted(str2):\n",
        "  print(\"anagram\")"
      ]
    },
    {
      "cell_type": "code",
      "execution_count": null,
      "metadata": {
        "id": "Lm-CrR9l63kZ",
        "colab": {
          "base_uri": "https://localhost:8080/"
        },
        "outputId": "38226b80-e853-4205-8823-4b98cbd9185b"
      },
      "outputs": [
        {
          "output_type": "stream",
          "name": "stdout",
          "text": [
            "The start indices of the substrings are : [11, 25, 50]\n"
          ]
        }
      ],
      "source": [
        "# 5. Write a code to find all occurrences of a given substring within another string.\n",
        "\n",
        "\n",
        "\n",
        "str_t = \"I will cut apple and eat apple after that through apple.\"\n",
        "\n",
        "\n",
        "sub_t = \"apple\"\n",
        "\n",
        "\n",
        "res = [i for i in range(len(str_t)) if str_t.startswith(sub_t, i)]\n",
        "\n",
        "# printing result\n",
        "print(\"The start indices of the substrings are : \" + str(res))"
      ]
    },
    {
      "cell_type": "code",
      "execution_count": null,
      "metadata": {
        "id": "V3rYULlw6-__",
        "colab": {
          "base_uri": "https://localhost:8080/"
        },
        "outputId": "12391540-7f3d-4447-a64c-2809f757583d"
      },
      "outputs": [
        {
          "output_type": "stream",
          "name": "stdout",
          "text": [
            "ab3a6c2da3b\n"
          ]
        }
      ],
      "source": [
        "# 6. Write a code to perform basic string compression using the counts of repeated characters.\n",
        "\n",
        "def solve(s):\n",
        "   res = \"\"\n",
        "   cnt = 1\n",
        "   for i in range(1, len(s)):\n",
        "      if s[i - 1] == s[i]:\n",
        "         cnt += 1\n",
        "      else:\n",
        "         res = res + s[i - 1]\n",
        "         if cnt > 1:\n",
        "            res += str(cnt)\n",
        "         cnt = 1\n",
        "   res = res + s[-1]\n",
        "   if cnt > 1:\n",
        "      res += str(cnt)\n",
        "   return res\n",
        "\n",
        "s = \"abbbaaaaaaccdaaab\"\n",
        "print(solve(s))\n",
        "\n",
        "\n"
      ]
    },
    {
      "cell_type": "code",
      "execution_count": null,
      "metadata": {
        "colab": {
          "base_uri": "https://localhost:8080/"
        },
        "id": "_2rLGq1w84Or",
        "outputId": "ff52b573-a0b4-4c06-d089-39c72966fee7"
      },
      "outputs": [
        {
          "name": "stdout",
          "output_type": "stream",
          "text": [
            "13\n"
          ]
        }
      ],
      "source": [
        "# 7. Write a code to determine if a string has all unique characters.\n",
        "\n",
        "\n",
        "str_1 = \"This is all new to me\"\n",
        "a = \"\"\n",
        "for i in str_1:\n",
        "  if i not in a:\n",
        "    a+=i\n",
        "print(len(a))"
      ]
    },
    {
      "cell_type": "code",
      "execution_count": null,
      "metadata": {
        "colab": {
          "base_uri": "https://localhost:8080/",
          "height": 35
        },
        "id": "UfFgppQH94nJ",
        "outputId": "0c123c81-1032-4425-b9c0-5be02b475966"
      },
      "outputs": [
        {
          "data": {
            "application/vnd.google.colaboratory.intrinsic+json": {
              "type": "string"
            },
            "text/plain": [
              "'WELCOME TO THE WORLD OF PYTHON'"
            ]
          },
          "execution_count": 24,
          "metadata": {},
          "output_type": "execute_result"
        }
      ],
      "source": [
        "# 8. Write a code to convert a given string to uppercase or lowercase.\n",
        "line = \"welcome to the world of python\"\n",
        "line.upper()\n",
        "#line.lower()"
      ]
    },
    {
      "cell_type": "code",
      "execution_count": null,
      "metadata": {
        "colab": {
          "base_uri": "https://localhost:8080/"
        },
        "id": "IqCHuY-x-YET",
        "outputId": "997819e4-1435-4af7-9fdb-8237628499fc"
      },
      "outputs": [
        {
          "name": "stdout",
          "output_type": "stream",
          "text": [
            "12\n"
          ]
        }
      ],
      "source": [
        "# 9. Write a code to count the number of words in a strings.\n",
        "test_string = \"write a code to count the numbers of words in a string.\"\n",
        "print(len(test_string.split()))"
      ]
    },
    {
      "cell_type": "code",
      "execution_count": null,
      "metadata": {
        "colab": {
          "base_uri": "https://localhost:8080/"
        },
        "id": "Ssl_un_XR0f6",
        "outputId": "dd254df9-9781-4075-9ee8-a386614b9b9c"
      },
      "outputs": [
        {
          "name": "stdout",
          "output_type": "stream",
          "text": [
            "Hello, Good morning sir! This is Hradesh Shakya\n"
          ]
        }
      ],
      "source": [
        "# 10. Write a code to concatenate two strings without using the + operators.\n",
        "\n",
        "# concatenate two strings without + operators\n",
        "str1 = \"Hello, Good morning sir!\"\n",
        "str2 = \"This is Hradesh Shakya\"\n",
        "print(str1,str2)\n",
        "\n",
        "convert_l = set(list_)\n",
        "convert_l.discard(34)\n",
        "print(list(convert_l))"
      ]
    },
    {
      "cell_type": "code",
      "execution_count": null,
      "metadata": {
        "colab": {
          "base_uri": "https://localhost:8080/"
        },
        "id": "xHfVai3gAS-s",
        "outputId": "3283a7be-f09f-4e4a-fd14-9c3e452c4694"
      },
      "outputs": [
        {
          "output_type": "stream",
          "name": "stdout",
          "text": [
            "The original list : [12, 34, 25, 34, 12, 29, 34]\n",
            "The element to be deleted is : 34\n",
            "The list after removal of all occurrences of an element : [12, 25, 12, 29]\n"
          ]
        }
      ],
      "source": [
        "# 11. Write a code to remove all occurrences of a specific element from a list.\n",
        "\n",
        "\n",
        "test_list = [12, 34, 25, 34, 12, 29, 34]\n",
        "\n",
        "# initializing list to delete\n",
        "del_num =  34\n",
        "\n",
        "# printing original list\n",
        "print(\"The original list : \" + str(test_list))\n",
        "\n",
        "# printing delete list\n",
        "print(\"The element to be deleted is : \" + str(del_num))\n",
        "\n",
        "# using list comprehension\n",
        "# Remove all occurrences in nested list\n",
        "rem_all = [i for i in test_list if i != del_num]\n",
        "\n",
        "# print result\n",
        "print(\"The list after removal of all occurrences of an element : \" + str(rem_all))"
      ]
    },
    {
      "cell_type": "code",
      "execution_count": null,
      "metadata": {
        "colab": {
          "base_uri": "https://localhost:8080/"
        },
        "id": "Zz4VVTrI8uHC",
        "outputId": "f78de0de-f686-4943-8863-3667edced6d0"
      },
      "outputs": [
        {
          "name": "stdout",
          "output_type": "stream",
          "text": [
            "15\n"
          ]
        }
      ],
      "source": [
        "# 12. Implement a code to find the second largest number in a given list of integers.\n",
        "list = [23,22,12,34,15,18,20,21]\n",
        "list.sort()\n",
        "print(list[1]) #print the second largest number at index 1"
      ]
    },
    {
      "cell_type": "code",
      "execution_count": null,
      "metadata": {
        "colab": {
          "base_uri": "https://localhost:8080/"
        },
        "id": "SgB3rBJZDSkh",
        "outputId": "a40a49f7-18ac-4310-d1f1-9f1274bfb05d"
      },
      "outputs": [
        {
          "name": "stdout",
          "output_type": "stream",
          "text": [
            "1 : 3\n",
            "2 : 3\n",
            "3 : 2\n",
            "6 : 2\n",
            "4 : 3\n",
            "{1: 3, 2: 3, 3: 2, 6: 2, 4: 3}\n"
          ]
        }
      ],
      "source": [
        "# 13. Create a code to count the occurrences of each element in a list and return a dictionary\n",
        "#     with elements as keys and their counts as values.\n",
        "\n",
        "ipl_runs = [1, 2, 3, 2, 6, 3, 2, 1, 1, 4, 6, 4, 4]\n",
        "counts = {}\n",
        "for runs in ipl_runs:\n",
        "  if runs in counts:\n",
        "    counts[runs] += 1\n",
        "  else:\n",
        "    counts[runs] = 1\n",
        "\n",
        "for runs, count in counts.items():\n",
        "  print(runs,\":\",count)\n",
        "\n",
        "print(counts)\n",
        "\n"
      ]
    },
    {
      "cell_type": "code",
      "execution_count": null,
      "metadata": {
        "colab": {
          "base_uri": "https://localhost:8080/"
        },
        "id": "zwuxJa_VIcoh",
        "outputId": "f566801e-2964-465d-ba1b-712e424477cb"
      },
      "outputs": [
        {
          "name": "stdout",
          "output_type": "stream",
          "text": [
            "[8, 7, 6, 5, 4, 3, 2, 1]\n"
          ]
        }
      ],
      "source": [
        "# 14. Write a code to reverse a list in-place without using an built-in reverse functions.\n",
        "\n",
        "\n",
        "list = [1,2,3,4,5,6,7,8]\n",
        "print(list[::-1])"
      ]
    },
    {
      "cell_type": "code",
      "execution_count": null,
      "metadata": {
        "colab": {
          "base_uri": "https://localhost:8080/"
        },
        "id": "1356aQxsEgP3",
        "outputId": "8aeee280-51db-4da1-c1eb-f4e8b236f30a"
      },
      "outputs": [
        {
          "data": {
            "text/plain": [
              "[1, 2, 3, 4, 5, 6, 7, 8, 9]"
            ]
          },
          "execution_count": 45,
          "metadata": {},
          "output_type": "execute_result"
        }
      ],
      "source": [
        "# 15. Implement a code to find and remove duplicates from a list while preserving the original order of elements.\n",
        "\n",
        "my_list = [1, 2, 3, 6, 7, 2, 4, 6, 3, 1, 7, 9, 4, 8, 5]\n",
        "set1 = set(my_list)\n",
        "set1\n",
        "my_list2 = list(set1)\n",
        "my_list2"
      ]
    },
    {
      "cell_type": "code",
      "execution_count": null,
      "metadata": {
        "colab": {
          "base_uri": "https://localhost:8080/"
        },
        "id": "VCGTd1GsFMSC",
        "outputId": "3416fcf4-b00c-4c14-9c03-ce92a37eaa54"
      },
      "outputs": [
        {
          "name": "stdout",
          "output_type": "stream",
          "text": [
            "Original list : [1, 2, 3, 4, 5, 6, 7]\n",
            "Your orders are sorted.\n"
          ]
        }
      ],
      "source": [
        "# 16. Create a code to check if a given list is sorted (either in ascending or descending order) or not.\n",
        "\n",
        "#determine the given list is sorted or not\n",
        "orders = [1,2,3,4,5,6,7]\n",
        "print(f\"Original list :\",orders)\n",
        "\n",
        "flag = 0\n",
        "new_orders = orders[:]\n",
        "new_orders.sort()\n",
        "if (new_orders == orders):\n",
        "  flag = 1\n",
        "\n",
        "\n",
        "if (flag):\n",
        "  print(\"Your orders are sorted.\")\n",
        "else:\n",
        "  print(\"Orders are not sorted\")\n",
        "\n"
      ]
    },
    {
      "cell_type": "code",
      "execution_count": null,
      "metadata": {
        "colab": {
          "base_uri": "https://localhost:8080/"
        },
        "id": "-d_sW2iDG1gY",
        "outputId": "7dd0fc9c-738f-4085-9a27-7c2ac7c2c69e"
      },
      "outputs": [
        {
          "name": "stdout",
          "output_type": "stream",
          "text": [
            "list 1: [1, 2, 2, 3, 6, 7, 7, 8, 8, 8, 9]\n",
            "list 2:  [11, 22, 33, 33, 44, 44, 77, 88, 88, 99]\n",
            "Both Sorted list :  [1, 2, 2, 3, 6, 7, 7, 8, 8, 8, 9, 11, 22, 33, 33, 44, 44, 77, 88, 88, 99]\n"
          ]
        }
      ],
      "source": [
        "# 17. Write a code to merge two sorted lists into a single sorted list.\n",
        "\n",
        "list1 = [1,2,7,6,8,3,7,2,8,8,9]\n",
        "list1.sort()\n",
        "print(\"list 1:\",list1)\n",
        "\n",
        "list2 = [11,22,33,44,88,44,99,33,77,88]\n",
        "list2.sort()\n",
        "print(\"list 2: \",list2)\n",
        "\n",
        "sorted_list = list1+list2\n",
        "\n",
        "print(\"Both Sorted list : \",sorted_list)\n"
      ]
    },
    {
      "cell_type": "code",
      "execution_count": null,
      "metadata": {
        "colab": {
          "base_uri": "https://localhost:8080/"
        },
        "id": "gNABue7HTKm_",
        "outputId": "873cf573-0869-4b6a-c9de-9513fe4721e0"
      },
      "outputs": [
        {
          "name": "stdout",
          "output_type": "stream",
          "text": [
            "[66, 44, 22]\n"
          ]
        }
      ],
      "source": [
        "# 18. Implement a code to find the intersection of two given lists.\n",
        "\n",
        "#intersection of two given list\n",
        "\n",
        "list_1 = [11,22,33,44,55,66,77]\n",
        "list_2= [22,88,99,10,44,66]\n",
        "\n",
        "list_new_1 = list(set(list_1).intersection(list_2))\n",
        "print(list_new_1)"
      ]
    },
    {
      "cell_type": "code",
      "execution_count": null,
      "metadata": {
        "colab": {
          "base_uri": "https://localhost:8080/"
        },
        "id": "_JVox6-w-xi_",
        "outputId": "768fb486-fa4d-4a02-e69d-351307fe1977"
      },
      "outputs": [
        {
          "name": "stdout",
          "output_type": "stream",
          "text": [
            "[66, 10, 11, 77, 22, 88, 33, 99, 44, 55]\n"
          ]
        }
      ],
      "source": [
        "# 19. Create a code to find the union of two lists without duplicates.\n",
        "\n",
        "#  find the union of two given lists\n",
        "list1 = [11,22,33,44,55,66,77]\n",
        "list2 = [22,88,99,10,44,66]\n",
        "\n",
        "list_new = list(set(list1).union(list2)) #union of two list without duplicates\n",
        "print(list_new)\n"
      ]
    },
    {
      "cell_type": "code",
      "source": [
        "# 20.  Write a code to shuffle a given list randomly without using any built-in shuffle functions.\n",
        "\n",
        "import random\n",
        "lis1 = [15,12,48,19,63]\n",
        "print(\"The original list is: \",lis1)\n",
        "random.shuffle(lis1) #shuffle methodn\n",
        "print(\"The shuffled list is: \",lis1)\n"
      ],
      "metadata": {
        "colab": {
          "base_uri": "https://localhost:8080/"
        },
        "id": "UNrGEAmS3kOK",
        "outputId": "17809aed-e65c-47a2-d6eb-71277a18344a"
      },
      "execution_count": null,
      "outputs": [
        {
          "output_type": "stream",
          "name": "stdout",
          "text": [
            "The original list is:  [15, 12, 48, 19, 63]\n",
            "The shuffled list is:  [15, 48, 12, 19, 63]\n"
          ]
        }
      ]
    },
    {
      "cell_type": "code",
      "execution_count": null,
      "metadata": {
        "colab": {
          "base_uri": "https://localhost:8080/"
        },
        "id": "Q8zxAVssPv6e",
        "outputId": "445689bf-d868-43dc-bb5e-9e4266fca877"
      },
      "outputs": [
        {
          "name": "stdout",
          "output_type": "stream",
          "text": [
            "1\n",
            "2\n",
            "3\n",
            "4\n",
            "5\n",
            "Tuple 1 :  (1, 2, 3, 4, 5)\n",
            "3\n",
            "4\n",
            "5\n",
            "6\n",
            "7\n",
            "Tuple2 :  (3, 4, 5, 6, 7)\n",
            "New common tuple :  (3, 4, 5)\n"
          ]
        }
      ],
      "source": [
        "# 21. Write a code that takes two tuples as input and returns a new tuple containing elements that are common to both input tuples.\n",
        "\n",
        "#input tuple1:\n",
        "my_marks1 = []\n",
        "n = 5\n",
        "for i in range(0,n):\n",
        "  ele = int(input())\n",
        "  my_marks1.append(ele)\n",
        "\n",
        "\n",
        "marks_tuple1 = tuple(my_marks1)\n",
        "print(\"Tuple 1 : \", marks_tuple1)\n",
        "\n",
        "#input tuple2:\n",
        "my_marks2 = []\n",
        "n = 5\n",
        "for i in range(0,n):\n",
        "  ele = int(input())\n",
        "  my_marks2.append(ele)\n",
        "\n",
        "\n",
        "marks_tuple2 = tuple(my_marks2)\n",
        "print(\"Tuple2 : \",marks_tuple2)\n",
        "#taking common values from both tuple\n",
        "set1 = set(marks_tuple1)\n",
        "set2 = set(marks_tuple2)\n",
        "set(set1).intersection(set2)\n",
        "new_tuple = set(set1).intersection(set2)\n",
        "\n",
        "ans_tuple = tuple(new_tuple)\n",
        "print(\"New common tuple : \",ans_tuple)\n"
      ]
    },
    {
      "cell_type": "code",
      "execution_count": null,
      "metadata": {
        "colab": {
          "base_uri": "https://localhost:8080/"
        },
        "id": "bEDNf5AUKRpH",
        "outputId": "1e65ce52-a2c7-4c3a-c888-7ae8418e506b"
      },
      "outputs": [
        {
          "name": "stdout",
          "output_type": "stream",
          "text": [
            "1\n",
            "2\n",
            "3\n",
            "4\n",
            "5\n",
            "Set 1 :  {1, 2, 3, 4, 5}\n",
            "4\n",
            "5\n",
            "3\n",
            "6\n",
            "7\n",
            "Set 2 :  {3, 4, 5, 6, 7}\n",
            "Intersection of both sets : {3, 4, 5}\n"
          ]
        }
      ],
      "source": [
        "# 22. Create a code that prompts the user to enter two sets of integers separated b commas. Then print the\n",
        "# intersection of these two sets.\n",
        "\n",
        "\n",
        "#input set 1\n",
        "my_marks1 = []\n",
        "n = 5\n",
        "for i in range(0,n):\n",
        "  ele = int(input())\n",
        "  my_marks1.append(ele)\n",
        "\n",
        "\n",
        "marks_set1 = set(my_marks1)\n",
        "print(\"Set 1 : \",marks_set1)\n",
        "\n",
        "# input set 2\n",
        "my_marks2 = []\n",
        "n = 5\n",
        "for i in range(0,n):\n",
        "  ele = int(input())\n",
        "  my_marks2.append(ele)\n",
        "\n",
        "\n",
        "marks_set2 = set(my_marks2)\n",
        "print(\"Set 2 : \",marks_set2)\n",
        "\n",
        "intersection_value = set(marks_set1).intersection(marks_set2)\n",
        "print(\"Intersection of both sets :\",intersection_value)\n",
        "\n"
      ]
    },
    {
      "cell_type": "code",
      "execution_count": null,
      "metadata": {
        "colab": {
          "base_uri": "https://localhost:8080/"
        },
        "id": "iL_IWQFOSyhF",
        "outputId": "e2a3dcad-d4db-4195-cbba-095305ffc70f"
      },
      "outputs": [
        {
          "name": "stdout",
          "output_type": "stream",
          "text": [
            "1\n",
            "2\n",
            "3\n",
            "4\n",
            "5\n",
            "(1, 2, 3, 4, 5)\n",
            "3\n",
            "4\n",
            "5\n",
            "6\n",
            "7\n",
            "(3, 4, 5, 6, 7)\n"
          ]
        },
        {
          "data": {
            "text/plain": [
              "(1, 2, 3, 4, 5, 3, 4, 5, 6, 7)"
            ]
          },
          "execution_count": 6,
          "metadata": {},
          "output_type": "execute_result"
        }
      ],
      "source": [
        "# 23. Write a code to concatenate two tuples. The function should take two tuples as input and return a new\n",
        "#     tuple containing elements from both input tuples.\n",
        "\n",
        "\n",
        "#input tuple1\n",
        "lis = []\n",
        "n = 5\n",
        "for i in range(n):\n",
        "  ele = int(input())\n",
        "  lis.append(ele)\n",
        "\n",
        "tuple1 = tuple(lis)\n",
        "print(tuple1)\n",
        "\n",
        "\n",
        "lis2 = []\n",
        "n = 5\n",
        "for i in range(n):\n",
        "  ele = int(input())\n",
        "  lis2.append(ele)\n",
        "\n",
        "tuple2 = tuple(lis2)\n",
        "print(tuple2)\n",
        "\n",
        "concatenate_tuples = tuple1 + tuple2\n",
        "concatenate_tuples"
      ]
    },
    {
      "cell_type": "code",
      "execution_count": null,
      "metadata": {
        "id": "tOeIVVVPHbBz"
      },
      "outputs": [],
      "source": []
    },
    {
      "cell_type": "code",
      "execution_count": null,
      "metadata": {
        "colab": {
          "base_uri": "https://localhost:8080/"
        },
        "id": "y907gZ42W8qg",
        "outputId": "7feccab7-4719-4ece-db60-b0ce097451eb"
      },
      "outputs": [
        {
          "name": "stdout",
          "output_type": "stream",
          "text": [
            "ddd\n",
            "ee\n",
            "ff\n",
            "gg\n",
            "gg\n",
            "First Set:  {'gg', 'ff', 'ee', 'ddd'}\n",
            "e\n",
            "e\n",
            "\n",
            "ww\n",
            "ee\n",
            "Second Set:  {'', 'e', 'ww', 'ee'}\n",
            "gg\n",
            "ff\n",
            "ee\n",
            "ddd\n"
          ]
        }
      ],
      "source": [
        "#  24. Develop a code that prompts the user to input two sets of strings. Then print the elements that are\n",
        "# present in the first set but not in the second set.\n",
        "\n",
        "\n",
        "#entry for set1\n",
        "lis1 = []\n",
        "n = 5\n",
        "for i in range(n):\n",
        "  ele = str(input())\n",
        "  lis1.append(ele)\n",
        "\n",
        "set1 = set(lis1)\n",
        "print(\"First Set: \",set1)\n",
        "\n",
        "\n",
        "#entry for set2\n",
        "lis2 = []\n",
        "n = 5\n",
        "for i in range(n):\n",
        "  ele = str(input())\n",
        "  lis2.append(ele)\n",
        "\n",
        "set2 = set(lis2)\n",
        "print(\"Second Set: \",set2)\n",
        "\n",
        "\n",
        "for i in set1:\n",
        "  print(i)"
      ]
    },
    {
      "cell_type": "code",
      "execution_count": null,
      "metadata": {
        "colab": {
          "base_uri": "https://localhost:8080/"
        },
        "id": "rkIJzvVRkZU1",
        "outputId": "bcedbed9-1609-42af-8e69-d84b0d39b9cb"
      },
      "outputs": [
        {
          "name": "stdout",
          "output_type": "stream",
          "text": [
            "Enter your element: ee\n",
            "Enter your element: rr\n",
            "Enter your element: tt\n",
            "Enter your element: yy\n",
            "Enter your element: hh\n",
            "Enter first index value :1\n",
            "Enter second index value :5\n",
            "New tuple within specified range :  ('rr', 'tt', 'yy', 'hh')\n"
          ]
        }
      ],
      "source": [
        "# 25. Create a code that takes a tuple and two integers as input. The function should return a new tuple\n",
        "# containing elements from the original tuple within the specified range of indices.\n",
        "\n",
        "\n",
        "#empty list\n",
        "man_id = []\n",
        "n = 5\n",
        "for i in range(n):\n",
        "  ele = input(\"Enter your element: \")\n",
        "  man_id.append(ele)\n",
        "\n",
        "#convert list into tuple\n",
        "man_id_tup = tuple(man_id)\n",
        "\n",
        "#takes two int for slicing\n",
        "a = int(input(\"Enter first index value :\"))\n",
        "b = int(input(\"Enter second index value :\"))\n",
        "\n",
        "#final result\n",
        "print(f\"New tuple within specified range : \",man_id_tup[a:b])\n",
        "\n"
      ]
    },
    {
      "cell_type": "code",
      "execution_count": null,
      "metadata": {
        "colab": {
          "base_uri": "https://localhost:8080/"
        },
        "id": "K_zMsXEbOJYk",
        "outputId": "a59d521a-1864-4fb4-ace3-a674e3c566bf"
      },
      "outputs": [
        {
          "name": "stdout",
          "output_type": "stream",
          "text": [
            "Enter character : ww\n",
            "Enter character : ee\n",
            "Enter character : rr\n",
            "Enter character : tt\n",
            "Enter character : yy\n",
            "First Set : {'ww', 'yy', 'tt', 'ee', 'rr'}\n",
            "Enter character : rr\n",
            "Enter character : ee\n",
            "Enter character : ww\n",
            "Enter character : ff\n",
            "Enter character : vv\n",
            "Second Set : {'ww', 'ff', 'ee', 'vv', 'rr'}\n"
          ]
        },
        {
          "data": {
            "text/plain": [
              "{'ee', 'ff', 'rr', 'tt', 'vv', 'ww', 'yy'}"
            ]
          },
          "execution_count": 7,
          "metadata": {},
          "output_type": "execute_result"
        }
      ],
      "source": [
        "# 26. Write a code that prompts the user to input two sets of characters. Then print the union of these two sets.\n",
        "\n",
        "# input of first set\n",
        "set_char1 = []\n",
        "n = 5\n",
        "for i in range(n):\n",
        "  ele = input(\"Enter character : \")\n",
        "  set_char1.append(ele)\n",
        "\n",
        "x = set(set_char1)   #convert list into set\n",
        "\n",
        "print(f\"First Set :\",x)\n",
        "\n",
        "# input of second set\n",
        "set_char2 = []\n",
        "n = 5\n",
        "for i in range(n):\n",
        "  ele = input(\"Enter character : \")\n",
        "  set_char2.append(ele)\n",
        "\n",
        "y = set(set_char2)    #convert list into set\n",
        "\n",
        "print(f\"Second Set :\",y)\n",
        "\n",
        "union_set = (x).union(y)\n",
        "\n",
        "# final result\n",
        "print(f\"Union of both set : \",union_set)\n",
        "\n",
        "\n"
      ]
    },
    {
      "cell_type": "code",
      "execution_count": null,
      "metadata": {
        "colab": {
          "base_uri": "https://localhost:8080/"
        },
        "id": "gdcA7Fo-Q9Of",
        "outputId": "036e266c-41a2-4263-9593-62942c063ee8"
      },
      "outputs": [
        {
          "name": "stdout",
          "output_type": "stream",
          "text": [
            "9\n",
            "5\n",
            "5\n",
            "7\n",
            "8\n",
            "(9, 5, 5, 7, 8)\n",
            "Maximum value :  9\n",
            "Minimum value :  5\n"
          ]
        }
      ],
      "source": [
        "# 27. Develop a code that takes a tuple of integers as input. The function should return the maximum and\n",
        "# minimum values from the tuple using tuple unpacking.\n",
        "\n",
        "\n",
        "emp_list = []\n",
        "n = 5\n",
        "for i in range(n):\n",
        "  ele = int(input())\n",
        "  emp_list.append(ele)\n",
        "\n",
        "print(tuple(emp_list))\n",
        "\n",
        "\n",
        "res = max(tuple(emp_list))\n",
        "print(f\"Maximum value : \",res)\n",
        "res1 = min(tuple(emp_list))\n",
        "print(f\"Minimum value : \",res1)"
      ]
    },
    {
      "cell_type": "code",
      "execution_count": null,
      "metadata": {
        "colab": {
          "base_uri": "https://localhost:8080/"
        },
        "id": "RqXC-Q9YX4vf",
        "outputId": "ed8a8ec8-9ec6-4933-eb77-05286420988e"
      },
      "outputs": [
        {
          "name": "stdout",
          "output_type": "stream",
          "text": [
            "First Set :  {1, 2, 3, 4, 5}\n",
            "Second Set :  {4, 5, 6, 7, 8}\n",
            "union of both sets :  {1, 2, 3, 4, 5, 6, 7, 8}\n",
            "intersection of both sets:  {4, 5}\n",
            "differences between both sets:  {1, 2, 3}\n"
          ]
        }
      ],
      "source": [
        "# 28. Create a code that defines two sets of integers. Then print the union intersection and difference of these\n",
        "#     two sets.\n",
        "\n",
        "# Define the first set\n",
        "set_a = {1, 2, 3, 4, 5}\n",
        "print(f\"First Set : \",set_a)\n",
        "# Define the second set\n",
        "set_b = {4, 5, 6, 7, 8}\n",
        "print(f\"Second Set : \",set_b)\n",
        "# union\n",
        "x = (set_a).union(set_b)\n",
        "print(f\"union of both sets : \",x)\n",
        "# intersection\n",
        "y = (set_a).intersection(set_b)\n",
        "print(f\"intersection of both sets: \",y)\n",
        "# differences\n",
        "z = (set_a).difference(set_b)\n",
        "print(f\"differences between both sets: \",z)"
      ]
    },
    {
      "cell_type": "code",
      "execution_count": null,
      "metadata": {
        "colab": {
          "base_uri": "https://localhost:8080/"
        },
        "id": "sCkyXUtc_EJb",
        "outputId": "9bf0c4fe-18a3-43a6-fadd-9919c460edf2"
      },
      "outputs": [
        {
          "name": "stdout",
          "output_type": "stream",
          "text": [
            "Enter marks: 44\n",
            "Enter marks: 56\n",
            "Enter marks: 44\n",
            "Enter marks: 57\n",
            "Enter marks: 44\n",
            "(44, 56, 44, 57, 44)\n",
            "mark: 44\n",
            "Occurrence of 44 in list:  3\n"
          ]
        }
      ],
      "source": [
        "# 29. Write a code that takes a tuple and an element as input. The function should return the count of\n",
        "# occurrences of the given element in the tuple.\n",
        "\n",
        "#make an empty list\n",
        "student_marks = []\n",
        "n= 5\n",
        "for i in range(n):\n",
        "  ele = int(input(\"Enter marks: \"))\n",
        "  student_marks.append(ele)\n",
        "\n",
        "print(tuple(student_marks))\n",
        "element = int(input(\"mark: \"))\n",
        "print(f\"Occurrence of {element} in list: \", student_marks.count(element))\n",
        "\n"
      ]
    },
    {
      "cell_type": "code",
      "execution_count": null,
      "metadata": {
        "colab": {
          "base_uri": "https://localhost:8080/"
        },
        "id": "MIJDqihBByBl",
        "outputId": "77adf1c9-c749-409b-cabc-83453a19bcd9"
      },
      "outputs": [
        {
          "name": "stdout",
          "output_type": "stream",
          "text": [
            "Enter name: aman\n",
            "Enter name: pal\n",
            "Enter name: dal\n",
            "Enter name: man\n",
            "Enter name: van\n",
            "Enter name: kal\n",
            "Set of Emp 1: {'kal', 'pal', 'van', 'dal', 'aman', 'man'} \n",
            "Enter name: kal\n",
            "Enter name: pal\n",
            "Enter name: dal\n",
            "Enter name: jal\n",
            "Enter name: iol\n",
            "Enter name: pen\n",
            "Set of Emp 2: {'kal', 'iol', 'pen', 'pal', 'jal', 'dal'} \n",
            "Symmetric Difference of both set :  {'iol', 'pen', 'jal', 'van', 'aman', 'man'}\n"
          ]
        }
      ],
      "source": [
        "#  30. Develop a code that prompts the user to input two sets of strings. Then print the symmetric difference of\n",
        "#      these two sets.\n",
        "\n",
        "\n",
        "#empty list\n",
        "emp_name = []\n",
        "n = 6\n",
        "\n",
        "for i in range(n):\n",
        "  ele = str(input(\"Enter name: \"))\n",
        "  emp_name.append(ele)\n",
        "\n",
        "A = (set(emp_name))\n",
        "print(f\"Set of Emp 1: {A} \")\n",
        "\n",
        "emp_name_1 = []\n",
        "for i in range(n):\n",
        "  ele = str(input(\"Enter name: \"))\n",
        "  emp_name_1.append(ele)\n",
        "\n",
        "B = (set(emp_name_1))\n",
        "\n",
        "print(f\"Set of Emp 2: {B} \")\n",
        "\n",
        "print(f\"Symmetric Difference of both set : \", (A^B))\n"
      ]
    },
    {
      "cell_type": "code",
      "execution_count": null,
      "metadata": {
        "colab": {
          "base_uri": "https://localhost:8080/"
        },
        "id": "RGT1WB8LCxrb",
        "outputId": "02cb5efd-d8b9-4343-a1b1-675de5e9d59a"
      },
      "outputs": [
        {
          "name": "stdout",
          "output_type": "stream",
          "text": [
            "Enter your words : letter\n",
            "Enter your words : table\n",
            "Enter your words : pen\n",
            "Enter your words : pen\n",
            "Enter your words : table\n",
            "Enter your words : letter\n",
            "Enter your words : pen\n",
            "Enter your words : pencil\n",
            "Enter your words : rubber\n",
            "Enter your words : rubber\n",
            "['letter', 'table', 'pen', 'pen', 'table', 'letter', 'pen', 'pencil', 'rubber', 'rubber']\n",
            "letter : 2\n",
            "table : 2\n",
            "pen : 3\n",
            "pencil : 1\n",
            "rubber : 2\n",
            "{'letter': 2, 'table': 2, 'pen': 3, 'pencil': 1, 'rubber': 2}\n"
          ]
        }
      ],
      "source": [
        "# 31. Write a code that takes a list of words as input and returns a dictionary where the keys are unique words\n",
        "# and the values are the frequencies of those words in the input list.\n",
        "\n",
        "\n",
        "#empty list\n",
        "words = []\n",
        "n = 10\n",
        "for i in range(n):\n",
        "  ele = str(input(\"Enter your words : \"))\n",
        "  words.append(ele)\n",
        "\n",
        "print(words)\n",
        "\n",
        "counts = {}\n",
        "for word in words:\n",
        "  if word in counts:\n",
        "    counts[word] += 1\n",
        "  else:\n",
        "    counts[word] = 1\n",
        "\n",
        "for word, count in counts.items():\n",
        "  print(word,\":\",count)\n",
        "\n",
        "print(counts)\n"
      ]
    },
    {
      "cell_type": "code",
      "execution_count": null,
      "metadata": {
        "colab": {
          "base_uri": "https://localhost:8080/"
        },
        "id": "O1By_c1FmTi2",
        "outputId": "7ea81f0d-67de-41b1-b9f7-4f50fdde6fd3"
      },
      "outputs": [
        {
          "name": "stdout",
          "output_type": "stream",
          "text": [
            "Enter the number of entries you want to add: 3\n",
            "Enter key: pw\n",
            "Enter value: 20\n",
            "Enter key: skills\n",
            "Enter value: 10\n",
            "Enter key: online\n",
            "Enter value: 25\n",
            "{'pw': 20, 'skills': 10, 'online': 25}\n",
            "Enter the number of entries you want to add: 3\n",
            "Enter key: offline\n",
            "Enter value: 90\n",
            "Enter key: skills\n",
            "Enter value: 20\n",
            "Enter key: pw\n",
            "Enter value: 33\n",
            "{'offline': 90, 'skills': 20, 'pw': 33}\n",
            "{'offline': 90, 'skills': 40, 'pw': 73}\n"
          ]
        }
      ],
      "source": [
        "# 32. Write a code that takes two dictionaries as input and merges them into a single dictionary. If there are\n",
        "# common keys the values should be added together.\n",
        "\n",
        "\n",
        "\n",
        "user_dict_1 = {}\n",
        "\n",
        "num_entries = int(input(\"Enter the number of entries you want to add: \"))\n",
        "\n",
        "for i in range(num_entries):\n",
        "    key = input(\"Enter key: \")\n",
        "    value = int(input(\"Enter value: \"))\n",
        "    user_dict_1[key] = value\n",
        "\n",
        "dict1 = user_dict_1\n",
        "print(dict1)\n",
        "\n",
        "# user input for dict2\n",
        "user_dict_2 = {}\n",
        "\n",
        "num_entries = int(input(\"Enter the number of entries you want to add: \"))\n",
        "\n",
        "for i in range(num_entries):\n",
        "    key = input(\"Enter key: \")\n",
        "    value = int(input(\"Enter value: \"))\n",
        "    user_dict_2[key] = value\n",
        "\n",
        "dict2 = user_dict_2\n",
        "print(dict2)\n",
        "# Python program to combine two dictionary\n",
        "# adding values for common keys\n",
        "# initializing two dictionaries\n",
        "\n",
        "\n",
        "\n",
        "\n",
        "# adding the values with common key\n",
        "for value in dict2:\n",
        "    if value in dict1:\n",
        "      dict2[value] = dict2[value] + dict1[value]\n",
        "    else:\n",
        "      pass\n",
        "for key in dict2:\n",
        "    if key in dict1:\n",
        "        dict2[key] = dict2[key] + dict1[key]\n",
        "    else:\n",
        "        pass\n",
        "\n",
        "print(dict2)"
      ]
    },
    {
      "cell_type": "code",
      "source": [
        "#  Ans 33.\n",
        "# Write a code to access a value in a nested dictionary. The function should take the dictionary and a list of\n",
        "# keys as input and return the corresponding value. If any of the keys do not exist in the dictionary the\n",
        "# function should return None.\n",
        "\n",
        "Dict = {'Dict1' : { }, 'Dict2' : { }}\n",
        "\n",
        "print(Dict)\n",
        "\n",
        "# Nested Dictionary\n",
        "\n",
        "Dict = {'Dict1' : {'name' : 'Ajay','age' : '29' }, 'Dict2' : { 'name' : 'vijay','age' : '28'}}\n",
        "\n",
        "print(Dict)\n",
        "\n",
        "def get_nested_value(dictionary, keys):\n",
        "    value = dictionary\n",
        "    for key in keys:\n",
        "        if key in value:\n",
        "            value = value[key]\n",
        "        else:\n",
        "            return None\n",
        "    return value\n",
        "\n",
        "get_nested_value(Dict, ['Dict1','name'])\n"
      ],
      "metadata": {
        "colab": {
          "base_uri": "https://localhost:8080/",
          "height": 70
        },
        "id": "9N1IBFWuuHBP",
        "outputId": "b038808a-a50c-4432-ed35-8db9a4e82633"
      },
      "execution_count": null,
      "outputs": [
        {
          "output_type": "stream",
          "name": "stdout",
          "text": [
            "{'Dict1': {}, 'Dict2': {}}\n",
            "{'Dict1': {'name': 'Ajay', 'age': '29'}, 'Dict2': {'name': 'vijay', 'age': '28'}}\n"
          ]
        },
        {
          "output_type": "execute_result",
          "data": {
            "text/plain": [
              "'Ajay'"
            ],
            "application/vnd.google.colaboratory.intrinsic+json": {
              "type": "string"
            }
          },
          "metadata": {},
          "execution_count": 8
        }
      ]
    },
    {
      "cell_type": "code",
      "execution_count": null,
      "metadata": {
        "colab": {
          "base_uri": "https://localhost:8080/"
        },
        "id": "meX90rQ8Q-hC",
        "outputId": "8e5391c2-ce97-4b68-d751-d7075ddb9169"
      },
      "outputs": [
        {
          "output_type": "stream",
          "name": "stdout",
          "text": [
            "Number of entries you want to add: 3\n",
            "Student name: priya\n",
            "Enter age : 16\n",
            "Student name: neha\n",
            "Enter age : 17\n",
            "Student name: kajal\n",
            "Enter age : 14\n",
            "List of Student with there age :  {'priya': 16, 'neha': 17, 'kajal': 14}\n",
            "Sorted dictionary by its value(age) :  {'kajal': 14, 'priya': 16, 'neha': 17}\n"
          ]
        }
      ],
      "source": [
        "# 34. Write a code that takes a dictionary as input and returns a sorted version of it based on the values. You\n",
        "#     can choose whether to sort in ascending or descending order.\n",
        "\n",
        "\n",
        "\n",
        "my_dict = {}\n",
        "\n",
        "entries = int(input(\"Number of entries you want to add: \"))\n",
        "\n",
        "for i in range(entries):\n",
        "  key = input(\"Student name: \")\n",
        "  value = int(input(\"Enter age : \"))\n",
        "  my_dict[key] = value\n",
        "\n",
        "print(\"List of Student with there age : \",my_dict)\n",
        "\n",
        "dd2 = dict(sorted(my_dict.items(), key=lambda key_val: key_val[1]))\n",
        "print(\"Sorted dictionary by its value(age) : \", dd2)"
      ]
    },
    {
      "cell_type": "code",
      "source": [
        "# Ans 35.\n",
        "#  Write a code that inverts a dictionary swapping keys and values. Ensure that the inverted dictionary\n",
        "# correctly handles cases where multiple keys have the same value by storing the keys as a list in the\n",
        "# inverted dictionary.\n",
        "\n",
        "ini_dict = {101: \"akshat\", 201 : \"ball\"}\n",
        "\n",
        "# print initial dictionary\n",
        "print(\"initial dictionary : \", str(ini_dict))\n",
        "\n",
        "# inverse mapping using map and reversed\n",
        "inv_dict = dict(map(reversed, ini_dict.items()))\n",
        "\n",
        "# print final dictionary\n",
        "print(\"inverse mapped dictionary : \", str(inv_dict))\n",
        "\n"
      ],
      "metadata": {
        "id": "7mDScYLRRXh8",
        "colab": {
          "base_uri": "https://localhost:8080/"
        },
        "outputId": "7b1e2364-0809-46da-9ccf-598bb2241930"
      },
      "execution_count": null,
      "outputs": [
        {
          "output_type": "stream",
          "name": "stdout",
          "text": [
            "initial dictionary :  {101: 'akshat', 201: 'ball'}\n",
            "inverse mapped dictionary :  {'akshat': 101, 'ball': 201}\n"
          ]
        }
      ]
    },
    {
      "cell_type": "code",
      "source": [],
      "metadata": {
        "id": "Egp0wfqB3VfE"
      },
      "execution_count": null,
      "outputs": []
    }
  ],
  "metadata": {
    "colab": {
      "provenance": []
    },
    "kernelspec": {
      "display_name": "Python 3",
      "name": "python3"
    },
    "language_info": {
      "name": "python"
    }
  },
  "nbformat": 4,
  "nbformat_minor": 0
}