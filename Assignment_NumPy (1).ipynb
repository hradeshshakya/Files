{
  "nbformat": 4,
  "nbformat_minor": 0,
  "metadata": {
    "colab": {
      "provenance": []
    },
    "kernelspec": {
      "name": "python3",
      "display_name": "Python 3"
    },
    "language_info": {
      "name": "python"
    }
  },
  "cells": [
    {
      "cell_type": "markdown",
      "source": [
        "**1. Create a NumPy array 'arr' of integers from 0 to 5 and print its data type.**"
      ],
      "metadata": {
        "id": "zolXAB2r3MOt"
      }
    },
    {
      "cell_type": "code",
      "source": [
        "import numpy as np\n",
        "arr = np.array([0, 1, 2, 3, 4, 5])\n",
        "print(arr.dtype)"
      ],
      "metadata": {
        "colab": {
          "base_uri": "https://localhost:8080/"
        },
        "id": "ZLQJI7Lk3RXV",
        "outputId": "371f4117-0cbf-46b5-cd72-90a0017c2408"
      },
      "execution_count": null,
      "outputs": [
        {
          "output_type": "stream",
          "name": "stdout",
          "text": [
            "int64\n"
          ]
        }
      ]
    },
    {
      "cell_type": "markdown",
      "source": [
        "**2. Given a NumPy array 'arr', check if its data type is float64.**"
      ],
      "metadata": {
        "id": "_f2Q0NNN6F3t"
      }
    },
    {
      "cell_type": "code",
      "source": [
        "arr = np.array([1.5, 2.6, 3.7])\n",
        "\n",
        "if arr.dtype == np.float64:\n",
        "    print(\"The data type of arr is float64.\")\n",
        "else:\n",
        "    print(\"The data type of arr is not float64.\")"
      ],
      "metadata": {
        "colab": {
          "base_uri": "https://localhost:8080/"
        },
        "id": "Y0Q8kM216AsJ",
        "outputId": "cf703157-d8dc-4148-baa5-6d1beb689b53"
      },
      "execution_count": null,
      "outputs": [
        {
          "output_type": "stream",
          "name": "stdout",
          "text": [
            "The data type of arr is float64.\n"
          ]
        }
      ]
    },
    {
      "cell_type": "markdown",
      "source": [
        " **3. Create a NumPy array 'arr' with a data type of complex128 containing three complex numbers.**"
      ],
      "metadata": {
        "id": "txzkK2MJ6sS_"
      }
    },
    {
      "cell_type": "code",
      "source": [
        "x = 3 + 4j\n",
        "y = 5 + 6j\n",
        "z = 7 + 8j\n",
        "arr = np.array([x,y,z])\n",
        "print(arr.dtype)"
      ],
      "metadata": {
        "colab": {
          "base_uri": "https://localhost:8080/"
        },
        "id": "l4Zo9sE46oMG",
        "outputId": "2f27a20f-ea55-46db-d34a-a7ff42931f5d"
      },
      "execution_count": null,
      "outputs": [
        {
          "output_type": "stream",
          "name": "stdout",
          "text": [
            "complex128\n"
          ]
        }
      ]
    },
    {
      "cell_type": "markdown",
      "source": [
        "**4. Convert an existing NumPy array 'arr' of integers to float32 data type.**"
      ],
      "metadata": {
        "id": "nPVKu-_x8T88"
      }
    },
    {
      "cell_type": "code",
      "source": [
        "# integer array\n",
        "a = np.array([1, 2, 3, 4, 5])\n",
        "print(a.dtype)\n",
        "\n",
        "# convert to float32\n",
        "a = a.astype('float32')\n",
        "print(a.dtype)\n",
        "a\n"
      ],
      "metadata": {
        "colab": {
          "base_uri": "https://localhost:8080/"
        },
        "id": "bthpldZv7Cyp",
        "outputId": "5b41486d-92e1-4079-a20a-2502c7ebdf3b"
      },
      "execution_count": null,
      "outputs": [
        {
          "output_type": "stream",
          "name": "stdout",
          "text": [
            "int64\n",
            "float32\n"
          ]
        },
        {
          "output_type": "execute_result",
          "data": {
            "text/plain": [
              "array([1., 2., 3., 4., 5.], dtype=float32)"
            ]
          },
          "metadata": {},
          "execution_count": 4
        }
      ]
    },
    {
      "cell_type": "markdown",
      "source": [
        "**5. Given a NumPy array 'arr' with float64 data type, convert it to float32 to reduce decimal precision.**"
      ],
      "metadata": {
        "id": "yfGY0SkW9dP6"
      }
    },
    {
      "cell_type": "code",
      "source": [
        "# float64 data type array\n",
        "arr = np.array([1.1, 2.2, 3.3])\n",
        "print(arr)\n",
        "print(arr.dtype)\n",
        "\n",
        "# convert to float32\n",
        "arr = arr.astype('float32')\n",
        "print(arr)\n",
        "print(arr.dtype)"
      ],
      "metadata": {
        "colab": {
          "base_uri": "https://localhost:8080/"
        },
        "id": "JxzEI98P9ZVL",
        "outputId": "639cbb8c-a81f-481b-d609-5e9e74625dfb"
      },
      "execution_count": null,
      "outputs": [
        {
          "output_type": "stream",
          "name": "stdout",
          "text": [
            "[1.1 2.2 3.3]\n",
            "float64\n",
            "[1.1 2.2 3.3]\n",
            "float32\n"
          ]
        }
      ]
    },
    {
      "cell_type": "markdown",
      "source": [
        " **6. Write a function array_attributes that takes a NumPy array as input and returns its shape, size, and data type.**"
      ],
      "metadata": {
        "id": "8GwqyHxY-Lnr"
      }
    },
    {
      "cell_type": "code",
      "source": [
        "import numpy as np\n",
        "\n",
        "def array_attributes():\n",
        "  list_array = []\n",
        "\n",
        "  n = int(input(\"Enter the number of elements in the array: \"))\n",
        "  for i in range(n):\n",
        "    ele = int(input(\"Element : \"))\n",
        "    list_array.append(ele)\n",
        "\n",
        "  print(list_array)\n",
        "  # convert the list to a NumPy array\n",
        "  arr = np.array(list_array)\n",
        "  print(arr)\n",
        "\n",
        "  '''\n",
        "    This function takes a NumPy array as input and returns its shape, size, and data type.\n",
        "  '''\n",
        "\n",
        "  # get the shape, size, and data type of the array\n",
        "  shape = arr.shape\n",
        "  size = arr.size\n",
        "  dtype = arr.dtype\n",
        "\n",
        "  print(\"Shape:\", shape)\n",
        "  print(\"Size:\", size)\n",
        "  print(\"Data type:\", dtype)\n",
        "\n",
        "array_attributes()"
      ],
      "metadata": {
        "colab": {
          "base_uri": "https://localhost:8080/"
        },
        "id": "aKK1E4gz93ZR",
        "outputId": "9fe96948-c86d-414c-d47e-af6deb60db44"
      },
      "execution_count": null,
      "outputs": [
        {
          "output_type": "stream",
          "name": "stdout",
          "text": [
            "Enter the number of elements in the array: 5\n",
            "Element : 1\n",
            "Element : 2\n",
            "Element : 3\n",
            "Element : 4\n",
            "Element : 5\n",
            "[1, 2, 3, 4, 5]\n",
            "[1 2 3 4 5]\n",
            "Shape: (5,)\n",
            "Size: 5\n",
            "Data type: int64\n"
          ]
        }
      ]
    },
    {
      "cell_type": "markdown",
      "source": [
        "**7. Create a function array_dimension that takes a NumPy array as input and returns its dimensionality.**"
      ],
      "metadata": {
        "id": "dIcU5mO3Lp3p"
      }
    },
    {
      "cell_type": "code",
      "source": [
        "def array_dimenesion():\n",
        "  input_string = input('Enter elements of a list separated by space \\n')\n",
        "  user_list = input_string.split()\n",
        "  print('string list: ', user_list)\n",
        "\n",
        "# convert each item to int type\n",
        "  for i in range(len(user_list)):\n",
        "    # convert each item to int type\n",
        "      user_list[i] = int(user_list[i])\n",
        "\n",
        "  print(f'User list: , {np.array(user_list)}')\n",
        "  print(f'Number of dimensions: {np.array(user_list).ndim}')\n",
        "array_dimenesion()"
      ],
      "metadata": {
        "id": "GQ4XUbS3HOa5",
        "colab": {
          "base_uri": "https://localhost:8080/"
        },
        "outputId": "52a34ef0-7ccf-407b-ecc5-a007bde9932a"
      },
      "execution_count": null,
      "outputs": [
        {
          "output_type": "stream",
          "name": "stdout",
          "text": [
            "Enter elements of a list separated by space \n",
            "1 2 3 4 5\n",
            "string list:  ['1', '2', '3', '4', '5']\n",
            "User list: , [1 2 3 4 5]\n",
            "Number of dimensions: 1\n"
          ]
        }
      ]
    },
    {
      "cell_type": "markdown",
      "source": [
        "**8. Design a function item_size_info that takes a NumPy array as input and returns the item size and the total\n",
        "size in bytes.**"
      ],
      "metadata": {
        "id": "QmepRzvFlh16"
      }
    },
    {
      "cell_type": "code",
      "source": [
        "def item_size_info():\n",
        "  input_string = input('Enter elements of a list separated by space \\n')\n",
        "  user_list = input_string.split()\n",
        "  print('string list: ', user_list)\n",
        "  # convert each item to int type\n",
        "  for i in range(len(user_list)):\n",
        "    # convert each item to int type\n",
        "      user_list[i] = int(user_list[i])\n",
        "\n",
        "      # convert the list to a NumPy array\n",
        "  arr = np.array(user_list)\n",
        "  print(arr)\n",
        "\n",
        "  # get the item size and total size in bytes\n",
        "  item_size = arr.itemsize\n",
        "  total_size = arr.nbytes\n",
        "\n",
        "  print(\"Item size:\", item_size, \"bytes\")\n",
        "  print(\"Total size:\", total_size, \"bytes\")\n",
        "\n",
        "item_size_info()\n"
      ],
      "metadata": {
        "colab": {
          "base_uri": "https://localhost:8080/"
        },
        "id": "fKdYKiWejeBp",
        "outputId": "d91d0c8c-536f-4422-a617-4139d186661f"
      },
      "execution_count": null,
      "outputs": [
        {
          "output_type": "stream",
          "name": "stdout",
          "text": [
            "Enter elements of a list separated by space \n",
            "1 2 3 4 5\n",
            "string list:  ['1', '2', '3', '4', '5']\n",
            "[1 2 3 4 5]\n",
            "Item size: 8 bytes\n",
            "Total size: 40 bytes\n"
          ]
        }
      ]
    },
    {
      "cell_type": "markdown",
      "source": [
        "**9.  Create a function array_strides that takes a NumPy array as input and returns the strides of the array.**"
      ],
      "metadata": {
        "id": "9VCL9CfGmMwD"
      }
    },
    {
      "cell_type": "code",
      "source": [
        "def array_strides():\n",
        "  input_string = input('Enter elements of a list separated by space \\n')\n",
        "  user_list = input_string.split()\n",
        "  print('string list: ', user_list)\n",
        "  # convert each item to int type\n",
        "  for i in range(len(user_list)):\n",
        "    # convert each item to int type\n",
        "      user_list[i] = int(user_list[i])\n",
        "\n",
        "      # convert the list to a NumPy array\n",
        "  arr = np.array(user_list)\n",
        "  print(arr)\n",
        "  # get the strides of the array\n",
        "  strides = arr.strides\n",
        "\n",
        "  print(\"Strides:\", strides)\n",
        "\n",
        "array_strides()\n"
      ],
      "metadata": {
        "colab": {
          "base_uri": "https://localhost:8080/"
        },
        "id": "LlHcSB5vmFY6",
        "outputId": "9b0c1ee4-d8e0-4331-f92e-96394e89b06f"
      },
      "execution_count": null,
      "outputs": [
        {
          "output_type": "stream",
          "name": "stdout",
          "text": [
            "Enter elements of a list separated by space \n",
            "1 2 3 4 5 6\n",
            "string list:  ['1', '2', '3', '4', '5', '6']\n",
            "[1 2 3 4 5 6]\n",
            "Strides: (8,)\n"
          ]
        }
      ]
    },
    {
      "cell_type": "markdown",
      "source": [
        "**10.  Design a function shape_stride_relationship that takes a NumPy array as input and returns the shape\n",
        "and strides of the array.**"
      ],
      "metadata": {
        "id": "xxKC-faYm3aZ"
      }
    },
    {
      "cell_type": "code",
      "source": [
        "def shape_stride_relationship():\n",
        "\n",
        "  input_string = input('Enter elements of a list separated by space \\n')\n",
        "  user_list = input_string.split()\n",
        "  print('string list: ', user_list)\n",
        "  # convert each item to int type\n",
        "  for i in range(len(user_list)):\n",
        "    # convert each item to int type\n",
        "      user_list[i] = int(user_list[i])\n",
        "\n",
        "      # convert the list to a NumPy array\n",
        "  arr = np.array(user_list)\n",
        "  print(arr)\n",
        "  # get the shape and strides of the array\n",
        "  shape = arr.shape\n",
        "  strides = arr.strides\n",
        "\n",
        "  print(\"Strides:\", strides)\n",
        "  print(\"Shape:\", shape)\n",
        "\n",
        "shape_stride_relationship()\n"
      ],
      "metadata": {
        "colab": {
          "base_uri": "https://localhost:8080/"
        },
        "id": "PaAcz2J7mZ1b",
        "outputId": "b26cb8e5-17c0-4e7b-f24c-217d798dddd5"
      },
      "execution_count": null,
      "outputs": [
        {
          "output_type": "stream",
          "name": "stdout",
          "text": [
            "Enter elements of a list separated by space \n",
            "1 2 3 4 5\n",
            "string list:  ['1', '2', '3', '4', '5']\n",
            "[1 2 3 4 5]\n",
            "Strides: (8,)\n",
            "Shape: (5,)\n"
          ]
        }
      ]
    },
    {
      "cell_type": "markdown",
      "source": [
        "**11. Create a function `create_zeros_array` that takes an integer `n` as input and returns a NumPy array of\n",
        "zeros with `n` elements.**"
      ],
      "metadata": {
        "id": "ocopBNOLnepB"
      }
    },
    {
      "cell_type": "code",
      "source": [
        "def create_zeros_array():\n",
        "  n = int(input(\"Enter the number of elements in the array: \"))\n",
        "  arr = np.zeros(n)\n",
        "  print(arr)\n",
        "\n",
        "create_zeros_array()"
      ],
      "metadata": {
        "colab": {
          "base_uri": "https://localhost:8080/"
        },
        "id": "PE8xKTkqnZgd",
        "outputId": "6157b3b1-0690-4845-8dd1-7ac79b375aaf"
      },
      "execution_count": null,
      "outputs": [
        {
          "output_type": "stream",
          "name": "stdout",
          "text": [
            "Enter the number of elements in the array: 3\n",
            "[0. 0. 0.]\n"
          ]
        }
      ]
    },
    {
      "cell_type": "markdown",
      "source": [
        "**12.  Write a function `create_ones_matrix` that takes integers `rows` and `cols` as inputs and generates a 2D\n",
        "NumPy array filled with ones of size `rows x cols`.**"
      ],
      "metadata": {
        "id": "MAoHMfBOnu_a"
      }
    },
    {
      "cell_type": "code",
      "source": [
        "def create_ones_matrix():\n",
        "  rows = int(input(\"Enter the number of rows: \"))\n",
        "  cols = int(input(\"Enter the number of columns: \"))\n",
        "  arr = np.ones((rows, cols))\n",
        "  print(arr)\n",
        "\n",
        "create_ones_matrix()"
      ],
      "metadata": {
        "colab": {
          "base_uri": "https://localhost:8080/"
        },
        "id": "NLcJR5MmnmkF",
        "outputId": "99061bea-abd6-4265-f7ee-0d9dedb8c091"
      },
      "execution_count": null,
      "outputs": [
        {
          "output_type": "stream",
          "name": "stdout",
          "text": [
            "Enter the number of rows: 3\n",
            "Enter the number of columns: 3\n",
            "[[1. 1. 1.]\n",
            " [1. 1. 1.]\n",
            " [1. 1. 1.]]\n"
          ]
        }
      ]
    },
    {
      "cell_type": "markdown",
      "source": [
        " **13. Write a function `generate_range_array` that takes three integers start, stop, and step as arguments and\n",
        "creates a NumPy array with a range starting from `start`, ending at stop (exclusive), and with the specified\n",
        "`step`.**"
      ],
      "metadata": {
        "id": "2am_Zh9noAHZ"
      }
    },
    {
      "cell_type": "code",
      "source": [
        "def generate_range_array():\n",
        "  start = int(input(\"Enter the start of the range: \"))\n",
        "  stop = int(input(\"Enter the end of the range: \"))\n",
        "  step = int(input(\"Enter the step of the range: \"))\n",
        "\n",
        "  arr = np.arange(start, stop, step)\n",
        "  print(arr)\n",
        "\n",
        "generate_range_array()"
      ],
      "metadata": {
        "colab": {
          "base_uri": "https://localhost:8080/"
        },
        "id": "rZcdHFEen5Ic",
        "outputId": "66ffb601-0164-4a6a-f366-d059b6e9e0a2"
      },
      "execution_count": null,
      "outputs": [
        {
          "output_type": "stream",
          "name": "stdout",
          "text": [
            "Enter the start of the range: 1\n",
            "Enter the end of the range: 10\n",
            "Enter the step of the range: 2\n",
            "[1 3 5 7 9]\n"
          ]
        }
      ]
    },
    {
      "cell_type": "markdown",
      "source": [
        "**14. Design a function `generate_linear_space` that takes two floats `start`, `stop`, and an integer `num` as\n",
        "arguments and generates a NumPy array with num equally spaced values between `start` and `stop`\n",
        "(inclusive).**"
      ],
      "metadata": {
        "id": "Olv1np6go2wb"
      }
    },
    {
      "cell_type": "code",
      "source": [
        "def generate_linear_space():\n",
        "  start = float(input(\"Enter the start of the range: \"))\n",
        "  stop = float(input(\"Enter the end of the range: \"))\n",
        "  num = int(input(\"Enter the number of values: \"))\n",
        "\n",
        "  arr = np.linspace(start, stop, num)\n",
        "  print(arr)\n",
        "\n",
        "generate_linear_space()"
      ],
      "metadata": {
        "colab": {
          "base_uri": "https://localhost:8080/"
        },
        "id": "S-Dssq0Hos0a",
        "outputId": "0a2b625c-676a-408a-9ec5-d9dbbaa37d60"
      },
      "execution_count": null,
      "outputs": [
        {
          "output_type": "stream",
          "name": "stdout",
          "text": [
            "Enter the start of the range: 1\n",
            "Enter the end of the range: 10\n",
            "Enter the number of values: 2\n",
            "[ 1. 10.]\n"
          ]
        }
      ]
    },
    {
      "cell_type": "markdown",
      "source": [
        "**15. Create a function `create_identity_matrix` that takes an integer `n` as input and generates a square\n",
        "identity matrix of size `n x n` using `numpy.eye`.**"
      ],
      "metadata": {
        "id": "SS5RAp_5pYpT"
      }
    },
    {
      "cell_type": "code",
      "source": [
        "def create_ones_matrix():\n",
        "  n = int(input(\"Enter the number of rows: \"))\n",
        "  arr = np.eye(n)\n",
        "  print(arr)\n",
        "\n",
        "create_ones_matrix()\n"
      ],
      "metadata": {
        "colab": {
          "base_uri": "https://localhost:8080/"
        },
        "id": "oWcoMkN4pBMc",
        "outputId": "168477b2-3352-427f-8adf-3e6b866cf9b9"
      },
      "execution_count": null,
      "outputs": [
        {
          "output_type": "stream",
          "name": "stdout",
          "text": [
            "Enter the number of rows: 3\n",
            "[[1. 0. 0.]\n",
            " [0. 1. 0.]\n",
            " [0. 0. 1.]]\n"
          ]
        }
      ]
    },
    {
      "cell_type": "markdown",
      "source": [
        "**16. Write a function that takes a Python list and converts it into a NumPy array.**"
      ],
      "metadata": {
        "id": "PYj3AuI4pkEc"
      }
    },
    {
      "cell_type": "code",
      "source": [
        "# Write a function that takes a Python list and converts it into a NumPy array.\n",
        "\n",
        "def convert_list_to_array():\n",
        "  input_string = input('Enter elements of a list separated by space \\n')\n",
        "  user_list = input_string.split()\n",
        "  print('string list: ', user_list)\n",
        "  # convert each item to int type\n",
        "  for i in range(len(user_list)):\n",
        "    # convert each item to int type\n",
        "      user_list[i] = int(user_list[i])\n",
        "\n",
        "      # convert the list to a NumPy array\n",
        "  arr = np.array(user_list)\n",
        "  print(arr)\n",
        "\n",
        "convert_list_to_array()"
      ],
      "metadata": {
        "colab": {
          "base_uri": "https://localhost:8080/"
        },
        "id": "BuZOzxBrpfmy",
        "outputId": "64c4718d-8d30-4aa4-9d74-286f54bd2b76"
      },
      "execution_count": null,
      "outputs": [
        {
          "output_type": "stream",
          "name": "stdout",
          "text": [
            "Enter elements of a list separated by space \n",
            "1 2 3 4\n",
            "string list:  ['1', '2', '3', '4']\n",
            "[1 2 3 4]\n"
          ]
        }
      ]
    },
    {
      "cell_type": "markdown",
      "source": [
        "**17. Create a NumPy array and demonstrate the use of `numpy.view` to create a new array object with the\n",
        "same data.**"
      ],
      "metadata": {
        "id": "m7eqIAWop-sy"
      }
    },
    {
      "cell_type": "code",
      "source": [
        "# create a 2D array\n",
        "\n",
        "original_array = np.array([[1, 2, 3], [4, 5, 6]])\n",
        "print(f\"Original array:  {original_array}\")\n",
        "\n",
        "# view the array\n",
        "view_array = original_array.view()\n",
        "print(f\"View array:  {view_array}\")\n",
        "\n",
        "# change the value in the view array\n",
        "view_array[0, 0] = 10\n",
        "\n",
        "# print the original array\n",
        "print(f\"Original array:  {original_array}\")\n",
        "\n",
        "\n"
      ],
      "metadata": {
        "colab": {
          "base_uri": "https://localhost:8080/"
        },
        "id": "nj4f2_bip5Zv",
        "outputId": "82bf9eb3-296e-476d-d23e-f08057bc3a98"
      },
      "execution_count": null,
      "outputs": [
        {
          "output_type": "stream",
          "name": "stdout",
          "text": [
            "Original array:  [[1 2 3]\n",
            " [4 5 6]]\n",
            "View array:  [[1 2 3]\n",
            " [4 5 6]]\n",
            "Original array:  [[10  2  3]\n",
            " [ 4  5  6]]\n"
          ]
        }
      ]
    },
    {
      "cell_type": "markdown",
      "source": [
        "**18. Write a function that takes two NumPy arrays and concatenates them along a specified axis.**\n"
      ],
      "metadata": {
        "id": "-kAMPIMuzvUM"
      }
    },
    {
      "cell_type": "code",
      "source": [
        "# define function\n",
        "\n",
        "def concatenate_arrays(arr1, arr2, axis = 0):\n",
        "  return np.concatenate((arr1, arr2), axis)\n",
        "\n",
        "arr1 = np.array([[1, 2], [3, 4]])\n",
        "arr2 = np.array([[5, 6], [7, 8]])\n",
        "\n",
        "concatenate_arrays(arr1, arr2, axis = 0)"
      ],
      "metadata": {
        "id": "v-1fKf4fwze6",
        "colab": {
          "base_uri": "https://localhost:8080/"
        },
        "outputId": "f15c3006-cd5a-4653-a3bb-e839dd326380"
      },
      "execution_count": null,
      "outputs": [
        {
          "output_type": "execute_result",
          "data": {
            "text/plain": [
              "array([[1, 2],\n",
              "       [3, 4],\n",
              "       [5, 6],\n",
              "       [7, 8]])"
            ]
          },
          "metadata": {},
          "execution_count": 18
        }
      ]
    },
    {
      "cell_type": "markdown",
      "source": [
        "**19. Create two NumPy arrays with different shapes and concatenate them horizontally using `numpy.concatenate`**"
      ],
      "metadata": {
        "id": "2m-VIZr_0zfy"
      }
    },
    {
      "cell_type": "code",
      "source": [
        "arr1 = np.array([[1, 2], [3, 4]])\n",
        "arr2 = np.array([[5, 6], [7, 8]])\n",
        "\n",
        "\n",
        "print(np.concatenate((arr1, arr2), axis=1))\n"
      ],
      "metadata": {
        "colab": {
          "base_uri": "https://localhost:8080/"
        },
        "id": "RvH89YMu0gN7",
        "outputId": "388acad6-1344-4b2b-a414-45cecbaf267c"
      },
      "execution_count": null,
      "outputs": [
        {
          "output_type": "stream",
          "name": "stdout",
          "text": [
            "[[1 2 5 6]\n",
            " [3 4 7 8]]\n"
          ]
        }
      ]
    },
    {
      "cell_type": "markdown",
      "source": [
        "**20. Write a function that vertically stacks multiple NumPy arrays given as a list.**"
      ],
      "metadata": {
        "id": "nkxZ9fHO1HUJ"
      }
    },
    {
      "cell_type": "code",
      "source": [
        "arr1 = np.array([[1, 2], [3, 4]])\n",
        "arr2 = np.array([[5, 6], [7, 8]])\n",
        "\n",
        "print(np.vstack((arr1, arr2)))"
      ],
      "metadata": {
        "colab": {
          "base_uri": "https://localhost:8080/"
        },
        "id": "EPUh_gHm1Aoj",
        "outputId": "5e7f0e85-9d8e-4159-8e1e-6aebb1b8689c"
      },
      "execution_count": null,
      "outputs": [
        {
          "output_type": "stream",
          "name": "stdout",
          "text": [
            "[[1 2]\n",
            " [3 4]\n",
            " [5 6]\n",
            " [7 8]]\n"
          ]
        }
      ]
    },
    {
      "cell_type": "markdown",
      "source": [
        "**21. Write a Python function using NumPy to create an array of integers within a specified range (inclusive)\n",
        "with a given step size.**"
      ],
      "metadata": {
        "id": "0iKdiY8D1nI2"
      }
    },
    {
      "cell_type": "code",
      "source": [
        "def numpy_arange(start, stop, step):\n",
        "  return np.arange(start, stop, step)\n",
        "\n",
        "\n",
        "numpy_arange(1, 10, 2)"
      ],
      "metadata": {
        "colab": {
          "base_uri": "https://localhost:8080/"
        },
        "id": "d2dUYh_21TiG",
        "outputId": "5aa0da87-9a4b-48c4-e331-e3b5b5e9d9d8"
      },
      "execution_count": null,
      "outputs": [
        {
          "output_type": "execute_result",
          "data": {
            "text/plain": [
              "array([1, 3, 5, 7, 9])"
            ]
          },
          "metadata": {},
          "execution_count": 21
        }
      ]
    },
    {
      "cell_type": "markdown",
      "source": [
        "**22. Write a Python function using NumPy to generate an array of 10 equally spaced values between 0 and 1\n",
        "(inclusive)**"
      ],
      "metadata": {
        "id": "AQt_kPSk2WQQ"
      }
    },
    {
      "cell_type": "code",
      "source": [
        "def numpy_linspace(start, stop, num):\n",
        "  return np.linspace(start, stop, num)\n",
        "\n",
        "numpy_linspace(0, 1, 10)"
      ],
      "metadata": {
        "colab": {
          "base_uri": "https://localhost:8080/"
        },
        "id": "TO_TwuMd2Rkd",
        "outputId": "2dfd7a67-17d6-4e35-b0a2-580e29a73136"
      },
      "execution_count": null,
      "outputs": [
        {
          "output_type": "execute_result",
          "data": {
            "text/plain": [
              "array([0.        , 0.11111111, 0.22222222, 0.33333333, 0.44444444,\n",
              "       0.55555556, 0.66666667, 0.77777778, 0.88888889, 1.        ])"
            ]
          },
          "metadata": {},
          "execution_count": 22
        }
      ]
    },
    {
      "cell_type": "markdown",
      "source": [
        "**23. Write a Python function using NumPy to create an array of 5 logarithmically spaced values between 1 and\n",
        "1000 (inclusive).**"
      ],
      "metadata": {
        "id": "Yh8ut1er2x8j"
      }
    },
    {
      "cell_type": "code",
      "source": [
        "def numpy_logspace(start, stop, num):\n",
        "  return np.logspace(start, stop, num)\n",
        "\n",
        "numpy_logspace(1, 1000, 5)"
      ],
      "metadata": {
        "colab": {
          "base_uri": "https://localhost:8080/"
        },
        "id": "ZWq8j-dG2pCP",
        "outputId": "aae89fa3-83b5-4f53-e4e8-9c395b557137"
      },
      "execution_count": null,
      "outputs": [
        {
          "output_type": "stream",
          "name": "stderr",
          "text": [
            "/usr/local/lib/python3.10/dist-packages/numpy/core/function_base.py:298: RuntimeWarning: overflow encountered in power\n",
            "  return _nx.power(base, y)\n"
          ]
        },
        {
          "output_type": "execute_result",
          "data": {
            "text/plain": [
              "array([1.00000000e+001, 5.62341325e+250,             inf,             inf,\n",
              "                   inf])"
            ]
          },
          "metadata": {},
          "execution_count": 23
        }
      ]
    },
    {
      "cell_type": "markdown",
      "source": [
        "**24. Create a Pandas DataFrame using a NumPy array that contains 5 rows and 3 columns, where the values\n",
        "are random integers between 1 and 100**"
      ],
      "metadata": {
        "id": "YW-VOszD3PbQ"
      }
    },
    {
      "cell_type": "code",
      "source": [
        "array = np.random.randint(1, 100, size=(5, 3))\n",
        "\n",
        "print(array)\n",
        "\n",
        "import pandas as pd\n",
        "\n",
        "df = pd.DataFrame(array)\n",
        "df"
      ],
      "metadata": {
        "colab": {
          "base_uri": "https://localhost:8080/",
          "height": 297
        },
        "id": "oGo0mELb2_Ul",
        "outputId": "d16ed168-aa66-4686-8fbe-18a5b3db6d2b"
      },
      "execution_count": null,
      "outputs": [
        {
          "output_type": "stream",
          "name": "stdout",
          "text": [
            "[[61 28 48]\n",
            " [39 86 98]\n",
            " [11 88 17]\n",
            " [72 72 37]\n",
            " [96 48 44]]\n"
          ]
        },
        {
          "output_type": "execute_result",
          "data": {
            "text/plain": [
              "    0   1   2\n",
              "0  61  28  48\n",
              "1  39  86  98\n",
              "2  11  88  17\n",
              "3  72  72  37\n",
              "4  96  48  44"
            ],
            "text/html": [
              "\n",
              "  <div id=\"df-e3a40bd4-f043-4a00-9544-639680ecd57c\" class=\"colab-df-container\">\n",
              "    <div>\n",
              "<style scoped>\n",
              "    .dataframe tbody tr th:only-of-type {\n",
              "        vertical-align: middle;\n",
              "    }\n",
              "\n",
              "    .dataframe tbody tr th {\n",
              "        vertical-align: top;\n",
              "    }\n",
              "\n",
              "    .dataframe thead th {\n",
              "        text-align: right;\n",
              "    }\n",
              "</style>\n",
              "<table border=\"1\" class=\"dataframe\">\n",
              "  <thead>\n",
              "    <tr style=\"text-align: right;\">\n",
              "      <th></th>\n",
              "      <th>0</th>\n",
              "      <th>1</th>\n",
              "      <th>2</th>\n",
              "    </tr>\n",
              "  </thead>\n",
              "  <tbody>\n",
              "    <tr>\n",
              "      <th>0</th>\n",
              "      <td>61</td>\n",
              "      <td>28</td>\n",
              "      <td>48</td>\n",
              "    </tr>\n",
              "    <tr>\n",
              "      <th>1</th>\n",
              "      <td>39</td>\n",
              "      <td>86</td>\n",
              "      <td>98</td>\n",
              "    </tr>\n",
              "    <tr>\n",
              "      <th>2</th>\n",
              "      <td>11</td>\n",
              "      <td>88</td>\n",
              "      <td>17</td>\n",
              "    </tr>\n",
              "    <tr>\n",
              "      <th>3</th>\n",
              "      <td>72</td>\n",
              "      <td>72</td>\n",
              "      <td>37</td>\n",
              "    </tr>\n",
              "    <tr>\n",
              "      <th>4</th>\n",
              "      <td>96</td>\n",
              "      <td>48</td>\n",
              "      <td>44</td>\n",
              "    </tr>\n",
              "  </tbody>\n",
              "</table>\n",
              "</div>\n",
              "    <div class=\"colab-df-buttons\">\n",
              "\n",
              "  <div class=\"colab-df-container\">\n",
              "    <button class=\"colab-df-convert\" onclick=\"convertToInteractive('df-e3a40bd4-f043-4a00-9544-639680ecd57c')\"\n",
              "            title=\"Convert this dataframe to an interactive table.\"\n",
              "            style=\"display:none;\">\n",
              "\n",
              "  <svg xmlns=\"http://www.w3.org/2000/svg\" height=\"24px\" viewBox=\"0 -960 960 960\">\n",
              "    <path d=\"M120-120v-720h720v720H120Zm60-500h600v-160H180v160Zm220 220h160v-160H400v160Zm0 220h160v-160H400v160ZM180-400h160v-160H180v160Zm440 0h160v-160H620v160ZM180-180h160v-160H180v160Zm440 0h160v-160H620v160Z\"/>\n",
              "  </svg>\n",
              "    </button>\n",
              "\n",
              "  <style>\n",
              "    .colab-df-container {\n",
              "      display:flex;\n",
              "      gap: 12px;\n",
              "    }\n",
              "\n",
              "    .colab-df-convert {\n",
              "      background-color: #E8F0FE;\n",
              "      border: none;\n",
              "      border-radius: 50%;\n",
              "      cursor: pointer;\n",
              "      display: none;\n",
              "      fill: #1967D2;\n",
              "      height: 32px;\n",
              "      padding: 0 0 0 0;\n",
              "      width: 32px;\n",
              "    }\n",
              "\n",
              "    .colab-df-convert:hover {\n",
              "      background-color: #E2EBFA;\n",
              "      box-shadow: 0px 1px 2px rgba(60, 64, 67, 0.3), 0px 1px 3px 1px rgba(60, 64, 67, 0.15);\n",
              "      fill: #174EA6;\n",
              "    }\n",
              "\n",
              "    .colab-df-buttons div {\n",
              "      margin-bottom: 4px;\n",
              "    }\n",
              "\n",
              "    [theme=dark] .colab-df-convert {\n",
              "      background-color: #3B4455;\n",
              "      fill: #D2E3FC;\n",
              "    }\n",
              "\n",
              "    [theme=dark] .colab-df-convert:hover {\n",
              "      background-color: #434B5C;\n",
              "      box-shadow: 0px 1px 3px 1px rgba(0, 0, 0, 0.15);\n",
              "      filter: drop-shadow(0px 1px 2px rgba(0, 0, 0, 0.3));\n",
              "      fill: #FFFFFF;\n",
              "    }\n",
              "  </style>\n",
              "\n",
              "    <script>\n",
              "      const buttonEl =\n",
              "        document.querySelector('#df-e3a40bd4-f043-4a00-9544-639680ecd57c button.colab-df-convert');\n",
              "      buttonEl.style.display =\n",
              "        google.colab.kernel.accessAllowed ? 'block' : 'none';\n",
              "\n",
              "      async function convertToInteractive(key) {\n",
              "        const element = document.querySelector('#df-e3a40bd4-f043-4a00-9544-639680ecd57c');\n",
              "        const dataTable =\n",
              "          await google.colab.kernel.invokeFunction('convertToInteractive',\n",
              "                                                    [key], {});\n",
              "        if (!dataTable) return;\n",
              "\n",
              "        const docLinkHtml = 'Like what you see? Visit the ' +\n",
              "          '<a target=\"_blank\" href=https://colab.research.google.com/notebooks/data_table.ipynb>data table notebook</a>'\n",
              "          + ' to learn more about interactive tables.';\n",
              "        element.innerHTML = '';\n",
              "        dataTable['output_type'] = 'display_data';\n",
              "        await google.colab.output.renderOutput(dataTable, element);\n",
              "        const docLink = document.createElement('div');\n",
              "        docLink.innerHTML = docLinkHtml;\n",
              "        element.appendChild(docLink);\n",
              "      }\n",
              "    </script>\n",
              "  </div>\n",
              "\n",
              "\n",
              "<div id=\"df-06687913-e52d-4636-9f78-659663785805\">\n",
              "  <button class=\"colab-df-quickchart\" onclick=\"quickchart('df-06687913-e52d-4636-9f78-659663785805')\"\n",
              "            title=\"Suggest charts\"\n",
              "            style=\"display:none;\">\n",
              "\n",
              "<svg xmlns=\"http://www.w3.org/2000/svg\" height=\"24px\"viewBox=\"0 0 24 24\"\n",
              "     width=\"24px\">\n",
              "    <g>\n",
              "        <path d=\"M19 3H5c-1.1 0-2 .9-2 2v14c0 1.1.9 2 2 2h14c1.1 0 2-.9 2-2V5c0-1.1-.9-2-2-2zM9 17H7v-7h2v7zm4 0h-2V7h2v10zm4 0h-2v-4h2v4z\"/>\n",
              "    </g>\n",
              "</svg>\n",
              "  </button>\n",
              "\n",
              "<style>\n",
              "  .colab-df-quickchart {\n",
              "      --bg-color: #E8F0FE;\n",
              "      --fill-color: #1967D2;\n",
              "      --hover-bg-color: #E2EBFA;\n",
              "      --hover-fill-color: #174EA6;\n",
              "      --disabled-fill-color: #AAA;\n",
              "      --disabled-bg-color: #DDD;\n",
              "  }\n",
              "\n",
              "  [theme=dark] .colab-df-quickchart {\n",
              "      --bg-color: #3B4455;\n",
              "      --fill-color: #D2E3FC;\n",
              "      --hover-bg-color: #434B5C;\n",
              "      --hover-fill-color: #FFFFFF;\n",
              "      --disabled-bg-color: #3B4455;\n",
              "      --disabled-fill-color: #666;\n",
              "  }\n",
              "\n",
              "  .colab-df-quickchart {\n",
              "    background-color: var(--bg-color);\n",
              "    border: none;\n",
              "    border-radius: 50%;\n",
              "    cursor: pointer;\n",
              "    display: none;\n",
              "    fill: var(--fill-color);\n",
              "    height: 32px;\n",
              "    padding: 0;\n",
              "    width: 32px;\n",
              "  }\n",
              "\n",
              "  .colab-df-quickchart:hover {\n",
              "    background-color: var(--hover-bg-color);\n",
              "    box-shadow: 0 1px 2px rgba(60, 64, 67, 0.3), 0 1px 3px 1px rgba(60, 64, 67, 0.15);\n",
              "    fill: var(--button-hover-fill-color);\n",
              "  }\n",
              "\n",
              "  .colab-df-quickchart-complete:disabled,\n",
              "  .colab-df-quickchart-complete:disabled:hover {\n",
              "    background-color: var(--disabled-bg-color);\n",
              "    fill: var(--disabled-fill-color);\n",
              "    box-shadow: none;\n",
              "  }\n",
              "\n",
              "  .colab-df-spinner {\n",
              "    border: 2px solid var(--fill-color);\n",
              "    border-color: transparent;\n",
              "    border-bottom-color: var(--fill-color);\n",
              "    animation:\n",
              "      spin 1s steps(1) infinite;\n",
              "  }\n",
              "\n",
              "  @keyframes spin {\n",
              "    0% {\n",
              "      border-color: transparent;\n",
              "      border-bottom-color: var(--fill-color);\n",
              "      border-left-color: var(--fill-color);\n",
              "    }\n",
              "    20% {\n",
              "      border-color: transparent;\n",
              "      border-left-color: var(--fill-color);\n",
              "      border-top-color: var(--fill-color);\n",
              "    }\n",
              "    30% {\n",
              "      border-color: transparent;\n",
              "      border-left-color: var(--fill-color);\n",
              "      border-top-color: var(--fill-color);\n",
              "      border-right-color: var(--fill-color);\n",
              "    }\n",
              "    40% {\n",
              "      border-color: transparent;\n",
              "      border-right-color: var(--fill-color);\n",
              "      border-top-color: var(--fill-color);\n",
              "    }\n",
              "    60% {\n",
              "      border-color: transparent;\n",
              "      border-right-color: var(--fill-color);\n",
              "    }\n",
              "    80% {\n",
              "      border-color: transparent;\n",
              "      border-right-color: var(--fill-color);\n",
              "      border-bottom-color: var(--fill-color);\n",
              "    }\n",
              "    90% {\n",
              "      border-color: transparent;\n",
              "      border-bottom-color: var(--fill-color);\n",
              "    }\n",
              "  }\n",
              "</style>\n",
              "\n",
              "  <script>\n",
              "    async function quickchart(key) {\n",
              "      const quickchartButtonEl =\n",
              "        document.querySelector('#' + key + ' button');\n",
              "      quickchartButtonEl.disabled = true;  // To prevent multiple clicks.\n",
              "      quickchartButtonEl.classList.add('colab-df-spinner');\n",
              "      try {\n",
              "        const charts = await google.colab.kernel.invokeFunction(\n",
              "            'suggestCharts', [key], {});\n",
              "      } catch (error) {\n",
              "        console.error('Error during call to suggestCharts:', error);\n",
              "      }\n",
              "      quickchartButtonEl.classList.remove('colab-df-spinner');\n",
              "      quickchartButtonEl.classList.add('colab-df-quickchart-complete');\n",
              "    }\n",
              "    (() => {\n",
              "      let quickchartButtonEl =\n",
              "        document.querySelector('#df-06687913-e52d-4636-9f78-659663785805 button');\n",
              "      quickchartButtonEl.style.display =\n",
              "        google.colab.kernel.accessAllowed ? 'block' : 'none';\n",
              "    })();\n",
              "  </script>\n",
              "</div>\n",
              "\n",
              "  <div id=\"id_e124a83f-1496-4afe-96d8-87a8b3fea125\">\n",
              "    <style>\n",
              "      .colab-df-generate {\n",
              "        background-color: #E8F0FE;\n",
              "        border: none;\n",
              "        border-radius: 50%;\n",
              "        cursor: pointer;\n",
              "        display: none;\n",
              "        fill: #1967D2;\n",
              "        height: 32px;\n",
              "        padding: 0 0 0 0;\n",
              "        width: 32px;\n",
              "      }\n",
              "\n",
              "      .colab-df-generate:hover {\n",
              "        background-color: #E2EBFA;\n",
              "        box-shadow: 0px 1px 2px rgba(60, 64, 67, 0.3), 0px 1px 3px 1px rgba(60, 64, 67, 0.15);\n",
              "        fill: #174EA6;\n",
              "      }\n",
              "\n",
              "      [theme=dark] .colab-df-generate {\n",
              "        background-color: #3B4455;\n",
              "        fill: #D2E3FC;\n",
              "      }\n",
              "\n",
              "      [theme=dark] .colab-df-generate:hover {\n",
              "        background-color: #434B5C;\n",
              "        box-shadow: 0px 1px 3px 1px rgba(0, 0, 0, 0.15);\n",
              "        filter: drop-shadow(0px 1px 2px rgba(0, 0, 0, 0.3));\n",
              "        fill: #FFFFFF;\n",
              "      }\n",
              "    </style>\n",
              "    <button class=\"colab-df-generate\" onclick=\"generateWithVariable('df')\"\n",
              "            title=\"Generate code using this dataframe.\"\n",
              "            style=\"display:none;\">\n",
              "\n",
              "  <svg xmlns=\"http://www.w3.org/2000/svg\" height=\"24px\"viewBox=\"0 0 24 24\"\n",
              "       width=\"24px\">\n",
              "    <path d=\"M7,19H8.4L18.45,9,17,7.55,7,17.6ZM5,21V16.75L18.45,3.32a2,2,0,0,1,2.83,0l1.4,1.43a1.91,1.91,0,0,1,.58,1.4,1.91,1.91,0,0,1-.58,1.4L9.25,21ZM18.45,9,17,7.55Zm-12,3A5.31,5.31,0,0,0,4.9,8.1,5.31,5.31,0,0,0,1,6.5,5.31,5.31,0,0,0,4.9,4.9,5.31,5.31,0,0,0,6.5,1,5.31,5.31,0,0,0,8.1,4.9,5.31,5.31,0,0,0,12,6.5,5.46,5.46,0,0,0,6.5,12Z\"/>\n",
              "  </svg>\n",
              "    </button>\n",
              "    <script>\n",
              "      (() => {\n",
              "      const buttonEl =\n",
              "        document.querySelector('#id_e124a83f-1496-4afe-96d8-87a8b3fea125 button.colab-df-generate');\n",
              "      buttonEl.style.display =\n",
              "        google.colab.kernel.accessAllowed ? 'block' : 'none';\n",
              "\n",
              "      buttonEl.onclick = () => {\n",
              "        google.colab.notebook.generateWithVariable('df');\n",
              "      }\n",
              "      })();\n",
              "    </script>\n",
              "  </div>\n",
              "\n",
              "    </div>\n",
              "  </div>\n"
            ],
            "application/vnd.google.colaboratory.intrinsic+json": {
              "type": "dataframe",
              "variable_name": "df",
              "summary": "{\n  \"name\": \"df\",\n  \"rows\": 5,\n  \"fields\": [\n    {\n      \"column\": 0,\n      \"properties\": {\n        \"dtype\": \"number\",\n        \"std\": 32,\n        \"min\": 11,\n        \"max\": 96,\n        \"num_unique_values\": 5,\n        \"samples\": [\n          39,\n          96,\n          11\n        ],\n        \"semantic_type\": \"\",\n        \"description\": \"\"\n      }\n    },\n    {\n      \"column\": 1,\n      \"properties\": {\n        \"dtype\": \"number\",\n        \"std\": 25,\n        \"min\": 28,\n        \"max\": 88,\n        \"num_unique_values\": 5,\n        \"samples\": [\n          86,\n          48,\n          88\n        ],\n        \"semantic_type\": \"\",\n        \"description\": \"\"\n      }\n    },\n    {\n      \"column\": 2,\n      \"properties\": {\n        \"dtype\": \"number\",\n        \"std\": 29,\n        \"min\": 17,\n        \"max\": 98,\n        \"num_unique_values\": 5,\n        \"samples\": [\n          98,\n          44,\n          17\n        ],\n        \"semantic_type\": \"\",\n        \"description\": \"\"\n      }\n    }\n  ]\n}"
            }
          },
          "metadata": {},
          "execution_count": 24
        }
      ]
    },
    {
      "cell_type": "markdown",
      "source": [
        "**25. Write a function that takes a Pandas DataFrame and replaces all negative values in a specific column\n",
        "with zeros. Use NumPy operations within the Pandas DataFrame.**"
      ],
      "metadata": {
        "id": "WaIBNTy93kvS"
      }
    },
    {
      "cell_type": "code",
      "source": [
        "\n",
        "def replace_negative_values_with_zeroes(df, column_name):\n",
        "  df[column_name] = np.where(df[column_name] < 0, 0 , df[column_name])\n",
        "\n",
        "  return df\n",
        "\n",
        "df = pd.DataFrame({'A': [1, -2, 3, -4, 5], 'B': [6, -7, 8, -9, 10]})\n",
        "df\n",
        "\n",
        "replace_negative_values_with_zeroes(df, 'A')\n",
        "\n",
        "\n"
      ],
      "metadata": {
        "colab": {
          "base_uri": "https://localhost:8080/",
          "height": 206
        },
        "id": "7AQa6L163ijq",
        "outputId": "bc40d633-de3e-4ca4-dc21-a8babed06bb0"
      },
      "execution_count": null,
      "outputs": [
        {
          "output_type": "execute_result",
          "data": {
            "text/plain": [
              "   A   B\n",
              "0  1   6\n",
              "1  0  -7\n",
              "2  3   8\n",
              "3  0  -9\n",
              "4  5  10"
            ],
            "text/html": [
              "\n",
              "  <div id=\"df-d1592cde-dfe3-45ba-8e6c-ff630f94286b\" class=\"colab-df-container\">\n",
              "    <div>\n",
              "<style scoped>\n",
              "    .dataframe tbody tr th:only-of-type {\n",
              "        vertical-align: middle;\n",
              "    }\n",
              "\n",
              "    .dataframe tbody tr th {\n",
              "        vertical-align: top;\n",
              "    }\n",
              "\n",
              "    .dataframe thead th {\n",
              "        text-align: right;\n",
              "    }\n",
              "</style>\n",
              "<table border=\"1\" class=\"dataframe\">\n",
              "  <thead>\n",
              "    <tr style=\"text-align: right;\">\n",
              "      <th></th>\n",
              "      <th>A</th>\n",
              "      <th>B</th>\n",
              "    </tr>\n",
              "  </thead>\n",
              "  <tbody>\n",
              "    <tr>\n",
              "      <th>0</th>\n",
              "      <td>1</td>\n",
              "      <td>6</td>\n",
              "    </tr>\n",
              "    <tr>\n",
              "      <th>1</th>\n",
              "      <td>0</td>\n",
              "      <td>-7</td>\n",
              "    </tr>\n",
              "    <tr>\n",
              "      <th>2</th>\n",
              "      <td>3</td>\n",
              "      <td>8</td>\n",
              "    </tr>\n",
              "    <tr>\n",
              "      <th>3</th>\n",
              "      <td>0</td>\n",
              "      <td>-9</td>\n",
              "    </tr>\n",
              "    <tr>\n",
              "      <th>4</th>\n",
              "      <td>5</td>\n",
              "      <td>10</td>\n",
              "    </tr>\n",
              "  </tbody>\n",
              "</table>\n",
              "</div>\n",
              "    <div class=\"colab-df-buttons\">\n",
              "\n",
              "  <div class=\"colab-df-container\">\n",
              "    <button class=\"colab-df-convert\" onclick=\"convertToInteractive('df-d1592cde-dfe3-45ba-8e6c-ff630f94286b')\"\n",
              "            title=\"Convert this dataframe to an interactive table.\"\n",
              "            style=\"display:none;\">\n",
              "\n",
              "  <svg xmlns=\"http://www.w3.org/2000/svg\" height=\"24px\" viewBox=\"0 -960 960 960\">\n",
              "    <path d=\"M120-120v-720h720v720H120Zm60-500h600v-160H180v160Zm220 220h160v-160H400v160Zm0 220h160v-160H400v160ZM180-400h160v-160H180v160Zm440 0h160v-160H620v160ZM180-180h160v-160H180v160Zm440 0h160v-160H620v160Z\"/>\n",
              "  </svg>\n",
              "    </button>\n",
              "\n",
              "  <style>\n",
              "    .colab-df-container {\n",
              "      display:flex;\n",
              "      gap: 12px;\n",
              "    }\n",
              "\n",
              "    .colab-df-convert {\n",
              "      background-color: #E8F0FE;\n",
              "      border: none;\n",
              "      border-radius: 50%;\n",
              "      cursor: pointer;\n",
              "      display: none;\n",
              "      fill: #1967D2;\n",
              "      height: 32px;\n",
              "      padding: 0 0 0 0;\n",
              "      width: 32px;\n",
              "    }\n",
              "\n",
              "    .colab-df-convert:hover {\n",
              "      background-color: #E2EBFA;\n",
              "      box-shadow: 0px 1px 2px rgba(60, 64, 67, 0.3), 0px 1px 3px 1px rgba(60, 64, 67, 0.15);\n",
              "      fill: #174EA6;\n",
              "    }\n",
              "\n",
              "    .colab-df-buttons div {\n",
              "      margin-bottom: 4px;\n",
              "    }\n",
              "\n",
              "    [theme=dark] .colab-df-convert {\n",
              "      background-color: #3B4455;\n",
              "      fill: #D2E3FC;\n",
              "    }\n",
              "\n",
              "    [theme=dark] .colab-df-convert:hover {\n",
              "      background-color: #434B5C;\n",
              "      box-shadow: 0px 1px 3px 1px rgba(0, 0, 0, 0.15);\n",
              "      filter: drop-shadow(0px 1px 2px rgba(0, 0, 0, 0.3));\n",
              "      fill: #FFFFFF;\n",
              "    }\n",
              "  </style>\n",
              "\n",
              "    <script>\n",
              "      const buttonEl =\n",
              "        document.querySelector('#df-d1592cde-dfe3-45ba-8e6c-ff630f94286b button.colab-df-convert');\n",
              "      buttonEl.style.display =\n",
              "        google.colab.kernel.accessAllowed ? 'block' : 'none';\n",
              "\n",
              "      async function convertToInteractive(key) {\n",
              "        const element = document.querySelector('#df-d1592cde-dfe3-45ba-8e6c-ff630f94286b');\n",
              "        const dataTable =\n",
              "          await google.colab.kernel.invokeFunction('convertToInteractive',\n",
              "                                                    [key], {});\n",
              "        if (!dataTable) return;\n",
              "\n",
              "        const docLinkHtml = 'Like what you see? Visit the ' +\n",
              "          '<a target=\"_blank\" href=https://colab.research.google.com/notebooks/data_table.ipynb>data table notebook</a>'\n",
              "          + ' to learn more about interactive tables.';\n",
              "        element.innerHTML = '';\n",
              "        dataTable['output_type'] = 'display_data';\n",
              "        await google.colab.output.renderOutput(dataTable, element);\n",
              "        const docLink = document.createElement('div');\n",
              "        docLink.innerHTML = docLinkHtml;\n",
              "        element.appendChild(docLink);\n",
              "      }\n",
              "    </script>\n",
              "  </div>\n",
              "\n",
              "\n",
              "<div id=\"df-36e55f20-7d5e-4408-a1f6-f8b6e1fe8377\">\n",
              "  <button class=\"colab-df-quickchart\" onclick=\"quickchart('df-36e55f20-7d5e-4408-a1f6-f8b6e1fe8377')\"\n",
              "            title=\"Suggest charts\"\n",
              "            style=\"display:none;\">\n",
              "\n",
              "<svg xmlns=\"http://www.w3.org/2000/svg\" height=\"24px\"viewBox=\"0 0 24 24\"\n",
              "     width=\"24px\">\n",
              "    <g>\n",
              "        <path d=\"M19 3H5c-1.1 0-2 .9-2 2v14c0 1.1.9 2 2 2h14c1.1 0 2-.9 2-2V5c0-1.1-.9-2-2-2zM9 17H7v-7h2v7zm4 0h-2V7h2v10zm4 0h-2v-4h2v4z\"/>\n",
              "    </g>\n",
              "</svg>\n",
              "  </button>\n",
              "\n",
              "<style>\n",
              "  .colab-df-quickchart {\n",
              "      --bg-color: #E8F0FE;\n",
              "      --fill-color: #1967D2;\n",
              "      --hover-bg-color: #E2EBFA;\n",
              "      --hover-fill-color: #174EA6;\n",
              "      --disabled-fill-color: #AAA;\n",
              "      --disabled-bg-color: #DDD;\n",
              "  }\n",
              "\n",
              "  [theme=dark] .colab-df-quickchart {\n",
              "      --bg-color: #3B4455;\n",
              "      --fill-color: #D2E3FC;\n",
              "      --hover-bg-color: #434B5C;\n",
              "      --hover-fill-color: #FFFFFF;\n",
              "      --disabled-bg-color: #3B4455;\n",
              "      --disabled-fill-color: #666;\n",
              "  }\n",
              "\n",
              "  .colab-df-quickchart {\n",
              "    background-color: var(--bg-color);\n",
              "    border: none;\n",
              "    border-radius: 50%;\n",
              "    cursor: pointer;\n",
              "    display: none;\n",
              "    fill: var(--fill-color);\n",
              "    height: 32px;\n",
              "    padding: 0;\n",
              "    width: 32px;\n",
              "  }\n",
              "\n",
              "  .colab-df-quickchart:hover {\n",
              "    background-color: var(--hover-bg-color);\n",
              "    box-shadow: 0 1px 2px rgba(60, 64, 67, 0.3), 0 1px 3px 1px rgba(60, 64, 67, 0.15);\n",
              "    fill: var(--button-hover-fill-color);\n",
              "  }\n",
              "\n",
              "  .colab-df-quickchart-complete:disabled,\n",
              "  .colab-df-quickchart-complete:disabled:hover {\n",
              "    background-color: var(--disabled-bg-color);\n",
              "    fill: var(--disabled-fill-color);\n",
              "    box-shadow: none;\n",
              "  }\n",
              "\n",
              "  .colab-df-spinner {\n",
              "    border: 2px solid var(--fill-color);\n",
              "    border-color: transparent;\n",
              "    border-bottom-color: var(--fill-color);\n",
              "    animation:\n",
              "      spin 1s steps(1) infinite;\n",
              "  }\n",
              "\n",
              "  @keyframes spin {\n",
              "    0% {\n",
              "      border-color: transparent;\n",
              "      border-bottom-color: var(--fill-color);\n",
              "      border-left-color: var(--fill-color);\n",
              "    }\n",
              "    20% {\n",
              "      border-color: transparent;\n",
              "      border-left-color: var(--fill-color);\n",
              "      border-top-color: var(--fill-color);\n",
              "    }\n",
              "    30% {\n",
              "      border-color: transparent;\n",
              "      border-left-color: var(--fill-color);\n",
              "      border-top-color: var(--fill-color);\n",
              "      border-right-color: var(--fill-color);\n",
              "    }\n",
              "    40% {\n",
              "      border-color: transparent;\n",
              "      border-right-color: var(--fill-color);\n",
              "      border-top-color: var(--fill-color);\n",
              "    }\n",
              "    60% {\n",
              "      border-color: transparent;\n",
              "      border-right-color: var(--fill-color);\n",
              "    }\n",
              "    80% {\n",
              "      border-color: transparent;\n",
              "      border-right-color: var(--fill-color);\n",
              "      border-bottom-color: var(--fill-color);\n",
              "    }\n",
              "    90% {\n",
              "      border-color: transparent;\n",
              "      border-bottom-color: var(--fill-color);\n",
              "    }\n",
              "  }\n",
              "</style>\n",
              "\n",
              "  <script>\n",
              "    async function quickchart(key) {\n",
              "      const quickchartButtonEl =\n",
              "        document.querySelector('#' + key + ' button');\n",
              "      quickchartButtonEl.disabled = true;  // To prevent multiple clicks.\n",
              "      quickchartButtonEl.classList.add('colab-df-spinner');\n",
              "      try {\n",
              "        const charts = await google.colab.kernel.invokeFunction(\n",
              "            'suggestCharts', [key], {});\n",
              "      } catch (error) {\n",
              "        console.error('Error during call to suggestCharts:', error);\n",
              "      }\n",
              "      quickchartButtonEl.classList.remove('colab-df-spinner');\n",
              "      quickchartButtonEl.classList.add('colab-df-quickchart-complete');\n",
              "    }\n",
              "    (() => {\n",
              "      let quickchartButtonEl =\n",
              "        document.querySelector('#df-36e55f20-7d5e-4408-a1f6-f8b6e1fe8377 button');\n",
              "      quickchartButtonEl.style.display =\n",
              "        google.colab.kernel.accessAllowed ? 'block' : 'none';\n",
              "    })();\n",
              "  </script>\n",
              "</div>\n",
              "\n",
              "  <div id=\"id_de8fd9a1-c0ed-4a8e-8ead-aee8c8105df0\">\n",
              "    <style>\n",
              "      .colab-df-generate {\n",
              "        background-color: #E8F0FE;\n",
              "        border: none;\n",
              "        border-radius: 50%;\n",
              "        cursor: pointer;\n",
              "        display: none;\n",
              "        fill: #1967D2;\n",
              "        height: 32px;\n",
              "        padding: 0 0 0 0;\n",
              "        width: 32px;\n",
              "      }\n",
              "\n",
              "      .colab-df-generate:hover {\n",
              "        background-color: #E2EBFA;\n",
              "        box-shadow: 0px 1px 2px rgba(60, 64, 67, 0.3), 0px 1px 3px 1px rgba(60, 64, 67, 0.15);\n",
              "        fill: #174EA6;\n",
              "      }\n",
              "\n",
              "      [theme=dark] .colab-df-generate {\n",
              "        background-color: #3B4455;\n",
              "        fill: #D2E3FC;\n",
              "      }\n",
              "\n",
              "      [theme=dark] .colab-df-generate:hover {\n",
              "        background-color: #434B5C;\n",
              "        box-shadow: 0px 1px 3px 1px rgba(0, 0, 0, 0.15);\n",
              "        filter: drop-shadow(0px 1px 2px rgba(0, 0, 0, 0.3));\n",
              "        fill: #FFFFFF;\n",
              "      }\n",
              "    </style>\n",
              "    <button class=\"colab-df-generate\" onclick=\"generateWithVariable('df')\"\n",
              "            title=\"Generate code using this dataframe.\"\n",
              "            style=\"display:none;\">\n",
              "\n",
              "  <svg xmlns=\"http://www.w3.org/2000/svg\" height=\"24px\"viewBox=\"0 0 24 24\"\n",
              "       width=\"24px\">\n",
              "    <path d=\"M7,19H8.4L18.45,9,17,7.55,7,17.6ZM5,21V16.75L18.45,3.32a2,2,0,0,1,2.83,0l1.4,1.43a1.91,1.91,0,0,1,.58,1.4,1.91,1.91,0,0,1-.58,1.4L9.25,21ZM18.45,9,17,7.55Zm-12,3A5.31,5.31,0,0,0,4.9,8.1,5.31,5.31,0,0,0,1,6.5,5.31,5.31,0,0,0,4.9,4.9,5.31,5.31,0,0,0,6.5,1,5.31,5.31,0,0,0,8.1,4.9,5.31,5.31,0,0,0,12,6.5,5.46,5.46,0,0,0,6.5,12Z\"/>\n",
              "  </svg>\n",
              "    </button>\n",
              "    <script>\n",
              "      (() => {\n",
              "      const buttonEl =\n",
              "        document.querySelector('#id_de8fd9a1-c0ed-4a8e-8ead-aee8c8105df0 button.colab-df-generate');\n",
              "      buttonEl.style.display =\n",
              "        google.colab.kernel.accessAllowed ? 'block' : 'none';\n",
              "\n",
              "      buttonEl.onclick = () => {\n",
              "        google.colab.notebook.generateWithVariable('df');\n",
              "      }\n",
              "      })();\n",
              "    </script>\n",
              "  </div>\n",
              "\n",
              "    </div>\n",
              "  </div>\n"
            ],
            "application/vnd.google.colaboratory.intrinsic+json": {
              "type": "dataframe",
              "variable_name": "df",
              "summary": "{\n  \"name\": \"df\",\n  \"rows\": 5,\n  \"fields\": [\n    {\n      \"column\": \"A\",\n      \"properties\": {\n        \"dtype\": \"number\",\n        \"std\": 2,\n        \"min\": 0,\n        \"max\": 5,\n        \"num_unique_values\": 4,\n        \"samples\": [\n          0,\n          5,\n          1\n        ],\n        \"semantic_type\": \"\",\n        \"description\": \"\"\n      }\n    },\n    {\n      \"column\": \"B\",\n      \"properties\": {\n        \"dtype\": \"number\",\n        \"std\": 8,\n        \"min\": -9,\n        \"max\": 10,\n        \"num_unique_values\": 5,\n        \"samples\": [\n          -7,\n          10,\n          8\n        ],\n        \"semantic_type\": \"\",\n        \"description\": \"\"\n      }\n    }\n  ]\n}"
            }
          },
          "metadata": {},
          "execution_count": 25
        }
      ]
    },
    {
      "cell_type": "markdown",
      "source": [
        "**26. Access the 3rd element from the given NumPy array.**"
      ],
      "metadata": {
        "id": "8Dy8xz2a5ViY"
      }
    },
    {
      "cell_type": "code",
      "source": [
        "arr = np.array([10, 20, 30, 40, 50])\n",
        "\n",
        "print(arr[2])"
      ],
      "metadata": {
        "colab": {
          "base_uri": "https://localhost:8080/"
        },
        "id": "AlVkFu-W42dd",
        "outputId": "c8da99a7-208e-4fb5-87a6-7c411cb695db"
      },
      "execution_count": null,
      "outputs": [
        {
          "output_type": "stream",
          "name": "stdout",
          "text": [
            "30\n"
          ]
        }
      ]
    },
    {
      "cell_type": "markdown",
      "source": [
        "**27. Retrieve the element at index (1, 2) from the 2D NumPy array.**\n"
      ],
      "metadata": {
        "id": "LkJnEh3c5lad"
      }
    },
    {
      "cell_type": "code",
      "source": [
        "arr_2d = np.array([[1, 2, 3], [4, 5, 6], [7, 8, 9]])\n",
        "print(arr_2d)\n",
        "# retrieve index(1,2)\n",
        "\n",
        "print(arr_2d[1, 2])"
      ],
      "metadata": {
        "colab": {
          "base_uri": "https://localhost:8080/"
        },
        "id": "7eUe6M_J5iSt",
        "outputId": "5298f7c8-1c30-4cdb-abb8-4a0ee2ca566f"
      },
      "execution_count": null,
      "outputs": [
        {
          "output_type": "stream",
          "name": "stdout",
          "text": [
            "[[1 2 3]\n",
            " [4 5 6]\n",
            " [7 8 9]]\n",
            "6\n"
          ]
        }
      ]
    },
    {
      "cell_type": "markdown",
      "source": [
        "**28. Using boolean indexing, extract elements greater than 5 from the given NumPy array.**"
      ],
      "metadata": {
        "id": "szM6DG2d6SWV"
      }
    },
    {
      "cell_type": "code",
      "source": [
        "arr = np.array([3, 8, 2, 10, 5, 7])\n",
        "\n",
        "# boolean indexing\n",
        "print(arr[arr > 5])\n"
      ],
      "metadata": {
        "colab": {
          "base_uri": "https://localhost:8080/"
        },
        "id": "pL7pUINc5_dw",
        "outputId": "e41d2dfa-b5ba-4373-ac05-7448adb6c22c"
      },
      "execution_count": null,
      "outputs": [
        {
          "output_type": "stream",
          "name": "stdout",
          "text": [
            "[ 8 10  7]\n"
          ]
        }
      ]
    },
    {
      "cell_type": "markdown",
      "source": [
        " **29. Perform basic slicing to extract elements from index 2 to 5 (inclusive) from the given NumPy array.**"
      ],
      "metadata": {
        "id": "RzvrcVRb6xMf"
      }
    },
    {
      "cell_type": "code",
      "source": [
        "arrr = np.array([1, 2, 3, 4, 5, 6, 7, 8, 9])\n",
        "arrr[2:6]"
      ],
      "metadata": {
        "colab": {
          "base_uri": "https://localhost:8080/"
        },
        "id": "mKEoSiIo6to4",
        "outputId": "2ca68158-16ab-4829-cef3-3721106349d4"
      },
      "execution_count": null,
      "outputs": [
        {
          "output_type": "execute_result",
          "data": {
            "text/plain": [
              "array([3, 4, 5, 6])"
            ]
          },
          "metadata": {},
          "execution_count": 29
        }
      ]
    },
    {
      "cell_type": "markdown",
      "source": [
        " **30. Slice the 2D NumPy array to extract the sub-array `[[2, 3], [5, 6]]` from the given array.**"
      ],
      "metadata": {
        "id": "sHke5tVf6_U_"
      }
    },
    {
      "cell_type": "code",
      "source": [
        "arr_2d = np.array([[1, 2, 3], [4, 5, 6], [7, 8, 9]])\n",
        "print(arr_2d)\n",
        "\n",
        "# extract the sub-array\n",
        "\n",
        "sub_array = arr_2d[0:2, 1:3]\n",
        "print(sub_array)\n",
        "\n"
      ],
      "metadata": {
        "colab": {
          "base_uri": "https://localhost:8080/"
        },
        "id": "fe1WVD9h67m8",
        "outputId": "a413e03a-4639-4a3c-b22f-0588267232bd"
      },
      "execution_count": null,
      "outputs": [
        {
          "output_type": "stream",
          "name": "stdout",
          "text": [
            "[[1 2 3]\n",
            " [4 5 6]\n",
            " [7 8 9]]\n",
            "[[2 3]\n",
            " [5 6]]\n"
          ]
        }
      ]
    },
    {
      "cell_type": "markdown",
      "source": [
        "**31. Write a NumPy function to extract elements in specific order from a given 2D array based on indices\n",
        "provided in another array.**"
      ],
      "metadata": {
        "id": "crB_vcnN8qwk"
      }
    },
    {
      "cell_type": "code",
      "source": [
        "def extract_elements(arr, indices):\n",
        "  return arr[indices]\n",
        "\n",
        "arr = np.array([[1, 2, 3], [4, 5, 6], [7, 8, 9]])\n",
        "indices = np.array([1, 0, 2])\n",
        "\n",
        "print(extract_elements(arr, indices))\n"
      ],
      "metadata": {
        "colab": {
          "base_uri": "https://localhost:8080/"
        },
        "id": "y75nAvgQ7HpZ",
        "outputId": "fd47fda6-bcc0-4fea-d550-8bd76fd47e18"
      },
      "execution_count": null,
      "outputs": [
        {
          "output_type": "stream",
          "name": "stdout",
          "text": [
            "[[4 5 6]\n",
            " [1 2 3]\n",
            " [7 8 9]]\n"
          ]
        }
      ]
    },
    {
      "cell_type": "markdown",
      "source": [
        "**32. Create a NumPy function that filters elements greater than a threshold from a given 1D array using\n",
        "boolean indexing.**"
      ],
      "metadata": {
        "id": "xgjO33K_F7xy"
      }
    },
    {
      "cell_type": "code",
      "source": [
        "def filter_elements(arr, threshold):\n",
        "  return arr[arr > threshold]\n",
        "\n",
        "arr = np.array([3, 8, 2, 10, 5, 7])\n",
        "threshold = 5\n",
        "\n",
        "print(filter_elements(arr, threshold))"
      ],
      "metadata": {
        "colab": {
          "base_uri": "https://localhost:8080/"
        },
        "id": "q8sae0WYFw13",
        "outputId": "bef3020b-290a-4dc6-c318-3ac3d1881d80"
      },
      "execution_count": null,
      "outputs": [
        {
          "output_type": "stream",
          "name": "stdout",
          "text": [
            "[ 8 10  7]\n"
          ]
        }
      ]
    },
    {
      "cell_type": "markdown",
      "source": [
        " **33. Develop a NumPy function that extracts specific elements from a 3D array using indices provided in three\n",
        "separate arrays for each dimension.**"
      ],
      "metadata": {
        "id": "YkuuNbsCJOyq"
      }
    },
    {
      "cell_type": "code",
      "source": [
        "def extract_elements(arr, indices1, indices2, indices3):\n",
        "  return arr[indices1, indices2, indices3]\n",
        "\n",
        "\n",
        "arr = np.array([[[1, 2, 3], [4, 5, 6]], [[7, 8, 9], [10, 11, 12]]])\n",
        "\n",
        "indices1 = np.array([0, 1])\n",
        "indices2 = np.array([0, 1])\n",
        "indices3 = np.array([0, 1])\n",
        "\n",
        "extract_elements(arr, indices1, indices2, indices3)"
      ],
      "metadata": {
        "id": "KwTLd87YJLcP",
        "colab": {
          "base_uri": "https://localhost:8080/"
        },
        "outputId": "3c35e1a0-7dd3-4a2a-efbe-4339ed91a53c"
      },
      "execution_count": null,
      "outputs": [
        {
          "output_type": "execute_result",
          "data": {
            "text/plain": [
              "array([ 1, 11])"
            ]
          },
          "metadata": {},
          "execution_count": 33
        }
      ]
    },
    {
      "cell_type": "markdown",
      "source": [
        "**34. Write a NumPy function that returns elements from an array where both two conditions are satisfied\n",
        "using boolean indexing.**"
      ],
      "metadata": {
        "id": "XZkqc6G7h9co"
      }
    },
    {
      "cell_type": "code",
      "source": [
        "def extract_elements(arr, condition1, condition2):\n",
        "  return arr[condition1 & condition2]\n",
        "\n",
        "\n",
        "arr = np.array([3, 8, 2, 10, 5, 7])\n",
        "condition1 = arr > 5\n",
        "condition2 = arr % 2 == 0\n",
        "\n",
        "extract_elements(arr, condition1, condition2)"
      ],
      "metadata": {
        "colab": {
          "base_uri": "https://localhost:8080/"
        },
        "id": "qxvydn3Hhwsj",
        "outputId": "308a0dfe-da86-49f5-a829-57dc99d12ac1"
      },
      "execution_count": null,
      "outputs": [
        {
          "output_type": "execute_result",
          "data": {
            "text/plain": [
              "array([ 8, 10])"
            ]
          },
          "metadata": {},
          "execution_count": 34
        }
      ]
    },
    {
      "cell_type": "markdown",
      "source": [
        "**35. Create a NumPy function that extracts elements from a 2D array using row and column indices provided\n",
        "in separate arrays.**"
      ],
      "metadata": {
        "id": "yh3_2KuNilQ3"
      }
    },
    {
      "cell_type": "code",
      "source": [
        "def extract_elements(arr, row_indices, col_indices):\n",
        "  return arr[row_indices, col_indices]\n",
        "\n",
        "arr = np.array([[1, 2, 3], [4, 5, 6], [7, 8, 9]])\n",
        "arr\n",
        "row_indices = np.array([0, 1])\n",
        "col_indices = np.array([1, 2])\n",
        "\n",
        "extract_elements(arr, row_indices, col_indices)"
      ],
      "metadata": {
        "colab": {
          "base_uri": "https://localhost:8080/"
        },
        "id": "Ls3A3y9yiWVP",
        "outputId": "6e7516ed-c0b3-46f9-d6ce-5d43a865298f"
      },
      "execution_count": null,
      "outputs": [
        {
          "output_type": "execute_result",
          "data": {
            "text/plain": [
              "array([2, 6])"
            ]
          },
          "metadata": {},
          "execution_count": 35
        }
      ]
    },
    {
      "cell_type": "markdown",
      "source": [
        "**36. Given an array arr of shape (3, 3), add a scalar value of 5 to each element using NumPy broadcasting.**"
      ],
      "metadata": {
        "id": "11s4zS0ci6J9"
      }
    },
    {
      "cell_type": "code",
      "source": [
        "import numpy as np\n",
        "\n",
        "# Numpy array and a scalar\n",
        "array1 = np.array([[1,2,3],[4,5,6],[7,8,9]])\n",
        "scalar = 5\n",
        "\n",
        "print(\"Array 1:\", array1)\n",
        "print(\"Scalar:\", scalar)\n",
        "\n",
        "# Using numpy.add() with an array and a scalar\n",
        "result = np.add(array1, scalar)\n",
        "\n",
        "print(\"Result of adding array and scalar:\", result)"
      ],
      "metadata": {
        "colab": {
          "base_uri": "https://localhost:8080/"
        },
        "id": "QFIKaHtbi0hS",
        "outputId": "8ad20604-664c-4cc0-b3c4-9d17efa51de9"
      },
      "execution_count": null,
      "outputs": [
        {
          "output_type": "stream",
          "name": "stdout",
          "text": [
            "Array 1: [[1 2 3]\n",
            " [4 5 6]\n",
            " [7 8 9]]\n",
            "Scalar: 5\n",
            "Result of adding array and scalar: [[ 6  7  8]\n",
            " [ 9 10 11]\n",
            " [12 13 14]]\n"
          ]
        }
      ]
    },
    {
      "cell_type": "markdown",
      "source": [
        " **37. Consider two arrays arr1 of shape (1, 3) and arr2 of shape (3, 4). Multiply each row of arr2 by the\n",
        "corresponding element in arr1 using NumPy broadcasting.**"
      ],
      "metadata": {
        "id": "Qi6S08zYkMew"
      }
    },
    {
      "cell_type": "code",
      "source": [
        "arr1 = np.array([[1], [2], [3]])\n",
        "print(arr1)\n",
        "arr2 = np.array([[4, 5, 6, 7], [8, 9, 10, 11], [12, 13, 14, 15]])\n",
        "print(arr2)\n",
        "\n",
        "arr1 * arr2\n",
        "\n",
        "\n"
      ],
      "metadata": {
        "colab": {
          "base_uri": "https://localhost:8080/"
        },
        "id": "15g6x-Dfjhyo",
        "outputId": "2ae764fa-7831-4c93-94ed-1d6f8a24347c"
      },
      "execution_count": null,
      "outputs": [
        {
          "output_type": "stream",
          "name": "stdout",
          "text": [
            "[[1]\n",
            " [2]\n",
            " [3]]\n",
            "[[ 4  5  6  7]\n",
            " [ 8  9 10 11]\n",
            " [12 13 14 15]]\n"
          ]
        },
        {
          "output_type": "execute_result",
          "data": {
            "text/plain": [
              "array([[ 4,  5,  6,  7],\n",
              "       [16, 18, 20, 22],\n",
              "       [36, 39, 42, 45]])"
            ]
          },
          "metadata": {},
          "execution_count": 37
        }
      ]
    },
    {
      "cell_type": "markdown",
      "source": [
        "**38. Given a 1D array arr1 of shape (1, 4) and a 2D array arr2 of shape (4, 3), add arr1 to each row of arr2 using\n",
        "NumPy broadcasting.**"
      ],
      "metadata": {
        "id": "aTNVs1Msl3LX"
      }
    },
    {
      "cell_type": "code",
      "source": [
        "arr1 = np.array([[1], [2], [3], [4]])\n",
        "print(arr1)\n",
        "arr2 = np.array([[4, 5, 6], [7, 8, 9], [10, 11, 12], [13, 14, 15]])\n",
        "print(arr2)\n",
        "\n",
        "\n",
        "arr1 + arr2"
      ],
      "metadata": {
        "colab": {
          "base_uri": "https://localhost:8080/"
        },
        "id": "y0alKqMNkeIM",
        "outputId": "3477a609-a6c8-4d43-8da8-ae08d06fa538"
      },
      "execution_count": null,
      "outputs": [
        {
          "output_type": "stream",
          "name": "stdout",
          "text": [
            "[[1]\n",
            " [2]\n",
            " [3]\n",
            " [4]]\n",
            "[[ 4  5  6]\n",
            " [ 7  8  9]\n",
            " [10 11 12]\n",
            " [13 14 15]]\n"
          ]
        },
        {
          "output_type": "execute_result",
          "data": {
            "text/plain": [
              "array([[ 5,  6,  7],\n",
              "       [ 9, 10, 11],\n",
              "       [13, 14, 15],\n",
              "       [17, 18, 19]])"
            ]
          },
          "metadata": {},
          "execution_count": 38
        }
      ]
    },
    {
      "cell_type": "markdown",
      "source": [
        "**39. Consider two arrays arr1 of shape (3, 1) and arr2 of shape (1, 3). Add these arrays using NumPy\n",
        "broadcasting.**"
      ],
      "metadata": {
        "id": "ajwNBGYBtBJf"
      }
    },
    {
      "cell_type": "code",
      "source": [
        "arr1 = np.array([[1], [2], [3]])\n",
        "print(arr1)\n",
        "arr2 = np.array([[4, 5, 6]])\n",
        "print(arr2)\n",
        "\n",
        "arr1 + arr2"
      ],
      "metadata": {
        "id": "tQunRsuLmaCG",
        "colab": {
          "base_uri": "https://localhost:8080/"
        },
        "outputId": "2e9b9d9c-fd7d-42ee-c29e-5474b8f75bba"
      },
      "execution_count": null,
      "outputs": [
        {
          "output_type": "stream",
          "name": "stdout",
          "text": [
            "[[1]\n",
            " [2]\n",
            " [3]]\n",
            "[[4 5 6]]\n"
          ]
        },
        {
          "output_type": "execute_result",
          "data": {
            "text/plain": [
              "array([[5, 6, 7],\n",
              "       [6, 7, 8],\n",
              "       [7, 8, 9]])"
            ]
          },
          "metadata": {},
          "execution_count": 39
        }
      ]
    },
    {
      "cell_type": "markdown",
      "source": [
        "**40. Given arrays arr1 of shape (2, 3) and arr2 of shape (2, 2), perform multiplication using NumPy\n",
        "broadcasting. Handle the shape incompatibility.**"
      ],
      "metadata": {
        "id": "GkCds1BgtP8z"
      }
    },
    {
      "cell_type": "code",
      "source": [
        "arr1 = np.array([[1, 2, 3], [4, 5, 6]])\n",
        "print(arr1)\n",
        "print(arr1.shape)\n",
        "arr2 = np.array([[4, 5], [6, 7]])\n",
        "print(arr2)\n",
        "print(arr2.shape)\n",
        "\n",
        "\n",
        "\n",
        "\n",
        "\n",
        "\n"
      ],
      "metadata": {
        "colab": {
          "base_uri": "https://localhost:8080/"
        },
        "id": "vlzYPwiRtLRz",
        "outputId": "93785e13-acc8-48a9-9513-a8882e6e8e14"
      },
      "execution_count": null,
      "outputs": [
        {
          "output_type": "stream",
          "name": "stdout",
          "text": [
            "[[1 2 3]\n",
            " [4 5 6]]\n",
            "(2, 3)\n",
            "[[4 5]\n",
            " [6 7]]\n",
            "(2, 2)\n"
          ]
        }
      ]
    },
    {
      "cell_type": "markdown",
      "source": [
        "**41. Calculate column-wise mean for the given array:**"
      ],
      "metadata": {
        "id": "Mdrv3Cmuvqw3"
      }
    },
    {
      "cell_type": "code",
      "source": [
        "arr = np.array([[1, 2, 3], [4, 5, 6]])\n",
        "\n",
        "print(arr)\n",
        "\n",
        "mean = np.mean(arr, axis=0)\n",
        "print(mean)"
      ],
      "metadata": {
        "colab": {
          "base_uri": "https://localhost:8080/"
        },
        "id": "llYlvgdbtaUE",
        "outputId": "400034f3-42b3-4f73-dceb-23c1907b8769"
      },
      "execution_count": null,
      "outputs": [
        {
          "output_type": "stream",
          "name": "stdout",
          "text": [
            "[[1 2 3]\n",
            " [4 5 6]]\n",
            "[2.5 3.5 4.5]\n"
          ]
        }
      ]
    },
    {
      "cell_type": "markdown",
      "source": [
        "**42. Find maximum value in each row of the given array:**"
      ],
      "metadata": {
        "id": "praeciHtwIjC"
      }
    },
    {
      "cell_type": "code",
      "source": [
        "arr = np.array([[1, 2, 3], [4, 5, 6]])\n",
        "\n",
        "print(arr)\n",
        "\n",
        "max_value = np.max(arr, axis=1)\n",
        "print(max_value)"
      ],
      "metadata": {
        "colab": {
          "base_uri": "https://localhost:8080/"
        },
        "id": "J66nVhBxv660",
        "outputId": "f132305a-354c-4387-fa7b-8a40ef663ff6"
      },
      "execution_count": null,
      "outputs": [
        {
          "output_type": "stream",
          "name": "stdout",
          "text": [
            "[[1 2 3]\n",
            " [4 5 6]]\n",
            "[3 6]\n"
          ]
        }
      ]
    },
    {
      "cell_type": "markdown",
      "source": [
        "**43. For the given array, find indices of maximum value in each column**"
      ],
      "metadata": {
        "id": "xJGp1zN-wXXq"
      }
    },
    {
      "cell_type": "code",
      "source": [
        "arr = np.array([[1, 2, 3], [4, 5, 6]])\n",
        "\n",
        "print(arr)\n",
        "\n",
        "max_indices = np.argmax(arr, axis=0)\n",
        "print(max_indices)"
      ],
      "metadata": {
        "colab": {
          "base_uri": "https://localhost:8080/"
        },
        "id": "NCbx12W8wWWz",
        "outputId": "4eecd9e0-5f8a-4889-e694-ea88901df5d8"
      },
      "execution_count": null,
      "outputs": [
        {
          "output_type": "stream",
          "name": "stdout",
          "text": [
            "[[1 2 3]\n",
            " [4 5 6]]\n",
            "[1 1 1]\n"
          ]
        }
      ]
    },
    {
      "cell_type": "markdown",
      "source": [
        "**44. For the given array, apply custom function to calculate moving sum along rows.**"
      ],
      "metadata": {
        "id": "SyCmQcGXwo2D"
      }
    },
    {
      "cell_type": "code",
      "source": [
        "arr = np.array([[1, 2, 3], [4, 5, 6]])\n",
        "\n",
        "print(arr)\n",
        "\n",
        "def moving_sum(arr):\n",
        "  return np.cumsum(arr, axis=1)\n",
        "\n",
        "moving_sum(arr)"
      ],
      "metadata": {
        "colab": {
          "base_uri": "https://localhost:8080/"
        },
        "id": "NOBmJ0sRwmUt",
        "outputId": "e1d56af4-478c-4b87-c877-5db54a3d4837"
      },
      "execution_count": null,
      "outputs": [
        {
          "output_type": "stream",
          "name": "stdout",
          "text": [
            "[[1 2 3]\n",
            " [4 5 6]]\n"
          ]
        },
        {
          "output_type": "execute_result",
          "data": {
            "text/plain": [
              "array([[ 1,  3,  6],\n",
              "       [ 4,  9, 15]])"
            ]
          },
          "metadata": {},
          "execution_count": 44
        }
      ]
    },
    {
      "cell_type": "markdown",
      "source": [
        "**45. In the given array, check if all elements in each column are even.**"
      ],
      "metadata": {
        "id": "m-UG8LZTw13D"
      }
    },
    {
      "cell_type": "code",
      "source": [
        "arr = np.array([[2, 4, 6], [3, 5, 7]])\n",
        "\n",
        "print(arr)\n",
        "\n",
        "all_even = np.all(arr % 2 == 0, axis=0)\n",
        "print(all_even)\n"
      ],
      "metadata": {
        "colab": {
          "base_uri": "https://localhost:8080/"
        },
        "id": "enPRibcBwv6I",
        "outputId": "4b5057f0-9da1-4f35-aa33-8e0f02c1c2c0"
      },
      "execution_count": null,
      "outputs": [
        {
          "output_type": "stream",
          "name": "stdout",
          "text": [
            "[[2 4 6]\n",
            " [3 5 7]]\n",
            "[False False False]\n"
          ]
        }
      ]
    },
    {
      "cell_type": "markdown",
      "source": [
        "**46. Given a NumPy array arr, reshape it into a matrix of dimensions `m` rows and `n` columns. Return the\n",
        "reshaped matrix.**"
      ],
      "metadata": {
        "id": "CqMyCOVVaPRO"
      }
    },
    {
      "cell_type": "code",
      "source": [
        "original_array = np.array([1, 2, 3, 4, 5, 6])\n",
        "m = 2\n",
        "n = 3\n",
        "\n",
        "reshaped_matrix = original_array.reshape(m, n)\n",
        "print(reshaped_matrix)\n",
        "\n",
        "\n"
      ],
      "metadata": {
        "id": "bUfynKKcw62M",
        "colab": {
          "base_uri": "https://localhost:8080/"
        },
        "outputId": "9dd21543-abb8-4f34-f228-46c2d7c5cb0e"
      },
      "execution_count": null,
      "outputs": [
        {
          "output_type": "stream",
          "name": "stdout",
          "text": [
            "[[1 2 3]\n",
            " [4 5 6]]\n"
          ]
        }
      ]
    },
    {
      "cell_type": "markdown",
      "source": [
        "47. Create a function that takes a matrix as input and returns the flattened array."
      ],
      "metadata": {
        "id": "DFbaSKK1daeB"
      }
    },
    {
      "cell_type": "code",
      "source": [
        "def flatten_matrix(matrix):\n",
        "  return matrix.flatten()\n",
        "\n",
        "\n",
        "input_matrix = np.array([[1, 2, 3], [4, 5, 6]])\n",
        "flatten_matrix(input_matrix)"
      ],
      "metadata": {
        "colab": {
          "base_uri": "https://localhost:8080/"
        },
        "id": "2sOpXramdWB8",
        "outputId": "511bd0df-1223-4b06-9f32-b9cb5e885ba6"
      },
      "execution_count": null,
      "outputs": [
        {
          "output_type": "execute_result",
          "data": {
            "text/plain": [
              "array([1, 2, 3, 4, 5, 6])"
            ]
          },
          "metadata": {},
          "execution_count": 47
        }
      ]
    },
    {
      "cell_type": "markdown",
      "source": [
        "**48. Write a function that concatenates two given arrays along a specified axis.**"
      ],
      "metadata": {
        "id": "WXTNn6iQeGAj"
      }
    },
    {
      "cell_type": "code",
      "source": [
        "array1 = np.array([[1, 2], [3, 4]])\n",
        "array2 = np.array([[5, 6], [7, 8]])\n",
        "\n",
        "def concatenate_arrays(array1, array2, axis=0):\n",
        "  return np.concatenate((array1, array2), axis=axis)\n",
        "\n",
        "concatenate_arrays(array1, array2, axis=1)"
      ],
      "metadata": {
        "colab": {
          "base_uri": "https://localhost:8080/"
        },
        "id": "24mmfmaDdzCD",
        "outputId": "183c0d43-d89f-46e9-ea96-4d6b036f647c"
      },
      "execution_count": null,
      "outputs": [
        {
          "output_type": "execute_result",
          "data": {
            "text/plain": [
              "array([[1, 2, 5, 6],\n",
              "       [3, 4, 7, 8]])"
            ]
          },
          "metadata": {},
          "execution_count": 48
        }
      ]
    },
    {
      "cell_type": "markdown",
      "source": [
        "**49. Create a function that splits an array into multiple sub-arrays along a specified axis.**"
      ],
      "metadata": {
        "id": "X3Mni42vebPa"
      }
    },
    {
      "cell_type": "code",
      "source": [
        "import numpy as np\n",
        "original_array = np.array([[1, 2, 3], [4, 5, 6], [7, 8, 9]])\n",
        "\n",
        "def split_array(array, n, axis):\n",
        "  return np.array_split(array, n, axis = 1)\n",
        "\n",
        "split_array(original_array, 3, axis = 1)"
      ],
      "metadata": {
        "colab": {
          "base_uri": "https://localhost:8080/"
        },
        "id": "X1kZ9n_xeUPD",
        "outputId": "bf4f63a9-60e2-4806-9877-e963be9f4449"
      },
      "execution_count": null,
      "outputs": [
        {
          "output_type": "execute_result",
          "data": {
            "text/plain": [
              "[array([[1],\n",
              "        [4],\n",
              "        [7]]),\n",
              " array([[2],\n",
              "        [5],\n",
              "        [8]]),\n",
              " array([[3],\n",
              "        [6],\n",
              "        [9]])]"
            ]
          },
          "metadata": {},
          "execution_count": 49
        }
      ]
    },
    {
      "cell_type": "markdown",
      "source": [
        "**50. Write a function that inserts and then deletes elements from a given array at specified indices.**"
      ],
      "metadata": {
        "id": "XiK11bvOishx"
      }
    },
    {
      "cell_type": "code",
      "source": [
        "original_array = np.array([1, 2, 3, 4, 5])\n",
        "indices_to_insert = [2, 4]\n",
        "values_to_insert = [10, 11]\n",
        "indices_to_delete = [1, 3]\n",
        "\n",
        "def insert_and_delete(array, indices_to_insert, values_to_insert, indices_to_delete):\n",
        "\n",
        "\n",
        "  array = np.insert(array, indices_to_insert, values_to_insert)\n",
        "  array = np.delete(array, indices_to_delete)\n",
        "\n",
        "  return array\n",
        "  print(array)\n",
        "\n",
        "insert_and_delete(original_array, indices_to_insert, values_to_insert, indices_to_delete)\n",
        "\n"
      ],
      "metadata": {
        "id": "MjZkNP17e5AM",
        "colab": {
          "base_uri": "https://localhost:8080/"
        },
        "outputId": "c4edd7be-6a93-4c2e-9941-891c08e8abbf"
      },
      "execution_count": null,
      "outputs": [
        {
          "output_type": "execute_result",
          "data": {
            "text/plain": [
              "array([ 1, 10,  4, 11,  5])"
            ]
          },
          "metadata": {},
          "execution_count": 50
        }
      ]
    },
    {
      "cell_type": "markdown",
      "source": [
        "**51. Create a NumPy array `arr1` with random integers and another array `arr2` with integers from 1 to 10.\n",
        "Perform element-wise addition between `arr1` and `arr2`.**"
      ],
      "metadata": {
        "id": "WkJRSbnCCtl8"
      }
    },
    {
      "cell_type": "code",
      "source": [
        "from numpy import random\n",
        "arr1 = random.randint(100, size=(5))\n",
        "arr2 = random.randint(10, size=(5))\n",
        "\n",
        "print(arr1)\n",
        "print(arr2)\n",
        "\n",
        "arr1 + arr2"
      ],
      "metadata": {
        "colab": {
          "base_uri": "https://localhost:8080/"
        },
        "id": "7jKCJ5xXC6S7",
        "outputId": "d2f9ce43-e7f8-4927-d7c8-8105c6e6f15c"
      },
      "execution_count": null,
      "outputs": [
        {
          "output_type": "stream",
          "name": "stdout",
          "text": [
            "[45 30  4  9 25]\n",
            "[4 1 9 0 4]\n"
          ]
        },
        {
          "output_type": "execute_result",
          "data": {
            "text/plain": [
              "array([49, 31, 13,  9, 29])"
            ]
          },
          "metadata": {},
          "execution_count": 51
        }
      ]
    },
    {
      "cell_type": "markdown",
      "source": [
        "**52. Generate a NumPy array `arr1` with sequential integers from 10 to 1 and another array `arr2` with integers\n",
        "from 1 to 10. Subtract `arr2` from `arr1` element-wise.**"
      ],
      "metadata": {
        "id": "4IVhZSJYEyg0"
      }
    },
    {
      "cell_type": "code",
      "source": [
        "arr1 = np.arange(10, 0, -1)\n",
        "arr2 = np.arange(1, 11)\n",
        "\n",
        "print(arr1)\n",
        "print(arr2)\n",
        "\n",
        "arr1 - arr2\n"
      ],
      "metadata": {
        "colab": {
          "base_uri": "https://localhost:8080/"
        },
        "id": "YkVxHRtjEHxs",
        "outputId": "52fe1ac1-e6cb-40c7-c93a-b5274b7fb00a"
      },
      "execution_count": null,
      "outputs": [
        {
          "output_type": "stream",
          "name": "stdout",
          "text": [
            "[10  9  8  7  6  5  4  3  2  1]\n",
            "[ 1  2  3  4  5  6  7  8  9 10]\n"
          ]
        },
        {
          "output_type": "execute_result",
          "data": {
            "text/plain": [
              "array([ 9,  7,  5,  3,  1, -1, -3, -5, -7, -9])"
            ]
          },
          "metadata": {},
          "execution_count": 52
        }
      ]
    },
    {
      "cell_type": "markdown",
      "source": [
        "**53. Create a NumPy array `arr1` with random integers and another array `arr2` with integers from 1 to 5.\n",
        "Perform element-wise multiplication between `arr1` and `arr2`.**"
      ],
      "metadata": {
        "id": "nWy-mSsIFr3U"
      }
    },
    {
      "cell_type": "code",
      "source": [
        "arr1 = random.randint(100, size=(5))\n",
        "arr2 = random.randint(5, size=(5))\n",
        "\n",
        "print(f\"arr1 = {arr1}\")\n",
        "print(f\"arr2 = {arr2}\")\n",
        "\n",
        "arr1 * arr2\n"
      ],
      "metadata": {
        "colab": {
          "base_uri": "https://localhost:8080/"
        },
        "id": "fmEzlp-TFleZ",
        "outputId": "4a131bbd-a004-4e44-803b-5608deddba89"
      },
      "execution_count": null,
      "outputs": [
        {
          "output_type": "stream",
          "name": "stdout",
          "text": [
            "arr1 = [74 93 75 12 49]\n",
            "arr2 = [0 3 1 4 4]\n"
          ]
        },
        {
          "output_type": "execute_result",
          "data": {
            "text/plain": [
              "array([  0, 279,  75,  48, 196])"
            ]
          },
          "metadata": {},
          "execution_count": 53
        }
      ]
    },
    {
      "cell_type": "markdown",
      "source": [
        "**54. Generate a NumPy array `arr1` with even integers from 2 to 10 and another array `arr2` with integers from 1\n",
        "to 5. Perform element-wise division of `arr1` by `arr2`.**"
      ],
      "metadata": {
        "id": "E_tU-MV4GH3T"
      }
    },
    {
      "cell_type": "code",
      "source": [
        "arr1 = np.arange(2, 11, 2)\n",
        "arr2 = np.arange(1, 6)\n",
        "\n",
        "print(f\"arr1 = {arr1}\")\n",
        "print(f\"arr2 = {arr2}\")\n",
        "\n",
        "arr1 / arr2"
      ],
      "metadata": {
        "colab": {
          "base_uri": "https://localhost:8080/"
        },
        "id": "dk35NgKEF6Ro",
        "outputId": "6d641dd9-2a31-4117-bcae-9a53af0b7fca"
      },
      "execution_count": null,
      "outputs": [
        {
          "output_type": "stream",
          "name": "stdout",
          "text": [
            "arr1 = [ 2  4  6  8 10]\n",
            "arr2 = [1 2 3 4 5]\n"
          ]
        },
        {
          "output_type": "execute_result",
          "data": {
            "text/plain": [
              "array([2., 2., 2., 2., 2.])"
            ]
          },
          "metadata": {},
          "execution_count": 54
        }
      ]
    },
    {
      "cell_type": "markdown",
      "source": [
        "**55. Create a NumPy array `arr1` with integers from 1 to 5 and another array `arr2` with the same numbers\n",
        "reversed. Calculate the exponentiation of `arr1` raised to the power of `arr2` element-wise.**"
      ],
      "metadata": {
        "id": "gfsKgId7GZHD"
      }
    },
    {
      "cell_type": "code",
      "source": [
        "arr1 = np.arange(1, 6)\n",
        "arr2 = np.arange(5, 0, -1)\n",
        "\n",
        "print(f\"arr1 = {arr1}\")\n",
        "print(f\"arr2 = {arr2}\")\n",
        "\n",
        "arr1 ** arr2"
      ],
      "metadata": {
        "colab": {
          "base_uri": "https://localhost:8080/"
        },
        "id": "mYjbTLCFGRMb",
        "outputId": "cc75ab39-cd12-4f4e-81ca-fe1231c633da"
      },
      "execution_count": null,
      "outputs": [
        {
          "output_type": "stream",
          "name": "stdout",
          "text": [
            "arr1 = [1 2 3 4 5]\n",
            "arr2 = [5 4 3 2 1]\n"
          ]
        },
        {
          "output_type": "execute_result",
          "data": {
            "text/plain": [
              "array([ 1, 16, 27, 16,  5])"
            ]
          },
          "metadata": {},
          "execution_count": 55
        }
      ]
    },
    {
      "cell_type": "markdown",
      "source": [
        "**56. Write a function that counts the occurrences of a specific substring within a NumPy array of strings.**"
      ],
      "metadata": {
        "id": "t5rdkHR-GgrQ"
      }
    },
    {
      "cell_type": "code",
      "source": [
        "arr = np.array(['hello', 'world', 'hello', 'numpy', 'hello'])\n",
        "\n",
        "def count_substring(arr, substring):\n",
        "  count = 0\n",
        "  for string in arr:\n",
        "    if substring in string:\n",
        "      count += 1\n",
        "  return count\n",
        "\n",
        "count_substring(arr, 'hello')"
      ],
      "metadata": {
        "colab": {
          "base_uri": "https://localhost:8080/"
        },
        "id": "LmdUoho_Gfgh",
        "outputId": "0a5da3df-991c-4c13-e257-d2b3d570fa86"
      },
      "execution_count": null,
      "outputs": [
        {
          "output_type": "execute_result",
          "data": {
            "text/plain": [
              "3"
            ]
          },
          "metadata": {},
          "execution_count": 56
        }
      ]
    },
    {
      "cell_type": "markdown",
      "source": [
        "**57. Write a function that extracts uppercase characters from a NumPy array of strings.**"
      ],
      "metadata": {
        "id": "sqAo5ZPvGtRM"
      }
    },
    {
      "cell_type": "code",
      "source": [
        "arr = np.array(['Hello', 'World', 'OpenAI', 'GPT'])\n",
        "\n",
        "def extract_uppercase_characters(arr):\n",
        "  uppercase_characters = []\n",
        "  for string in arr:\n",
        "    for char in string:\n",
        "      if char.isupper():\n",
        "        uppercase_characters.append(char)\n",
        "  return uppercase_characters\n",
        "\n",
        "extract_uppercase_characters(arr)"
      ],
      "metadata": {
        "colab": {
          "base_uri": "https://localhost:8080/"
        },
        "id": "EWB-OrS1Goie",
        "outputId": "fd1d8c17-b5f5-47cb-97d7-f3a06cea954d"
      },
      "execution_count": null,
      "outputs": [
        {
          "output_type": "execute_result",
          "data": {
            "text/plain": [
              "['H', 'W', 'O', 'A', 'I', 'G', 'P', 'T']"
            ]
          },
          "metadata": {},
          "execution_count": 57
        }
      ]
    },
    {
      "cell_type": "markdown",
      "source": [
        "**58. Write a function that replaces occurrences of a substring in a NumPy array of strings with a new string.**"
      ],
      "metadata": {
        "id": "veor-9BiG_nm"
      }
    },
    {
      "cell_type": "code",
      "source": [
        "arr = np.array(['apple', 'banana', 'grape', 'pineapple'])\n",
        "\n",
        "def replace_substring(arr, old_substring, new_substring):\n",
        "  new_arr = []\n",
        "  for string in arr:\n",
        "    new_arr.append(string.replace(old_substring, new_substring))\n",
        "  return new_arr\n",
        "\n",
        "replace_substring(arr, 'apple', 'orange')\n"
      ],
      "metadata": {
        "colab": {
          "base_uri": "https://localhost:8080/"
        },
        "id": "20xHDhwuG3kn",
        "outputId": "44cc4337-af18-448f-ff49-d55c545155b9"
      },
      "execution_count": null,
      "outputs": [
        {
          "output_type": "execute_result",
          "data": {
            "text/plain": [
              "['orange', 'banana', 'grape', 'pineorange']"
            ]
          },
          "metadata": {},
          "execution_count": 58
        }
      ]
    },
    {
      "cell_type": "markdown",
      "source": [
        "**59. Write a function that concatenates strings in a NumPy array element-wise.**"
      ],
      "metadata": {
        "id": "yrKSdBMFHO-5"
      }
    },
    {
      "cell_type": "code",
      "source": [
        "arr1 = np.array(['Hello', 'World'])\n",
        "arr2 = np.array(['Open', 'AI'])\n",
        "\n",
        "def concatenate_strings(arr1, arr2):\n",
        "  return np.char.add(arr1, arr2)\n",
        "\n",
        "concatenate_strings(arr1, arr2)\n"
      ],
      "metadata": {
        "colab": {
          "base_uri": "https://localhost:8080/"
        },
        "id": "Kc4uQk3CHFi1",
        "outputId": "785ef3d5-f6a0-4d8e-9334-26a82c48a2ad"
      },
      "execution_count": null,
      "outputs": [
        {
          "output_type": "execute_result",
          "data": {
            "text/plain": [
              "array(['HelloOpen', 'WorldAI'], dtype='<U9')"
            ]
          },
          "metadata": {},
          "execution_count": 59
        }
      ]
    },
    {
      "cell_type": "markdown",
      "source": [
        "**60. Write a function that finds the length of the longest string in a NumPy array.**"
      ],
      "metadata": {
        "id": "pQLlq4FPHzQQ"
      }
    },
    {
      "cell_type": "code",
      "source": [
        "arr = np.array(['apple', 'banana', 'grape', 'pineapple'])\n",
        "\n",
        "def find_longest_string(arr):\n",
        "  max_length = 0\n",
        "  for string in arr:\n",
        "    if len(string) > max_length:\n",
        "      max_length = len(string)\n",
        "  return max_length\n",
        "\n",
        "find_longest_string(arr)\n"
      ],
      "metadata": {
        "colab": {
          "base_uri": "https://localhost:8080/"
        },
        "id": "-K3ZZoHCHeAp",
        "outputId": "b46c34d7-4ee0-46a4-981b-e477b3fbdc74"
      },
      "execution_count": null,
      "outputs": [
        {
          "output_type": "execute_result",
          "data": {
            "text/plain": [
              "9"
            ]
          },
          "metadata": {},
          "execution_count": 60
        }
      ]
    },
    {
      "cell_type": "markdown",
      "source": [
        "**61. Create a dataset of 100 random integers between 1 and 1000. Compute the mean, median, variance, and\n",
        "standard deviation of the dataset using NumPy's functions.**"
      ],
      "metadata": {
        "id": "zbYZSqTMH8D6"
      }
    },
    {
      "cell_type": "code",
      "source": [
        "df = np.random.randint(1, 1000, 100)\n",
        "df\n",
        "print(f'Mean = {df.mean()})')\n",
        "print(f'Median = {np.median(df)}')\n",
        "print(f'Variance = {df.var()}')\n",
        "print(f'Standard Deviation = {df.std()}')\n",
        "\n",
        "\n"
      ],
      "metadata": {
        "colab": {
          "base_uri": "https://localhost:8080/"
        },
        "id": "xehPrNBZH6s1",
        "outputId": "b74b3b6e-2e42-4550-843b-420e76625668"
      },
      "execution_count": null,
      "outputs": [
        {
          "output_type": "stream",
          "name": "stdout",
          "text": [
            "Mean = 474.69)\n",
            "Median = 483.0\n",
            "Variance = 83857.2739\n",
            "Standard Deviation = 289.58120432790525\n"
          ]
        }
      ]
    },
    {
      "cell_type": "markdown",
      "source": [
        "**62. Generate an array of 50 random numbers between 1 and 100. Find the 25th and 75th percentiles of the\n",
        "dataset.**"
      ],
      "metadata": {
        "id": "vUpW0U2SJVNk"
      }
    },
    {
      "cell_type": "code",
      "source": [
        "array = np.random.randint(1, 100, 50)\n",
        "print(array)\n",
        "\n",
        "# Find the 25th and 75th percentiles\n",
        "print(f'25th percentile = {np.percentile(array, 25)}')\n",
        "print(f'75th percentile = {np.percentile(array, 75)}')\n"
      ],
      "metadata": {
        "colab": {
          "base_uri": "https://localhost:8080/"
        },
        "id": "8lIy6BkfIyvo",
        "outputId": "9daf6916-7b02-446c-e127-733fdc28b7ca"
      },
      "execution_count": null,
      "outputs": [
        {
          "output_type": "stream",
          "name": "stdout",
          "text": [
            "[89 85 92 36 84 22 74 44 62 24 44 53 82 16 22 78 24 25 73 73 32 56 99 96\n",
            " 39 38 32 65 98 86 11 28 50 17 35 44 44 39 98 72 89 54 33 67 10 56 55 14\n",
            " 24 19]\n",
            "25th percentile = 29.0\n",
            "75th percentile = 73.75\n"
          ]
        }
      ]
    },
    {
      "cell_type": "markdown",
      "source": [
        "**63. Create two arrays representing two sets of variables. Compute the correlation coefficient between these\n",
        "arrays using NumPy's `corrcoef` function.**"
      ],
      "metadata": {
        "id": "DHH6A5q8JqeK"
      }
    },
    {
      "cell_type": "code",
      "source": [
        "arr1 = np.array([1, 2, 3, 4, 5])\n",
        "arr2 = np.array([6, 7, 8, 9, 10])\n",
        "\n",
        "np.corrcoef(arr1, arr2)\n"
      ],
      "metadata": {
        "id": "PQw9HVb2Jec1",
        "colab": {
          "base_uri": "https://localhost:8080/"
        },
        "outputId": "4244a31f-d244-4a96-efad-b21c52493137"
      },
      "execution_count": null,
      "outputs": [
        {
          "output_type": "execute_result",
          "data": {
            "text/plain": [
              "array([[1., 1.],\n",
              "       [1., 1.]])"
            ]
          },
          "metadata": {},
          "execution_count": 63
        }
      ]
    },
    {
      "cell_type": "markdown",
      "source": [
        "**64. Create two matrices and perform matrix multiplication using NumPy's `dot` function.**"
      ],
      "metadata": {
        "id": "n43Su_mOKcto"
      }
    },
    {
      "cell_type": "code",
      "source": [
        "# input two matrices\n",
        "mat1 = ([1, 6, 5],[3 ,4, 8],[2, 12, 3])\n",
        "mat2 = ([3, 4, 6],[5, 6, 7],[6,56, 7])\n",
        "\n",
        "# This will return dot product\n",
        "res = np.dot(mat1,mat2)\n",
        "\n",
        "\n",
        "# print resulted matrix\n",
        "print(res)"
      ],
      "metadata": {
        "colab": {
          "base_uri": "https://localhost:8080/"
        },
        "id": "OcDMjO_KKW3M",
        "outputId": "3c7a842b-8c41-4f0f-9649-5d58c0a03ef2"
      },
      "execution_count": null,
      "outputs": [
        {
          "output_type": "stream",
          "name": "stdout",
          "text": [
            "[[ 63 320  83]\n",
            " [ 77 484 102]\n",
            " [ 84 248 117]]\n"
          ]
        }
      ]
    },
    {
      "cell_type": "markdown",
      "source": [
        "**65. Create an array of 50 integers between 10 and 1000. Calculate the 10th, 50th (median), and 90th\n",
        "percentiles along with the first and third quartiles.**"
      ],
      "metadata": {
        "id": "P6BWdQxrK-Dr"
      }
    },
    {
      "cell_type": "code",
      "source": [
        "arr = np.random.randint(10, 1000, 50)\n",
        "print(arr)\n",
        "print(f\"10th percentile = {np.percentile(arr, 10)}\")\n",
        "print(f\"50th percentile = {np.percentile(arr, 50)}\")\n",
        "print(f\"90th percentile = {np.percentile(arr, 90)}\")\n",
        "\n"
      ],
      "metadata": {
        "colab": {
          "base_uri": "https://localhost:8080/"
        },
        "id": "2Kyu5EPCK5y2",
        "outputId": "24b64eec-a14f-42f5-ba0a-8a3f4471a7ae"
      },
      "execution_count": null,
      "outputs": [
        {
          "output_type": "stream",
          "name": "stdout",
          "text": [
            "[781 130 804 557 846 178 683 193 742 136 563 917 260 348 650 418 126  43\n",
            "  25 407 850 325 663 302  46 363 607 102 987 730 168 631 825 726 571  19\n",
            " 589 618 519  92 646 157 798 296  43 852 946 903 304 567]\n",
            "10th percentile = 87.40000000000002\n",
            "50th percentile = 560.0\n",
            "90th percentile = 850.2\n"
          ]
        }
      ]
    },
    {
      "cell_type": "markdown",
      "source": [
        "**66. Create a NumPy array of integers and find the index of a specific element.**"
      ],
      "metadata": {
        "id": "ruPELOL7Lkhi"
      }
    },
    {
      "cell_type": "code",
      "source": [
        "arr = np.array([1, 2, 3, 4, 5, 6, 7, 8, 9, 10])\n",
        "print(arr)\n",
        "print(np.where(arr == 5))\n"
      ],
      "metadata": {
        "colab": {
          "base_uri": "https://localhost:8080/"
        },
        "id": "VCGxrGPKLR22",
        "outputId": "fa606769-0f9b-4a94-9b45-0e37c6ba918c"
      },
      "execution_count": null,
      "outputs": [
        {
          "output_type": "stream",
          "name": "stdout",
          "text": [
            "[ 1  2  3  4  5  6  7  8  9 10]\n",
            "(array([4]),)\n"
          ]
        }
      ]
    },
    {
      "cell_type": "markdown",
      "source": [
        "**67. Generate a random NumPy array and sort it in ascending order.**"
      ],
      "metadata": {
        "id": "vrm4sPN6L0jf"
      }
    },
    {
      "cell_type": "code",
      "source": [
        "arr = np.random.randint(1, 100, 10)\n",
        "print(f\"Random array : {arr}\")\n",
        "print(f\"Sort it in ascending order = {np.sort(arr)}\")\n"
      ],
      "metadata": {
        "colab": {
          "base_uri": "https://localhost:8080/"
        },
        "id": "VAd33wP0LsTg",
        "outputId": "3f1614e1-bddd-42c6-b8cf-6bc61ad482ea"
      },
      "execution_count": null,
      "outputs": [
        {
          "output_type": "stream",
          "name": "stdout",
          "text": [
            "Random array : [73 69 47 76 81 84 84  6  5 51]\n",
            "Sort it in ascending order = [ 5  6 47 51 69 73 76 81 84 84]\n"
          ]
        }
      ]
    },
    {
      "cell_type": "markdown",
      "source": [
        "**68. Filter elements >20  in the given NumPy array.**"
      ],
      "metadata": {
        "id": "EmhZwzzZMOpK"
      }
    },
    {
      "cell_type": "code",
      "source": [
        "arr = np.array([12, 25, 6, 42, 8, 30])\n",
        "print(f\"array : {arr}\")\n",
        "print(f\"Filtering array elements > 20 : {arr[arr > 20]}\")"
      ],
      "metadata": {
        "colab": {
          "base_uri": "https://localhost:8080/"
        },
        "id": "MjIrRSDDL6Bm",
        "outputId": "bc370ba6-7c75-4891-de2e-3c0f930d1f98"
      },
      "execution_count": null,
      "outputs": [
        {
          "output_type": "stream",
          "name": "stdout",
          "text": [
            "array : [12 25  6 42  8 30]\n",
            "Filtering array elements > 20 : [25 42 30]\n"
          ]
        }
      ]
    },
    {
      "cell_type": "markdown",
      "source": [
        "**69. Filter elements which are divisible by 3 from a given NumPy array.**"
      ],
      "metadata": {
        "id": "Ig0JfOvyMq49"
      }
    },
    {
      "cell_type": "code",
      "source": [
        "arr = np.array([1, 5, 8, 12, 15])\n",
        "\n",
        "print(f\"array : {arr}\")\n",
        "print(f\"Filtering array elements which are divisible by 3 : {arr[arr % 3 == 0]}\")"
      ],
      "metadata": {
        "colab": {
          "base_uri": "https://localhost:8080/"
        },
        "id": "JuhZqr3EMdGq",
        "outputId": "f905cc2d-e40c-4f59-8b66-8de881b7ed92"
      },
      "execution_count": null,
      "outputs": [
        {
          "output_type": "stream",
          "name": "stdout",
          "text": [
            "array : [ 1  5  8 12 15]\n",
            "Filtering array elements which are divisible by 3 : [12 15]\n"
          ]
        }
      ]
    },
    {
      "cell_type": "markdown",
      "source": [
        "**70. Filter elements which are ≥ 20 and ≤ 40 from a given NumPy array.**"
      ],
      "metadata": {
        "id": "psj0-JOHMz4k"
      }
    },
    {
      "cell_type": "code",
      "source": [
        "arr = np.array([10, 20, 30, 40, 50])\n",
        "\n",
        "print(f\"array : {arr}\")\n",
        "print(f\"Filtering array elements which are >= 20 and <= 40 : {arr[(arr >= 20) & (arr <= 40)]}\")"
      ],
      "metadata": {
        "colab": {
          "base_uri": "https://localhost:8080/"
        },
        "id": "NISZ4JBRMzAA",
        "outputId": "52068fe3-8c9f-4fb3-fa89-1665141f9aa4"
      },
      "execution_count": null,
      "outputs": [
        {
          "output_type": "stream",
          "name": "stdout",
          "text": [
            "array : [10 20 30 40 50]\n",
            "Filtering array elements which are >= 20 and <= 40 : [20 30 40]\n"
          ]
        }
      ]
    },
    {
      "cell_type": "markdown",
      "source": [
        "**71. For the given NumPy array, check its byte order using the `dtype` attribute byteorder.**"
      ],
      "metadata": {
        "id": "t877d9O5NA8P"
      }
    },
    {
      "cell_type": "code",
      "source": [
        "arr = np.array([1, 2, 3])\n",
        "\n",
        "print(f\"array : {arr}\")\n",
        "print(f\"Byte order of array :-  {arr.dtype.byteorder}\")"
      ],
      "metadata": {
        "colab": {
          "base_uri": "https://localhost:8080/"
        },
        "id": "fJLrPNe5M_LU",
        "outputId": "c6fd92e1-7bdb-4c27-fca1-d309776ac698"
      },
      "execution_count": null,
      "outputs": [
        {
          "output_type": "stream",
          "name": "stdout",
          "text": [
            "array : [1 2 3]\n",
            "Byte order of array :-  =\n"
          ]
        }
      ]
    },
    {
      "cell_type": "markdown",
      "source": [
        "**72. For the given NumPy array, perform byte swapping in place using `byteswap()`.**"
      ],
      "metadata": {
        "id": "vl8COmv7Nmr8"
      }
    },
    {
      "cell_type": "code",
      "source": [
        "arr = np.array([1, 2, 3], dtype=np.int32)\n",
        "\n",
        "print(f\"array : {arr}\")\n",
        "print(f\"Byte swapping of array :-  {arr.byteswap()}\")"
      ],
      "metadata": {
        "colab": {
          "base_uri": "https://localhost:8080/"
        },
        "id": "PuGYW7mHNryb",
        "outputId": "dfcb8471-2b80-437e-addd-19470d05ad5a"
      },
      "execution_count": null,
      "outputs": [
        {
          "output_type": "stream",
          "name": "stdout",
          "text": [
            "array : [1 2 3]\n",
            "Byte swapping of array :-  [16777216 33554432 50331648]\n"
          ]
        }
      ]
    },
    {
      "cell_type": "markdown",
      "source": [
        "**73. For the given NumPy array, swap its byte order without modifying the original array using\n",
        "`newbyteorder()`.**"
      ],
      "metadata": {
        "id": "JRflD1_WNznx"
      }
    },
    {
      "cell_type": "code",
      "source": [
        "arr = np.array([1, 2, 3], dtype=np.int32)\n",
        "\n",
        "print(f\"array : {arr}\")\n",
        "arr_swap = arr.byteswap()\n",
        "\n",
        "print(f\"Byte swapping of array :-  {arr_swap.dtype.newbyteorder()}\")\n"
      ],
      "metadata": {
        "colab": {
          "base_uri": "https://localhost:8080/"
        },
        "id": "m0EPtFwKNxFH",
        "outputId": "f6cc1e85-c485-4657-cff1-10a9edb1ba6d"
      },
      "execution_count": null,
      "outputs": [
        {
          "output_type": "stream",
          "name": "stdout",
          "text": [
            "array : [1 2 3]\n",
            "Byte swapping of array :-  >i4\n"
          ]
        }
      ]
    },
    {
      "cell_type": "markdown",
      "source": [
        "**74. For the given NumPy array and swap its byte order conditionally based on system endianness using\n",
        "`newbyteorder()`.**"
      ],
      "metadata": {
        "id": "_qlZr70mN97g"
      }
    },
    {
      "cell_type": "code",
      "source": [
        "arr = np.array([1, 2, 3], dtype=np.int32)\n",
        "\n",
        "\n",
        "print(f\"array : {arr}\")\n",
        "arr_swap = arr.byteswap()\n",
        "\n",
        "print(f\"Byte swapping of array :-  {arr_swap.dtype.newbyteorder()}\")\n"
      ],
      "metadata": {
        "colab": {
          "base_uri": "https://localhost:8080/"
        },
        "id": "_swzWvaJN8ll",
        "outputId": "ddf7a69d-6706-43ed-e376-85c18cd1edf8"
      },
      "execution_count": null,
      "outputs": [
        {
          "output_type": "stream",
          "name": "stdout",
          "text": [
            "array : [1 2 3]\n",
            "Byte swapping of array :-  >i4\n"
          ]
        }
      ]
    },
    {
      "cell_type": "markdown",
      "source": [
        "**75. For the given NumPy array, check if byte swapping is necessary for the current system using `dtype`\n",
        "attribute `byteorder`.**"
      ],
      "metadata": {
        "id": "dxSkOu5_ObNS"
      }
    },
    {
      "cell_type": "code",
      "source": [
        "arr = np.array([1, 2, 3], dtype=np.int32)\n",
        "import sys\n",
        "\n",
        "# check if byte swapping is necessary\n",
        "arr.dtype.byteorder\n",
        "endianness_map = {\n",
        "    '>': 'big',\n",
        "    '<': 'little',\n",
        "    '=': sys.byteorder,\n",
        "    '|': 'not applicable',\n",
        "}\n",
        "print(endianness_map)"
      ],
      "metadata": {
        "colab": {
          "base_uri": "https://localhost:8080/"
        },
        "id": "UZ_CCNkmOGZl",
        "outputId": "0b3cb216-26b3-446b-d56c-43f28cd70afd"
      },
      "execution_count": null,
      "outputs": [
        {
          "output_type": "stream",
          "name": "stdout",
          "text": [
            "{'>': 'big', '<': 'little', '=': 'little', '|': 'not applicable'}\n"
          ]
        }
      ]
    },
    {
      "cell_type": "markdown",
      "source": [
        "**76. Create a NumPy array `arr1` with values from 1 to 10. Create a copy of `arr1` named `copy_arr` and modify\n",
        "an element in `copy_arr`. Check if modifying `copy_arr` affects `arr1`.**"
      ],
      "metadata": {
        "id": "6SYFis_Sr1rp"
      }
    },
    {
      "cell_type": "code",
      "source": [
        "import numpy as np\n",
        "arr1 = np.arange(1, 11)\n",
        "print(f\"arr1 = {arr1}\")\n",
        "copy_arr = arr1.copy()\n",
        "copy_arr[0] = 100\n",
        "print(f\"copy_arr = {copy_arr}\")\n",
        "print(f\"arr1 = {arr1}\")\n",
        "\n"
      ],
      "metadata": {
        "id": "UFco5CoGUwQ3",
        "colab": {
          "base_uri": "https://localhost:8080/"
        },
        "outputId": "7da275fe-6d12-4b0b-cd97-5858efb951b4"
      },
      "execution_count": 2,
      "outputs": [
        {
          "output_type": "stream",
          "name": "stdout",
          "text": [
            "arr1 = [ 1  2  3  4  5  6  7  8  9 10]\n",
            "copy_arr = [100   2   3   4   5   6   7   8   9  10]\n",
            "arr1 = [ 1  2  3  4  5  6  7  8  9 10]\n"
          ]
        }
      ]
    },
    {
      "cell_type": "markdown",
      "source": [
        "**77. Create a 2D NumPy array `matrix` of shape (3, 3) with random integers. Extract a slice `view_slice` from\n",
        "the matrix. Modify an element in `view_slice` and observe if it changes the original `matrix`.**"
      ],
      "metadata": {
        "id": "c58vHFTwsYYD"
      }
    },
    {
      "cell_type": "code",
      "source": [
        "matrix = np.random.randint(1, 10, (3, 3))\n",
        "print(f\"matrix = {matrix}\")\n",
        "view_slice = matrix[1:, 1:]\n",
        "print(f\"view_slice = {view_slice}\")\n",
        "view_slice[0, 0] = 100\n",
        "print(f\"matrix = {matrix}\")\n"
      ],
      "metadata": {
        "colab": {
          "base_uri": "https://localhost:8080/"
        },
        "id": "Au5yq0K9sH5V",
        "outputId": "dbfbe2d8-5018-44d1-f3a2-1527bc396c6f"
      },
      "execution_count": 3,
      "outputs": [
        {
          "output_type": "stream",
          "name": "stdout",
          "text": [
            "matrix = [[4 6 7]\n",
            " [7 5 9]\n",
            " [6 2 6]]\n",
            "view_slice = [[5 9]\n",
            " [2 6]]\n",
            "matrix = [[  4   6   7]\n",
            " [  7 100   9]\n",
            " [  6   2   6]]\n"
          ]
        }
      ]
    },
    {
      "cell_type": "markdown",
      "source": [
        "**78. Create a NumPy array `array_a` of shape (4, 3) with sequential integers from 1 to 12. Extract a slice\n",
        "`view_b` from `array_a` and broadcast the addition of 5 to view_b. Check if it alters the original `array_a`.**"
      ],
      "metadata": {
        "id": "SGQM4g0muCAr"
      }
    },
    {
      "cell_type": "code",
      "source": [
        "array_a = np.arange(1, 13).reshape(4, 3)\n",
        "print(f\"array_a = {array_a}\")\n",
        "view_b = array_a[1:3, 1:]\n",
        "print(f\"view_b = {view_b}\")\n",
        "view_b += 5\n",
        "print(f\"array_a = {array_a}\")\n"
      ],
      "metadata": {
        "colab": {
          "base_uri": "https://localhost:8080/"
        },
        "id": "jGXlkMniuFXX",
        "outputId": "9cbc3f51-0c06-46ef-d3b0-46db53aecac6"
      },
      "execution_count": 4,
      "outputs": [
        {
          "output_type": "stream",
          "name": "stdout",
          "text": [
            "array_a = [[ 1  2  3]\n",
            " [ 4  5  6]\n",
            " [ 7  8  9]\n",
            " [10 11 12]]\n",
            "view_b = [[5 6]\n",
            " [8 9]]\n",
            "array_a = [[ 1  2  3]\n",
            " [ 4 10 11]\n",
            " [ 7 13 14]\n",
            " [10 11 12]]\n"
          ]
        }
      ]
    },
    {
      "cell_type": "markdown",
      "source": [
        "**79. Create a NumPy array `orig_array` of shape (2, 4) with values from 1 to 8. Create a reshaped view\n",
        "`reshaped_view` of shape (4, 2) from orig_array. Modify an element in `reshaped_view` and check if it\n",
        "reflects changes in the original `orig_array`.**"
      ],
      "metadata": {
        "id": "upXS_nAPuQlY"
      }
    },
    {
      "cell_type": "code",
      "source": [
        "orig_array = np.arange(1, 9).reshape(2, 4)\n",
        "print(f\"orig_array = {orig_array}\")\n",
        "reshaped_view = orig_array.reshape(4, 2)\n",
        "print(f\"reshaped_view = {reshaped_view}\")\n",
        "reshaped_view[0, 0] = 100\n",
        "print(f\"orig_array = {orig_array}\")\n",
        "\n"
      ],
      "metadata": {
        "colab": {
          "base_uri": "https://localhost:8080/"
        },
        "id": "MGkHLwBquO3F",
        "outputId": "7f66918a-801a-4bc8-ecfc-fcab3d2d0df8"
      },
      "execution_count": 5,
      "outputs": [
        {
          "output_type": "stream",
          "name": "stdout",
          "text": [
            "orig_array = [[1 2 3 4]\n",
            " [5 6 7 8]]\n",
            "reshaped_view = [[1 2]\n",
            " [3 4]\n",
            " [5 6]\n",
            " [7 8]]\n",
            "orig_array = [[100   2   3   4]\n",
            " [  5   6   7   8]]\n"
          ]
        }
      ]
    },
    {
      "cell_type": "markdown",
      "source": [
        "**80. Create a NumPy array `data` of shape (3, 4) with random integers. Extract a copy `data_copy` of\n",
        "elements greater than 5. Modify an element in `data_copy` and verify if it affects the original `data.**"
      ],
      "metadata": {
        "id": "fJ11268Auv7n"
      }
    },
    {
      "cell_type": "code",
      "source": [
        "data = np.random.randint(1, 10, (3, 4))\n",
        "print(f\"data = {data}\")\n",
        "data_copy = data[data > 5].copy()\n",
        "print(f\"data_copy = {data_copy}\")\n",
        "\n",
        "data_copy[0] = 100\n",
        "print(f\"data = {data}\")\n",
        "print(f\"data_copy = {data_copy}\")\n"
      ],
      "metadata": {
        "colab": {
          "base_uri": "https://localhost:8080/"
        },
        "id": "zRhztwBgurNL",
        "outputId": "31b8bc4f-6240-4103-cf0d-bedf98390cbe"
      },
      "execution_count": 6,
      "outputs": [
        {
          "output_type": "stream",
          "name": "stdout",
          "text": [
            "data = [[5 4 3 9]\n",
            " [7 8 3 1]\n",
            " [1 8 5 6]]\n",
            "data_copy = [9 7 8 8 6]\n",
            "data = [[5 4 3 9]\n",
            " [7 8 3 1]\n",
            " [1 8 5 6]]\n",
            "data_copy = [100   7   8   8   6]\n"
          ]
        }
      ]
    },
    {
      "cell_type": "markdown",
      "source": [
        "**81. Create two matrices A and B of identical shape containing integers and perform addition and subtraction\n",
        "operations between them.**"
      ],
      "metadata": {
        "id": "PxdddbtyvEyX"
      }
    },
    {
      "cell_type": "code",
      "source": [
        "A = np.random.randint(1, 10, (3, 3))\n",
        "B = np.random.randint(1, 10, (3, 3))\n",
        "print(f\"A = {A}\")\n",
        "print(f\"B = {B}\")\n",
        "\n",
        "print(f\"A + B = {A + B}\")\n",
        "print(f\"A - B = {A - B}\")\n"
      ],
      "metadata": {
        "colab": {
          "base_uri": "https://localhost:8080/"
        },
        "id": "d3Qo88pau9Yn",
        "outputId": "cf83759d-1c7f-4413-c181-4b75fc59607c"
      },
      "execution_count": 7,
      "outputs": [
        {
          "output_type": "stream",
          "name": "stdout",
          "text": [
            "A = [[4 2 8]\n",
            " [2 5 3]\n",
            " [4 7 9]]\n",
            "B = [[7 4 4]\n",
            " [7 7 9]\n",
            " [4 4 7]]\n",
            "A + B = [[11  6 12]\n",
            " [ 9 12 12]\n",
            " [ 8 11 16]]\n",
            "A - B = [[-3 -2  4]\n",
            " [-5 -2 -6]\n",
            " [ 0  3  2]]\n"
          ]
        }
      ]
    },
    {
      "cell_type": "markdown",
      "source": [
        "**82. Generate two matrices `C` (3x2) and `D` (2x4) and perform matrix multiplication.**"
      ],
      "metadata": {
        "id": "UPPWjgwBvSz9"
      }
    },
    {
      "cell_type": "code",
      "source": [
        "C = np.random.randint(1, 10, (3, 2))\n",
        "D = np.random.randint(1, 10, (2, 4))\n",
        "print(f\"C = {C}\")\n",
        "print(f\"D = {D}\")\n",
        "\n",
        "print(f\"C * D = {np.dot(C, D)}\")\n",
        "\n"
      ],
      "metadata": {
        "colab": {
          "base_uri": "https://localhost:8080/"
        },
        "id": "S5zKzaBLvPcV",
        "outputId": "68da1204-d56c-407d-f888-2db9fff1cfc0"
      },
      "execution_count": 8,
      "outputs": [
        {
          "output_type": "stream",
          "name": "stdout",
          "text": [
            "C = [[2 6]\n",
            " [2 6]\n",
            " [3 6]]\n",
            "D = [[8 6 2 2]\n",
            " [6 8 2 2]]\n",
            "C * D = [[52 60 16 16]\n",
            " [52 60 16 16]\n",
            " [60 66 18 18]]\n"
          ]
        }
      ]
    },
    {
      "cell_type": "markdown",
      "source": [
        "**83. Create a matrix `E` and find its transpose.**"
      ],
      "metadata": {
        "id": "XiK_0W3tvffv"
      }
    },
    {
      "cell_type": "code",
      "source": [
        "E = np.random.randint(1, 10, (3, 3))\n",
        "print(f\"E = {E}\")\n",
        "print(f\"Transpose of E = {E.T}\")\n"
      ],
      "metadata": {
        "colab": {
          "base_uri": "https://localhost:8080/"
        },
        "id": "JBderq5WvZjb",
        "outputId": "4d079ae9-e21b-45ff-8de5-8673926843b6"
      },
      "execution_count": 9,
      "outputs": [
        {
          "output_type": "stream",
          "name": "stdout",
          "text": [
            "E = [[5 1 2]\n",
            " [1 6 6]\n",
            " [6 2 9]]\n",
            "Transpose of E = [[5 1 6]\n",
            " [1 6 2]\n",
            " [2 6 9]]\n"
          ]
        }
      ]
    },
    {
      "cell_type": "markdown",
      "source": [
        "**84. Generate a square matrix `F` and compute its determinant.**"
      ],
      "metadata": {
        "id": "nAWsZgOHvtas"
      }
    },
    {
      "cell_type": "code",
      "source": [
        "F = np.random.randint(1, 10, (3, 3))\n",
        "print(f\"F = {F}\")\n",
        "print(f\"Determinant of F = {np.linalg.det(F)}\")\n",
        "\n"
      ],
      "metadata": {
        "colab": {
          "base_uri": "https://localhost:8080/"
        },
        "id": "Ql69dXKVvp6P",
        "outputId": "2ff94d0d-1a3e-4856-f2df-3d0037b94f97"
      },
      "execution_count": 10,
      "outputs": [
        {
          "output_type": "stream",
          "name": "stdout",
          "text": [
            "F = [[2 8 2]\n",
            " [5 7 4]\n",
            " [1 6 9]]\n",
            "Determinant of F = -203.99999999999994\n"
          ]
        }
      ]
    },
    {
      "cell_type": "markdown",
      "source": [
        "**85. Create a square matrix `G` and find its inverse.**"
      ],
      "metadata": {
        "id": "Y9vaermgv5dc"
      }
    },
    {
      "cell_type": "code",
      "source": [
        "G = np.random.randint(1, 10, (3, 3))\n",
        "print(f\"G = {G}\")\n",
        "print(f\"Inverse of G = {np.linalg.inv(G)}\")\n",
        "\n"
      ],
      "metadata": {
        "colab": {
          "base_uri": "https://localhost:8080/"
        },
        "id": "uiY_13Lgv2YM",
        "outputId": "409d238b-1970-411a-d1fd-a4edc368db65"
      },
      "execution_count": 11,
      "outputs": [
        {
          "output_type": "stream",
          "name": "stdout",
          "text": [
            "G = [[8 1 2]\n",
            " [2 6 1]\n",
            " [5 1 1]]\n",
            "Inverse of G = [[-0.38461538 -0.07692308  0.84615385]\n",
            " [-0.23076923  0.15384615  0.30769231]\n",
            " [ 2.15384615  0.23076923 -3.53846154]]\n"
          ]
        }
      ]
    },
    {
      "cell_type": "code",
      "source": [],
      "metadata": {
        "id": "Qce8-i_Bv9j8"
      },
      "execution_count": null,
      "outputs": []
    }
  ]
}